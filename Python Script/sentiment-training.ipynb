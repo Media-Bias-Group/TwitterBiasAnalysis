{
 "cells": [
  {
   "cell_type": "markdown",
   "id": "34411ad5",
   "metadata": {
    "papermill": {
     "duration": 0.043397,
     "end_time": "2022-03-04T13:44:22.672001",
     "exception": false,
     "start_time": "2022-03-04T13:44:22.628604",
     "status": "completed"
    },
    "tags": []
   },
   "source": [
    "### Note:\n",
    "This code for the fine-tuning process of XLNet for sentiment analysis is based on the following example, published on Medium: <br>\n",
    "- link to article: https://medium.com/swlh/using-xlnet-for-sentiment-classification-cfa948e65e85 <br>\n",
    "- author: Shanay Ghag <br>\n",
    "- published at: Jun 16, 2020 <br>\n",
    "- link to GitHub: https://github.com/shanayghag/Sentiment-classification-using-XLNet"
   ]
  },
  {
   "cell_type": "code",
   "execution_count": 1,
   "id": "c591ca25",
   "metadata": {
    "execution": {
     "iopub.execute_input": "2022-03-04T13:44:22.747115Z",
     "iopub.status.busy": "2022-03-04T13:44:22.738397Z",
     "iopub.status.idle": "2022-03-04T13:44:30.105212Z",
     "shell.execute_reply": "2022-03-04T13:44:30.102380Z"
    },
    "papermill": {
     "duration": 7.399213,
     "end_time": "2022-03-04T13:44:30.105366",
     "exception": false,
     "start_time": "2022-03-04T13:44:22.706153",
     "status": "completed"
    },
    "tags": []
   },
   "outputs": [],
   "source": [
    "from datasets import load_dataset_builder, load_dataset\n",
    "import numpy as np\n",
    "import pandas as pd\n",
    "import seaborn as sns\n",
    "from sklearn.utils import shuffle\n",
    "from sklearn.model_selection import train_test_split\n",
    "from sklearn.metrics import confusion_matrix, classification_report, accuracy_score\n",
    "import re\n",
    "\n",
    "import sentencepiece\n",
    "from collections import defaultdict\n",
    "\n",
    "import torch\n",
    "from torch import nn, optim\n",
    "from torch.utils.data import TensorDataset,RandomSampler,SequentialSampler, Dataset, DataLoader\n",
    "import torch.nn.functional as F\n",
    "from keras.preprocessing.sequence import pad_sequences\n",
    "import transformers\n",
    "from transformers import XLNetTokenizer, XLNetModel, AdamW, get_linear_schedule_with_warmup\n",
    "import matplotlib.pyplot as plt"
   ]
  },
  {
   "cell_type": "code",
   "execution_count": 2,
   "id": "7842bcbb",
   "metadata": {
    "execution": {
     "iopub.execute_input": "2022-03-04T13:44:30.249876Z",
     "iopub.status.busy": "2022-03-04T13:44:30.248995Z",
     "iopub.status.idle": "2022-03-04T13:44:30.263691Z",
     "shell.execute_reply": "2022-03-04T13:44:30.264260Z",
     "shell.execute_reply.started": "2022-03-04T13:31:28.099125Z"
    },
    "executionInfo": {
     "elapsed": 23877,
     "status": "ok",
     "timestamp": 1639910193693,
     "user": {
      "displayName": "lisa richter",
      "photoUrl": "https://lh3.googleusercontent.com/a/default-user=s64",
      "userId": "08999729000846221512"
     },
     "user_tz": -60
    },
    "id": "NOl1U7bYab41",
    "outputId": "64b65181-77b8-486b-96df-e8990242822b",
    "papermill": {
     "duration": 0.115577,
     "end_time": "2022-03-04T13:44:30.264457",
     "exception": false,
     "start_time": "2022-03-04T13:44:30.148880",
     "status": "completed"
    },
    "tags": []
   },
   "outputs": [
    {
     "data": {
      "text/plain": [
       "device(type='cuda', index=0)"
      ]
     },
     "execution_count": 2,
     "metadata": {},
     "output_type": "execute_result"
    }
   ],
   "source": [
    "# set up connection to drive: \n",
    "#from google.colab import drive\n",
    "#drive.mount('/content/drive')\n",
    "\n",
    "# define device: \n",
    "device = torch.device(\"cuda:0\" if torch.cuda.is_available() else \"cpu\")\n",
    "device"
   ]
  },
  {
   "cell_type": "code",
   "execution_count": 3,
   "id": "074afac2",
   "metadata": {
    "execution": {
     "iopub.execute_input": "2022-03-04T13:44:30.374600Z",
     "iopub.status.busy": "2022-03-04T13:44:30.373846Z",
     "iopub.status.idle": "2022-03-04T13:44:30.376871Z",
     "shell.execute_reply": "2022-03-04T13:44:30.377427Z",
     "shell.execute_reply.started": "2022-03-04T13:31:28.108025Z"
    },
    "executionInfo": {
     "elapsed": 384,
     "status": "ok",
     "timestamp": 1639910199767,
     "user": {
      "displayName": "lisa richter",
      "photoUrl": "https://lh3.googleusercontent.com/a/default-user=s64",
      "userId": "08999729000846221512"
     },
     "user_tz": -60
    },
    "id": "G7Ee3YH4adRN",
    "papermill": {
     "duration": 0.061805,
     "end_time": "2022-03-04T13:44:30.377616",
     "exception": false,
     "start_time": "2022-03-04T13:44:30.315811",
     "status": "completed"
    },
    "tags": []
   },
   "outputs": [],
   "source": [
    "def prepare_text(text):\n",
    "    text = re.sub(r\"@[A-Za-z0-9_]+\", ' ', text) # remove @user \n",
    "    text = re.sub(r\"https?://[A-Za-z0-9./]+\", ' ', text) # remove links\n",
    "    text = re.sub(r\"[^a-zA-z.!?'0-9]\", ' ', text) # remove smileys\n",
    "    text = re.sub('#', '', text) # remove hash sign\n",
    "    text = re.sub('\\t', ' ',  text) # remove tab\n",
    "    text = re.sub(r\" +\", ' ', text) # remove multiple whitespaces\n",
    "    return text"
   ]
  },
  {
   "cell_type": "markdown",
   "id": "d53c25c9",
   "metadata": {
    "id": "uVn8FbQMsc5B",
    "papermill": {
     "duration": 0.046564,
     "end_time": "2022-03-04T13:44:30.471137",
     "exception": false,
     "start_time": "2022-03-04T13:44:30.424573",
     "status": "completed"
    },
    "tags": []
   },
   "source": [
    "# 1. Prepare Sentiment Dataset for Fine-Tuning"
   ]
  },
  {
   "cell_type": "code",
   "execution_count": 4,
   "id": "403aee66",
   "metadata": {
    "execution": {
     "iopub.execute_input": "2022-03-04T13:44:30.577036Z",
     "iopub.status.busy": "2022-03-04T13:44:30.576266Z",
     "iopub.status.idle": "2022-03-04T13:46:03.799939Z",
     "shell.execute_reply": "2022-03-04T13:46:03.800923Z",
     "shell.execute_reply.started": "2022-03-04T13:31:28.134545Z"
    },
    "executionInfo": {
     "elapsed": 117649,
     "status": "ok",
     "timestamp": 1639910332911,
     "user": {
      "displayName": "lisa richter",
      "photoUrl": "https://lh3.googleusercontent.com/a/default-user=s64",
      "userId": "08999729000846221512"
     },
     "user_tz": -60
    },
    "id": "1OskwvkSsafe",
    "outputId": "fbdcfc2e-c162-4831-e83d-00eed153d6eb",
    "papermill": {
     "duration": 93.282152,
     "end_time": "2022-03-04T13:46:03.801131",
     "exception": false,
     "start_time": "2022-03-04T13:44:30.518979",
     "status": "completed"
    },
    "tags": []
   },
   "outputs": [
    {
     "data": {
      "application/vnd.jupyter.widget-view+json": {
       "model_id": "b9ab960d335e42a0838c9a6ca6211ff1",
       "version_major": 2,
       "version_minor": 0
      },
      "text/plain": [
       "Downloading:   0%|          | 0.00/1.54k [00:00<?, ?B/s]"
      ]
     },
     "metadata": {},
     "output_type": "display_data"
    },
    {
     "data": {
      "application/vnd.jupyter.widget-view+json": {
       "model_id": "2ceac9416d464cf5a41880b49329e131",
       "version_major": 2,
       "version_minor": 0
      },
      "text/plain": [
       "Downloading:   0%|          | 0.00/739 [00:00<?, ?B/s]"
      ]
     },
     "metadata": {},
     "output_type": "display_data"
    },
    {
     "name": "stdout",
     "output_type": "stream",
     "text": [
      "Downloading and preparing dataset sentiment140/sentiment140 (download: 77.59 MiB, generated: 215.36 MiB, post-processed: Unknown size, total: 292.95 MiB) to /root/.cache/huggingface/datasets/sentiment140/sentiment140/1.0.0/f81c014152931b776735658d8ae493b181927de002e706c4d5244ecb26376997...\n"
     ]
    },
    {
     "data": {
      "application/vnd.jupyter.widget-view+json": {
       "model_id": "16158c789c734b60bda0522135935696",
       "version_major": 2,
       "version_minor": 0
      },
      "text/plain": [
       "Downloading:   0%|          | 0.00/81.4M [00:00<?, ?B/s]"
      ]
     },
     "metadata": {},
     "output_type": "display_data"
    },
    {
     "data": {
      "application/vnd.jupyter.widget-view+json": {
       "model_id": "5f0e9bf3847f41d79cec199d060f4a9f",
       "version_major": 2,
       "version_minor": 0
      },
      "text/plain": [
       "0 examples [00:00, ? examples/s]"
      ]
     },
     "metadata": {},
     "output_type": "display_data"
    },
    {
     "data": {
      "application/vnd.jupyter.widget-view+json": {
       "model_id": "62b76676372047b6ab6a3e404f0e05e6",
       "version_major": 2,
       "version_minor": 0
      },
      "text/plain": [
       "0 examples [00:00, ? examples/s]"
      ]
     },
     "metadata": {},
     "output_type": "display_data"
    },
    {
     "name": "stdout",
     "output_type": "stream",
     "text": [
      "Dataset sentiment140 downloaded and prepared to /root/.cache/huggingface/datasets/sentiment140/sentiment140/1.0.0/f81c014152931b776735658d8ae493b181927de002e706c4d5244ecb26376997. Subsequent calls will reuse this data.\n"
     ]
    },
    {
     "data": {
      "application/vnd.jupyter.widget-view+json": {
       "model_id": "fd128ee467494aaea57543c1b84f22ca",
       "version_major": 2,
       "version_minor": 0
      },
      "text/plain": [
       "  0%|          | 0/2 [00:00<?, ?it/s]"
      ]
     },
     "metadata": {},
     "output_type": "display_data"
    }
   ],
   "source": [
    "# load dataset from hugging face hub: sentiment140\n",
    "sentiment_data = load_dataset('sentiment140')"
   ]
  },
  {
   "cell_type": "code",
   "execution_count": 5,
   "id": "52e99612",
   "metadata": {
    "execution": {
     "iopub.execute_input": "2022-03-04T13:46:03.913127Z",
     "iopub.status.busy": "2022-03-04T13:46:03.912622Z",
     "iopub.status.idle": "2022-03-04T13:46:05.064324Z",
     "shell.execute_reply": "2022-03-04T13:46:05.063232Z",
     "shell.execute_reply.started": "2022-03-04T13:33:00.962891Z"
    },
    "executionInfo": {
     "elapsed": 1609,
     "status": "ok",
     "timestamp": 1639910334510,
     "user": {
      "displayName": "lisa richter",
      "photoUrl": "https://lh3.googleusercontent.com/a/default-user=s64",
      "userId": "08999729000846221512"
     },
     "user_tz": -60
    },
    "id": "gD3Otp3RttMT",
    "outputId": "0671ea54-85b6-45c4-ef31-78d0ecf480c7",
    "papermill": {
     "duration": 1.210737,
     "end_time": "2022-03-04T13:46:05.064461",
     "exception": false,
     "start_time": "2022-03-04T13:46:03.853724",
     "status": "completed"
    },
    "tags": []
   },
   "outputs": [],
   "source": [
    "sentiment_data_train = load_dataset('sentiment140', split='train')\n",
    "sentiment_data_test = load_dataset('sentiment140', split='test')"
   ]
  },
  {
   "cell_type": "code",
   "execution_count": 6,
   "id": "a9c6dfb3",
   "metadata": {
    "execution": {
     "iopub.execute_input": "2022-03-04T13:46:06.977598Z",
     "iopub.status.busy": "2022-03-04T13:46:05.132113Z",
     "iopub.status.idle": "2022-03-04T13:46:08.905760Z",
     "shell.execute_reply": "2022-03-04T13:46:08.905221Z",
     "shell.execute_reply.started": "2022-03-04T13:33:03.840660Z"
    },
    "executionInfo": {
     "elapsed": 3731,
     "status": "ok",
     "timestamp": 1639910344244,
     "user": {
      "displayName": "lisa richter",
      "photoUrl": "https://lh3.googleusercontent.com/a/default-user=s64",
      "userId": "08999729000846221512"
     },
     "user_tz": -60
    },
    "id": "gam9mUXLzF97",
    "papermill": {
     "duration": 3.808853,
     "end_time": "2022-03-04T13:46:08.905895",
     "exception": false,
     "start_time": "2022-03-04T13:46:05.097042",
     "status": "completed"
    },
    "tags": []
   },
   "outputs": [],
   "source": [
    "text = sentiment_data_train['text']\n",
    "sentiment = sentiment_data_train['sentiment']\n",
    "df_sentiment = pd.DataFrame({'text': text, 'sentiment': sentiment})\n"
   ]
  },
  {
   "cell_type": "code",
   "execution_count": 7,
   "id": "f943a9e5",
   "metadata": {
    "execution": {
     "iopub.execute_input": "2022-03-04T13:46:09.020139Z",
     "iopub.status.busy": "2022-03-04T13:46:09.017814Z",
     "iopub.status.idle": "2022-03-04T13:52:02.750592Z",
     "shell.execute_reply": "2022-03-04T13:52:02.750081Z",
     "shell.execute_reply.started": "2022-03-04T13:33:08.090045Z"
    },
    "papermill": {
     "duration": 353.812008,
     "end_time": "2022-03-04T13:52:02.750750",
     "exception": false,
     "start_time": "2022-03-04T13:46:08.938742",
     "status": "completed"
    },
    "tags": []
   },
   "outputs": [
    {
     "data": {
      "application/vnd.jupyter.widget-view+json": {
       "model_id": "255fcd6f04ec4015904b33e8001d5f9e",
       "version_major": 2,
       "version_minor": 0
      },
      "text/plain": [
       "Downloading:   0%|          | 0.00/779k [00:00<?, ?B/s]"
      ]
     },
     "metadata": {},
     "output_type": "display_data"
    },
    {
     "data": {
      "application/vnd.jupyter.widget-view+json": {
       "model_id": "57d476b355504495ad353fb49e4056a5",
       "version_major": 2,
       "version_minor": 0
      },
      "text/plain": [
       "Downloading:   0%|          | 0.00/1.32M [00:00<?, ?B/s]"
      ]
     },
     "metadata": {},
     "output_type": "display_data"
    },
    {
     "data": {
      "application/vnd.jupyter.widget-view+json": {
       "model_id": "f1e3127cc3ff40aba3c8583bce8ae490",
       "version_major": 2,
       "version_minor": 0
      },
      "text/plain": [
       "Downloading:   0%|          | 0.00/760 [00:00<?, ?B/s]"
      ]
     },
     "metadata": {},
     "output_type": "display_data"
    },
    {
     "name": "stderr",
     "output_type": "stream",
     "text": [
      "Truncation was not explicitly activated but `max_length` is provided a specific value, please use `truncation=True` to explicitly truncate examples to max length. Defaulting to 'longest_first' truncation strategy. If you encode pairs of sequences (GLUE-style) with the tokenizer you can select this strategy more precisely by providing a specific strategy to `truncation`.\n"
     ]
    }
   ],
   "source": [
    "# plot length of each tweet in order to define max_length\n",
    "# define tokenizer:\n",
    "tokenizer = XLNetTokenizer.from_pretrained('xlnet-base-cased')\n",
    "\n",
    "token_lens = []\n",
    "\n",
    "for txt in df_sentiment['text']:\n",
    "    tokens = tokenizer.encode(txt, max_length=512)\n",
    "    token_lens.append(len(tokens))"
   ]
  },
  {
   "cell_type": "code",
   "execution_count": 8,
   "id": "3959e78b",
   "metadata": {
    "execution": {
     "iopub.execute_input": "2022-03-04T13:52:02.822015Z",
     "iopub.status.busy": "2022-03-04T13:52:02.821398Z",
     "iopub.status.idle": "2022-03-04T13:52:09.044087Z",
     "shell.execute_reply": "2022-03-04T13:52:09.043640Z",
     "shell.execute_reply.started": "2022-03-04T13:39:31.727727Z"
    },
    "papermill": {
     "duration": 6.259662,
     "end_time": "2022-03-04T13:52:09.044217",
     "exception": false,
     "start_time": "2022-03-04T13:52:02.784555",
     "status": "completed"
    },
    "tags": []
   },
   "outputs": [
    {
     "name": "stderr",
     "output_type": "stream",
     "text": [
      "/opt/conda/lib/python3.7/site-packages/seaborn/distributions.py:2619: FutureWarning: `distplot` is a deprecated function and will be removed in a future version. Please adapt your code to use either `displot` (a figure-level function with similar flexibility) or `histplot` (an axes-level function for histograms).\n",
      "  warnings.warn(msg, FutureWarning)\n"
     ]
    },
    {
     "data": {
      "image/png": "[encoded data removed]",
      "text/plain": [
       "<Figure size 432x288 with 1 Axes>"
      ]
     },
     "metadata": {
      "needs_background": "light"
     },
     "output_type": "display_data"
    }
   ],
   "source": [
    "sns_plot = sns.distplot(token_lens)\n",
    "plt.xlim([0, 400]);\n",
    "plt.xlabel('Token count')\n",
    "\n",
    "fig = sns_plot.get_figure()\n",
    "fig.savefig('token_length_sentiment.png');"
   ]
  },
  {
   "cell_type": "code",
   "execution_count": 9,
   "id": "de5bb594",
   "metadata": {
    "execution": {
     "iopub.execute_input": "2022-03-04T13:52:09.118990Z",
     "iopub.status.busy": "2022-03-04T13:52:09.117984Z",
     "iopub.status.idle": "2022-03-04T13:52:09.482739Z",
     "shell.execute_reply": "2022-03-04T13:52:09.483248Z",
     "shell.execute_reply.started": "2022-03-04T13:40:44.539231Z"
    },
    "papermill": {
     "duration": 0.403842,
     "end_time": "2022-03-04T13:52:09.483398",
     "exception": false,
     "start_time": "2022-03-04T13:52:09.079556",
     "status": "completed"
    },
    "tags": []
   },
   "outputs": [],
   "source": [
    "df_sentiment = shuffle(df_sentiment) # 0 = negative; 2 = neutral; 4 = positive\n",
    "df_sentiment = df_sentiment[:24000] # take only a subset"
   ]
  },
  {
   "cell_type": "code",
   "execution_count": 10,
   "id": "4d1d1a7c",
   "metadata": {
    "execution": {
     "iopub.execute_input": "2022-03-04T13:52:09.571846Z",
     "iopub.status.busy": "2022-03-04T13:52:09.566720Z",
     "iopub.status.idle": "2022-03-04T13:52:09.967420Z",
     "shell.execute_reply": "2022-03-04T13:52:09.966833Z",
     "shell.execute_reply.started": "2022-03-04T13:40:45.940104Z"
    },
    "executionInfo": {
     "elapsed": 11,
     "status": "ok",
     "timestamp": 1639910344246,
     "user": {
      "displayName": "lisa richter",
      "photoUrl": "https://lh3.googleusercontent.com/a/default-user=s64",
      "userId": "08999729000846221512"
     },
     "user_tz": -60
    },
    "id": "O2ehQ0G8556Z",
    "papermill": {
     "duration": 0.450007,
     "end_time": "2022-03-04T13:52:09.967551",
     "exception": false,
     "start_time": "2022-03-04T13:52:09.517544",
     "status": "completed"
    },
    "tags": []
   },
   "outputs": [],
   "source": [
    "df_sentiment['text'] = df_sentiment['text'].apply(prepare_text)"
   ]
  },
  {
   "cell_type": "code",
   "execution_count": 11,
   "id": "12172729",
   "metadata": {
    "execution": {
     "iopub.execute_input": "2022-03-04T13:52:10.040243Z",
     "iopub.status.busy": "2022-03-04T13:52:10.039445Z",
     "iopub.status.idle": "2022-03-04T13:52:10.053438Z",
     "shell.execute_reply": "2022-03-04T13:52:10.053040Z",
     "shell.execute_reply.started": "2022-03-04T13:40:47.387177Z"
    },
    "executionInfo": {
     "elapsed": 13,
     "status": "ok",
     "timestamp": 1639910347537,
     "user": {
      "displayName": "lisa richter",
      "photoUrl": "https://lh3.googleusercontent.com/a/default-user=s64",
      "userId": "08999729000846221512"
     },
     "user_tz": -60
    },
    "id": "xd9j-0pnCs3O",
    "outputId": "c85f8cf9-ef47-471e-e8bb-c18ef3506402",
    "papermill": {
     "duration": 0.051989,
     "end_time": "2022-03-04T13:52:10.053573",
     "exception": false,
     "start_time": "2022-03-04T13:52:10.001584",
     "status": "completed"
    },
    "tags": []
   },
   "outputs": [
    {
     "data": {
      "text/html": [
       "<div>\n",
       "<style scoped>\n",
       "    .dataframe tbody tr th:only-of-type {\n",
       "        vertical-align: middle;\n",
       "    }\n",
       "\n",
       "    .dataframe tbody tr th {\n",
       "        vertical-align: top;\n",
       "    }\n",
       "\n",
       "    .dataframe thead th {\n",
       "        text-align: right;\n",
       "    }\n",
       "</style>\n",
       "<table border=\"1\" class=\"dataframe\">\n",
       "  <thead>\n",
       "    <tr style=\"text-align: right;\">\n",
       "      <th></th>\n",
       "      <th>text</th>\n",
       "      <th>sentiment</th>\n",
       "    </tr>\n",
       "  </thead>\n",
       "  <tbody>\n",
       "    <tr>\n",
       "      <th>1253544</th>\n",
       "      <td>You should check out if you dare hashtagmafia</td>\n",
       "      <td>1</td>\n",
       "    </tr>\n",
       "    <tr>\n",
       "      <th>1251459</th>\n",
       "      <td>TELL MARISA I SAID HI AND TO BRING BACK SOME ...</td>\n",
       "      <td>1</td>\n",
       "    </tr>\n",
       "    <tr>\n",
       "      <th>1561271</th>\n",
       "      <td>I really like the weather these days...It's be...</td>\n",
       "      <td>1</td>\n",
       "    </tr>\n",
       "    <tr>\n",
       "      <th>1019350</th>\n",
       "      <td>U are now following the most underestimated du...</td>\n",
       "      <td>1</td>\n",
       "    </tr>\n",
       "    <tr>\n",
       "      <th>477287</th>\n",
       "      <td>Bye bye. I have school tomorrow.</td>\n",
       "      <td>0</td>\n",
       "    </tr>\n",
       "    <tr>\n",
       "      <th>...</th>\n",
       "      <td>...</td>\n",
       "      <td>...</td>\n",
       "    </tr>\n",
       "    <tr>\n",
       "      <th>736146</th>\n",
       "      <td>wanna go for a walk with my son but looks like...</td>\n",
       "      <td>0</td>\n",
       "    </tr>\n",
       "    <tr>\n",
       "      <th>807949</th>\n",
       "      <td>Womens prayer this am...Tomorrow is mens</td>\n",
       "      <td>1</td>\n",
       "    </tr>\n",
       "    <tr>\n",
       "      <th>308634</th>\n",
       "      <td>trying to compile C code and running into depe...</td>\n",
       "      <td>0</td>\n",
       "    </tr>\n",
       "    <tr>\n",
       "      <th>1198485</th>\n",
       "      <td>I haven't read quot Mindless Eating quot so I...</td>\n",
       "      <td>1</td>\n",
       "    </tr>\n",
       "    <tr>\n",
       "      <th>368729</th>\n",
       "      <td>moving very slowly while getting ready to head...</td>\n",
       "      <td>0</td>\n",
       "    </tr>\n",
       "  </tbody>\n",
       "</table>\n",
       "<p>24000 rows × 2 columns</p>\n",
       "</div>"
      ],
      "text/plain": [
       "                                                      text  sentiment\n",
       "1253544      You should check out if you dare hashtagmafia          1\n",
       "1251459   TELL MARISA I SAID HI AND TO BRING BACK SOME ...          1\n",
       "1561271  I really like the weather these days...It's be...          1\n",
       "1019350  U are now following the most underestimated du...          1\n",
       "477287                    Bye bye. I have school tomorrow.          0\n",
       "...                                                    ...        ...\n",
       "736146   wanna go for a walk with my son but looks like...          0\n",
       "807949           Womens prayer this am...Tomorrow is mens           1\n",
       "308634   trying to compile C code and running into depe...          0\n",
       "1198485   I haven't read quot Mindless Eating quot so I...          1\n",
       "368729   moving very slowly while getting ready to head...          0\n",
       "\n",
       "[24000 rows x 2 columns]"
      ]
     },
     "execution_count": 11,
     "metadata": {},
     "output_type": "execute_result"
    }
   ],
   "source": [
    "# change label: 0: negative; 1: positive\n",
    "df_sentiment.loc[(df_sentiment.sentiment == 4),'sentiment']=1\n",
    "df_sentiment"
   ]
  },
  {
   "cell_type": "code",
   "execution_count": 12,
   "id": "a08af59f",
   "metadata": {
    "execution": {
     "iopub.execute_input": "2022-03-04T13:52:10.127791Z",
     "iopub.status.busy": "2022-03-04T13:52:10.126996Z",
     "iopub.status.idle": "2022-03-04T13:52:10.308907Z",
     "shell.execute_reply": "2022-03-04T13:52:10.308450Z",
     "shell.execute_reply.started": "2022-03-04T13:40:50.148305Z"
    },
    "executionInfo": {
     "elapsed": 429,
     "status": "ok",
     "timestamp": 1639910357723,
     "user": {
      "displayName": "lisa richter",
      "photoUrl": "https://lh3.googleusercontent.com/a/default-user=s64",
      "userId": "08999729000846221512"
     },
     "user_tz": -60
    },
    "id": "th1yYQls553n",
    "outputId": "ea2d49b9-a7d7-463c-a857-c840c9ad7bf9",
    "papermill": {
     "duration": 0.220551,
     "end_time": "2022-03-04T13:52:10.309025",
     "exception": false,
     "start_time": "2022-03-04T13:52:10.088474",
     "status": "completed"
    },
    "tags": []
   },
   "outputs": [
    {
     "name": "stdout",
     "output_type": "stream",
     "text": [
      "negative tweets: 12017\n",
      "positive tweets: 11983\n"
     ]
    },
    {
     "data": {
      "image/png": "[encoded data removed]",
      "text/plain": [
       "<Figure size 432x288 with 1 Axes>"
      ]
     },
     "metadata": {
      "needs_background": "light"
     },
     "output_type": "display_data"
    }
   ],
   "source": [
    "sns_plot = sns.countplot(x=df_sentiment.sentiment) # to see class distribution\n",
    "print(f'negative tweets: {len(df_sentiment[df_sentiment[\"sentiment\"] == 0])}')\n",
    "print(f'positive tweets: {len(df_sentiment[df_sentiment[\"sentiment\"] == 1])}')\n",
    "\n",
    "fig = sns_plot.get_figure()\n",
    "fig.savefig('class_dist_sentiment.png');"
   ]
  },
  {
   "cell_type": "code",
   "execution_count": 13,
   "id": "4a852801",
   "metadata": {
    "execution": {
     "iopub.execute_input": "2022-03-04T13:52:10.384475Z",
     "iopub.status.busy": "2022-03-04T13:52:10.382956Z",
     "iopub.status.idle": "2022-03-04T13:52:10.385109Z",
     "shell.execute_reply": "2022-03-04T13:52:10.385512Z",
     "shell.execute_reply.started": "2022-03-04T13:40:52.257814Z"
    },
    "executionInfo": {
     "elapsed": 440,
     "status": "ok",
     "timestamp": 1639910362719,
     "user": {
      "displayName": "lisa richter",
      "photoUrl": "https://lh3.googleusercontent.com/a/default-user=s64",
      "userId": "08999729000846221512"
     },
     "user_tz": -60
    },
    "id": "xN3vai7Y55uF",
    "papermill": {
     "duration": 0.041546,
     "end_time": "2022-03-04T13:52:10.385641",
     "exception": false,
     "start_time": "2022-03-04T13:52:10.344095",
     "status": "completed"
    },
    "tags": []
   },
   "outputs": [],
   "source": [
    "class_names = ['negative', 'positive']"
   ]
  },
  {
   "cell_type": "code",
   "execution_count": 14,
   "id": "0558000c",
   "metadata": {
    "execution": {
     "iopub.execute_input": "2022-03-04T13:52:10.459684Z",
     "iopub.status.busy": "2022-03-04T13:52:10.458919Z",
     "iopub.status.idle": "2022-03-04T13:52:10.567813Z",
     "shell.execute_reply": "2022-03-04T13:52:10.567348Z",
     "shell.execute_reply.started": "2022-03-04T13:40:53.384013Z"
    },
    "papermill": {
     "duration": 0.147115,
     "end_time": "2022-03-04T13:52:10.567930",
     "exception": false,
     "start_time": "2022-03-04T13:52:10.420815",
     "status": "completed"
    },
    "tags": []
   },
   "outputs": [],
   "source": [
    "df_sentiment.to_csv('test.csv')"
   ]
  },
  {
   "cell_type": "markdown",
   "id": "23515160",
   "metadata": {
    "id": "2ZpeyyofRkJp",
    "papermill": {
     "duration": 0.035357,
     "end_time": "2022-03-04T13:52:10.638380",
     "exception": false,
     "start_time": "2022-03-04T13:52:10.603023",
     "status": "completed"
    },
    "tags": []
   },
   "source": [
    "# 2. Load XLNet, Prepare Inputs and Define Hyperparameter"
   ]
  },
  {
   "cell_type": "code",
   "execution_count": 15,
   "id": "cfd843ff",
   "metadata": {
    "execution": {
     "iopub.execute_input": "2022-03-04T13:52:10.713777Z",
     "iopub.status.busy": "2022-03-04T13:52:10.712365Z",
     "iopub.status.idle": "2022-03-04T13:52:10.714591Z",
     "shell.execute_reply": "2022-03-04T13:52:10.714995Z",
     "shell.execute_reply.started": "2022-03-04T13:40:56.405929Z"
    },
    "executionInfo": {
     "elapsed": 402,
     "status": "ok",
     "timestamp": 1639910379311,
     "user": {
      "displayName": "lisa richter",
      "photoUrl": "https://lh3.googleusercontent.com/a/default-user=s64",
      "userId": "08999729000846221512"
     },
     "user_tz": -60
    },
    "id": "nKjgK24wT8eR",
    "papermill": {
     "duration": 0.041568,
     "end_time": "2022-03-04T13:52:10.715116",
     "exception": false,
     "start_time": "2022-03-04T13:52:10.673548",
     "status": "completed"
    },
    "tags": []
   },
   "outputs": [],
   "source": [
    "# define max length: \n",
    "MAX_LEN = 400"
   ]
  },
  {
   "cell_type": "code",
   "execution_count": 16,
   "id": "83065251",
   "metadata": {
    "execution": {
     "iopub.execute_input": "2022-03-04T13:52:10.795920Z",
     "iopub.status.busy": "2022-03-04T13:52:10.795132Z",
     "iopub.status.idle": "2022-03-04T13:52:10.797485Z",
     "shell.execute_reply": "2022-03-04T13:52:10.797100Z",
     "shell.execute_reply.started": "2022-03-04T13:40:57.221558Z"
    },
    "executionInfo": {
     "elapsed": 6,
     "status": "ok",
     "timestamp": 1639910381055,
     "user": {
      "displayName": "lisa richter",
      "photoUrl": "https://lh3.googleusercontent.com/a/default-user=s64",
      "userId": "08999729000846221512"
     },
     "user_tz": -60
    },
    "id": "yCtFjHiWT_XX",
    "papermill": {
     "duration": 0.047008,
     "end_time": "2022-03-04T13:52:10.797605",
     "exception": false,
     "start_time": "2022-03-04T13:52:10.750597",
     "status": "completed"
    },
    "tags": []
   },
   "outputs": [],
   "source": [
    "# custom dataset class\n",
    "class SentimentDataset(Dataset):\n",
    "    \n",
    "    def __init__(self, reviews, targets, tokenizer, max_len):\n",
    "        self.reviews = reviews\n",
    "        self.targets = targets\n",
    "        self.tokenizer = tokenizer\n",
    "        self.max_len = max_len\n",
    "        \n",
    "    def __len__(self):\n",
    "        return len(self.reviews)\n",
    "    \n",
    "    def __getitem__(self, item):\n",
    "        review = str(self.reviews[item])\n",
    "        target = self.targets[item]\n",
    "    \n",
    "        encoding = self.tokenizer.encode_plus(review,\n",
    "                                              add_special_tokens=True,\n",
    "                                              max_length=self.max_len,\n",
    "                                              truncation=True,\n",
    "                                              return_token_type_ids=False,\n",
    "                                              pad_to_max_length=False,\n",
    "                                              return_attention_mask=True,\n",
    "                                              return_tensors='pt',)\n",
    "        \n",
    "        input_ids = pad_sequences(encoding['input_ids'], \n",
    "                                  maxlen=MAX_LEN, \n",
    "                                  dtype=torch.Tensor ,\n",
    "                                  truncating=\"post\",\n",
    "                                  padding=\"post\")\n",
    "        input_ids = input_ids.astype(dtype = 'int64')\n",
    "        input_ids = torch.tensor(input_ids) \n",
    "\n",
    "        attention_mask = pad_sequences(encoding['attention_mask'], \n",
    "                                       maxlen=MAX_LEN, \n",
    "                                       dtype=torch.Tensor ,\n",
    "                                       truncating=\"post\",\n",
    "                                       padding=\"post\")\n",
    "        attention_mask = attention_mask.astype(dtype = 'int64')\n",
    "        attention_mask = torch.tensor(attention_mask)       \n",
    "        \n",
    "        return {'review_text': review,\n",
    "                'input_ids': input_ids,\n",
    "                'attention_mask': attention_mask.flatten(),\n",
    "                'targets': torch.tensor(target, dtype=torch.long)}"
   ]
  },
  {
   "cell_type": "code",
   "execution_count": 17,
   "id": "ce0b189f",
   "metadata": {
    "execution": {
     "iopub.execute_input": "2022-03-04T13:52:10.873059Z",
     "iopub.status.busy": "2022-03-04T13:52:10.872403Z",
     "iopub.status.idle": "2022-03-04T13:52:10.879196Z",
     "shell.execute_reply": "2022-03-04T13:52:10.878772Z",
     "shell.execute_reply.started": "2022-03-04T13:40:57.997356Z"
    },
    "executionInfo": {
     "elapsed": 534,
     "status": "ok",
     "timestamp": 1639910438009,
     "user": {
      "displayName": "lisa richter",
      "photoUrl": "https://lh3.googleusercontent.com/a/default-user=s64",
      "userId": "08999729000846221512"
     },
     "user_tz": -60
    },
    "id": "Bqem0CtzUwJe",
    "papermill": {
     "duration": 0.046848,
     "end_time": "2022-03-04T13:52:10.879295",
     "exception": false,
     "start_time": "2022-03-04T13:52:10.832447",
     "status": "completed"
    },
    "tags": []
   },
   "outputs": [],
   "source": [
    "# create training, validation and test set: \n",
    "df_train, df_test = train_test_split(df_sentiment, test_size=0.5, random_state=101)\n",
    "df_val, df_test = train_test_split(df_test, test_size=0.5, random_state=101)"
   ]
  },
  {
   "cell_type": "code",
   "execution_count": 18,
   "id": "1bbdbd29",
   "metadata": {
    "execution": {
     "iopub.execute_input": "2022-03-04T13:52:10.953832Z",
     "iopub.status.busy": "2022-03-04T13:52:10.953188Z",
     "iopub.status.idle": "2022-03-04T13:52:10.955756Z",
     "shell.execute_reply": "2022-03-04T13:52:10.956151Z",
     "shell.execute_reply.started": "2022-03-04T13:40:58.733515Z"
    },
    "executionInfo": {
     "elapsed": 484,
     "status": "ok",
     "timestamp": 1639910440328,
     "user": {
      "displayName": "lisa richter",
      "photoUrl": "https://lh3.googleusercontent.com/a/default-user=s64",
      "userId": "08999729000846221512"
     },
     "user_tz": -60
    },
    "id": "ucEI27LmU0Pf",
    "outputId": "89a183de-af6f-4239-b4ef-b2ee48e9538a",
    "papermill": {
     "duration": 0.04197,
     "end_time": "2022-03-04T13:52:10.956264",
     "exception": false,
     "start_time": "2022-03-04T13:52:10.914294",
     "status": "completed"
    },
    "tags": []
   },
   "outputs": [
    {
     "data": {
      "text/plain": [
       "((12000, 2), (6000, 2), (6000, 2))"
      ]
     },
     "execution_count": 18,
     "metadata": {},
     "output_type": "execute_result"
    }
   ],
   "source": [
    "# check shape\n",
    "df_train.shape, df_val.shape, df_test.shape"
   ]
  },
  {
   "cell_type": "code",
   "execution_count": 19,
   "id": "625466fd",
   "metadata": {
    "execution": {
     "iopub.execute_input": "2022-03-04T13:52:11.034671Z",
     "iopub.status.busy": "2022-03-04T13:52:11.033981Z",
     "iopub.status.idle": "2022-03-04T13:52:11.036565Z",
     "shell.execute_reply": "2022-03-04T13:52:11.036130Z",
     "shell.execute_reply.started": "2022-03-04T13:41:00.191849Z"
    },
    "executionInfo": {
     "elapsed": 399,
     "status": "ok",
     "timestamp": 1639910456375,
     "user": {
      "displayName": "lisa richter",
      "photoUrl": "https://lh3.googleusercontent.com/a/default-user=s64",
      "userId": "08999729000846221512"
     },
     "user_tz": -60
    },
    "id": "hc7pFLihU3O7",
    "papermill": {
     "duration": 0.042302,
     "end_time": "2022-03-04T13:52:11.036668",
     "exception": false,
     "start_time": "2022-03-04T13:52:10.994366",
     "status": "completed"
    },
    "tags": []
   },
   "outputs": [],
   "source": [
    "# define custom dataloader:\n",
    "def create_data_loader(df, tokenizer, max_len, batch_size):\n",
    "    ds = SentimentDataset(reviews=df.text.to_numpy(),\n",
    "                          targets=df.sentiment.to_numpy(),\n",
    "                          tokenizer=tokenizer,\n",
    "                          max_len=max_len)\n",
    "    \n",
    "    return DataLoader(ds,\n",
    "                    batch_size=batch_size,\n",
    "                    num_workers=2)                    "
   ]
  },
  {
   "cell_type": "code",
   "execution_count": 20,
   "id": "33ef7f8b",
   "metadata": {
    "execution": {
     "iopub.execute_input": "2022-03-04T13:52:11.114661Z",
     "iopub.status.busy": "2022-03-04T13:52:11.113170Z",
     "iopub.status.idle": "2022-03-04T13:52:11.115287Z",
     "shell.execute_reply": "2022-03-04T13:52:11.115720Z",
     "shell.execute_reply.started": "2022-03-04T13:41:01.136466Z"
    },
    "executionInfo": {
     "elapsed": 416,
     "status": "ok",
     "timestamp": 1639910459280,
     "user": {
      "displayName": "lisa richter",
      "photoUrl": "https://lh3.googleusercontent.com/a/default-user=s64",
      "userId": "08999729000846221512"
     },
     "user_tz": -60
    },
    "id": "9wRWtekiVFe1",
    "papermill": {
     "duration": 0.043835,
     "end_time": "2022-03-04T13:52:11.115838",
     "exception": false,
     "start_time": "2022-03-04T13:52:11.072003",
     "status": "completed"
    },
    "tags": []
   },
   "outputs": [],
   "source": [
    "# define batch size: \n",
    "BATCH_SIZE = 8\n",
    "\n",
    "# create data loader for training, validation and test set: \n",
    "train_data_loader = create_data_loader(df_train, tokenizer, MAX_LEN, BATCH_SIZE)\n",
    "val_data_loader = create_data_loader(df_val, tokenizer, MAX_LEN, BATCH_SIZE)\n",
    "test_data_loader = create_data_loader(df_test, tokenizer, MAX_LEN, BATCH_SIZE)"
   ]
  },
  {
   "cell_type": "code",
   "execution_count": 21,
   "id": "210fe111",
   "metadata": {
    "execution": {
     "iopub.execute_input": "2022-03-04T13:52:11.190687Z",
     "iopub.status.busy": "2022-03-04T13:52:11.189932Z",
     "iopub.status.idle": "2022-03-04T13:52:30.685716Z",
     "shell.execute_reply": "2022-03-04T13:52:30.685216Z",
     "shell.execute_reply.started": "2022-03-04T13:41:02.567033Z"
    },
    "executionInfo": {
     "elapsed": 31241,
     "status": "ok",
     "timestamp": 1639910493418,
     "user": {
      "displayName": "lisa richter",
      "photoUrl": "https://lh3.googleusercontent.com/a/default-user=s64",
      "userId": "08999729000846221512"
     },
     "user_tz": -60
    },
    "id": "0BW8j8d-VMEf",
    "outputId": "c5720905-b177-4b4b-e83b-654c74c20176",
    "papermill": {
     "duration": 19.534746,
     "end_time": "2022-03-04T13:52:30.685862",
     "exception": false,
     "start_time": "2022-03-04T13:52:11.151116",
     "status": "completed"
    },
    "tags": []
   },
   "outputs": [
    {
     "data": {
      "application/vnd.jupyter.widget-view+json": {
       "model_id": "2c74e09fa0844732b7428365785064fd",
       "version_major": 2,
       "version_minor": 0
      },
      "text/plain": [
       "Downloading:   0%|          | 0.00/445M [00:00<?, ?B/s]"
      ]
     },
     "metadata": {},
     "output_type": "display_data"
    },
    {
     "name": "stderr",
     "output_type": "stream",
     "text": [
      "Some weights of the model checkpoint at xlnet-base-cased were not used when initializing XLNetForSequenceClassification: ['lm_loss.bias', 'lm_loss.weight']\n",
      "- This IS expected if you are initializing XLNetForSequenceClassification from the checkpoint of a model trained on another task or with another architecture (e.g. initializing a BertForSequenceClassification model from a BertForPreTraining model).\n",
      "- This IS NOT expected if you are initializing XLNetForSequenceClassification from the checkpoint of a model that you expect to be exactly identical (initializing a BertForSequenceClassification model from a BertForSequenceClassification model).\n",
      "Some weights of XLNetForSequenceClassification were not initialized from the model checkpoint at xlnet-base-cased and are newly initialized: ['logits_proj.bias', 'sequence_summary.summary.weight', 'sequence_summary.summary.bias', 'logits_proj.weight']\n",
      "You should probably TRAIN this model on a down-stream task to be able to use it for predictions and inference.\n"
     ]
    }
   ],
   "source": [
    "# load pre-trained XLNet model\n",
    "from transformers import XLNetForSequenceClassification\n",
    "\n",
    "model = XLNetForSequenceClassification.from_pretrained('xlnet-base-cased', num_labels = 2)\n",
    "model = model.to(device)"
   ]
  },
  {
   "cell_type": "code",
   "execution_count": 22,
   "id": "901ec217",
   "metadata": {
    "execution": {
     "iopub.execute_input": "2022-03-04T13:52:30.767083Z",
     "iopub.status.busy": "2022-03-04T13:52:30.766417Z",
     "iopub.status.idle": "2022-03-04T13:52:30.793565Z",
     "shell.execute_reply": "2022-03-04T13:52:30.792654Z",
     "shell.execute_reply.started": "2022-03-04T13:41:34.425294Z"
    },
    "executionInfo": {
     "elapsed": 384,
     "status": "ok",
     "timestamp": 1639910495200,
     "user": {
      "displayName": "lisa richter",
      "photoUrl": "https://lh3.googleusercontent.com/a/default-user=s64",
      "userId": "08999729000846221512"
     },
     "user_tz": -60
    },
    "id": "NJ30PhWNVPPi",
    "papermill": {
     "duration": 0.071039,
     "end_time": "2022-03-04T13:52:30.793673",
     "exception": false,
     "start_time": "2022-03-04T13:52:30.722634",
     "status": "completed"
    },
    "tags": []
   },
   "outputs": [],
   "source": [
    "# defining hyperparameters:\n",
    "EPOCHS = 2\n",
    "\n",
    "param_optimizer = list(model.named_parameters())\n",
    "no_decay = ['bias', 'LayerNorm.bias', 'LayerNorm.weight']\n",
    "optimizer_grouped_parameters = [{'params': [p for n, p in param_optimizer if not any(nd in n for nd in no_decay)], 'weight_decay': 0.01},\n",
    "                                {'params': [p for n, p in param_optimizer if any(nd in n for nd in no_decay)], 'weight_decay':0.0}]\n",
    "\n",
    "optimizer = AdamW(optimizer_grouped_parameters, lr=3e-5)\n",
    "total_steps = len(train_data_loader) * EPOCHS\n",
    "\n",
    "scheduler = get_linear_schedule_with_warmup(optimizer,\n",
    "                                            num_warmup_steps=0,\n",
    "                                            num_training_steps=total_steps)"
   ]
  },
  {
   "cell_type": "code",
   "execution_count": 23,
   "id": "d50e1f64",
   "metadata": {
    "execution": {
     "iopub.execute_input": "2022-03-04T13:52:30.876405Z",
     "iopub.status.busy": "2022-03-04T13:52:30.875732Z",
     "iopub.status.idle": "2022-03-04T13:52:31.034397Z",
     "shell.execute_reply": "2022-03-04T13:52:31.035021Z",
     "shell.execute_reply.started": "2022-03-04T13:41:34.453764Z"
    },
    "executionInfo": {
     "elapsed": 395,
     "status": "ok",
     "timestamp": 1639910497337,
     "user": {
      "displayName": "lisa richter",
      "photoUrl": "https://lh3.googleusercontent.com/a/default-user=s64",
      "userId": "08999729000846221512"
     },
     "user_tz": -60
    },
    "id": "H32BljfAVzPA",
    "outputId": "07bd93cd-57a4-4066-e1d5-afad945ef6c4",
    "papermill": {
     "duration": 0.204301,
     "end_time": "2022-03-04T13:52:31.035200",
     "exception": false,
     "start_time": "2022-03-04T13:52:30.830899",
     "status": "completed"
    },
    "tags": []
   },
   "outputs": [
    {
     "data": {
      "text/plain": [
       "dict_keys(['review_text', 'input_ids', 'attention_mask', 'targets'])"
      ]
     },
     "execution_count": 23,
     "metadata": {},
     "output_type": "execute_result"
    }
   ],
   "source": [
    "# sanity check: \n",
    "data = next(iter(val_data_loader))\n",
    "data.keys()"
   ]
  },
  {
   "cell_type": "code",
   "execution_count": 24,
   "id": "7691912b",
   "metadata": {
    "execution": {
     "iopub.execute_input": "2022-03-04T13:52:31.116113Z",
     "iopub.status.busy": "2022-03-04T13:52:31.115599Z",
     "iopub.status.idle": "2022-03-04T13:52:31.121701Z",
     "shell.execute_reply": "2022-03-04T13:52:31.121140Z",
     "shell.execute_reply.started": "2022-03-04T13:41:35.851753Z"
    },
    "executionInfo": {
     "elapsed": 390,
     "status": "ok",
     "timestamp": 1639910500662,
     "user": {
      "displayName": "lisa richter",
      "photoUrl": "https://lh3.googleusercontent.com/a/default-user=s64",
      "userId": "08999729000846221512"
     },
     "user_tz": -60
    },
    "id": "NGaIw8BaV2xx",
    "outputId": "e1a7a8e5-83ce-44e6-a0bb-1399cbd0203b",
    "papermill": {
     "duration": 0.047888,
     "end_time": "2022-03-04T13:52:31.121827",
     "exception": false,
     "start_time": "2022-03-04T13:52:31.073939",
     "status": "completed"
    },
    "tags": []
   },
   "outputs": [
    {
     "name": "stdout",
     "output_type": "stream",
     "text": [
      "torch.Size([8, 400])\n",
      "torch.Size([8, 400])\n"
     ]
    }
   ],
   "source": [
    "input_ids = data['input_ids'].to(device)\n",
    "attention_mask = data['attention_mask'].to(device)\n",
    "targets = data['targets'].to(device)\n",
    "\n",
    "print(input_ids.reshape(8,400).shape) # batch size x seq length\n",
    "print(attention_mask.shape) # batch size x seq length"
   ]
  },
  {
   "cell_type": "code",
   "execution_count": 25,
   "id": "b3d8d0ce",
   "metadata": {
    "execution": {
     "iopub.execute_input": "2022-03-04T13:52:31.199659Z",
     "iopub.status.busy": "2022-03-04T13:52:31.199020Z",
     "iopub.status.idle": "2022-03-04T13:52:32.051271Z",
     "shell.execute_reply": "2022-03-04T13:52:32.050772Z",
     "shell.execute_reply.started": "2022-03-04T13:41:39.958206Z"
    },
    "executionInfo": {
     "elapsed": 806,
     "status": "ok",
     "timestamp": 1639910504854,
     "user": {
      "displayName": "lisa richter",
      "photoUrl": "https://lh3.googleusercontent.com/a/default-user=s64",
      "userId": "08999729000846221512"
     },
     "user_tz": -60
    },
    "id": "i904xeuKV-mv",
    "papermill": {
     "duration": 0.892829,
     "end_time": "2022-03-04T13:52:32.051393",
     "exception": false,
     "start_time": "2022-03-04T13:52:31.158564",
     "status": "completed"
    },
    "tags": []
   },
   "outputs": [],
   "source": [
    "outputs = model(input_ids.reshape(8,400), \n",
    "                token_type_ids=None, \n",
    "                attention_mask=attention_mask, \n",
    "                labels=targets)"
   ]
  },
  {
   "cell_type": "code",
   "execution_count": 26,
   "id": "80103b08",
   "metadata": {
    "execution": {
     "iopub.execute_input": "2022-03-04T13:52:32.131835Z",
     "iopub.status.busy": "2022-03-04T13:52:32.131152Z",
     "iopub.status.idle": "2022-03-04T13:52:32.133839Z",
     "shell.execute_reply": "2022-03-04T13:52:32.134246Z",
     "shell.execute_reply.started": "2022-03-04T13:42:00.560923Z"
    },
    "executionInfo": {
     "elapsed": 7,
     "status": "ok",
     "timestamp": 1639910508138,
     "user": {
      "displayName": "lisa richter",
      "photoUrl": "https://lh3.googleusercontent.com/a/default-user=s64",
      "userId": "08999729000846221512"
     },
     "user_tz": -60
    },
    "id": "1vaahW2hWFKk",
    "outputId": "2876b5ea-73fb-4be2-f289-74c477c9bdca",
    "papermill": {
     "duration": 0.045298,
     "end_time": "2022-03-04T13:52:32.134369",
     "exception": false,
     "start_time": "2022-03-04T13:52:32.089071",
     "status": "completed"
    },
    "tags": []
   },
   "outputs": [
    {
     "data": {
      "text/plain": [
       "torch.Tensor"
      ]
     },
     "execution_count": 26,
     "metadata": {},
     "output_type": "execute_result"
    }
   ],
   "source": [
    "type(outputs[0]) # shoul be torch.Tensor"
   ]
  },
  {
   "cell_type": "code",
   "execution_count": 27,
   "id": "9ed3c65a",
   "metadata": {
    "execution": {
     "iopub.execute_input": "2022-03-04T13:52:32.220440Z",
     "iopub.status.busy": "2022-03-04T13:52:32.219705Z",
     "iopub.status.idle": "2022-03-04T13:52:32.222254Z",
     "shell.execute_reply": "2022-03-04T13:52:32.221799Z",
     "shell.execute_reply.started": "2022-03-04T13:42:02.518011Z"
    },
    "executionInfo": {
     "elapsed": 562,
     "status": "ok",
     "timestamp": 1639910513239,
     "user": {
      "displayName": "lisa richter",
      "photoUrl": "https://lh3.googleusercontent.com/a/default-user=s64",
      "userId": "08999729000846221512"
     },
     "user_tz": -60
    },
    "id": "BTZJVJzbWH1t",
    "papermill": {
     "duration": 0.048838,
     "end_time": "2022-03-04T13:52:32.222353",
     "exception": false,
     "start_time": "2022-03-04T13:52:32.173515",
     "status": "completed"
    },
    "tags": []
   },
   "outputs": [],
   "source": [
    "# define training step function:\n",
    "from sklearn import metrics\n",
    "\n",
    "def train_epoch(model, data_loader, optimizer, device, scheduler, n_examples):\n",
    "    model = model.train()\n",
    "    losses = []\n",
    "    acc = 0\n",
    "    counter = 0\n",
    "    \n",
    "    for d in data_loader:\n",
    "        input_ids = d[\"input_ids\"].reshape(8,400).to(device)\n",
    "        attention_mask = d[\"attention_mask\"].to(device)\n",
    "        targets = d[\"targets\"].to(device)\n",
    "        \n",
    "        outputs = model(input_ids=input_ids, token_type_ids=None, attention_mask=attention_mask, labels = targets)\n",
    "        loss = outputs[0]\n",
    "        logits = outputs[1]\n",
    "        \n",
    "        _, prediction = torch.max(outputs[1], dim=1)\n",
    "        targets = targets.cpu().detach().numpy()\n",
    "        prediction = prediction.cpu().detach().numpy()\n",
    "        accuracy = metrics.accuracy_score(targets, prediction)\n",
    "\n",
    "        acc += accuracy\n",
    "        losses.append(loss.item())\n",
    "        \n",
    "        loss.backward()\n",
    "\n",
    "        nn.utils.clip_grad_norm_(model.parameters(), max_norm=1.0)\n",
    "        optimizer.step()\n",
    "        scheduler.step()\n",
    "        optimizer.zero_grad()\n",
    "        counter = counter + 1\n",
    "    \n",
    "    return acc / counter, np.mean(losses)"
   ]
  },
  {
   "cell_type": "code",
   "execution_count": 28,
   "id": "62faf800",
   "metadata": {
    "execution": {
     "iopub.execute_input": "2022-03-04T13:52:32.305290Z",
     "iopub.status.busy": "2022-03-04T13:52:32.304582Z",
     "iopub.status.idle": "2022-03-04T13:52:32.315302Z",
     "shell.execute_reply": "2022-03-04T13:52:32.315915Z",
     "shell.execute_reply.started": "2022-03-04T13:42:03.697276Z"
    },
    "executionInfo": {
     "elapsed": 4,
     "status": "ok",
     "timestamp": 1639910514800,
     "user": {
      "displayName": "lisa richter",
      "photoUrl": "https://lh3.googleusercontent.com/a/default-user=s64",
      "userId": "08999729000846221512"
     },
     "user_tz": -60
    },
    "id": "uo_4GfYUWf6y",
    "papermill": {
     "duration": 0.056327,
     "end_time": "2022-03-04T13:52:32.316086",
     "exception": false,
     "start_time": "2022-03-04T13:52:32.259759",
     "status": "completed"
    },
    "tags": []
   },
   "outputs": [],
   "source": [
    "# define evaluation function:\n",
    "def eval_model(model, data_loader, device, n_examples):\n",
    "    model = model.eval()\n",
    "    losses = []\n",
    "    acc = 0\n",
    "    counter = 0\n",
    "    \n",
    "    with torch.no_grad():\n",
    "        for d in data_loader:\n",
    "            input_ids = d[\"input_ids\"].reshape(8,400).to(device)\n",
    "            attention_mask = d[\"attention_mask\"].to(device)\n",
    "            targets = d[\"targets\"].to(device)\n",
    "            \n",
    "            outputs = model(input_ids=input_ids, token_type_ids=None, attention_mask=attention_mask, labels = targets)\n",
    "            loss = outputs[0]\n",
    "            logits = outputs[1]\n",
    "            \n",
    "            _, prediction = torch.max(outputs[1], dim=1)\n",
    "            targets = targets.cpu().detach().numpy()\n",
    "            prediction = prediction.cpu().detach().numpy()\n",
    "            accuracy = metrics.accuracy_score(targets, prediction)\n",
    "            \n",
    "            acc += accuracy\n",
    "            losses.append(loss.item())\n",
    "            counter += 1\n",
    "        \n",
    "    return acc / counter, np.mean(losses)"
   ]
  },
  {
   "cell_type": "markdown",
   "id": "4ff4ca94",
   "metadata": {
    "id": "t-KmGspfW6Mz",
    "papermill": {
     "duration": 0.036991,
     "end_time": "2022-03-04T13:52:32.399806",
     "exception": false,
     "start_time": "2022-03-04T13:52:32.362815",
     "status": "completed"
    },
    "tags": []
   },
   "source": [
    "# 3. Fine-Tune the Model"
   ]
  },
  {
   "cell_type": "code",
   "execution_count": 29,
   "id": "e6953fe0",
   "metadata": {
    "execution": {
     "iopub.execute_input": "2022-03-04T13:52:32.483100Z",
     "iopub.status.busy": "2022-03-04T13:52:32.482093Z",
     "iopub.status.idle": "2022-03-04T14:27:53.107298Z",
     "shell.execute_reply": "2022-03-04T14:27:53.108533Z"
    },
    "executionInfo": {
     "elapsed": 14530551,
     "status": "ok",
     "timestamp": 1639925051539,
     "user": {
      "displayName": "lisa richter",
      "photoUrl": "https://lh3.googleusercontent.com/a/default-user=s64",
      "userId": "08999729000846221512"
     },
     "user_tz": -60
    },
    "id": "VMDeps-AW0Q4",
    "outputId": "69fcab09-9f69-4f1a-808b-39c138941440",
    "papermill": {
     "duration": 2120.671201,
     "end_time": "2022-03-04T14:27:53.108798",
     "exception": false,
     "start_time": "2022-03-04T13:52:32.437597",
     "status": "completed"
    },
    "tags": []
   },
   "outputs": [
    {
     "name": "stdout",
     "output_type": "stream",
     "text": [
      "Epoch 1/2\n",
      "----------\n",
      "Train loss 0.5137223646665613 Train accuracy 0.755\n",
      "Val loss 0.46326861948519943 Val accuracy 0.803\n",
      "\n",
      "Epoch 2/2\n",
      "----------\n",
      "Train loss 0.3723538823484754 Train accuracy 0.8664166666666666\n",
      "Val loss 0.6169888174707691 Val accuracy 0.8126666666666666\n",
      "\n",
      "CPU times: user 35min 2s, sys: 5.46 s, total: 35min 7s\n",
      "Wall time: 35min 20s\n"
     ]
    }
   ],
   "source": [
    "%%time\n",
    "history = defaultdict(list)\n",
    "best_accuracy = 0\n",
    "\n",
    "for epoch in range(EPOCHS):\n",
    "    print(f'Epoch {epoch + 1}/{EPOCHS}')\n",
    "    print('-' * 10)\n",
    "    \n",
    "    # call train function\n",
    "    train_acc, train_loss = train_epoch(model,\n",
    "                                      train_data_loader,\n",
    "                                      optimizer,\n",
    "                                      device, \n",
    "                                      scheduler, \n",
    "                                      len(df_train))\n",
    "    \n",
    "    print(f'Train loss {train_loss} Train accuracy {train_acc}')\n",
    "    \n",
    "    # call evaluation function\n",
    "    val_acc, val_loss = eval_model(model,\n",
    "                                 val_data_loader, \n",
    "                                 device, \n",
    "                                 len(df_val))\n",
    "    \n",
    "    print(f'Val loss {val_loss} Val accuracy {val_acc}')\n",
    "    print()\n",
    "    \n",
    "    history['train_acc'].append(train_acc)\n",
    "    history['train_loss'].append(train_loss)\n",
    "    history['val_acc'].append(val_acc)\n",
    "    history['val_loss'].append(val_loss)\n",
    "    \n",
    "    if val_acc > best_accuracy:\n",
    "        torch.save(model.state_dict(), 'xlnet_model_sentiment.bin') # note: this scrip was implemented using Kaggle's GPU. The model was saved into the Kaggle repo and downloaded manually\n",
    "\n",
    "        best_accuracy = val_acc"
   ]
  },
  {
   "cell_type": "code",
   "execution_count": 30,
   "id": "0fc636bf",
   "metadata": {
    "execution": {
     "iopub.execute_input": "2022-03-04T14:27:53.234057Z",
     "iopub.status.busy": "2022-03-04T14:27:53.229615Z",
     "iopub.status.idle": "2022-03-04T14:27:53.492231Z",
     "shell.execute_reply": "2022-03-04T14:27:53.492643Z"
    },
    "papermill": {
     "duration": 0.320654,
     "end_time": "2022-03-04T14:27:53.492792",
     "exception": false,
     "start_time": "2022-03-04T14:27:53.172138",
     "status": "completed"
    },
    "tags": []
   },
   "outputs": [
    {
     "data": {
      "image/png": "[encoded data removed]",
      "text/plain": [
       "<Figure size 432x288 with 1 Axes>"
      ]
     },
     "metadata": {
      "needs_background": "light"
     },
     "output_type": "display_data"
    }
   ],
   "source": [
    "fig = plt.figure()\n",
    "plt.plot(history['train_acc'], label='train accuracy')\n",
    "plt.plot(history['val_acc'], label='validation accuracy')\n",
    "plt.plot(history['train_loss'], label='train loss')\n",
    "plt.plot(history['val_loss'], label='validation loss')\n",
    "#plt.title('Training History')\n",
    "plt.ylabel('Accuracy and Loss')\n",
    "plt.xlabel('Epoch')\n",
    "plt.legend()\n",
    "plt.ylim([0, 1])\n",
    "fig.savefig('training_sentiment.png');"
   ]
  },
  {
   "cell_type": "markdown",
   "id": "d9fa09de",
   "metadata": {
    "id": "qkt-pTitXaxI",
    "papermill": {
     "duration": 0.039855,
     "end_time": "2022-03-04T14:27:53.573123",
     "exception": false,
     "start_time": "2022-03-04T14:27:53.533268",
     "status": "completed"
    },
    "tags": []
   },
   "source": [
    "# 4. Evaluation of Fine-Tuned Model"
   ]
  },
  {
   "cell_type": "code",
   "execution_count": 31,
   "id": "e803e1fd",
   "metadata": {
    "execution": {
     "iopub.execute_input": "2022-03-04T14:27:53.658250Z",
     "iopub.status.busy": "2022-03-04T14:27:53.657343Z",
     "iopub.status.idle": "2022-03-04T14:27:54.174634Z",
     "shell.execute_reply": "2022-03-04T14:27:54.175058Z"
    },
    "executionInfo": {
     "elapsed": 1554,
     "status": "ok",
     "timestamp": 1639925180165,
     "user": {
      "displayName": "lisa richter",
      "photoUrl": "https://lh3.googleusercontent.com/a/default-user=s64",
      "userId": "08999729000846221512"
     },
     "user_tz": -60
    },
    "id": "BhgjuEUpW4X0",
    "outputId": "fc3394b3-1b7f-4b69-b22f-1d93deb079bb",
    "papermill": {
     "duration": 0.561831,
     "end_time": "2022-03-04T14:27:54.175251",
     "exception": false,
     "start_time": "2022-03-04T14:27:53.613420",
     "status": "completed"
    },
    "tags": []
   },
   "outputs": [
    {
     "data": {
      "text/plain": [
       "<All keys matched successfully>"
      ]
     },
     "execution_count": 31,
     "metadata": {},
     "output_type": "execute_result"
    }
   ],
   "source": [
    "# read model saved in previous step:\n",
    "# when connected to GPU:\n",
    "model.load_state_dict(torch.load('xlnet_model_sentiment.bin'))\n",
    "\n",
    "# when not connected to GPU (hence no cuda):\n",
    "#model.load_state_dict(torch.load('/content/drive/MyDrive/Colab Notebooks/models/xlnet_model_sentiment.bin', map_location=torch.device('cpu')))"
   ]
  },
  {
   "cell_type": "code",
   "execution_count": 32,
   "id": "626e08a5",
   "metadata": {
    "execution": {
     "iopub.execute_input": "2022-03-04T14:27:54.272897Z",
     "iopub.status.busy": "2022-03-04T14:27:54.272078Z",
     "iopub.status.idle": "2022-03-04T14:27:54.280729Z",
     "shell.execute_reply": "2022-03-04T14:27:54.281582Z"
    },
    "executionInfo": {
     "elapsed": 378,
     "status": "ok",
     "timestamp": 1639925182436,
     "user": {
      "displayName": "lisa richter",
      "photoUrl": "https://lh3.googleusercontent.com/a/default-user=s64",
      "userId": "08999729000846221512"
     },
     "user_tz": -60
    },
    "id": "M5m549A4XkCq",
    "papermill": {
     "duration": 0.06081,
     "end_time": "2022-03-04T14:27:54.281722",
     "exception": false,
     "start_time": "2022-03-04T14:27:54.220912",
     "status": "completed"
    },
    "tags": []
   },
   "outputs": [],
   "source": [
    "model = model.to(device)"
   ]
  },
  {
   "cell_type": "code",
   "execution_count": 33,
   "id": "ca104bfc",
   "metadata": {
    "execution": {
     "iopub.execute_input": "2022-03-04T14:27:54.379800Z",
     "iopub.status.busy": "2022-03-04T14:27:54.379145Z",
     "iopub.status.idle": "2022-03-04T14:31:04.986757Z",
     "shell.execute_reply": "2022-03-04T14:31:04.987609Z"
    },
    "executionInfo": {
     "elapsed": 881556,
     "status": "ok",
     "timestamp": 1639926065613,
     "user": {
      "displayName": "lisa richter",
      "photoUrl": "https://lh3.googleusercontent.com/a/default-user=s64",
      "userId": "08999729000846221512"
     },
     "user_tz": -60
    },
    "id": "k2LEhO6BXk9O",
    "outputId": "1340c18c-4fb1-45d4-bc06-384ecc7df73b",
    "papermill": {
     "duration": 190.660677,
     "end_time": "2022-03-04T14:31:04.987777",
     "exception": false,
     "start_time": "2022-03-04T14:27:54.327100",
     "status": "completed"
    },
    "tags": []
   },
   "outputs": [
    {
     "name": "stdout",
     "output_type": "stream",
     "text": [
      "Test Accuracy : 0.8168333333333333\n",
      "Test Loss : 0.5929788946062327\n"
     ]
    }
   ],
   "source": [
    "# call evaluation function and apply to test set\n",
    "test_acc, test_loss = eval_model(model,\n",
    "                                 test_data_loader,\n",
    "                                 device,\n",
    "                                 len(df_test))\n",
    "\n",
    "print('Test Accuracy :', test_acc)\n",
    "print('Test Loss :', test_loss)"
   ]
  },
  {
   "cell_type": "code",
   "execution_count": 34,
   "id": "2e037c73",
   "metadata": {
    "execution": {
     "iopub.execute_input": "2022-03-04T14:31:05.080148Z",
     "iopub.status.busy": "2022-03-04T14:31:05.079433Z",
     "iopub.status.idle": "2022-03-04T14:31:05.081674Z",
     "shell.execute_reply": "2022-03-04T14:31:05.082079Z"
    },
    "executionInfo": {
     "elapsed": 385,
     "status": "ok",
     "timestamp": 1639926099892,
     "user": {
      "displayName": "lisa richter",
      "photoUrl": "https://lh3.googleusercontent.com/a/default-user=s64",
      "userId": "08999729000846221512"
     },
     "user_tz": -60
    },
    "id": "gfagcMqXXySQ",
    "papermill": {
     "duration": 0.052574,
     "end_time": "2022-03-04T14:31:05.082241",
     "exception": false,
     "start_time": "2022-03-04T14:31:05.029667",
     "status": "completed"
    },
    "tags": []
   },
   "outputs": [],
   "source": [
    "# define function to get prediction of data\n",
    "def get_predictions(model, data_loader):\n",
    "    model = model.eval()\n",
    "    \n",
    "    review_texts = []\n",
    "    predictions = []\n",
    "    prediction_probs = []\n",
    "    real_values = []\n",
    "    \n",
    "    with torch.no_grad():\n",
    "        for d in data_loader:\n",
    "            texts = d[\"review_text\"]\n",
    "            input_ids = d[\"input_ids\"].reshape(8,400).to(device)\n",
    "            attention_mask = d[\"attention_mask\"].to(device)\n",
    "            targets = d[\"targets\"].to(device)\n",
    "            \n",
    "            outputs = model(input_ids=input_ids,\n",
    "                      token_type_ids=None,\n",
    "                      attention_mask=attention_mask,#\n",
    "                      labels=targets)\n",
    "            \n",
    "            loss = outputs[0]\n",
    "            logits = outputs[1]\n",
    "            \n",
    "            _, preds = torch.max(outputs[1], dim=1)\n",
    "            probs = F.softmax(outputs[1], dim=1)\n",
    "            \n",
    "            review_texts.extend(texts)\n",
    "            predictions.extend(preds)\n",
    "            prediction_probs.extend(probs)\n",
    "            real_values.extend(targets)\n",
    "            \n",
    "    predictions = torch.stack(predictions).cpu()\n",
    "    prediction_probs = torch.stack(prediction_probs).cpu()\n",
    "    real_values = torch.stack(real_values).cpu()\n",
    "    \n",
    "    return review_texts, predictions, prediction_probs, real_values"
   ]
  },
  {
   "cell_type": "code",
   "execution_count": 35,
   "id": "1bd6b292",
   "metadata": {
    "execution": {
     "iopub.execute_input": "2022-03-04T14:31:05.168608Z",
     "iopub.status.busy": "2022-03-04T14:31:05.166231Z",
     "iopub.status.idle": "2022-03-04T14:34:12.350752Z",
     "shell.execute_reply": "2022-03-04T14:34:12.351528Z"
    },
    "executionInfo": {
     "elapsed": 869133,
     "status": "ok",
     "timestamp": 1639926971118,
     "user": {
      "displayName": "lisa richter",
      "photoUrl": "https://lh3.googleusercontent.com/a/default-user=s64",
      "userId": "08999729000846221512"
     },
     "user_tz": -60
    },
    "id": "QF0BEx6wYd9B",
    "papermill": {
     "duration": 187.228538,
     "end_time": "2022-03-04T14:34:12.351747",
     "exception": false,
     "start_time": "2022-03-04T14:31:05.123209",
     "status": "completed"
    },
    "tags": []
   },
   "outputs": [],
   "source": [
    "# call prediction function to get actual predictions of test set \n",
    "y_review_texts, y_pred, y_pred_probs, y_test = get_predictions(model, test_data_loader)"
   ]
  },
  {
   "cell_type": "code",
   "execution_count": 36,
   "id": "14fb1d1d",
   "metadata": {
    "execution": {
     "iopub.execute_input": "2022-03-04T14:34:12.466742Z",
     "iopub.status.busy": "2022-03-04T14:34:12.466125Z",
     "iopub.status.idle": "2022-03-04T14:34:12.495388Z",
     "shell.execute_reply": "2022-03-04T14:34:12.494964Z"
    },
    "executionInfo": {
     "elapsed": 404,
     "status": "ok",
     "timestamp": 1639926990158,
     "user": {
      "displayName": "lisa richter",
      "photoUrl": "https://lh3.googleusercontent.com/a/default-user=s64",
      "userId": "08999729000846221512"
     },
     "user_tz": -60
    },
    "id": "bvVa7l2DYm3L",
    "outputId": "7c51f646-902d-4e1b-c267-ec8fc48c8d59",
    "papermill": {
     "duration": 0.077932,
     "end_time": "2022-03-04T14:34:12.495516",
     "exception": false,
     "start_time": "2022-03-04T14:34:12.417584",
     "status": "completed"
    },
    "tags": []
   },
   "outputs": [
    {
     "name": "stdout",
     "output_type": "stream",
     "text": [
      "              precision    recall  f1-score   support\n",
      "\n",
      "    negative       0.82      0.82      0.82      3023\n",
      "    positive       0.81      0.82      0.82      2977\n",
      "\n",
      "    accuracy                           0.82      6000\n",
      "   macro avg       0.82      0.82      0.82      6000\n",
      "weighted avg       0.82      0.82      0.82      6000\n",
      "\n"
     ]
    }
   ],
   "source": [
    "print(classification_report(y_test, y_pred, target_names=class_names))\n",
    "report = classification_report(y_test, y_pred, target_names=class_names,output_dict=True)\n",
    "report = pd.DataFrame(report).transpose()\n",
    "report.to_csv('report_sentiment.csv')"
   ]
  },
  {
   "cell_type": "code",
   "execution_count": 37,
   "id": "371174fe",
   "metadata": {
    "execution": {
     "iopub.execute_input": "2022-03-04T14:34:12.587479Z",
     "iopub.status.busy": "2022-03-04T14:34:12.586727Z",
     "iopub.status.idle": "2022-03-04T14:34:12.871427Z",
     "shell.execute_reply": "2022-03-04T14:34:12.871848Z"
    },
    "id": "FfAmrMsgRABT",
    "papermill": {
     "duration": 0.33315,
     "end_time": "2022-03-04T14:34:12.871996",
     "exception": false,
     "start_time": "2022-03-04T14:34:12.538846",
     "status": "completed"
    },
    "tags": []
   },
   "outputs": [
    {
     "name": "stderr",
     "output_type": "stream",
     "text": [
      "/opt/conda/lib/python3.7/site-packages/ipykernel_launcher.py:2: FutureWarning: Support for multi-dimensional indexing (e.g. `obj[:, None]`) is deprecated and will be removed in a future version.  Convert to a numpy array before indexing instead.\n",
      "  \n"
     ]
    },
    {
     "data": {
      "image/png": "[encoded data removed]",
      "text/plain": [
       "<Figure size 432x288 with 2 Axes>"
      ]
     },
     "metadata": {
      "needs_background": "light"
     },
     "output_type": "display_data"
    }
   ],
   "source": [
    "def show_confusion_matrix(confusion_matrix):\n",
    "    hmap = sns.heatmap(confusion_matrix/ confusion_matrix.sum(axis=1)[:, np.newaxis], annot=True, fmt='.2%', cmap=\"Blues\")\n",
    "    hmap.yaxis.set_ticklabels(hmap.yaxis.get_ticklabels(), rotation=0, ha='right')\n",
    "    hmap.xaxis.set_ticklabels(hmap.xaxis.get_ticklabels(), rotation=30, ha='right')\n",
    "\n",
    "    plt.ylabel('True Sentiment')\n",
    "    plt.xlabel('Predicted Sentiment')\n",
    "    plt.savefig('confusion_sentiment');\n",
    "    \n",
    "\n",
    "cm = confusion_matrix(y_test, y_pred)\n",
    "df_cm = pd.DataFrame(cm, index=class_names, columns=class_names)\n",
    "df_cm.to_csv('cm_sentiment.csv')\n",
    "\n",
    "show_confusion_matrix(df_cm)"
   ]
  }
 ],
 "metadata": {
  "kernelspec": {
   "display_name": "Python 3 (ipykernel)",
   "language": "python",
   "name": "python3"
  },
  "language_info": {
   "codemirror_mode": {
    "name": "ipython",
    "version": 3
   },
   "file_extension": ".py",
   "mimetype": "text/x-python",
   "name": "python",
   "nbconvert_exporter": "python",
   "pygments_lexer": "ipython3",
   "version": "3.9.6"
  },
  "papermill": {
   "default_parameters": {},
   "duration": 3001.502895,
   "end_time": "2022-03-04T14:34:16.054307",
   "environment_variables": {},
   "exception": null,
   "input_path": "__notebook__.ipynb",
   "output_path": "__notebook__.ipynb",
   "parameters": {},
   "start_time": "2022-03-04T13:44:14.551412",
   "version": "2.3.3"
  },
  "widgets": {
   "application/vnd.jupyter.widget-state+json": {
    "state": {
     "04d92fa9c06e470ba85a13502c7c148a": {
      "model_module": "@jupyter-widgets/base",
      "model_module_version": "1.2.0",
      "model_name": "LayoutModel",
      "state": {
       "_model_module": "@jupyter-widgets/base",
       "_model_module_version": "1.2.0",
       "_model_name": "LayoutModel",
       "_view_count": null,
       "_view_module": "@jupyter-widgets/base",
       "_view_module_version": "1.2.0",
       "_view_name": "LayoutView",
       "align_content": null,
       "align_items": null,
       "align_self": null,
       "border": null,
       "bottom": null,
       "display": null,
       "flex": null,
       "flex_flow": null,
       "grid_area": null,
       "grid_auto_columns": null,
       "grid_auto_flow": null,
       "grid_auto_rows": null,
       "grid_column": null,
       "grid_gap": null,
       "grid_row": null,
       "grid_template_areas": null,
       "grid_template_columns": null,
       "grid_template_rows": null,
       "height": null,
       "justify_content": null,
       "justify_items": null,
       "left": null,
       "margin": null,
       "max_height": null,
       "max_width": null,
       "min_height": null,
       "min_width": null,
       "object_fit": null,
       "object_position": null,
       "order": null,
       "overflow": null,
       "overflow_x": null,
       "overflow_y": null,
       "padding": null,
       "right": null,
       "top": null,
       "visibility": null,
       "width": null
      }
     },
     "05434ee0393e40a7a7fe1dec6101fa25": {
      "model_module": "@jupyter-widgets/controls",
      "model_module_version": "1.5.0",
      "model_name": "ProgressStyleModel",
      "state": {
       "_model_module": "@jupyter-widgets/controls",
       "_model_module_version": "1.5.0",
       "_model_name": "ProgressStyleModel",
       "_view_count": null,
       "_view_module": "@jupyter-widgets/base",
       "_view_module_version": "1.2.0",
       "_view_name": "StyleView",
       "bar_color": null,
       "description_width": ""
      }
     },
     "06257f4f0d5a42ae915bb4fa7ff4cb58": {
      "model_module": "@jupyter-widgets/controls",
      "model_module_version": "1.5.0",
      "model_name": "ProgressStyleModel",
      "state": {
       "_model_module": "@jupyter-widgets/controls",
       "_model_module_version": "1.5.0",
       "_model_name": "ProgressStyleModel",
       "_view_count": null,
       "_view_module": "@jupyter-widgets/base",
       "_view_module_version": "1.2.0",
       "_view_name": "StyleView",
       "bar_color": null,
       "description_width": ""
      }
     },
     "0882df880e8b4f2e977f672833b5b594": {
      "model_module": "@jupyter-widgets/controls",
      "model_module_version": "1.5.0",
      "model_name": "FloatProgressModel",
      "state": {
       "_dom_classes": [],
       "_model_module": "@jupyter-widgets/controls",
       "_model_module_version": "1.5.0",
       "_model_name": "FloatProgressModel",
       "_view_count": null,
       "_view_module": "@jupyter-widgets/controls",
       "_view_module_version": "1.5.0",
       "_view_name": "ProgressView",
       "bar_style": "success",
       "description": "",
       "description_tooltip": null,
       "layout": "IPY_MODEL_10187f4bb2a64671aed284ed1e7a9c0f",
       "max": 1382015,
       "min": 0,
       "orientation": "horizontal",
       "style": "IPY_MODEL_5b18e48bee974ce29e83ff84330d56ff",
       "value": 1382015
      }
     },
     "0a214096f9c24217be09dfff318377a0": {
      "model_module": "@jupyter-widgets/base",
      "model_module_version": "1.2.0",
      "model_name": "LayoutModel",
      "state": {
       "_model_module": "@jupyter-widgets/base",
       "_model_module_version": "1.2.0",
       "_model_name": "LayoutModel",
       "_view_count": null,
       "_view_module": "@jupyter-widgets/base",
       "_view_module_version": "1.2.0",
       "_view_name": "LayoutView",
       "align_content": null,
       "align_items": null,
       "align_self": null,
       "border": null,
       "bottom": null,
       "display": null,
       "flex": null,
       "flex_flow": null,
       "grid_area": null,
       "grid_auto_columns": null,
       "grid_auto_flow": null,
       "grid_auto_rows": null,
       "grid_column": null,
       "grid_gap": null,
       "grid_row": null,
       "grid_template_areas": null,
       "grid_template_columns": null,
       "grid_template_rows": null,
       "height": null,
       "justify_content": null,
       "justify_items": null,
       "left": null,
       "margin": null,
       "max_height": null,
       "max_width": null,
       "min_height": null,
       "min_width": null,
       "object_fit": null,
       "object_position": null,
       "order": null,
       "overflow": null,
       "overflow_x": null,
       "overflow_y": null,
       "padding": null,
       "right": null,
       "top": null,
       "visibility": null,
       "width": null
      }
     },
     "0a5fde3575c74ae6bd8ccdc9c44f5db5": {
      "model_module": "@jupyter-widgets/controls",
      "model_module_version": "1.5.0",
      "model_name": "DescriptionStyleModel",
      "state": {
       "_model_module": "@jupyter-widgets/controls",
       "_model_module_version": "1.5.0",
       "_model_name": "DescriptionStyleModel",
       "_view_count": null,
       "_view_module": "@jupyter-widgets/base",
       "_view_module_version": "1.2.0",
       "_view_name": "StyleView",
       "description_width": ""
      }
     },
     "0c622990d39d473397500f0654296d6d": {
      "model_module": "@jupyter-widgets/base",
      "model_module_version": "1.2.0",
      "model_name": "LayoutModel",
      "state": {
       "_model_module": "@jupyter-widgets/base",
       "_model_module_version": "1.2.0",
       "_model_name": "LayoutModel",
       "_view_count": null,
       "_view_module": "@jupyter-widgets/base",
       "_view_module_version": "1.2.0",
       "_view_name": "LayoutView",
       "align_content": null,
       "align_items": null,
       "align_self": null,
       "border": null,
       "bottom": null,
       "display": null,
       "flex": null,
       "flex_flow": null,
       "grid_area": null,
       "grid_auto_columns": null,
       "grid_auto_flow": null,
       "grid_auto_rows": null,
       "grid_column": null,
       "grid_gap": null,
       "grid_row": null,
       "grid_template_areas": null,
       "grid_template_columns": null,
       "grid_template_rows": null,
       "height": null,
       "justify_content": null,
       "justify_items": null,
       "left": null,
       "margin": null,
       "max_height": null,
       "max_width": null,
       "min_height": null,
       "min_width": null,
       "object_fit": null,
       "object_position": null,
       "order": null,
       "overflow": null,
       "overflow_x": null,
       "overflow_y": null,
       "padding": null,
       "right": null,
       "top": null,
       "visibility": null,
       "width": null
      }
     },
     "0f5ceda1496f4befa102846bbafdad07": {
      "model_module": "@jupyter-widgets/controls",
      "model_module_version": "1.5.0",
      "model_name": "DescriptionStyleModel",
      "state": {
       "_model_module": "@jupyter-widgets/controls",
       "_model_module_version": "1.5.0",
       "_model_name": "DescriptionStyleModel",
       "_view_count": null,
       "_view_module": "@jupyter-widgets/base",
       "_view_module_version": "1.2.0",
       "_view_name": "StyleView",
       "description_width": ""
      }
     },
     "10187f4bb2a64671aed284ed1e7a9c0f": {
      "model_module": "@jupyter-widgets/base",
      "model_module_version": "1.2.0",
      "model_name": "LayoutModel",
      "state": {
       "_model_module": "@jupyter-widgets/base",
       "_model_module_version": "1.2.0",
       "_model_name": "LayoutModel",
       "_view_count": null,
       "_view_module": "@jupyter-widgets/base",
       "_view_module_version": "1.2.0",
       "_view_name": "LayoutView",
       "align_content": null,
       "align_items": null,
       "align_self": null,
       "border": null,
       "bottom": null,
       "display": null,
       "flex": null,
       "flex_flow": null,
       "grid_area": null,
       "grid_auto_columns": null,
       "grid_auto_flow": null,
       "grid_auto_rows": null,
       "grid_column": null,
       "grid_gap": null,
       "grid_row": null,
       "grid_template_areas": null,
       "grid_template_columns": null,
       "grid_template_rows": null,
       "height": null,
       "justify_content": null,
       "justify_items": null,
       "left": null,
       "margin": null,
       "max_height": null,
       "max_width": null,
       "min_height": null,
       "min_width": null,
       "object_fit": null,
       "object_position": null,
       "order": null,
       "overflow": null,
       "overflow_x": null,
       "overflow_y": null,
       "padding": null,
       "right": null,
       "top": null,
       "visibility": null,
       "width": null
      }
     },
     "158cd7b89cda4b97aa7b208ea4cafffc": {
      "model_module": "@jupyter-widgets/controls",
      "model_module_version": "1.5.0",
      "model_name": "HTMLModel",
      "state": {
       "_dom_classes": [],
       "_model_module": "@jupyter-widgets/controls",
       "_model_module_version": "1.5.0",
       "_model_name": "HTMLModel",
       "_view_count": null,
       "_view_module": "@jupyter-widgets/controls",
       "_view_module_version": "1.5.0",
       "_view_name": "HTMLView",
       "description": "",
       "description_tooltip": null,
       "layout": "IPY_MODEL_597a1038613645ebb5af3eaa21789e29",
       "placeholder": "​",
       "style": "IPY_MODEL_0a5fde3575c74ae6bd8ccdc9c44f5db5",
       "value": "Downloading: "
      }
     },
     "15cd21472e7647ac886e11d5ff6038d4": {
      "model_module": "@jupyter-widgets/controls",
      "model_module_version": "1.5.0",
      "model_name": "ProgressStyleModel",
      "state": {
       "_model_module": "@jupyter-widgets/controls",
       "_model_module_version": "1.5.0",
       "_model_name": "ProgressStyleModel",
       "_view_count": null,
       "_view_module": "@jupyter-widgets/base",
       "_view_module_version": "1.2.0",
       "_view_name": "StyleView",
       "bar_color": null,
       "description_width": ""
      }
     },
     "16158c789c734b60bda0522135935696": {
      "model_module": "@jupyter-widgets/controls",
      "model_module_version": "1.5.0",
      "model_name": "HBoxModel",
      "state": {
       "_dom_classes": [],
       "_model_module": "@jupyter-widgets/controls",
       "_model_module_version": "1.5.0",
       "_model_name": "HBoxModel",
       "_view_count": null,
       "_view_module": "@jupyter-widgets/controls",
       "_view_module_version": "1.5.0",
       "_view_name": "HBoxView",
       "box_style": "",
       "children": [
        "IPY_MODEL_5f3e3439d775436a88f149ed1e964662",
        "IPY_MODEL_7e2858bcfab440b5a0bcb25dd1dc9b90",
        "IPY_MODEL_8ec2303d8d06438fae010efe98af7d06"
       ],
       "layout": "IPY_MODEL_1abb0c057fbe49649da8b8780fdfebfe"
      }
     },
     "16ce484cf82b4facada26e46d930ca70": {
      "model_module": "@jupyter-widgets/base",
      "model_module_version": "1.2.0",
      "model_name": "LayoutModel",
      "state": {
       "_model_module": "@jupyter-widgets/base",
       "_model_module_version": "1.2.0",
       "_model_name": "LayoutModel",
       "_view_count": null,
       "_view_module": "@jupyter-widgets/base",
       "_view_module_version": "1.2.0",
       "_view_name": "LayoutView",
       "align_content": null,
       "align_items": null,
       "align_self": null,
       "border": null,
       "bottom": null,
       "display": null,
       "flex": null,
       "flex_flow": null,
       "grid_area": null,
       "grid_auto_columns": null,
       "grid_auto_flow": null,
       "grid_auto_rows": null,
       "grid_column": null,
       "grid_gap": null,
       "grid_row": null,
       "grid_template_areas": null,
       "grid_template_columns": null,
       "grid_template_rows": null,
       "height": null,
       "justify_content": null,
       "justify_items": null,
       "left": null,
       "margin": null,
       "max_height": null,
       "max_width": null,
       "min_height": null,
       "min_width": null,
       "object_fit": null,
       "object_position": null,
       "order": null,
       "overflow": null,
       "overflow_x": null,
       "overflow_y": null,
       "padding": null,
       "right": null,
       "top": null,
       "visibility": null,
       "width": null
      }
     },
     "1abb0c057fbe49649da8b8780fdfebfe": {
      "model_module": "@jupyter-widgets/base",
      "model_module_version": "1.2.0",
      "model_name": "LayoutModel",
      "state": {
       "_model_module": "@jupyter-widgets/base",
       "_model_module_version": "1.2.0",
       "_model_name": "LayoutModel",
       "_view_count": null,
       "_view_module": "@jupyter-widgets/base",
       "_view_module_version": "1.2.0",
       "_view_name": "LayoutView",
       "align_content": null,
       "align_items": null,
       "align_self": null,
       "border": null,
       "bottom": null,
       "display": null,
       "flex": null,
       "flex_flow": null,
       "grid_area": null,
       "grid_auto_columns": null,
       "grid_auto_flow": null,
       "grid_auto_rows": null,
       "grid_column": null,
       "grid_gap": null,
       "grid_row": null,
       "grid_template_areas": null,
       "grid_template_columns": null,
       "grid_template_rows": null,
       "height": null,
       "justify_content": null,
       "justify_items": null,
       "left": null,
       "margin": null,
       "max_height": null,
       "max_width": null,
       "min_height": null,
       "min_width": null,
       "object_fit": null,
       "object_position": null,
       "order": null,
       "overflow": null,
       "overflow_x": null,
       "overflow_y": null,
       "padding": null,
       "right": null,
       "top": null,
       "visibility": null,
       "width": null
      }
     },
     "1d9ec722bc284ee193169819274da3f9": {
      "model_module": "@jupyter-widgets/controls",
      "model_module_version": "1.5.0",
      "model_name": "DescriptionStyleModel",
      "state": {
       "_model_module": "@jupyter-widgets/controls",
       "_model_module_version": "1.5.0",
       "_model_name": "DescriptionStyleModel",
       "_view_count": null,
       "_view_module": "@jupyter-widgets/base",
       "_view_module_version": "1.2.0",
       "_view_name": "StyleView",
       "description_width": ""
      }
     },
     "204c8c54c082430983ab5d06bff86c1a": {
      "model_module": "@jupyter-widgets/controls",
      "model_module_version": "1.5.0",
      "model_name": "FloatProgressModel",
      "state": {
       "_dom_classes": [],
       "_model_module": "@jupyter-widgets/controls",
       "_model_module_version": "1.5.0",
       "_model_name": "FloatProgressModel",
       "_view_count": null,
       "_view_module": "@jupyter-widgets/controls",
       "_view_module_version": "1.5.0",
       "_view_name": "ProgressView",
       "bar_style": "success",
       "description": "",
       "description_tooltip": null,
       "layout": "IPY_MODEL_f7cb86c7ea394213a88fc80b17ac1fa4",
       "max": 1543,
       "min": 0,
       "orientation": "horizontal",
       "style": "IPY_MODEL_15cd21472e7647ac886e11d5ff6038d4",
       "value": 1543
      }
     },
     "2269b0be391b41f7b91382d18bc12040": {
      "model_module": "@jupyter-widgets/controls",
      "model_module_version": "1.5.0",
      "model_name": "DescriptionStyleModel",
      "state": {
       "_model_module": "@jupyter-widgets/controls",
       "_model_module_version": "1.5.0",
       "_model_name": "DescriptionStyleModel",
       "_view_count": null,
       "_view_module": "@jupyter-widgets/base",
       "_view_module_version": "1.2.0",
       "_view_name": "StyleView",
       "description_width": ""
      }
     },
     "2305d94ffae846f6beb9ec1a92a2d389": {
      "model_module": "@jupyter-widgets/base",
      "model_module_version": "1.2.0",
      "model_name": "LayoutModel",
      "state": {
       "_model_module": "@jupyter-widgets/base",
       "_model_module_version": "1.2.0",
       "_model_name": "LayoutModel",
       "_view_count": null,
       "_view_module": "@jupyter-widgets/base",
       "_view_module_version": "1.2.0",
       "_view_name": "LayoutView",
       "align_content": null,
       "align_items": null,
       "align_self": null,
       "border": null,
       "bottom": null,
       "display": null,
       "flex": null,
       "flex_flow": null,
       "grid_area": null,
       "grid_auto_columns": null,
       "grid_auto_flow": null,
       "grid_auto_rows": null,
       "grid_column": null,
       "grid_gap": null,
       "grid_row": null,
       "grid_template_areas": null,
       "grid_template_columns": null,
       "grid_template_rows": null,
       "height": null,
       "justify_content": null,
       "justify_items": null,
       "left": null,
       "margin": null,
       "max_height": null,
       "max_width": null,
       "min_height": null,
       "min_width": null,
       "object_fit": null,
       "object_position": null,
       "order": null,
       "overflow": null,
       "overflow_x": null,
       "overflow_y": null,
       "padding": null,
       "right": null,
       "top": null,
       "visibility": null,
       "width": null
      }
     },
     "236c77c9541c4b36b42b177f3332c2a7": {
      "model_module": "@jupyter-widgets/controls",
      "model_module_version": "1.5.0",
      "model_name": "DescriptionStyleModel",
      "state": {
       "_model_module": "@jupyter-widgets/controls",
       "_model_module_version": "1.5.0",
       "_model_name": "DescriptionStyleModel",
       "_view_count": null,
       "_view_module": "@jupyter-widgets/base",
       "_view_module_version": "1.2.0",
       "_view_name": "StyleView",
       "description_width": ""
      }
     },
     "255fcd6f04ec4015904b33e8001d5f9e": {
      "model_module": "@jupyter-widgets/controls",
      "model_module_version": "1.5.0",
      "model_name": "HBoxModel",
      "state": {
       "_dom_classes": [],
       "_model_module": "@jupyter-widgets/controls",
       "_model_module_version": "1.5.0",
       "_model_name": "HBoxModel",
       "_view_count": null,
       "_view_module": "@jupyter-widgets/controls",
       "_view_module_version": "1.5.0",
       "_view_name": "HBoxView",
       "box_style": "",
       "children": [
        "IPY_MODEL_f8ae3f81e89241a787f7949cad0f878c",
        "IPY_MODEL_55e86efb6ce14d6ba8ed13329ac8fbb4",
        "IPY_MODEL_e3aa14ecd3f14a56a1eadb09092af4dd"
       ],
       "layout": "IPY_MODEL_e630a337f74a4254a01c21a1ae023149"
      }
     },
     "256b10cde106463abdfd0e1c5d7204b3": {
      "model_module": "@jupyter-widgets/controls",
      "model_module_version": "1.5.0",
      "model_name": "ProgressStyleModel",
      "state": {
       "_model_module": "@jupyter-widgets/controls",
       "_model_module_version": "1.5.0",
       "_model_name": "ProgressStyleModel",
       "_view_count": null,
       "_view_module": "@jupyter-widgets/base",
       "_view_module_version": "1.2.0",
       "_view_name": "StyleView",
       "bar_color": null,
       "description_width": ""
      }
     },
     "26a82b6be2ba43bbafdbc889754f029d": {
      "model_module": "@jupyter-widgets/base",
      "model_module_version": "1.2.0",
      "model_name": "LayoutModel",
      "state": {
       "_model_module": "@jupyter-widgets/base",
       "_model_module_version": "1.2.0",
       "_model_name": "LayoutModel",
       "_view_count": null,
       "_view_module": "@jupyter-widgets/base",
       "_view_module_version": "1.2.0",
       "_view_name": "LayoutView",
       "align_content": null,
       "align_items": null,
       "align_self": null,
       "border": null,
       "bottom": null,
       "display": null,
       "flex": null,
       "flex_flow": null,
       "grid_area": null,
       "grid_auto_columns": null,
       "grid_auto_flow": null,
       "grid_auto_rows": null,
       "grid_column": null,
       "grid_gap": null,
       "grid_row": null,
       "grid_template_areas": null,
       "grid_template_columns": null,
       "grid_template_rows": null,
       "height": null,
       "justify_content": null,
       "justify_items": null,
       "left": null,
       "margin": null,
       "max_height": null,
       "max_width": null,
       "min_height": null,
       "min_width": null,
       "object_fit": null,
       "object_position": null,
       "order": null,
       "overflow": null,
       "overflow_x": null,
       "overflow_y": null,
       "padding": null,
       "right": null,
       "top": null,
       "visibility": null,
       "width": null
      }
     },
     "2709aedcd806465eb0fe142f21bf22c8": {
      "model_module": "@jupyter-widgets/controls",
      "model_module_version": "1.5.0",
      "model_name": "HTMLModel",
      "state": {
       "_dom_classes": [],
       "_model_module": "@jupyter-widgets/controls",
       "_model_module_version": "1.5.0",
       "_model_name": "HTMLModel",
       "_view_count": null,
       "_view_module": "@jupyter-widgets/controls",
       "_view_module_version": "1.5.0",
       "_view_name": "HTMLView",
       "description": "",
       "description_tooltip": null,
       "layout": "IPY_MODEL_0a214096f9c24217be09dfff318377a0",
       "placeholder": "​",
       "style": "IPY_MODEL_cd14907724084a70b2e7f752234da9ed",
       "value": ""
      }
     },
     "272b182cd47f4bf0a89056624b9f4133": {
      "model_module": "@jupyter-widgets/base",
      "model_module_version": "1.2.0",
      "model_name": "LayoutModel",
      "state": {
       "_model_module": "@jupyter-widgets/base",
       "_model_module_version": "1.2.0",
       "_model_name": "LayoutModel",
       "_view_count": null,
       "_view_module": "@jupyter-widgets/base",
       "_view_module_version": "1.2.0",
       "_view_name": "LayoutView",
       "align_content": null,
       "align_items": null,
       "align_self": null,
       "border": null,
       "bottom": null,
       "display": null,
       "flex": null,
       "flex_flow": null,
       "grid_area": null,
       "grid_auto_columns": null,
       "grid_auto_flow": null,
       "grid_auto_rows": null,
       "grid_column": null,
       "grid_gap": null,
       "grid_row": null,
       "grid_template_areas": null,
       "grid_template_columns": null,
       "grid_template_rows": null,
       "height": null,
       "justify_content": null,
       "justify_items": null,
       "left": null,
       "margin": null,
       "max_height": null,
       "max_width": null,
       "min_height": null,
       "min_width": null,
       "object_fit": null,
       "object_position": null,
       "order": null,
       "overflow": null,
       "overflow_x": null,
       "overflow_y": null,
       "padding": null,
       "right": null,
       "top": null,
       "visibility": null,
       "width": null
      }
     },
     "2c653e340bd54600a6693146a4f4564f": {
      "model_module": "@jupyter-widgets/base",
      "model_module_version": "1.2.0",
      "model_name": "LayoutModel",
      "state": {
       "_model_module": "@jupyter-widgets/base",
       "_model_module_version": "1.2.0",
       "_model_name": "LayoutModel",
       "_view_count": null,
       "_view_module": "@jupyter-widgets/base",
       "_view_module_version": "1.2.0",
       "_view_name": "LayoutView",
       "align_content": null,
       "align_items": null,
       "align_self": null,
       "border": null,
       "bottom": null,
       "display": null,
       "flex": null,
       "flex_flow": null,
       "grid_area": null,
       "grid_auto_columns": null,
       "grid_auto_flow": null,
       "grid_auto_rows": null,
       "grid_column": null,
       "grid_gap": null,
       "grid_row": null,
       "grid_template_areas": null,
       "grid_template_columns": null,
       "grid_template_rows": null,
       "height": null,
       "justify_content": null,
       "justify_items": null,
       "left": null,
       "margin": null,
       "max_height": null,
       "max_width": null,
       "min_height": null,
       "min_width": null,
       "object_fit": null,
       "object_position": null,
       "order": null,
       "overflow": null,
       "overflow_x": null,
       "overflow_y": null,
       "padding": null,
       "right": null,
       "top": null,
       "visibility": null,
       "width": null
      }
     },
     "2c74e09fa0844732b7428365785064fd": {
      "model_module": "@jupyter-widgets/controls",
      "model_module_version": "1.5.0",
      "model_name": "HBoxModel",
      "state": {
       "_dom_classes": [],
       "_model_module": "@jupyter-widgets/controls",
       "_model_module_version": "1.5.0",
       "_model_name": "HBoxModel",
       "_view_count": null,
       "_view_module": "@jupyter-widgets/controls",
       "_view_module_version": "1.5.0",
       "_view_name": "HBoxView",
       "box_style": "",
       "children": [
        "IPY_MODEL_c17c228383e54276914bde32961d27f2",
        "IPY_MODEL_728ef53563ed47bba52e37e4dc76e244",
        "IPY_MODEL_d36be0ceab434ccb99920b80ad9a6755"
       ],
       "layout": "IPY_MODEL_fd0a6bf3520040dcb818ead5c8c242e7"
      }
     },
     "2ceac9416d464cf5a41880b49329e131": {
      "model_module": "@jupyter-widgets/controls",
      "model_module_version": "1.5.0",
      "model_name": "HBoxModel",
      "state": {
       "_dom_classes": [],
       "_model_module": "@jupyter-widgets/controls",
       "_model_module_version": "1.5.0",
       "_model_name": "HBoxModel",
       "_view_count": null,
       "_view_module": "@jupyter-widgets/controls",
       "_view_module_version": "1.5.0",
       "_view_name": "HBoxView",
       "box_style": "",
       "children": [
        "IPY_MODEL_d8ba9ada282a42089633bdf3bb72fd10",
        "IPY_MODEL_d1a02db4dd3d4f61b08ff9ec1f1b1d4b",
        "IPY_MODEL_4958985757064355ab520045e14e8d30"
       ],
       "layout": "IPY_MODEL_4d0bab3b8f2f4bef981577ba90e0507e"
      }
     },
     "2ea02b6ea29647fdb0a92ce58676bc77": {
      "model_module": "@jupyter-widgets/controls",
      "model_module_version": "1.5.0",
      "model_name": "DescriptionStyleModel",
      "state": {
       "_model_module": "@jupyter-widgets/controls",
       "_model_module_version": "1.5.0",
       "_model_name": "DescriptionStyleModel",
       "_view_count": null,
       "_view_module": "@jupyter-widgets/base",
       "_view_module_version": "1.2.0",
       "_view_name": "StyleView",
       "description_width": ""
      }
     },
     "312eddd17fce41cb963cd9eb1a92d473": {
      "model_module": "@jupyter-widgets/controls",
      "model_module_version": "1.5.0",
      "model_name": "DescriptionStyleModel",
      "state": {
       "_model_module": "@jupyter-widgets/controls",
       "_model_module_version": "1.5.0",
       "_model_name": "DescriptionStyleModel",
       "_view_count": null,
       "_view_module": "@jupyter-widgets/base",
       "_view_module_version": "1.2.0",
       "_view_name": "StyleView",
       "description_width": ""
      }
     },
     "39985a53b5dd4347b530e8799b5b41b5": {
      "model_module": "@jupyter-widgets/controls",
      "model_module_version": "1.5.0",
      "model_name": "HTMLModel",
      "state": {
       "_dom_classes": [],
       "_model_module": "@jupyter-widgets/controls",
       "_model_module_version": "1.5.0",
       "_model_name": "HTMLModel",
       "_view_count": null,
       "_view_module": "@jupyter-widgets/controls",
       "_view_module_version": "1.5.0",
       "_view_name": "HTMLView",
       "description": "",
       "description_tooltip": null,
       "layout": "IPY_MODEL_43f83a6c4644416c9a3a61cf7231a735",
       "placeholder": "​",
       "style": "IPY_MODEL_2269b0be391b41f7b91382d18bc12040",
       "value": " 1598393/0 [01:25&lt;00:00, 17210.76 examples/s]"
      }
     },
     "3a09687e0c8e414db220fa4ef02f5aa3": {
      "model_module": "@jupyter-widgets/base",
      "model_module_version": "1.2.0",
      "model_name": "LayoutModel",
      "state": {
       "_model_module": "@jupyter-widgets/base",
       "_model_module_version": "1.2.0",
       "_model_name": "LayoutModel",
       "_view_count": null,
       "_view_module": "@jupyter-widgets/base",
       "_view_module_version": "1.2.0",
       "_view_name": "LayoutView",
       "align_content": null,
       "align_items": null,
       "align_self": null,
       "border": null,
       "bottom": null,
       "display": null,
       "flex": null,
       "flex_flow": null,
       "grid_area": null,
       "grid_auto_columns": null,
       "grid_auto_flow": null,
       "grid_auto_rows": null,
       "grid_column": null,
       "grid_gap": null,
       "grid_row": null,
       "grid_template_areas": null,
       "grid_template_columns": null,
       "grid_template_rows": null,
       "height": null,
       "justify_content": null,
       "justify_items": null,
       "left": null,
       "margin": null,
       "max_height": null,
       "max_width": null,
       "min_height": null,
       "min_width": null,
       "object_fit": null,
       "object_position": null,
       "order": null,
       "overflow": null,
       "overflow_x": null,
       "overflow_y": null,
       "padding": null,
       "right": null,
       "top": null,
       "visibility": null,
       "width": null
      }
     },
     "3b995efe8cfc45248aea7f7daa968149": {
      "model_module": "@jupyter-widgets/controls",
      "model_module_version": "1.5.0",
      "model_name": "DescriptionStyleModel",
      "state": {
       "_model_module": "@jupyter-widgets/controls",
       "_model_module_version": "1.5.0",
       "_model_name": "DescriptionStyleModel",
       "_view_count": null,
       "_view_module": "@jupyter-widgets/base",
       "_view_module_version": "1.2.0",
       "_view_name": "StyleView",
       "description_width": ""
      }
     },
     "43ba1d4f98964e8689c2221b1405d9b1": {
      "model_module": "@jupyter-widgets/controls",
      "model_module_version": "1.5.0",
      "model_name": "HTMLModel",
      "state": {
       "_dom_classes": [],
       "_model_module": "@jupyter-widgets/controls",
       "_model_module_version": "1.5.0",
       "_model_name": "HTMLModel",
       "_view_count": null,
       "_view_module": "@jupyter-widgets/controls",
       "_view_module_version": "1.5.0",
       "_view_name": "HTMLView",
       "description": "",
       "description_tooltip": null,
       "layout": "IPY_MODEL_272b182cd47f4bf0a89056624b9f4133",
       "placeholder": "​",
       "style": "IPY_MODEL_c47ab9d5a33d48699b9d70f3728c144b",
       "value": " 1.32M/1.32M [00:00&lt;00:00, 2.53MB/s]"
      }
     },
     "43f83a6c4644416c9a3a61cf7231a735": {
      "model_module": "@jupyter-widgets/base",
      "model_module_version": "1.2.0",
      "model_name": "LayoutModel",
      "state": {
       "_model_module": "@jupyter-widgets/base",
       "_model_module_version": "1.2.0",
       "_model_name": "LayoutModel",
       "_view_count": null,
       "_view_module": "@jupyter-widgets/base",
       "_view_module_version": "1.2.0",
       "_view_name": "LayoutView",
       "align_content": null,
       "align_items": null,
       "align_self": null,
       "border": null,
       "bottom": null,
       "display": null,
       "flex": null,
       "flex_flow": null,
       "grid_area": null,
       "grid_auto_columns": null,
       "grid_auto_flow": null,
       "grid_auto_rows": null,
       "grid_column": null,
       "grid_gap": null,
       "grid_row": null,
       "grid_template_areas": null,
       "grid_template_columns": null,
       "grid_template_rows": null,
       "height": null,
       "justify_content": null,
       "justify_items": null,
       "left": null,
       "margin": null,
       "max_height": null,
       "max_width": null,
       "min_height": null,
       "min_width": null,
       "object_fit": null,
       "object_position": null,
       "order": null,
       "overflow": null,
       "overflow_x": null,
       "overflow_y": null,
       "padding": null,
       "right": null,
       "top": null,
       "visibility": null,
       "width": null
      }
     },
     "442de74594e64b6b92077cf7b5faff1f": {
      "model_module": "@jupyter-widgets/base",
      "model_module_version": "1.2.0",
      "model_name": "LayoutModel",
      "state": {
       "_model_module": "@jupyter-widgets/base",
       "_model_module_version": "1.2.0",
       "_model_name": "LayoutModel",
       "_view_count": null,
       "_view_module": "@jupyter-widgets/base",
       "_view_module_version": "1.2.0",
       "_view_name": "LayoutView",
       "align_content": null,
       "align_items": null,
       "align_self": null,
       "border": null,
       "bottom": null,
       "display": null,
       "flex": null,
       "flex_flow": null,
       "grid_area": null,
       "grid_auto_columns": null,
       "grid_auto_flow": null,
       "grid_auto_rows": null,
       "grid_column": null,
       "grid_gap": null,
       "grid_row": null,
       "grid_template_areas": null,
       "grid_template_columns": null,
       "grid_template_rows": null,
       "height": null,
       "justify_content": null,
       "justify_items": null,
       "left": null,
       "margin": null,
       "max_height": null,
       "max_width": null,
       "min_height": null,
       "min_width": null,
       "object_fit": null,
       "object_position": null,
       "order": null,
       "overflow": null,
       "overflow_x": null,
       "overflow_y": null,
       "padding": null,
       "right": null,
       "top": null,
       "visibility": null,
       "width": null
      }
     },
     "4958985757064355ab520045e14e8d30": {
      "model_module": "@jupyter-widgets/controls",
      "model_module_version": "1.5.0",
      "model_name": "HTMLModel",
      "state": {
       "_dom_classes": [],
       "_model_module": "@jupyter-widgets/controls",
       "_model_module_version": "1.5.0",
       "_model_name": "HTMLModel",
       "_view_count": null,
       "_view_module": "@jupyter-widgets/controls",
       "_view_module_version": "1.5.0",
       "_view_name": "HTMLView",
       "description": "",
       "description_tooltip": null,
       "layout": "IPY_MODEL_ebdfec5e1b5e4ff0833e926292d985d1",
       "placeholder": "​",
       "style": "IPY_MODEL_312eddd17fce41cb963cd9eb1a92d473",
       "value": " 1.59k/? [00:00&lt;00:00, 65.2kB/s]"
      }
     },
     "4cf719124984433cb06b9090f30f4c89": {
      "model_module": "@jupyter-widgets/controls",
      "model_module_version": "1.5.0",
      "model_name": "ProgressStyleModel",
      "state": {
       "_model_module": "@jupyter-widgets/controls",
       "_model_module_version": "1.5.0",
       "_model_name": "ProgressStyleModel",
       "_view_count": null,
       "_view_module": "@jupyter-widgets/base",
       "_view_module_version": "1.2.0",
       "_view_name": "StyleView",
       "bar_color": null,
       "description_width": ""
      }
     },
     "4d0bab3b8f2f4bef981577ba90e0507e": {
      "model_module": "@jupyter-widgets/base",
      "model_module_version": "1.2.0",
      "model_name": "LayoutModel",
      "state": {
       "_model_module": "@jupyter-widgets/base",
       "_model_module_version": "1.2.0",
       "_model_name": "LayoutModel",
       "_view_count": null,
       "_view_module": "@jupyter-widgets/base",
       "_view_module_version": "1.2.0",
       "_view_name": "LayoutView",
       "align_content": null,
       "align_items": null,
       "align_self": null,
       "border": null,
       "bottom": null,
       "display": null,
       "flex": null,
       "flex_flow": null,
       "grid_area": null,
       "grid_auto_columns": null,
       "grid_auto_flow": null,
       "grid_auto_rows": null,
       "grid_column": null,
       "grid_gap": null,
       "grid_row": null,
       "grid_template_areas": null,
       "grid_template_columns": null,
       "grid_template_rows": null,
       "height": null,
       "justify_content": null,
       "justify_items": null,
       "left": null,
       "margin": null,
       "max_height": null,
       "max_width": null,
       "min_height": null,
       "min_width": null,
       "object_fit": null,
       "object_position": null,
       "order": null,
       "overflow": null,
       "overflow_x": null,
       "overflow_y": null,
       "padding": null,
       "right": null,
       "top": null,
       "visibility": null,
       "width": null
      }
     },
     "4f0db7d854944a7d8b47e93f1599dc07": {
      "model_module": "@jupyter-widgets/base",
      "model_module_version": "1.2.0",
      "model_name": "LayoutModel",
      "state": {
       "_model_module": "@jupyter-widgets/base",
       "_model_module_version": "1.2.0",
       "_model_name": "LayoutModel",
       "_view_count": null,
       "_view_module": "@jupyter-widgets/base",
       "_view_module_version": "1.2.0",
       "_view_name": "LayoutView",
       "align_content": null,
       "align_items": null,
       "align_self": null,
       "border": null,
       "bottom": null,
       "display": null,
       "flex": null,
       "flex_flow": null,
       "grid_area": null,
       "grid_auto_columns": null,
       "grid_auto_flow": null,
       "grid_auto_rows": null,
       "grid_column": null,
       "grid_gap": null,
       "grid_row": null,
       "grid_template_areas": null,
       "grid_template_columns": null,
       "grid_template_rows": null,
       "height": null,
       "justify_content": null,
       "justify_items": null,
       "left": null,
       "margin": null,
       "max_height": null,
       "max_width": null,
       "min_height": null,
       "min_width": null,
       "object_fit": null,
       "object_position": null,
       "order": null,
       "overflow": null,
       "overflow_x": null,
       "overflow_y": null,
       "padding": null,
       "right": null,
       "top": null,
       "visibility": null,
       "width": null
      }
     },
     "4f4b505af833426faefd506c08aad971": {
      "model_module": "@jupyter-widgets/base",
      "model_module_version": "1.2.0",
      "model_name": "LayoutModel",
      "state": {
       "_model_module": "@jupyter-widgets/base",
       "_model_module_version": "1.2.0",
       "_model_name": "LayoutModel",
       "_view_count": null,
       "_view_module": "@jupyter-widgets/base",
       "_view_module_version": "1.2.0",
       "_view_name": "LayoutView",
       "align_content": null,
       "align_items": null,
       "align_self": null,
       "border": null,
       "bottom": null,
       "display": null,
       "flex": null,
       "flex_flow": null,
       "grid_area": null,
       "grid_auto_columns": null,
       "grid_auto_flow": null,
       "grid_auto_rows": null,
       "grid_column": null,
       "grid_gap": null,
       "grid_row": null,
       "grid_template_areas": null,
       "grid_template_columns": null,
       "grid_template_rows": null,
       "height": null,
       "justify_content": null,
       "justify_items": null,
       "left": null,
       "margin": null,
       "max_height": null,
       "max_width": null,
       "min_height": null,
       "min_width": null,
       "object_fit": null,
       "object_position": null,
       "order": null,
       "overflow": null,
       "overflow_x": null,
       "overflow_y": null,
       "padding": null,
       "right": null,
       "top": null,
       "visibility": null,
       "width": null
      }
     },
     "55e86efb6ce14d6ba8ed13329ac8fbb4": {
      "model_module": "@jupyter-widgets/controls",
      "model_module_version": "1.5.0",
      "model_name": "FloatProgressModel",
      "state": {
       "_dom_classes": [],
       "_model_module": "@jupyter-widgets/controls",
       "_model_module_version": "1.5.0",
       "_model_name": "FloatProgressModel",
       "_view_count": null,
       "_view_module": "@jupyter-widgets/controls",
       "_view_module_version": "1.5.0",
       "_view_name": "ProgressView",
       "bar_style": "success",
       "description": "",
       "description_tooltip": null,
       "layout": "IPY_MODEL_aa648f4b73a94280973cc234dcea4994",
       "max": 798011,
       "min": 0,
       "orientation": "horizontal",
       "style": "IPY_MODEL_9e2799d2039241fc99f2047df7264e62",
       "value": 798011
      }
     },
     "57065a2232094f5089bd5ca4a797a60c": {
      "model_module": "@jupyter-widgets/controls",
      "model_module_version": "1.5.0",
      "model_name": "FloatProgressModel",
      "state": {
       "_dom_classes": [],
       "_model_module": "@jupyter-widgets/controls",
       "_model_module_version": "1.5.0",
       "_model_name": "FloatProgressModel",
       "_view_count": null,
       "_view_module": "@jupyter-widgets/controls",
       "_view_module_version": "1.5.0",
       "_view_name": "ProgressView",
       "bar_style": "success",
       "description": "",
       "description_tooltip": null,
       "layout": "IPY_MODEL_0c622990d39d473397500f0654296d6d",
       "max": 760,
       "min": 0,
       "orientation": "horizontal",
       "style": "IPY_MODEL_9cf514eaebfc4c27881f9f62be1d7a3f",
       "value": 760
      }
     },
     "57d476b355504495ad353fb49e4056a5": {
      "model_module": "@jupyter-widgets/controls",
      "model_module_version": "1.5.0",
      "model_name": "HBoxModel",
      "state": {
       "_dom_classes": [],
       "_model_module": "@jupyter-widgets/controls",
       "_model_module_version": "1.5.0",
       "_model_name": "HBoxModel",
       "_view_count": null,
       "_view_module": "@jupyter-widgets/controls",
       "_view_module_version": "1.5.0",
       "_view_name": "HBoxView",
       "box_style": "",
       "children": [
        "IPY_MODEL_9c4d7122f8954013a9ce62b2419d78bc",
        "IPY_MODEL_0882df880e8b4f2e977f672833b5b594",
        "IPY_MODEL_43ba1d4f98964e8689c2221b1405d9b1"
       ],
       "layout": "IPY_MODEL_4f0db7d854944a7d8b47e93f1599dc07"
      }
     },
     "597a1038613645ebb5af3eaa21789e29": {
      "model_module": "@jupyter-widgets/base",
      "model_module_version": "1.2.0",
      "model_name": "LayoutModel",
      "state": {
       "_model_module": "@jupyter-widgets/base",
       "_model_module_version": "1.2.0",
       "_model_name": "LayoutModel",
       "_view_count": null,
       "_view_module": "@jupyter-widgets/base",
       "_view_module_version": "1.2.0",
       "_view_name": "LayoutView",
       "align_content": null,
       "align_items": null,
       "align_self": null,
       "border": null,
       "bottom": null,
       "display": null,
       "flex": null,
       "flex_flow": null,
       "grid_area": null,
       "grid_auto_columns": null,
       "grid_auto_flow": null,
       "grid_auto_rows": null,
       "grid_column": null,
       "grid_gap": null,
       "grid_row": null,
       "grid_template_areas": null,
       "grid_template_columns": null,
       "grid_template_rows": null,
       "height": null,
       "justify_content": null,
       "justify_items": null,
       "left": null,
       "margin": null,
       "max_height": null,
       "max_width": null,
       "min_height": null,
       "min_width": null,
       "object_fit": null,
       "object_position": null,
       "order": null,
       "overflow": null,
       "overflow_x": null,
       "overflow_y": null,
       "padding": null,
       "right": null,
       "top": null,
       "visibility": null,
       "width": null
      }
     },
     "5a45b747c9f24d57ba234aa68a547be2": {
      "model_module": "@jupyter-widgets/base",
      "model_module_version": "1.2.0",
      "model_name": "LayoutModel",
      "state": {
       "_model_module": "@jupyter-widgets/base",
       "_model_module_version": "1.2.0",
       "_model_name": "LayoutModel",
       "_view_count": null,
       "_view_module": "@jupyter-widgets/base",
       "_view_module_version": "1.2.0",
       "_view_name": "LayoutView",
       "align_content": null,
       "align_items": null,
       "align_self": null,
       "border": null,
       "bottom": null,
       "display": null,
       "flex": null,
       "flex_flow": null,
       "grid_area": null,
       "grid_auto_columns": null,
       "grid_auto_flow": null,
       "grid_auto_rows": null,
       "grid_column": null,
       "grid_gap": null,
       "grid_row": null,
       "grid_template_areas": null,
       "grid_template_columns": null,
       "grid_template_rows": null,
       "height": null,
       "justify_content": null,
       "justify_items": null,
       "left": null,
       "margin": null,
       "max_height": null,
       "max_width": null,
       "min_height": null,
       "min_width": null,
       "object_fit": null,
       "object_position": null,
       "order": null,
       "overflow": null,
       "overflow_x": null,
       "overflow_y": null,
       "padding": null,
       "right": null,
       "top": null,
       "visibility": null,
       "width": null
      }
     },
     "5b18e48bee974ce29e83ff84330d56ff": {
      "model_module": "@jupyter-widgets/controls",
      "model_module_version": "1.5.0",
      "model_name": "ProgressStyleModel",
      "state": {
       "_model_module": "@jupyter-widgets/controls",
       "_model_module_version": "1.5.0",
       "_model_name": "ProgressStyleModel",
       "_view_count": null,
       "_view_module": "@jupyter-widgets/base",
       "_view_module_version": "1.2.0",
       "_view_name": "StyleView",
       "bar_color": null,
       "description_width": ""
      }
     },
     "5d8c14119f8c4a25a872a89bd9aa4a69": {
      "model_module": "@jupyter-widgets/controls",
      "model_module_version": "1.5.0",
      "model_name": "DescriptionStyleModel",
      "state": {
       "_model_module": "@jupyter-widgets/controls",
       "_model_module_version": "1.5.0",
       "_model_name": "DescriptionStyleModel",
       "_view_count": null,
       "_view_module": "@jupyter-widgets/base",
       "_view_module_version": "1.2.0",
       "_view_name": "StyleView",
       "description_width": ""
      }
     },
     "5f0e9bf3847f41d79cec199d060f4a9f": {
      "model_module": "@jupyter-widgets/controls",
      "model_module_version": "1.5.0",
      "model_name": "HBoxModel",
      "state": {
       "_dom_classes": [],
       "_model_module": "@jupyter-widgets/controls",
       "_model_module_version": "1.5.0",
       "_model_name": "HBoxModel",
       "_view_count": null,
       "_view_module": "@jupyter-widgets/controls",
       "_view_module_version": "1.5.0",
       "_view_name": "HBoxView",
       "box_style": "",
       "children": [
        "IPY_MODEL_2709aedcd806465eb0fe142f21bf22c8",
        "IPY_MODEL_e8d0583156624eb99d0157962284c6e7",
        "IPY_MODEL_39985a53b5dd4347b530e8799b5b41b5"
       ],
       "layout": "IPY_MODEL_7dd82c52319949f4923a4b017e1200a1"
      }
     },
     "5f3e3439d775436a88f149ed1e964662": {
      "model_module": "@jupyter-widgets/controls",
      "model_module_version": "1.5.0",
      "model_name": "HTMLModel",
      "state": {
       "_dom_classes": [],
       "_model_module": "@jupyter-widgets/controls",
       "_model_module_version": "1.5.0",
       "_model_name": "HTMLModel",
       "_view_count": null,
       "_view_module": "@jupyter-widgets/controls",
       "_view_module_version": "1.5.0",
       "_view_name": "HTMLView",
       "description": "",
       "description_tooltip": null,
       "layout": "IPY_MODEL_3a09687e0c8e414db220fa4ef02f5aa3",
       "placeholder": "​",
       "style": "IPY_MODEL_1d9ec722bc284ee193169819274da3f9",
       "value": "Downloading: 100%"
      }
     },
     "61b560cb1fb841da9739aeb6fcc6de2b": {
      "model_module": "@jupyter-widgets/base",
      "model_module_version": "1.2.0",
      "model_name": "LayoutModel",
      "state": {
       "_model_module": "@jupyter-widgets/base",
       "_model_module_version": "1.2.0",
       "_model_name": "LayoutModel",
       "_view_count": null,
       "_view_module": "@jupyter-widgets/base",
       "_view_module_version": "1.2.0",
       "_view_name": "LayoutView",
       "align_content": null,
       "align_items": null,
       "align_self": null,
       "border": null,
       "bottom": null,
       "display": null,
       "flex": null,
       "flex_flow": null,
       "grid_area": null,
       "grid_auto_columns": null,
       "grid_auto_flow": null,
       "grid_auto_rows": null,
       "grid_column": null,
       "grid_gap": null,
       "grid_row": null,
       "grid_template_areas": null,
       "grid_template_columns": null,
       "grid_template_rows": null,
       "height": null,
       "justify_content": null,
       "justify_items": null,
       "left": null,
       "margin": null,
       "max_height": null,
       "max_width": null,
       "min_height": null,
       "min_width": null,
       "object_fit": null,
       "object_position": null,
       "order": null,
       "overflow": null,
       "overflow_x": null,
       "overflow_y": null,
       "padding": null,
       "right": null,
       "top": null,
       "visibility": null,
       "width": null
      }
     },
     "62b76676372047b6ab6a3e404f0e05e6": {
      "model_module": "@jupyter-widgets/controls",
      "model_module_version": "1.5.0",
      "model_name": "HBoxModel",
      "state": {
       "_dom_classes": [],
       "_model_module": "@jupyter-widgets/controls",
       "_model_module_version": "1.5.0",
       "_model_name": "HBoxModel",
       "_view_count": null,
       "_view_module": "@jupyter-widgets/controls",
       "_view_module_version": "1.5.0",
       "_view_name": "HBoxView",
       "box_style": "",
       "children": [
        "IPY_MODEL_87400eb1ae19473eb90be22facee69d0",
        "IPY_MODEL_d3ad35efd5364531bb58ebc5979e993d",
        "IPY_MODEL_91840643350649d1ae2af2260264b01f"
       ],
       "layout": "IPY_MODEL_ceebfa378c224a4b98821b3752be0932"
      }
     },
     "68a2085424bd4fbc996d561f3aca530b": {
      "model_module": "@jupyter-widgets/base",
      "model_module_version": "1.2.0",
      "model_name": "LayoutModel",
      "state": {
       "_model_module": "@jupyter-widgets/base",
       "_model_module_version": "1.2.0",
       "_model_name": "LayoutModel",
       "_view_count": null,
       "_view_module": "@jupyter-widgets/base",
       "_view_module_version": "1.2.0",
       "_view_name": "LayoutView",
       "align_content": null,
       "align_items": null,
       "align_self": null,
       "border": null,
       "bottom": null,
       "display": null,
       "flex": null,
       "flex_flow": null,
       "grid_area": null,
       "grid_auto_columns": null,
       "grid_auto_flow": null,
       "grid_auto_rows": null,
       "grid_column": null,
       "grid_gap": null,
       "grid_row": null,
       "grid_template_areas": null,
       "grid_template_columns": null,
       "grid_template_rows": null,
       "height": null,
       "justify_content": null,
       "justify_items": null,
       "left": null,
       "margin": null,
       "max_height": null,
       "max_width": null,
       "min_height": null,
       "min_width": null,
       "object_fit": null,
       "object_position": null,
       "order": null,
       "overflow": null,
       "overflow_x": null,
       "overflow_y": null,
       "padding": null,
       "right": null,
       "top": null,
       "visibility": null,
       "width": null
      }
     },
     "68aac4f433a74af6a0adccbf0c0351b8": {
      "model_module": "@jupyter-widgets/controls",
      "model_module_version": "1.5.0",
      "model_name": "DescriptionStyleModel",
      "state": {
       "_model_module": "@jupyter-widgets/controls",
       "_model_module_version": "1.5.0",
       "_model_name": "DescriptionStyleModel",
       "_view_count": null,
       "_view_module": "@jupyter-widgets/base",
       "_view_module_version": "1.2.0",
       "_view_name": "StyleView",
       "description_width": ""
      }
     },
     "7285e2c0917c4a0c990c7c43e1dd1535": {
      "model_module": "@jupyter-widgets/base",
      "model_module_version": "1.2.0",
      "model_name": "LayoutModel",
      "state": {
       "_model_module": "@jupyter-widgets/base",
       "_model_module_version": "1.2.0",
       "_model_name": "LayoutModel",
       "_view_count": null,
       "_view_module": "@jupyter-widgets/base",
       "_view_module_version": "1.2.0",
       "_view_name": "LayoutView",
       "align_content": null,
       "align_items": null,
       "align_self": null,
       "border": null,
       "bottom": null,
       "display": null,
       "flex": null,
       "flex_flow": null,
       "grid_area": null,
       "grid_auto_columns": null,
       "grid_auto_flow": null,
       "grid_auto_rows": null,
       "grid_column": null,
       "grid_gap": null,
       "grid_row": null,
       "grid_template_areas": null,
       "grid_template_columns": null,
       "grid_template_rows": null,
       "height": null,
       "justify_content": null,
       "justify_items": null,
       "left": null,
       "margin": null,
       "max_height": null,
       "max_width": null,
       "min_height": null,
       "min_width": null,
       "object_fit": null,
       "object_position": null,
       "order": null,
       "overflow": null,
       "overflow_x": null,
       "overflow_y": null,
       "padding": null,
       "right": null,
       "top": null,
       "visibility": null,
       "width": null
      }
     },
     "728ef53563ed47bba52e37e4dc76e244": {
      "model_module": "@jupyter-widgets/controls",
      "model_module_version": "1.5.0",
      "model_name": "FloatProgressModel",
      "state": {
       "_dom_classes": [],
       "_model_module": "@jupyter-widgets/controls",
       "_model_module_version": "1.5.0",
       "_model_name": "FloatProgressModel",
       "_view_count": null,
       "_view_module": "@jupyter-widgets/controls",
       "_view_module_version": "1.5.0",
       "_view_name": "ProgressView",
       "bar_style": "success",
       "description": "",
       "description_tooltip": null,
       "layout": "IPY_MODEL_442de74594e64b6b92077cf7b5faff1f",
       "max": 467042463,
       "min": 0,
       "orientation": "horizontal",
       "style": "IPY_MODEL_06257f4f0d5a42ae915bb4fa7ff4cb58",
       "value": 467042463
      }
     },
     "73e0d35965644e8cb4c768465e2491cf": {
      "model_module": "@jupyter-widgets/base",
      "model_module_version": "1.2.0",
      "model_name": "LayoutModel",
      "state": {
       "_model_module": "@jupyter-widgets/base",
       "_model_module_version": "1.2.0",
       "_model_name": "LayoutModel",
       "_view_count": null,
       "_view_module": "@jupyter-widgets/base",
       "_view_module_version": "1.2.0",
       "_view_name": "LayoutView",
       "align_content": null,
       "align_items": null,
       "align_self": null,
       "border": null,
       "bottom": null,
       "display": null,
       "flex": null,
       "flex_flow": null,
       "grid_area": null,
       "grid_auto_columns": null,
       "grid_auto_flow": null,
       "grid_auto_rows": null,
       "grid_column": null,
       "grid_gap": null,
       "grid_row": null,
       "grid_template_areas": null,
       "grid_template_columns": null,
       "grid_template_rows": null,
       "height": null,
       "justify_content": null,
       "justify_items": null,
       "left": null,
       "margin": null,
       "max_height": null,
       "max_width": null,
       "min_height": null,
       "min_width": null,
       "object_fit": null,
       "object_position": null,
       "order": null,
       "overflow": null,
       "overflow_x": null,
       "overflow_y": null,
       "padding": null,
       "right": null,
       "top": null,
       "visibility": null,
       "width": null
      }
     },
     "796dfb39474a40f29d7018c33bc5d109": {
      "model_module": "@jupyter-widgets/controls",
      "model_module_version": "1.5.0",
      "model_name": "FloatProgressModel",
      "state": {
       "_dom_classes": [],
       "_model_module": "@jupyter-widgets/controls",
       "_model_module_version": "1.5.0",
       "_model_name": "FloatProgressModel",
       "_view_count": null,
       "_view_module": "@jupyter-widgets/controls",
       "_view_module_version": "1.5.0",
       "_view_name": "ProgressView",
       "bar_style": "success",
       "description": "",
       "description_tooltip": null,
       "layout": "IPY_MODEL_ee0ecc1857fe4656bbba4ac9f1825c61",
       "max": 2,
       "min": 0,
       "orientation": "horizontal",
       "style": "IPY_MODEL_4cf719124984433cb06b9090f30f4c89",
       "value": 2
      }
     },
     "7cb31542271f4fd8b50c529b618a2e26": {
      "model_module": "@jupyter-widgets/base",
      "model_module_version": "1.2.0",
      "model_name": "LayoutModel",
      "state": {
       "_model_module": "@jupyter-widgets/base",
       "_model_module_version": "1.2.0",
       "_model_name": "LayoutModel",
       "_view_count": null,
       "_view_module": "@jupyter-widgets/base",
       "_view_module_version": "1.2.0",
       "_view_name": "LayoutView",
       "align_content": null,
       "align_items": null,
       "align_self": null,
       "border": null,
       "bottom": null,
       "display": null,
       "flex": null,
       "flex_flow": null,
       "grid_area": null,
       "grid_auto_columns": null,
       "grid_auto_flow": null,
       "grid_auto_rows": null,
       "grid_column": null,
       "grid_gap": null,
       "grid_row": null,
       "grid_template_areas": null,
       "grid_template_columns": null,
       "grid_template_rows": null,
       "height": null,
       "justify_content": null,
       "justify_items": null,
       "left": null,
       "margin": null,
       "max_height": null,
       "max_width": null,
       "min_height": null,
       "min_width": null,
       "object_fit": null,
       "object_position": null,
       "order": null,
       "overflow": null,
       "overflow_x": null,
       "overflow_y": null,
       "padding": null,
       "right": null,
       "top": null,
       "visibility": null,
       "width": "20px"
      }
     },
     "7dd82c52319949f4923a4b017e1200a1": {
      "model_module": "@jupyter-widgets/base",
      "model_module_version": "1.2.0",
      "model_name": "LayoutModel",
      "state": {
       "_model_module": "@jupyter-widgets/base",
       "_model_module_version": "1.2.0",
       "_model_name": "LayoutModel",
       "_view_count": null,
       "_view_module": "@jupyter-widgets/base",
       "_view_module_version": "1.2.0",
       "_view_name": "LayoutView",
       "align_content": null,
       "align_items": null,
       "align_self": null,
       "border": null,
       "bottom": null,
       "display": null,
       "flex": null,
       "flex_flow": null,
       "grid_area": null,
       "grid_auto_columns": null,
       "grid_auto_flow": null,
       "grid_auto_rows": null,
       "grid_column": null,
       "grid_gap": null,
       "grid_row": null,
       "grid_template_areas": null,
       "grid_template_columns": null,
       "grid_template_rows": null,
       "height": null,
       "justify_content": null,
       "justify_items": null,
       "left": null,
       "margin": null,
       "max_height": null,
       "max_width": null,
       "min_height": null,
       "min_width": null,
       "object_fit": null,
       "object_position": null,
       "order": null,
       "overflow": null,
       "overflow_x": null,
       "overflow_y": null,
       "padding": null,
       "right": null,
       "top": null,
       "visibility": null,
       "width": null
      }
     },
     "7e2858bcfab440b5a0bcb25dd1dc9b90": {
      "model_module": "@jupyter-widgets/controls",
      "model_module_version": "1.5.0",
      "model_name": "FloatProgressModel",
      "state": {
       "_dom_classes": [],
       "_model_module": "@jupyter-widgets/controls",
       "_model_module_version": "1.5.0",
       "_model_name": "FloatProgressModel",
       "_view_count": null,
       "_view_module": "@jupyter-widgets/controls",
       "_view_module_version": "1.5.0",
       "_view_name": "ProgressView",
       "bar_style": "success",
       "description": "",
       "description_tooltip": null,
       "layout": "IPY_MODEL_68a2085424bd4fbc996d561f3aca530b",
       "max": 81363704,
       "min": 0,
       "orientation": "horizontal",
       "style": "IPY_MODEL_05434ee0393e40a7a7fe1dec6101fa25",
       "value": 81363704
      }
     },
     "7f70a11b2e6b4ef69cc368f8b75510cc": {
      "model_module": "@jupyter-widgets/base",
      "model_module_version": "1.2.0",
      "model_name": "LayoutModel",
      "state": {
       "_model_module": "@jupyter-widgets/base",
       "_model_module_version": "1.2.0",
       "_model_name": "LayoutModel",
       "_view_count": null,
       "_view_module": "@jupyter-widgets/base",
       "_view_module_version": "1.2.0",
       "_view_name": "LayoutView",
       "align_content": null,
       "align_items": null,
       "align_self": null,
       "border": null,
       "bottom": null,
       "display": null,
       "flex": null,
       "flex_flow": null,
       "grid_area": null,
       "grid_auto_columns": null,
       "grid_auto_flow": null,
       "grid_auto_rows": null,
       "grid_column": null,
       "grid_gap": null,
       "grid_row": null,
       "grid_template_areas": null,
       "grid_template_columns": null,
       "grid_template_rows": null,
       "height": null,
       "justify_content": null,
       "justify_items": null,
       "left": null,
       "margin": null,
       "max_height": null,
       "max_width": null,
       "min_height": null,
       "min_width": null,
       "object_fit": null,
       "object_position": null,
       "order": null,
       "overflow": null,
       "overflow_x": null,
       "overflow_y": null,
       "padding": null,
       "right": null,
       "top": null,
       "visibility": null,
       "width": null
      }
     },
     "858e18a5cfdb471ab23d72c4b6aeb1a9": {
      "model_module": "@jupyter-widgets/base",
      "model_module_version": "1.2.0",
      "model_name": "LayoutModel",
      "state": {
       "_model_module": "@jupyter-widgets/base",
       "_model_module_version": "1.2.0",
       "_model_name": "LayoutModel",
       "_view_count": null,
       "_view_module": "@jupyter-widgets/base",
       "_view_module_version": "1.2.0",
       "_view_name": "LayoutView",
       "align_content": null,
       "align_items": null,
       "align_self": null,
       "border": null,
       "bottom": null,
       "display": null,
       "flex": null,
       "flex_flow": null,
       "grid_area": null,
       "grid_auto_columns": null,
       "grid_auto_flow": null,
       "grid_auto_rows": null,
       "grid_column": null,
       "grid_gap": null,
       "grid_row": null,
       "grid_template_areas": null,
       "grid_template_columns": null,
       "grid_template_rows": null,
       "height": null,
       "justify_content": null,
       "justify_items": null,
       "left": null,
       "margin": null,
       "max_height": null,
       "max_width": null,
       "min_height": null,
       "min_width": null,
       "object_fit": null,
       "object_position": null,
       "order": null,
       "overflow": null,
       "overflow_x": null,
       "overflow_y": null,
       "padding": null,
       "right": null,
       "top": null,
       "visibility": null,
       "width": null
      }
     },
     "87400eb1ae19473eb90be22facee69d0": {
      "model_module": "@jupyter-widgets/controls",
      "model_module_version": "1.5.0",
      "model_name": "HTMLModel",
      "state": {
       "_dom_classes": [],
       "_model_module": "@jupyter-widgets/controls",
       "_model_module_version": "1.5.0",
       "_model_name": "HTMLModel",
       "_view_count": null,
       "_view_module": "@jupyter-widgets/controls",
       "_view_module_version": "1.5.0",
       "_view_name": "HTMLView",
       "description": "",
       "description_tooltip": null,
       "layout": "IPY_MODEL_c0a21429c12145d99f6d6eacba192d44",
       "placeholder": "​",
       "style": "IPY_MODEL_5d8c14119f8c4a25a872a89bd9aa4a69",
       "value": ""
      }
     },
     "883d3effe3064fb395d7de0489d7ba58": {
      "model_module": "@jupyter-widgets/base",
      "model_module_version": "1.2.0",
      "model_name": "LayoutModel",
      "state": {
       "_model_module": "@jupyter-widgets/base",
       "_model_module_version": "1.2.0",
       "_model_name": "LayoutModel",
       "_view_count": null,
       "_view_module": "@jupyter-widgets/base",
       "_view_module_version": "1.2.0",
       "_view_name": "LayoutView",
       "align_content": null,
       "align_items": null,
       "align_self": null,
       "border": null,
       "bottom": null,
       "display": null,
       "flex": null,
       "flex_flow": null,
       "grid_area": null,
       "grid_auto_columns": null,
       "grid_auto_flow": null,
       "grid_auto_rows": null,
       "grid_column": null,
       "grid_gap": null,
       "grid_row": null,
       "grid_template_areas": null,
       "grid_template_columns": null,
       "grid_template_rows": null,
       "height": null,
       "justify_content": null,
       "justify_items": null,
       "left": null,
       "margin": null,
       "max_height": null,
       "max_width": null,
       "min_height": null,
       "min_width": null,
       "object_fit": null,
       "object_position": null,
       "order": null,
       "overflow": null,
       "overflow_x": null,
       "overflow_y": null,
       "padding": null,
       "right": null,
       "top": null,
       "visibility": null,
       "width": null
      }
     },
     "88dfe9df374c4f05b2eb82e52b5787f4": {
      "model_module": "@jupyter-widgets/controls",
      "model_module_version": "1.5.0",
      "model_name": "HTMLModel",
      "state": {
       "_dom_classes": [],
       "_model_module": "@jupyter-widgets/controls",
       "_model_module_version": "1.5.0",
       "_model_name": "HTMLModel",
       "_view_count": null,
       "_view_module": "@jupyter-widgets/controls",
       "_view_module_version": "1.5.0",
       "_view_name": "HTMLView",
       "description": "",
       "description_tooltip": null,
       "layout": "IPY_MODEL_5a45b747c9f24d57ba234aa68a547be2",
       "placeholder": "​",
       "style": "IPY_MODEL_ad56db00da2e4c9183da6a6e9f678676",
       "value": " 760/760 [00:00&lt;00:00, 31.3kB/s]"
      }
     },
     "8a639127ae4c44da8f683fdf027b9535": {
      "model_module": "@jupyter-widgets/controls",
      "model_module_version": "1.5.0",
      "model_name": "DescriptionStyleModel",
      "state": {
       "_model_module": "@jupyter-widgets/controls",
       "_model_module_version": "1.5.0",
       "_model_name": "DescriptionStyleModel",
       "_view_count": null,
       "_view_module": "@jupyter-widgets/base",
       "_view_module_version": "1.2.0",
       "_view_name": "StyleView",
       "description_width": ""
      }
     },
     "8ec2303d8d06438fae010efe98af7d06": {
      "model_module": "@jupyter-widgets/controls",
      "model_module_version": "1.5.0",
      "model_name": "HTMLModel",
      "state": {
       "_dom_classes": [],
       "_model_module": "@jupyter-widgets/controls",
       "_model_module_version": "1.5.0",
       "_model_name": "HTMLModel",
       "_view_count": null,
       "_view_module": "@jupyter-widgets/controls",
       "_view_module_version": "1.5.0",
       "_view_name": "HTMLView",
       "description": "",
       "description_tooltip": null,
       "layout": "IPY_MODEL_bd74740fde3a435bafe7bafde198bb45",
       "placeholder": "​",
       "style": "IPY_MODEL_2ea02b6ea29647fdb0a92ce58676bc77",
       "value": " 81.4M/81.4M [00:03&lt;00:00, 24.9MB/s]"
      }
     },
     "90a85bcf52e24a80b02e852c2d722e8e": {
      "model_module": "@jupyter-widgets/controls",
      "model_module_version": "1.5.0",
      "model_name": "HTMLModel",
      "state": {
       "_dom_classes": [],
       "_model_module": "@jupyter-widgets/controls",
       "_model_module_version": "1.5.0",
       "_model_name": "HTMLModel",
       "_view_count": null,
       "_view_module": "@jupyter-widgets/controls",
       "_view_module_version": "1.5.0",
       "_view_name": "HTMLView",
       "description": "",
       "description_tooltip": null,
       "layout": "IPY_MODEL_73e0d35965644e8cb4c768465e2491cf",
       "placeholder": "​",
       "style": "IPY_MODEL_fc23ee3a7f7b43fabf25d6454b8fd32e",
       "value": "Downloading: 100%"
      }
     },
     "91840643350649d1ae2af2260264b01f": {
      "model_module": "@jupyter-widgets/controls",
      "model_module_version": "1.5.0",
      "model_name": "HTMLModel",
      "state": {
       "_dom_classes": [],
       "_model_module": "@jupyter-widgets/controls",
       "_model_module_version": "1.5.0",
       "_model_name": "HTMLModel",
       "_view_count": null,
       "_view_module": "@jupyter-widgets/controls",
       "_view_module_version": "1.5.0",
       "_view_name": "HTMLView",
       "description": "",
       "description_tooltip": null,
       "layout": "IPY_MODEL_2305d94ffae846f6beb9ec1a92a2d389",
       "placeholder": "​",
       "style": "IPY_MODEL_e8bff529f7ea4fd49c2d86b1e83c5c36",
       "value": " 0/0 [00:00&lt;?, ? examples/s]"
      }
     },
     "92645377f680426ba09126d2e6ed3be9": {
      "model_module": "@jupyter-widgets/controls",
      "model_module_version": "1.5.0",
      "model_name": "ProgressStyleModel",
      "state": {
       "_model_module": "@jupyter-widgets/controls",
       "_model_module_version": "1.5.0",
       "_model_name": "ProgressStyleModel",
       "_view_count": null,
       "_view_module": "@jupyter-widgets/base",
       "_view_module_version": "1.2.0",
       "_view_name": "StyleView",
       "bar_color": null,
       "description_width": ""
      }
     },
     "93afe8d1c03b41629dc3dcbbfd075686": {
      "model_module": "@jupyter-widgets/controls",
      "model_module_version": "1.5.0",
      "model_name": "ProgressStyleModel",
      "state": {
       "_model_module": "@jupyter-widgets/controls",
       "_model_module_version": "1.5.0",
       "_model_name": "ProgressStyleModel",
       "_view_count": null,
       "_view_module": "@jupyter-widgets/base",
       "_view_module_version": "1.2.0",
       "_view_name": "StyleView",
       "bar_color": null,
       "description_width": ""
      }
     },
     "9c4d7122f8954013a9ce62b2419d78bc": {
      "model_module": "@jupyter-widgets/controls",
      "model_module_version": "1.5.0",
      "model_name": "HTMLModel",
      "state": {
       "_dom_classes": [],
       "_model_module": "@jupyter-widgets/controls",
       "_model_module_version": "1.5.0",
       "_model_name": "HTMLModel",
       "_view_count": null,
       "_view_module": "@jupyter-widgets/controls",
       "_view_module_version": "1.5.0",
       "_view_name": "HTMLView",
       "description": "",
       "description_tooltip": null,
       "layout": "IPY_MODEL_c066e7bb4fa7403395909f1fa66ccf9f",
       "placeholder": "​",
       "style": "IPY_MODEL_9e2f7edd9113486a97a2b45a5735223d",
       "value": "Downloading: 100%"
      }
     },
     "9cf514eaebfc4c27881f9f62be1d7a3f": {
      "model_module": "@jupyter-widgets/controls",
      "model_module_version": "1.5.0",
      "model_name": "ProgressStyleModel",
      "state": {
       "_model_module": "@jupyter-widgets/controls",
       "_model_module_version": "1.5.0",
       "_model_name": "ProgressStyleModel",
       "_view_count": null,
       "_view_module": "@jupyter-widgets/base",
       "_view_module_version": "1.2.0",
       "_view_name": "StyleView",
       "bar_color": null,
       "description_width": ""
      }
     },
     "9e2799d2039241fc99f2047df7264e62": {
      "model_module": "@jupyter-widgets/controls",
      "model_module_version": "1.5.0",
      "model_name": "ProgressStyleModel",
      "state": {
       "_model_module": "@jupyter-widgets/controls",
       "_model_module_version": "1.5.0",
       "_model_name": "ProgressStyleModel",
       "_view_count": null,
       "_view_module": "@jupyter-widgets/base",
       "_view_module_version": "1.2.0",
       "_view_name": "StyleView",
       "bar_color": null,
       "description_width": ""
      }
     },
     "9e2f7edd9113486a97a2b45a5735223d": {
      "model_module": "@jupyter-widgets/controls",
      "model_module_version": "1.5.0",
      "model_name": "DescriptionStyleModel",
      "state": {
       "_model_module": "@jupyter-widgets/controls",
       "_model_module_version": "1.5.0",
       "_model_name": "DescriptionStyleModel",
       "_view_count": null,
       "_view_module": "@jupyter-widgets/base",
       "_view_module_version": "1.2.0",
       "_view_name": "StyleView",
       "description_width": ""
      }
     },
     "9ec26c5d11d043bcb2dfa79921bfaa34": {
      "model_module": "@jupyter-widgets/controls",
      "model_module_version": "1.5.0",
      "model_name": "DescriptionStyleModel",
      "state": {
       "_model_module": "@jupyter-widgets/controls",
       "_model_module_version": "1.5.0",
       "_model_name": "DescriptionStyleModel",
       "_view_count": null,
       "_view_module": "@jupyter-widgets/base",
       "_view_module_version": "1.2.0",
       "_view_name": "StyleView",
       "description_width": ""
      }
     },
     "a0e3921105b94270aad6fc405c8d20af": {
      "model_module": "@jupyter-widgets/base",
      "model_module_version": "1.2.0",
      "model_name": "LayoutModel",
      "state": {
       "_model_module": "@jupyter-widgets/base",
       "_model_module_version": "1.2.0",
       "_model_name": "LayoutModel",
       "_view_count": null,
       "_view_module": "@jupyter-widgets/base",
       "_view_module_version": "1.2.0",
       "_view_name": "LayoutView",
       "align_content": null,
       "align_items": null,
       "align_self": null,
       "border": null,
       "bottom": null,
       "display": null,
       "flex": null,
       "flex_flow": null,
       "grid_area": null,
       "grid_auto_columns": null,
       "grid_auto_flow": null,
       "grid_auto_rows": null,
       "grid_column": null,
       "grid_gap": null,
       "grid_row": null,
       "grid_template_areas": null,
       "grid_template_columns": null,
       "grid_template_rows": null,
       "height": null,
       "justify_content": null,
       "justify_items": null,
       "left": null,
       "margin": null,
       "max_height": null,
       "max_width": null,
       "min_height": null,
       "min_width": null,
       "object_fit": null,
       "object_position": null,
       "order": null,
       "overflow": null,
       "overflow_x": null,
       "overflow_y": null,
       "padding": null,
       "right": null,
       "top": null,
       "visibility": null,
       "width": "20px"
      }
     },
     "aa648f4b73a94280973cc234dcea4994": {
      "model_module": "@jupyter-widgets/base",
      "model_module_version": "1.2.0",
      "model_name": "LayoutModel",
      "state": {
       "_model_module": "@jupyter-widgets/base",
       "_model_module_version": "1.2.0",
       "_model_name": "LayoutModel",
       "_view_count": null,
       "_view_module": "@jupyter-widgets/base",
       "_view_module_version": "1.2.0",
       "_view_name": "LayoutView",
       "align_content": null,
       "align_items": null,
       "align_self": null,
       "border": null,
       "bottom": null,
       "display": null,
       "flex": null,
       "flex_flow": null,
       "grid_area": null,
       "grid_auto_columns": null,
       "grid_auto_flow": null,
       "grid_auto_rows": null,
       "grid_column": null,
       "grid_gap": null,
       "grid_row": null,
       "grid_template_areas": null,
       "grid_template_columns": null,
       "grid_template_rows": null,
       "height": null,
       "justify_content": null,
       "justify_items": null,
       "left": null,
       "margin": null,
       "max_height": null,
       "max_width": null,
       "min_height": null,
       "min_width": null,
       "object_fit": null,
       "object_position": null,
       "order": null,
       "overflow": null,
       "overflow_x": null,
       "overflow_y": null,
       "padding": null,
       "right": null,
       "top": null,
       "visibility": null,
       "width": null
      }
     },
     "ad56db00da2e4c9183da6a6e9f678676": {
      "model_module": "@jupyter-widgets/controls",
      "model_module_version": "1.5.0",
      "model_name": "DescriptionStyleModel",
      "state": {
       "_model_module": "@jupyter-widgets/controls",
       "_model_module_version": "1.5.0",
       "_model_name": "DescriptionStyleModel",
       "_view_count": null,
       "_view_module": "@jupyter-widgets/base",
       "_view_module_version": "1.2.0",
       "_view_name": "StyleView",
       "description_width": ""
      }
     },
     "b9ab960d335e42a0838c9a6ca6211ff1": {
      "model_module": "@jupyter-widgets/controls",
      "model_module_version": "1.5.0",
      "model_name": "HBoxModel",
      "state": {
       "_dom_classes": [],
       "_model_module": "@jupyter-widgets/controls",
       "_model_module_version": "1.5.0",
       "_model_name": "HBoxModel",
       "_view_count": null,
       "_view_module": "@jupyter-widgets/controls",
       "_view_module_version": "1.5.0",
       "_view_name": "HBoxView",
       "box_style": "",
       "children": [
        "IPY_MODEL_158cd7b89cda4b97aa7b208ea4cafffc",
        "IPY_MODEL_204c8c54c082430983ab5d06bff86c1a",
        "IPY_MODEL_eeb5ae2af4564010a2a4f23e1af54ac4"
       ],
       "layout": "IPY_MODEL_7285e2c0917c4a0c990c7c43e1dd1535"
      }
     },
     "bc5e9f69bdeb4ee8b95087b65bc19b7f": {
      "model_module": "@jupyter-widgets/controls",
      "model_module_version": "1.5.0",
      "model_name": "HTMLModel",
      "state": {
       "_dom_classes": [],
       "_model_module": "@jupyter-widgets/controls",
       "_model_module_version": "1.5.0",
       "_model_name": "HTMLModel",
       "_view_count": null,
       "_view_module": "@jupyter-widgets/controls",
       "_view_module_version": "1.5.0",
       "_view_name": "HTMLView",
       "description": "",
       "description_tooltip": null,
       "layout": "IPY_MODEL_2c653e340bd54600a6693146a4f4564f",
       "placeholder": "​",
       "style": "IPY_MODEL_0f5ceda1496f4befa102846bbafdad07",
       "value": "100%"
      }
     },
     "bd74740fde3a435bafe7bafde198bb45": {
      "model_module": "@jupyter-widgets/base",
      "model_module_version": "1.2.0",
      "model_name": "LayoutModel",
      "state": {
       "_model_module": "@jupyter-widgets/base",
       "_model_module_version": "1.2.0",
       "_model_name": "LayoutModel",
       "_view_count": null,
       "_view_module": "@jupyter-widgets/base",
       "_view_module_version": "1.2.0",
       "_view_name": "LayoutView",
       "align_content": null,
       "align_items": null,
       "align_self": null,
       "border": null,
       "bottom": null,
       "display": null,
       "flex": null,
       "flex_flow": null,
       "grid_area": null,
       "grid_auto_columns": null,
       "grid_auto_flow": null,
       "grid_auto_rows": null,
       "grid_column": null,
       "grid_gap": null,
       "grid_row": null,
       "grid_template_areas": null,
       "grid_template_columns": null,
       "grid_template_rows": null,
       "height": null,
       "justify_content": null,
       "justify_items": null,
       "left": null,
       "margin": null,
       "max_height": null,
       "max_width": null,
       "min_height": null,
       "min_width": null,
       "object_fit": null,
       "object_position": null,
       "order": null,
       "overflow": null,
       "overflow_x": null,
       "overflow_y": null,
       "padding": null,
       "right": null,
       "top": null,
       "visibility": null,
       "width": null
      }
     },
     "c066e7bb4fa7403395909f1fa66ccf9f": {
      "model_module": "@jupyter-widgets/base",
      "model_module_version": "1.2.0",
      "model_name": "LayoutModel",
      "state": {
       "_model_module": "@jupyter-widgets/base",
       "_model_module_version": "1.2.0",
       "_model_name": "LayoutModel",
       "_view_count": null,
       "_view_module": "@jupyter-widgets/base",
       "_view_module_version": "1.2.0",
       "_view_name": "LayoutView",
       "align_content": null,
       "align_items": null,
       "align_self": null,
       "border": null,
       "bottom": null,
       "display": null,
       "flex": null,
       "flex_flow": null,
       "grid_area": null,
       "grid_auto_columns": null,
       "grid_auto_flow": null,
       "grid_auto_rows": null,
       "grid_column": null,
       "grid_gap": null,
       "grid_row": null,
       "grid_template_areas": null,
       "grid_template_columns": null,
       "grid_template_rows": null,
       "height": null,
       "justify_content": null,
       "justify_items": null,
       "left": null,
       "margin": null,
       "max_height": null,
       "max_width": null,
       "min_height": null,
       "min_width": null,
       "object_fit": null,
       "object_position": null,
       "order": null,
       "overflow": null,
       "overflow_x": null,
       "overflow_y": null,
       "padding": null,
       "right": null,
       "top": null,
       "visibility": null,
       "width": null
      }
     },
     "c0a21429c12145d99f6d6eacba192d44": {
      "model_module": "@jupyter-widgets/base",
      "model_module_version": "1.2.0",
      "model_name": "LayoutModel",
      "state": {
       "_model_module": "@jupyter-widgets/base",
       "_model_module_version": "1.2.0",
       "_model_name": "LayoutModel",
       "_view_count": null,
       "_view_module": "@jupyter-widgets/base",
       "_view_module_version": "1.2.0",
       "_view_name": "LayoutView",
       "align_content": null,
       "align_items": null,
       "align_self": null,
       "border": null,
       "bottom": null,
       "display": null,
       "flex": null,
       "flex_flow": null,
       "grid_area": null,
       "grid_auto_columns": null,
       "grid_auto_flow": null,
       "grid_auto_rows": null,
       "grid_column": null,
       "grid_gap": null,
       "grid_row": null,
       "grid_template_areas": null,
       "grid_template_columns": null,
       "grid_template_rows": null,
       "height": null,
       "justify_content": null,
       "justify_items": null,
       "left": null,
       "margin": null,
       "max_height": null,
       "max_width": null,
       "min_height": null,
       "min_width": null,
       "object_fit": null,
       "object_position": null,
       "order": null,
       "overflow": null,
       "overflow_x": null,
       "overflow_y": null,
       "padding": null,
       "right": null,
       "top": null,
       "visibility": null,
       "width": null
      }
     },
     "c17c228383e54276914bde32961d27f2": {
      "model_module": "@jupyter-widgets/controls",
      "model_module_version": "1.5.0",
      "model_name": "HTMLModel",
      "state": {
       "_dom_classes": [],
       "_model_module": "@jupyter-widgets/controls",
       "_model_module_version": "1.5.0",
       "_model_name": "HTMLModel",
       "_view_count": null,
       "_view_module": "@jupyter-widgets/controls",
       "_view_module_version": "1.5.0",
       "_view_name": "HTMLView",
       "description": "",
       "description_tooltip": null,
       "layout": "IPY_MODEL_16ce484cf82b4facada26e46d930ca70",
       "placeholder": "​",
       "style": "IPY_MODEL_3b995efe8cfc45248aea7f7daa968149",
       "value": "Downloading: 100%"
      }
     },
     "c47ab9d5a33d48699b9d70f3728c144b": {
      "model_module": "@jupyter-widgets/controls",
      "model_module_version": "1.5.0",
      "model_name": "DescriptionStyleModel",
      "state": {
       "_model_module": "@jupyter-widgets/controls",
       "_model_module_version": "1.5.0",
       "_model_name": "DescriptionStyleModel",
       "_view_count": null,
       "_view_module": "@jupyter-widgets/base",
       "_view_module_version": "1.2.0",
       "_view_name": "StyleView",
       "description_width": ""
      }
     },
     "cd14907724084a70b2e7f752234da9ed": {
      "model_module": "@jupyter-widgets/controls",
      "model_module_version": "1.5.0",
      "model_name": "DescriptionStyleModel",
      "state": {
       "_model_module": "@jupyter-widgets/controls",
       "_model_module_version": "1.5.0",
       "_model_name": "DescriptionStyleModel",
       "_view_count": null,
       "_view_module": "@jupyter-widgets/base",
       "_view_module_version": "1.2.0",
       "_view_name": "StyleView",
       "description_width": ""
      }
     },
     "ceebfa378c224a4b98821b3752be0932": {
      "model_module": "@jupyter-widgets/base",
      "model_module_version": "1.2.0",
      "model_name": "LayoutModel",
      "state": {
       "_model_module": "@jupyter-widgets/base",
       "_model_module_version": "1.2.0",
       "_model_name": "LayoutModel",
       "_view_count": null,
       "_view_module": "@jupyter-widgets/base",
       "_view_module_version": "1.2.0",
       "_view_name": "LayoutView",
       "align_content": null,
       "align_items": null,
       "align_self": null,
       "border": null,
       "bottom": null,
       "display": null,
       "flex": null,
       "flex_flow": null,
       "grid_area": null,
       "grid_auto_columns": null,
       "grid_auto_flow": null,
       "grid_auto_rows": null,
       "grid_column": null,
       "grid_gap": null,
       "grid_row": null,
       "grid_template_areas": null,
       "grid_template_columns": null,
       "grid_template_rows": null,
       "height": null,
       "justify_content": null,
       "justify_items": null,
       "left": null,
       "margin": null,
       "max_height": null,
       "max_width": null,
       "min_height": null,
       "min_width": null,
       "object_fit": null,
       "object_position": null,
       "order": null,
       "overflow": null,
       "overflow_x": null,
       "overflow_y": null,
       "padding": null,
       "right": null,
       "top": null,
       "visibility": null,
       "width": null
      }
     },
     "d1a02db4dd3d4f61b08ff9ec1f1b1d4b": {
      "model_module": "@jupyter-widgets/controls",
      "model_module_version": "1.5.0",
      "model_name": "FloatProgressModel",
      "state": {
       "_dom_classes": [],
       "_model_module": "@jupyter-widgets/controls",
       "_model_module_version": "1.5.0",
       "_model_name": "FloatProgressModel",
       "_view_count": null,
       "_view_module": "@jupyter-widgets/controls",
       "_view_module_version": "1.5.0",
       "_view_name": "ProgressView",
       "bar_style": "success",
       "description": "",
       "description_tooltip": null,
       "layout": "IPY_MODEL_7f70a11b2e6b4ef69cc368f8b75510cc",
       "max": 739,
       "min": 0,
       "orientation": "horizontal",
       "style": "IPY_MODEL_93afe8d1c03b41629dc3dcbbfd075686",
       "value": 739
      }
     },
     "d36be0ceab434ccb99920b80ad9a6755": {
      "model_module": "@jupyter-widgets/controls",
      "model_module_version": "1.5.0",
      "model_name": "HTMLModel",
      "state": {
       "_dom_classes": [],
       "_model_module": "@jupyter-widgets/controls",
       "_model_module_version": "1.5.0",
       "_model_name": "HTMLModel",
       "_view_count": null,
       "_view_module": "@jupyter-widgets/controls",
       "_view_module_version": "1.5.0",
       "_view_name": "HTMLView",
       "description": "",
       "description_tooltip": null,
       "layout": "IPY_MODEL_883d3effe3064fb395d7de0489d7ba58",
       "placeholder": "​",
       "style": "IPY_MODEL_236c77c9541c4b36b42b177f3332c2a7",
       "value": " 445M/445M [00:12&lt;00:00, 43.3MB/s]"
      }
     },
     "d3ad35efd5364531bb58ebc5979e993d": {
      "model_module": "@jupyter-widgets/controls",
      "model_module_version": "1.5.0",
      "model_name": "FloatProgressModel",
      "state": {
       "_dom_classes": [],
       "_model_module": "@jupyter-widgets/controls",
       "_model_module_version": "1.5.0",
       "_model_name": "FloatProgressModel",
       "_view_count": null,
       "_view_module": "@jupyter-widgets/controls",
       "_view_module_version": "1.5.0",
       "_view_name": "ProgressView",
       "bar_style": "info",
       "description": "",
       "description_tooltip": null,
       "layout": "IPY_MODEL_7cb31542271f4fd8b50c529b618a2e26",
       "max": 1,
       "min": 0,
       "orientation": "horizontal",
       "style": "IPY_MODEL_92645377f680426ba09126d2e6ed3be9",
       "value": 1
      }
     },
     "d8ba9ada282a42089633bdf3bb72fd10": {
      "model_module": "@jupyter-widgets/controls",
      "model_module_version": "1.5.0",
      "model_name": "HTMLModel",
      "state": {
       "_dom_classes": [],
       "_model_module": "@jupyter-widgets/controls",
       "_model_module_version": "1.5.0",
       "_model_name": "HTMLModel",
       "_view_count": null,
       "_view_module": "@jupyter-widgets/controls",
       "_view_module_version": "1.5.0",
       "_view_name": "HTMLView",
       "description": "",
       "description_tooltip": null,
       "layout": "IPY_MODEL_26a82b6be2ba43bbafdbc889754f029d",
       "placeholder": "​",
       "style": "IPY_MODEL_e85fc71de1e5498cb04c49951d44da20",
       "value": "Downloading: "
      }
     },
     "da380c0e20c1470193d2a981703646b2": {
      "model_module": "@jupyter-widgets/base",
      "model_module_version": "1.2.0",
      "model_name": "LayoutModel",
      "state": {
       "_model_module": "@jupyter-widgets/base",
       "_model_module_version": "1.2.0",
       "_model_name": "LayoutModel",
       "_view_count": null,
       "_view_module": "@jupyter-widgets/base",
       "_view_module_version": "1.2.0",
       "_view_name": "LayoutView",
       "align_content": null,
       "align_items": null,
       "align_self": null,
       "border": null,
       "bottom": null,
       "display": null,
       "flex": null,
       "flex_flow": null,
       "grid_area": null,
       "grid_auto_columns": null,
       "grid_auto_flow": null,
       "grid_auto_rows": null,
       "grid_column": null,
       "grid_gap": null,
       "grid_row": null,
       "grid_template_areas": null,
       "grid_template_columns": null,
       "grid_template_rows": null,
       "height": null,
       "justify_content": null,
       "justify_items": null,
       "left": null,
       "margin": null,
       "max_height": null,
       "max_width": null,
       "min_height": null,
       "min_width": null,
       "object_fit": null,
       "object_position": null,
       "order": null,
       "overflow": null,
       "overflow_x": null,
       "overflow_y": null,
       "padding": null,
       "right": null,
       "top": null,
       "visibility": null,
       "width": null
      }
     },
     "e3aa14ecd3f14a56a1eadb09092af4dd": {
      "model_module": "@jupyter-widgets/controls",
      "model_module_version": "1.5.0",
      "model_name": "HTMLModel",
      "state": {
       "_dom_classes": [],
       "_model_module": "@jupyter-widgets/controls",
       "_model_module_version": "1.5.0",
       "_model_name": "HTMLModel",
       "_view_count": null,
       "_view_module": "@jupyter-widgets/controls",
       "_view_module_version": "1.5.0",
       "_view_name": "HTMLView",
       "description": "",
       "description_tooltip": null,
       "layout": "IPY_MODEL_da380c0e20c1470193d2a981703646b2",
       "placeholder": "​",
       "style": "IPY_MODEL_8a639127ae4c44da8f683fdf027b9535",
       "value": " 779k/779k [00:00&lt;00:00, 857kB/s]"
      }
     },
     "e630a337f74a4254a01c21a1ae023149": {
      "model_module": "@jupyter-widgets/base",
      "model_module_version": "1.2.0",
      "model_name": "LayoutModel",
      "state": {
       "_model_module": "@jupyter-widgets/base",
       "_model_module_version": "1.2.0",
       "_model_name": "LayoutModel",
       "_view_count": null,
       "_view_module": "@jupyter-widgets/base",
       "_view_module_version": "1.2.0",
       "_view_name": "LayoutView",
       "align_content": null,
       "align_items": null,
       "align_self": null,
       "border": null,
       "bottom": null,
       "display": null,
       "flex": null,
       "flex_flow": null,
       "grid_area": null,
       "grid_auto_columns": null,
       "grid_auto_flow": null,
       "grid_auto_rows": null,
       "grid_column": null,
       "grid_gap": null,
       "grid_row": null,
       "grid_template_areas": null,
       "grid_template_columns": null,
       "grid_template_rows": null,
       "height": null,
       "justify_content": null,
       "justify_items": null,
       "left": null,
       "margin": null,
       "max_height": null,
       "max_width": null,
       "min_height": null,
       "min_width": null,
       "object_fit": null,
       "object_position": null,
       "order": null,
       "overflow": null,
       "overflow_x": null,
       "overflow_y": null,
       "padding": null,
       "right": null,
       "top": null,
       "visibility": null,
       "width": null
      }
     },
     "e85fc71de1e5498cb04c49951d44da20": {
      "model_module": "@jupyter-widgets/controls",
      "model_module_version": "1.5.0",
      "model_name": "DescriptionStyleModel",
      "state": {
       "_model_module": "@jupyter-widgets/controls",
       "_model_module_version": "1.5.0",
       "_model_name": "DescriptionStyleModel",
       "_view_count": null,
       "_view_module": "@jupyter-widgets/base",
       "_view_module_version": "1.2.0",
       "_view_name": "StyleView",
       "description_width": ""
      }
     },
     "e8bff529f7ea4fd49c2d86b1e83c5c36": {
      "model_module": "@jupyter-widgets/controls",
      "model_module_version": "1.5.0",
      "model_name": "DescriptionStyleModel",
      "state": {
       "_model_module": "@jupyter-widgets/controls",
       "_model_module_version": "1.5.0",
       "_model_name": "DescriptionStyleModel",
       "_view_count": null,
       "_view_module": "@jupyter-widgets/base",
       "_view_module_version": "1.2.0",
       "_view_name": "StyleView",
       "description_width": ""
      }
     },
     "e8d0583156624eb99d0157962284c6e7": {
      "model_module": "@jupyter-widgets/controls",
      "model_module_version": "1.5.0",
      "model_name": "FloatProgressModel",
      "state": {
       "_dom_classes": [],
       "_model_module": "@jupyter-widgets/controls",
       "_model_module_version": "1.5.0",
       "_model_name": "FloatProgressModel",
       "_view_count": null,
       "_view_module": "@jupyter-widgets/controls",
       "_view_module_version": "1.5.0",
       "_view_name": "ProgressView",
       "bar_style": "info",
       "description": "",
       "description_tooltip": null,
       "layout": "IPY_MODEL_a0e3921105b94270aad6fc405c8d20af",
       "max": 1,
       "min": 0,
       "orientation": "horizontal",
       "style": "IPY_MODEL_256b10cde106463abdfd0e1c5d7204b3",
       "value": 1
      }
     },
     "ebdfec5e1b5e4ff0833e926292d985d1": {
      "model_module": "@jupyter-widgets/base",
      "model_module_version": "1.2.0",
      "model_name": "LayoutModel",
      "state": {
       "_model_module": "@jupyter-widgets/base",
       "_model_module_version": "1.2.0",
       "_model_name": "LayoutModel",
       "_view_count": null,
       "_view_module": "@jupyter-widgets/base",
       "_view_module_version": "1.2.0",
       "_view_name": "LayoutView",
       "align_content": null,
       "align_items": null,
       "align_self": null,
       "border": null,
       "bottom": null,
       "display": null,
       "flex": null,
       "flex_flow": null,
       "grid_area": null,
       "grid_auto_columns": null,
       "grid_auto_flow": null,
       "grid_auto_rows": null,
       "grid_column": null,
       "grid_gap": null,
       "grid_row": null,
       "grid_template_areas": null,
       "grid_template_columns": null,
       "grid_template_rows": null,
       "height": null,
       "justify_content": null,
       "justify_items": null,
       "left": null,
       "margin": null,
       "max_height": null,
       "max_width": null,
       "min_height": null,
       "min_width": null,
       "object_fit": null,
       "object_position": null,
       "order": null,
       "overflow": null,
       "overflow_x": null,
       "overflow_y": null,
       "padding": null,
       "right": null,
       "top": null,
       "visibility": null,
       "width": null
      }
     },
     "ed2bc3071b814209acf18da2f3e92dc9": {
      "model_module": "@jupyter-widgets/controls",
      "model_module_version": "1.5.0",
      "model_name": "HTMLModel",
      "state": {
       "_dom_classes": [],
       "_model_module": "@jupyter-widgets/controls",
       "_model_module_version": "1.5.0",
       "_model_name": "HTMLModel",
       "_view_count": null,
       "_view_module": "@jupyter-widgets/controls",
       "_view_module_version": "1.5.0",
       "_view_name": "HTMLView",
       "description": "",
       "description_tooltip": null,
       "layout": "IPY_MODEL_4f4b505af833426faefd506c08aad971",
       "placeholder": "​",
       "style": "IPY_MODEL_fe92e15ccc584360bc49da9757099791",
       "value": " 2/2 [00:00&lt;00:00, 34.18it/s]"
      }
     },
     "ee0ecc1857fe4656bbba4ac9f1825c61": {
      "model_module": "@jupyter-widgets/base",
      "model_module_version": "1.2.0",
      "model_name": "LayoutModel",
      "state": {
       "_model_module": "@jupyter-widgets/base",
       "_model_module_version": "1.2.0",
       "_model_name": "LayoutModel",
       "_view_count": null,
       "_view_module": "@jupyter-widgets/base",
       "_view_module_version": "1.2.0",
       "_view_name": "LayoutView",
       "align_content": null,
       "align_items": null,
       "align_self": null,
       "border": null,
       "bottom": null,
       "display": null,
       "flex": null,
       "flex_flow": null,
       "grid_area": null,
       "grid_auto_columns": null,
       "grid_auto_flow": null,
       "grid_auto_rows": null,
       "grid_column": null,
       "grid_gap": null,
       "grid_row": null,
       "grid_template_areas": null,
       "grid_template_columns": null,
       "grid_template_rows": null,
       "height": null,
       "justify_content": null,
       "justify_items": null,
       "left": null,
       "margin": null,
       "max_height": null,
       "max_width": null,
       "min_height": null,
       "min_width": null,
       "object_fit": null,
       "object_position": null,
       "order": null,
       "overflow": null,
       "overflow_x": null,
       "overflow_y": null,
       "padding": null,
       "right": null,
       "top": null,
       "visibility": null,
       "width": null
      }
     },
     "eeb5ae2af4564010a2a4f23e1af54ac4": {
      "model_module": "@jupyter-widgets/controls",
      "model_module_version": "1.5.0",
      "model_name": "HTMLModel",
      "state": {
       "_dom_classes": [],
       "_model_module": "@jupyter-widgets/controls",
       "_model_module_version": "1.5.0",
       "_model_name": "HTMLModel",
       "_view_count": null,
       "_view_module": "@jupyter-widgets/controls",
       "_view_module_version": "1.5.0",
       "_view_name": "HTMLView",
       "description": "",
       "description_tooltip": null,
       "layout": "IPY_MODEL_f82fb89a3ff046fb92bae9642e1a86d2",
       "placeholder": "​",
       "style": "IPY_MODEL_68aac4f433a74af6a0adccbf0c0351b8",
       "value": " 4.03k/? [00:00&lt;00:00, 159kB/s]"
      }
     },
     "f1e3127cc3ff40aba3c8583bce8ae490": {
      "model_module": "@jupyter-widgets/controls",
      "model_module_version": "1.5.0",
      "model_name": "HBoxModel",
      "state": {
       "_dom_classes": [],
       "_model_module": "@jupyter-widgets/controls",
       "_model_module_version": "1.5.0",
       "_model_name": "HBoxModel",
       "_view_count": null,
       "_view_module": "@jupyter-widgets/controls",
       "_view_module_version": "1.5.0",
       "_view_name": "HBoxView",
       "box_style": "",
       "children": [
        "IPY_MODEL_90a85bcf52e24a80b02e852c2d722e8e",
        "IPY_MODEL_57065a2232094f5089bd5ca4a797a60c",
        "IPY_MODEL_88dfe9df374c4f05b2eb82e52b5787f4"
       ],
       "layout": "IPY_MODEL_858e18a5cfdb471ab23d72c4b6aeb1a9"
      }
     },
     "f7cb86c7ea394213a88fc80b17ac1fa4": {
      "model_module": "@jupyter-widgets/base",
      "model_module_version": "1.2.0",
      "model_name": "LayoutModel",
      "state": {
       "_model_module": "@jupyter-widgets/base",
       "_model_module_version": "1.2.0",
       "_model_name": "LayoutModel",
       "_view_count": null,
       "_view_module": "@jupyter-widgets/base",
       "_view_module_version": "1.2.0",
       "_view_name": "LayoutView",
       "align_content": null,
       "align_items": null,
       "align_self": null,
       "border": null,
       "bottom": null,
       "display": null,
       "flex": null,
       "flex_flow": null,
       "grid_area": null,
       "grid_auto_columns": null,
       "grid_auto_flow": null,
       "grid_auto_rows": null,
       "grid_column": null,
       "grid_gap": null,
       "grid_row": null,
       "grid_template_areas": null,
       "grid_template_columns": null,
       "grid_template_rows": null,
       "height": null,
       "justify_content": null,
       "justify_items": null,
       "left": null,
       "margin": null,
       "max_height": null,
       "max_width": null,
       "min_height": null,
       "min_width": null,
       "object_fit": null,
       "object_position": null,
       "order": null,
       "overflow": null,
       "overflow_x": null,
       "overflow_y": null,
       "padding": null,
       "right": null,
       "top": null,
       "visibility": null,
       "width": null
      }
     },
     "f82fb89a3ff046fb92bae9642e1a86d2": {
      "model_module": "@jupyter-widgets/base",
      "model_module_version": "1.2.0",
      "model_name": "LayoutModel",
      "state": {
       "_model_module": "@jupyter-widgets/base",
       "_model_module_version": "1.2.0",
       "_model_name": "LayoutModel",
       "_view_count": null,
       "_view_module": "@jupyter-widgets/base",
       "_view_module_version": "1.2.0",
       "_view_name": "LayoutView",
       "align_content": null,
       "align_items": null,
       "align_self": null,
       "border": null,
       "bottom": null,
       "display": null,
       "flex": null,
       "flex_flow": null,
       "grid_area": null,
       "grid_auto_columns": null,
       "grid_auto_flow": null,
       "grid_auto_rows": null,
       "grid_column": null,
       "grid_gap": null,
       "grid_row": null,
       "grid_template_areas": null,
       "grid_template_columns": null,
       "grid_template_rows": null,
       "height": null,
       "justify_content": null,
       "justify_items": null,
       "left": null,
       "margin": null,
       "max_height": null,
       "max_width": null,
       "min_height": null,
       "min_width": null,
       "object_fit": null,
       "object_position": null,
       "order": null,
       "overflow": null,
       "overflow_x": null,
       "overflow_y": null,
       "padding": null,
       "right": null,
       "top": null,
       "visibility": null,
       "width": null
      }
     },
     "f8ae3f81e89241a787f7949cad0f878c": {
      "model_module": "@jupyter-widgets/controls",
      "model_module_version": "1.5.0",
      "model_name": "HTMLModel",
      "state": {
       "_dom_classes": [],
       "_model_module": "@jupyter-widgets/controls",
       "_model_module_version": "1.5.0",
       "_model_name": "HTMLModel",
       "_view_count": null,
       "_view_module": "@jupyter-widgets/controls",
       "_view_module_version": "1.5.0",
       "_view_name": "HTMLView",
       "description": "",
       "description_tooltip": null,
       "layout": "IPY_MODEL_61b560cb1fb841da9739aeb6fcc6de2b",
       "placeholder": "​",
       "style": "IPY_MODEL_9ec26c5d11d043bcb2dfa79921bfaa34",
       "value": "Downloading: 100%"
      }
     },
     "fc23ee3a7f7b43fabf25d6454b8fd32e": {
      "model_module": "@jupyter-widgets/controls",
      "model_module_version": "1.5.0",
      "model_name": "DescriptionStyleModel",
      "state": {
       "_model_module": "@jupyter-widgets/controls",
       "_model_module_version": "1.5.0",
       "_model_name": "DescriptionStyleModel",
       "_view_count": null,
       "_view_module": "@jupyter-widgets/base",
       "_view_module_version": "1.2.0",
       "_view_name": "StyleView",
       "description_width": ""
      }
     },
     "fd0a6bf3520040dcb818ead5c8c242e7": {
      "model_module": "@jupyter-widgets/base",
      "model_module_version": "1.2.0",
      "model_name": "LayoutModel",
      "state": {
       "_model_module": "@jupyter-widgets/base",
       "_model_module_version": "1.2.0",
       "_model_name": "LayoutModel",
       "_view_count": null,
       "_view_module": "@jupyter-widgets/base",
       "_view_module_version": "1.2.0",
       "_view_name": "LayoutView",
       "align_content": null,
       "align_items": null,
       "align_self": null,
       "border": null,
       "bottom": null,
       "display": null,
       "flex": null,
       "flex_flow": null,
       "grid_area": null,
       "grid_auto_columns": null,
       "grid_auto_flow": null,
       "grid_auto_rows": null,
       "grid_column": null,
       "grid_gap": null,
       "grid_row": null,
       "grid_template_areas": null,
       "grid_template_columns": null,
       "grid_template_rows": null,
       "height": null,
       "justify_content": null,
       "justify_items": null,
       "left": null,
       "margin": null,
       "max_height": null,
       "max_width": null,
       "min_height": null,
       "min_width": null,
       "object_fit": null,
       "object_position": null,
       "order": null,
       "overflow": null,
       "overflow_x": null,
       "overflow_y": null,
       "padding": null,
       "right": null,
       "top": null,
       "visibility": null,
       "width": null
      }
     },
     "fd128ee467494aaea57543c1b84f22ca": {
      "model_module": "@jupyter-widgets/controls",
      "model_module_version": "1.5.0",
      "model_name": "HBoxModel",
      "state": {
       "_dom_classes": [],
       "_model_module": "@jupyter-widgets/controls",
       "_model_module_version": "1.5.0",
       "_model_name": "HBoxModel",
       "_view_count": null,
       "_view_module": "@jupyter-widgets/controls",
       "_view_module_version": "1.5.0",
       "_view_name": "HBoxView",
       "box_style": "",
       "children": [
        "IPY_MODEL_bc5e9f69bdeb4ee8b95087b65bc19b7f",
        "IPY_MODEL_796dfb39474a40f29d7018c33bc5d109",
        "IPY_MODEL_ed2bc3071b814209acf18da2f3e92dc9"
       ],
       "layout": "IPY_MODEL_04d92fa9c06e470ba85a13502c7c148a"
      }
     },
     "fe92e15ccc584360bc49da9757099791": {
      "model_module": "@jupyter-widgets/controls",
      "model_module_version": "1.5.0",
      "model_name": "DescriptionStyleModel",
      "state": {
       "_model_module": "@jupyter-widgets/controls",
       "_model_module_version": "1.5.0",
       "_model_name": "DescriptionStyleModel",
       "_view_count": null,
       "_view_module": "@jupyter-widgets/base",
       "_view_module_version": "1.2.0",
       "_view_name": "StyleView",
       "description_width": ""
      }
     }
    },
    "version_major": 2,
    "version_minor": 0
   }
  }
 },
 "nbformat": 4,
 "nbformat_minor": 5
}
