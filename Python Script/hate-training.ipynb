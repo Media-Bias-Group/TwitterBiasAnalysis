{
 "cells": [
  {
   "cell_type": "markdown",
   "metadata": {},
   "source": [
    "### Note: <br>\n",
    "This code for the fine-tuning process of XLNet for hate speech detection is based on the following example, published on Medium: <br>\n",
    "\n",
    "link to article: https://medium.com/swlh/using-xlnet-for-sentiment-classification-cfa948e65e85 <br>\n",
    "author: Shanay Ghag <br>\n",
    "published at: Jun 16, 2020<br>\n",
    "link to GitHub: https://github.com/shanayghag/Sentiment-classification-using-XLNet"
   ]
  },
  {
   "cell_type": "code",
   "execution_count": null,
   "metadata": {},
   "outputs": [],
   "source": [
    "from datasets import load_dataset_builder, load_dataset\n",
    "import numpy as np\n",
    "import pandas as pd\n",
    "import seaborn as sns\n",
    "from sklearn.utils import shuffle\n",
    "from sklearn.model_selection import train_test_split\n",
    "from sklearn.metrics import confusion_matrix, classification_report, accuracy_score\n",
    "import re\n",
    "\n",
    "import sentencepiece\n",
    "from collections import defaultdict\n",
    "\n",
    "import torch\n",
    "from torch import nn, optim\n",
    "from torch.utils.data import TensorDataset,RandomSampler,SequentialSampler, Dataset, DataLoader\n",
    "import torch.nn.functional as F\n",
    "from keras.preprocessing.sequence import pad_sequences\n",
    "import transformers\n",
    "from transformers import XLNetTokenizer, XLNetModel, AdamW, get_linear_schedule_with_warmup\n",
    "import matplotlib.pyplot as plt"
   ]
  },
  {
   "cell_type": "code",
   "execution_count": null,
   "metadata": {
    "execution": {
     "iopub.execute_input": "2022-03-04T13:25:26.792545Z",
     "iopub.status.busy": "2022-03-04T13:25:26.792206Z",
     "iopub.status.idle": "2022-03-04T13:25:26.804119Z",
     "shell.execute_reply": "2022-03-04T13:25:26.802998Z",
     "shell.execute_reply.started": "2022-03-04T13:25:26.792506Z"
    },
    "executionInfo": {
     "elapsed": 17542,
     "status": "ok",
     "timestamp": 1639927280017,
     "user": {
      "displayName": "lisa richter",
      "photoUrl": "https://lh3.googleusercontent.com/a/default-user=s64",
      "userId": "08999729000846221512"
     },
     "user_tz": -60
    },
    "id": "g4Qe-YCBVUUa",
    "outputId": "40bb91f5-9d42-40af-bc87-d9bca9c0687d"
   },
   "outputs": [],
   "source": [
    "# set up connection to drive: \n",
    "#from google.colab import drive\n",
    "#drive.mount('/content/drive')\n",
    "\n",
    "# define device: \n",
    "device = torch.device(\"cuda:0\" if torch.cuda.is_available() else \"cpu\")\n",
    "device"
   ]
  },
  {
   "cell_type": "code",
   "execution_count": null,
   "metadata": {
    "execution": {
     "iopub.execute_input": "2022-03-04T13:25:28.119463Z",
     "iopub.status.busy": "2022-03-04T13:25:28.118652Z",
     "iopub.status.idle": "2022-03-04T13:25:28.124415Z",
     "shell.execute_reply": "2022-03-04T13:25:28.123339Z",
     "shell.execute_reply.started": "2022-03-04T13:25:28.119413Z"
    },
    "executionInfo": {
     "elapsed": 205,
     "status": "ok",
     "timestamp": 1639927284695,
     "user": {
      "displayName": "lisa richter",
      "photoUrl": "https://lh3.googleusercontent.com/a/default-user=s64",
      "userId": "08999729000846221512"
     },
     "user_tz": -60
    },
    "id": "Zc586jVyHNI9"
   },
   "outputs": [],
   "source": [
    "def prepare_text(text):\n",
    "    text = re.sub(r\"@[A-Za-z0-9_]+\", ' ', text) # remove @user \n",
    "    text = re.sub(r\"https?://[A-Za-z0-9./]+\", ' ', text) # remove links\n",
    "    text = re.sub(r\"[^a-zA-z.!?'0-9]\", ' ', text) # remove smileys\n",
    "    text = re.sub('#', '', text) # remove hash sign\n",
    "    text = re.sub('\\t', ' ',  text) # remove tab\n",
    "    text = re.sub(r\" +\", ' ', text) # remove multiple whitespaces\n",
    "    return text"
   ]
  },
  {
   "cell_type": "markdown",
   "metadata": {
    "id": "CnPDjd1bsiBQ"
   },
   "source": [
    "# 1. Prepare Hate Dataset for Fine-Tuning"
   ]
  },
  {
   "cell_type": "code",
   "execution_count": null,
   "metadata": {
    "execution": {
     "iopub.execute_input": "2022-03-04T13:25:41.605396Z",
     "iopub.status.busy": "2022-03-04T13:25:41.605029Z",
     "iopub.status.idle": "2022-03-04T13:25:45.59797Z",
     "shell.execute_reply": "2022-03-04T13:25:45.596673Z",
     "shell.execute_reply.started": "2022-03-04T13:25:41.605359Z"
    },
    "executionInfo": {
     "elapsed": 3197,
     "status": "ok",
     "timestamp": 1639927291490,
     "user": {
      "displayName": "lisa richter",
      "photoUrl": "https://lh3.googleusercontent.com/a/default-user=s64",
      "userId": "08999729000846221512"
     },
     "user_tz": -60
    },
    "id": "QB1fi7RhskkP",
    "outputId": "2208c83a-6883-4e4d-9954-ca42283943ba"
   },
   "outputs": [],
   "source": [
    "# load dataset from hugging face hub: tweets_hate_speech_detection\n",
    "hate_data_train = load_dataset('tweets_hate_speech_detection', split='train')"
   ]
  },
  {
   "cell_type": "code",
   "execution_count": null,
   "metadata": {
    "execution": {
     "iopub.execute_input": "2022-03-04T13:25:47.028128Z",
     "iopub.status.busy": "2022-03-04T13:25:47.027791Z",
     "iopub.status.idle": "2022-03-04T13:25:47.09618Z",
     "shell.execute_reply": "2022-03-04T13:25:47.095065Z",
     "shell.execute_reply.started": "2022-03-04T13:25:47.028093Z"
    },
    "executionInfo": {
     "elapsed": 217,
     "status": "ok",
     "timestamp": 1639927295023,
     "user": {
      "displayName": "lisa richter",
      "photoUrl": "https://lh3.googleusercontent.com/a/default-user=s64",
      "userId": "08999729000846221512"
     },
     "user_tz": -60
    },
    "id": "jq4tmXAEA0kH"
   },
   "outputs": [],
   "source": [
    "tweet = hate_data_train['tweet']\n",
    "label = hate_data_train['label']\n",
    "df_hate_1 = pd.DataFrame({'text': tweet, 'label': label}) # 0 = no hate; 1 = hate (racist or sexist)\n"
   ]
  },
  {
   "cell_type": "code",
   "execution_count": null,
   "metadata": {
    "execution": {
     "iopub.execute_input": "2022-03-04T13:25:49.771963Z",
     "iopub.status.busy": "2022-03-04T13:25:49.771619Z",
     "iopub.status.idle": "2022-03-04T13:25:53.192178Z",
     "shell.execute_reply": "2022-03-04T13:25:53.191159Z",
     "shell.execute_reply.started": "2022-03-04T13:25:49.771926Z"
    },
    "executionInfo": {
     "elapsed": 3531,
     "status": "ok",
     "timestamp": 1639927299993,
     "user": {
      "displayName": "lisa richter",
      "photoUrl": "https://lh3.googleusercontent.com/a/default-user=s64",
      "userId": "08999729000846221512"
     },
     "user_tz": -60
    },
    "id": "HUPq8o4UHQOI",
    "outputId": "43db87fe-b7bc-40e9-dd70-cf67b538db7a"
   },
   "outputs": [],
   "source": [
    "# load different hate speech dataset:\n",
    "hate_data_2= load_dataset('hate_speech_offensive', split='train')"
   ]
  },
  {
   "cell_type": "code",
   "execution_count": null,
   "metadata": {
    "execution": {
     "iopub.execute_input": "2022-03-04T13:25:53.988833Z",
     "iopub.status.busy": "2022-03-04T13:25:53.988438Z",
     "iopub.status.idle": "2022-03-04T13:25:54.038557Z",
     "shell.execute_reply": "2022-03-04T13:25:54.037731Z",
     "shell.execute_reply.started": "2022-03-04T13:25:53.98879Z"
    },
    "executionInfo": {
     "elapsed": 205,
     "status": "ok",
     "timestamp": 1639927302966,
     "user": {
      "displayName": "lisa richter",
      "photoUrl": "https://lh3.googleusercontent.com/a/default-user=s64",
      "userId": "08999729000846221512"
     },
     "user_tz": -60
    },
    "id": "lR2rbmo9HmHw"
   },
   "outputs": [],
   "source": [
    "text_2 = hate_data_2['tweet']\n",
    "label_2 = hate_data_2['class']\n",
    "\n",
    "df_hate_2 = pd.DataFrame({'text': text_2, 'label': label_2}) # 0 = hate-speech; 1 = offensive-language; 2 = neither"
   ]
  },
  {
   "cell_type": "code",
   "execution_count": null,
   "metadata": {
    "execution": {
     "iopub.execute_input": "2022-03-04T13:25:55.700042Z",
     "iopub.status.busy": "2022-03-04T13:25:55.699511Z",
     "iopub.status.idle": "2022-03-04T13:25:55.714231Z",
     "shell.execute_reply": "2022-03-04T13:25:55.712909Z",
     "shell.execute_reply.started": "2022-03-04T13:25:55.699999Z"
    },
    "executionInfo": {
     "elapsed": 4,
     "status": "ok",
     "timestamp": 1639927304456,
     "user": {
      "displayName": "lisa richter",
      "photoUrl": "https://lh3.googleusercontent.com/a/default-user=s64",
      "userId": "08999729000846221512"
     },
     "user_tz": -60
    },
    "id": "my9mfzW6A0hk"
   },
   "outputs": [],
   "source": [
    "# change label to match df_hate_1 and binary classification: 0: no hate; 1: hate\n",
    "df_hate_2.loc[(df_hate_2.label == 0),'label']=1 # change 0 to 1 to collapse hate speech and offensive language in one class\n",
    "df_hate_2.loc[(df_hate_2.label == 2),'label']=0 # then change 2 to 0 to match df_hate_1 classes\n",
    "# 0 = no hate; 1: hate "
   ]
  },
  {
   "cell_type": "code",
   "execution_count": null,
   "metadata": {
    "execution": {
     "iopub.execute_input": "2022-03-04T13:25:56.895017Z",
     "iopub.status.busy": "2022-03-04T13:25:56.893993Z",
     "iopub.status.idle": "2022-03-04T13:25:56.904243Z",
     "shell.execute_reply": "2022-03-04T13:25:56.903166Z",
     "shell.execute_reply.started": "2022-03-04T13:25:56.894962Z"
    },
    "executionInfo": {
     "elapsed": 200,
     "status": "ok",
     "timestamp": 1639927306139,
     "user": {
      "displayName": "lisa richter",
      "photoUrl": "https://lh3.googleusercontent.com/a/default-user=s64",
      "userId": "08999729000846221512"
     },
     "user_tz": -60
    },
    "id": "mQCrtmA1A0c7"
   },
   "outputs": [],
   "source": [
    "df_hate = pd.concat([df_hate_1, df_hate_2])"
   ]
  },
  {
   "cell_type": "code",
   "execution_count": null,
   "metadata": {
    "execution": {
     "iopub.execute_input": "2022-03-04T13:25:57.804302Z",
     "iopub.status.busy": "2022-03-04T13:25:57.803961Z",
     "iopub.status.idle": "2022-03-04T13:26:17.80234Z",
     "shell.execute_reply": "2022-03-04T13:26:17.801325Z",
     "shell.execute_reply.started": "2022-03-04T13:25:57.804259Z"
    }
   },
   "outputs": [],
   "source": [
    "# plot length of each tweet in order to determine max_length (must be done before sampling data)\n",
    "# define tokenizer:\n",
    "tokenizer = XLNetTokenizer.from_pretrained('xlnet-base-cased')\n",
    "\n",
    "\n",
    "# count tokens per sentence\n",
    "token_lens = []\n",
    "\n",
    "for txt in df_hate['text']:\n",
    "    tokens = tokenizer.encode(txt, max_length=512)\n",
    "    token_lens.append(len(tokens))"
   ]
  },
  {
   "cell_type": "code",
   "execution_count": null,
   "metadata": {
    "execution": {
     "iopub.execute_input": "2022-03-04T13:26:39.246165Z",
     "iopub.status.busy": "2022-03-04T13:26:39.245835Z",
     "iopub.status.idle": "2022-03-04T13:26:39.886523Z",
     "shell.execute_reply": "2022-03-04T13:26:39.885571Z",
     "shell.execute_reply.started": "2022-03-04T13:26:39.246133Z"
    }
   },
   "outputs": [],
   "source": [
    "# plot\n",
    "sns_plot = sns.distplot(token_lens)\n",
    "plt.xlim([0, 800]);\n",
    "plt.xlabel('Token count')\n",
    "\n",
    "fig = sns_plot.get_figure()\n",
    "fig.savefig('token_length_hate.png');"
   ]
  },
  {
   "cell_type": "code",
   "execution_count": null,
   "metadata": {
    "execution": {
     "iopub.execute_input": "2022-03-04T13:27:47.717643Z",
     "iopub.status.busy": "2022-03-04T13:27:47.717126Z",
     "iopub.status.idle": "2022-03-04T13:27:47.735684Z",
     "shell.execute_reply": "2022-03-04T13:27:47.734286Z",
     "shell.execute_reply.started": "2022-03-04T13:27:47.717606Z"
    }
   },
   "outputs": [],
   "source": [
    "df_hate = shuffle(df_hate)\n",
    "df_hate = df_hate[:24000]"
   ]
  },
  {
   "cell_type": "code",
   "execution_count": null,
   "metadata": {
    "execution": {
     "iopub.execute_input": "2022-03-04T13:27:49.018612Z",
     "iopub.status.busy": "2022-03-04T13:27:49.018235Z",
     "iopub.status.idle": "2022-03-04T13:27:49.398676Z",
     "shell.execute_reply": "2022-03-04T13:27:49.397777Z",
     "shell.execute_reply.started": "2022-03-04T13:27:49.018555Z"
    },
    "executionInfo": {
     "elapsed": 219,
     "status": "ok",
     "timestamp": 1639927307466,
     "user": {
      "displayName": "lisa richter",
      "photoUrl": "https://lh3.googleusercontent.com/a/default-user=s64",
      "userId": "08999729000846221512"
     },
     "user_tz": -60
    },
    "id": "MG3KEwTJJBtP",
    "outputId": "2f1ec0df-4797-4c60-9089-e1e43db95d94"
   },
   "outputs": [],
   "source": [
    "df_hate['text'] = df_hate['text'].apply(prepare_text)\n",
    "df_hate"
   ]
  },
  {
   "cell_type": "code",
   "execution_count": null,
   "metadata": {
    "execution": {
     "iopub.execute_input": "2022-03-04T13:27:55.283217Z",
     "iopub.status.busy": "2022-03-04T13:27:55.282165Z",
     "iopub.status.idle": "2022-03-04T13:27:55.509895Z",
     "shell.execute_reply": "2022-03-04T13:27:55.508844Z",
     "shell.execute_reply.started": "2022-03-04T13:27:55.283162Z"
    },
    "executionInfo": {
     "elapsed": 235,
     "status": "ok",
     "timestamp": 1639927319588,
     "user": {
      "displayName": "lisa richter",
      "photoUrl": "https://lh3.googleusercontent.com/a/default-user=s64",
      "userId": "08999729000846221512"
     },
     "user_tz": -60
    },
    "id": "XccmW29VLKWj",
    "outputId": "7230c0cb-86b2-435a-943e-a677ab6f9681"
   },
   "outputs": [],
   "source": [
    "sns_plot = sns.countplot(x=df_hate.label) # to see class distribution\n",
    "print(f'non-hate tweets: {len(df_hate[df_hate[\"label\"] == 0])}')\n",
    "print(f'hate tweets: {len(df_hate[df_hate[\"label\"] == 1])}')\n",
    "\n",
    "fig = sns_plot.get_figure()\n",
    "fig.savefig('class_dist_hate.png');"
   ]
  },
  {
   "cell_type": "code",
   "execution_count": null,
   "metadata": {
    "execution": {
     "iopub.execute_input": "2022-03-04T13:27:56.933342Z",
     "iopub.status.busy": "2022-03-04T13:27:56.93299Z",
     "iopub.status.idle": "2022-03-04T13:27:56.938649Z",
     "shell.execute_reply": "2022-03-04T13:27:56.937518Z",
     "shell.execute_reply.started": "2022-03-04T13:27:56.933304Z"
    },
    "executionInfo": {
     "elapsed": 215,
     "status": "ok",
     "timestamp": 1639927372233,
     "user": {
      "displayName": "lisa richter",
      "photoUrl": "https://lh3.googleusercontent.com/a/default-user=s64",
      "userId": "08999729000846221512"
     },
     "user_tz": -60
    },
    "id": "3yMFevgUNCJ2"
   },
   "outputs": [],
   "source": [
    "class_names = ['no hate', 'hate']"
   ]
  },
  {
   "cell_type": "code",
   "execution_count": null,
   "metadata": {
    "execution": {
     "iopub.execute_input": "2022-03-04T13:27:59.274787Z",
     "iopub.status.busy": "2022-03-04T13:27:59.27379Z",
     "iopub.status.idle": "2022-03-04T13:27:59.354227Z",
     "shell.execute_reply": "2022-03-04T13:27:59.353514Z",
     "shell.execute_reply.started": "2022-03-04T13:27:59.274738Z"
    }
   },
   "outputs": [],
   "source": [
    "df_hate.to_csv('test.csv')"
   ]
  },
  {
   "cell_type": "code",
   "execution_count": null,
   "metadata": {},
   "outputs": [],
   "source": []
  },
  {
   "cell_type": "markdown",
   "metadata": {
    "id": "2ZpeyyofRkJp"
   },
   "source": [
    "# 2. Load XLNet, Prepare Inputs and Define Hyperparameter"
   ]
  },
  {
   "cell_type": "code",
   "execution_count": null,
   "metadata": {
    "execution": {
     "iopub.execute_input": "2022-03-04T13:28:00.946287Z",
     "iopub.status.busy": "2022-03-04T13:28:00.945974Z",
     "iopub.status.idle": "2022-03-04T13:28:00.951011Z",
     "shell.execute_reply": "2022-03-04T13:28:00.950199Z",
     "shell.execute_reply.started": "2022-03-04T13:28:00.946256Z"
    },
    "executionInfo": {
     "elapsed": 2,
     "status": "ok",
     "timestamp": 1639927384641,
     "user": {
      "displayName": "lisa richter",
      "photoUrl": "https://lh3.googleusercontent.com/a/default-user=s64",
      "userId": "08999729000846221512"
     },
     "user_tz": -60
    },
    "id": "nKjgK24wT8eR"
   },
   "outputs": [],
   "source": [
    "# define max length: \n",
    "MAX_LEN = 512"
   ]
  },
  {
   "cell_type": "code",
   "execution_count": null,
   "metadata": {
    "execution": {
     "iopub.execute_input": "2022-03-04T13:28:02.880303Z",
     "iopub.status.busy": "2022-03-04T13:28:02.879747Z",
     "iopub.status.idle": "2022-03-04T13:28:02.88932Z",
     "shell.execute_reply": "2022-03-04T13:28:02.888609Z",
     "shell.execute_reply.started": "2022-03-04T13:28:02.880265Z"
    },
    "executionInfo": {
     "elapsed": 4,
     "status": "ok",
     "timestamp": 1639927385578,
     "user": {
      "displayName": "lisa richter",
      "photoUrl": "https://lh3.googleusercontent.com/a/default-user=s64",
      "userId": "08999729000846221512"
     },
     "user_tz": -60
    },
    "id": "yCtFjHiWT_XX"
   },
   "outputs": [],
   "source": [
    "# custom dataset class\n",
    "class HateDataset(Dataset):\n",
    "    def __init__(self, reviews, targets, tokenizer, max_len):\n",
    "        self.reviews = reviews\n",
    "        self.targets = targets\n",
    "        self.tokenizer = tokenizer\n",
    "        self.max_len = max_len\n",
    "\n",
    "    def __len__(self):\n",
    "        return len(self.reviews)\n",
    "    \n",
    "    def __getitem__(self, item):\n",
    "        review = str(self.reviews[item])\n",
    "        target = self.targets[item]\n",
    "        \n",
    "        encoding = self.tokenizer.encode_plus(review,\n",
    "                                              add_special_tokens=True,\n",
    "                                              max_length=self.max_len,\n",
    "                                              truncation=True,\n",
    "                                              return_token_type_ids=False,\n",
    "                                              pad_to_max_length=False,\n",
    "                                              return_attention_mask=True,\n",
    "                                              return_tensors='pt',)\n",
    "        \n",
    "        input_ids = pad_sequences(encoding['input_ids'], \n",
    "                                  maxlen=MAX_LEN, \n",
    "                                  dtype=torch.Tensor ,\n",
    "                                  truncating=\"post\",\n",
    "                                  padding=\"post\")\n",
    "        input_ids = input_ids.astype(dtype = 'int64')\n",
    "        input_ids = torch.tensor(input_ids) \n",
    "        \n",
    "        attention_mask = pad_sequences(encoding['attention_mask'], \n",
    "                                       maxlen=MAX_LEN, \n",
    "                                       dtype=torch.Tensor ,\n",
    "                                       truncating=\"post\",\n",
    "                                       padding=\"post\")\n",
    "        attention_mask = attention_mask.astype(dtype = 'int64')\n",
    "        attention_mask = torch.tensor(attention_mask)       \n",
    "        \n",
    "        return {'review_text': review,\n",
    "                'input_ids': input_ids,\n",
    "                'attention_mask': attention_mask.flatten(),\n",
    "                'targets': torch.tensor(target, dtype=torch.long)}"
   ]
  },
  {
   "cell_type": "code",
   "execution_count": null,
   "metadata": {
    "execution": {
     "iopub.execute_input": "2022-03-04T13:28:03.789741Z",
     "iopub.status.busy": "2022-03-04T13:28:03.789027Z",
     "iopub.status.idle": "2022-03-04T13:28:03.80301Z",
     "shell.execute_reply": "2022-03-04T13:28:03.801816Z",
     "shell.execute_reply.started": "2022-03-04T13:28:03.789696Z"
    },
    "executionInfo": {
     "elapsed": 205,
     "status": "ok",
     "timestamp": 1639927386941,
     "user": {
      "displayName": "lisa richter",
      "photoUrl": "https://lh3.googleusercontent.com/a/default-user=s64",
      "userId": "08999729000846221512"
     },
     "user_tz": -60
    },
    "id": "Bqem0CtzUwJe"
   },
   "outputs": [],
   "source": [
    "# create training, validation and test set: \n",
    "df_train, df_test = train_test_split(df_hate, test_size=0.5, random_state=101)\n",
    "df_val, df_test = train_test_split(df_test, test_size=0.5, random_state=101)"
   ]
  },
  {
   "cell_type": "code",
   "execution_count": null,
   "metadata": {
    "execution": {
     "iopub.execute_input": "2022-03-04T13:28:04.524799Z",
     "iopub.status.busy": "2022-03-04T13:28:04.524363Z",
     "iopub.status.idle": "2022-03-04T13:28:04.531381Z",
     "shell.execute_reply": "2022-03-04T13:28:04.530429Z",
     "shell.execute_reply.started": "2022-03-04T13:28:04.524759Z"
    },
    "executionInfo": {
     "elapsed": 7,
     "status": "ok",
     "timestamp": 1639927387939,
     "user": {
      "displayName": "lisa richter",
      "photoUrl": "https://lh3.googleusercontent.com/a/default-user=s64",
      "userId": "08999729000846221512"
     },
     "user_tz": -60
    },
    "id": "ucEI27LmU0Pf",
    "outputId": "f5cf2837-f0a4-4b4a-ce47-1363b08702b3"
   },
   "outputs": [],
   "source": [
    "# check shape\n",
    "df_train.shape, df_val.shape, df_test.shape"
   ]
  },
  {
   "cell_type": "code",
   "execution_count": null,
   "metadata": {
    "execution": {
     "iopub.execute_input": "2022-03-04T13:28:06.514542Z",
     "iopub.status.busy": "2022-03-04T13:28:06.514224Z",
     "iopub.status.idle": "2022-03-04T13:28:06.5202Z",
     "shell.execute_reply": "2022-03-04T13:28:06.51938Z",
     "shell.execute_reply.started": "2022-03-04T13:28:06.514511Z"
    },
    "executionInfo": {
     "elapsed": 215,
     "status": "ok",
     "timestamp": 1639927394727,
     "user": {
      "displayName": "lisa richter",
      "photoUrl": "https://lh3.googleusercontent.com/a/default-user=s64",
      "userId": "08999729000846221512"
     },
     "user_tz": -60
    },
    "id": "hc7pFLihU3O7"
   },
   "outputs": [],
   "source": [
    "# define custom dataloader:\n",
    "def create_data_loader(df, tokenizer, max_len, batch_size):\n",
    "    ds = HateDataset(reviews=df.text.to_numpy(),\n",
    "                     targets=df.label.to_numpy(),\n",
    "                     tokenizer=tokenizer,\n",
    "                     max_len=max_len)\n",
    "    \n",
    "    return DataLoader(ds,\n",
    "                    batch_size=batch_size,\n",
    "                    num_workers=2)                    "
   ]
  },
  {
   "cell_type": "code",
   "execution_count": null,
   "metadata": {
    "execution": {
     "iopub.execute_input": "2022-03-04T13:28:07.548845Z",
     "iopub.status.busy": "2022-03-04T13:28:07.547907Z",
     "iopub.status.idle": "2022-03-04T13:28:07.555543Z",
     "shell.execute_reply": "2022-03-04T13:28:07.554418Z",
     "shell.execute_reply.started": "2022-03-04T13:28:07.548787Z"
    },
    "executionInfo": {
     "elapsed": 4,
     "status": "ok",
     "timestamp": 1639927395885,
     "user": {
      "displayName": "lisa richter",
      "photoUrl": "https://lh3.googleusercontent.com/a/default-user=s64",
      "userId": "08999729000846221512"
     },
     "user_tz": -60
    },
    "id": "9wRWtekiVFe1"
   },
   "outputs": [],
   "source": [
    "# define batch size: \n",
    "BATCH_SIZE = 8\n",
    "\n",
    "# create data loader for training, validation and test set: \n",
    "train_data_loader = create_data_loader(df_train, tokenizer, MAX_LEN, BATCH_SIZE)\n",
    "val_data_loader = create_data_loader(df_val, tokenizer, MAX_LEN, BATCH_SIZE)\n",
    "test_data_loader = create_data_loader(df_test, tokenizer, MAX_LEN, BATCH_SIZE)"
   ]
  },
  {
   "cell_type": "code",
   "execution_count": null,
   "metadata": {
    "execution": {
     "iopub.execute_input": "2022-03-04T13:28:08.496274Z",
     "iopub.status.busy": "2022-03-04T13:28:08.495245Z",
     "iopub.status.idle": "2022-03-04T13:28:27.413662Z",
     "shell.execute_reply": "2022-03-04T13:28:27.412871Z",
     "shell.execute_reply.started": "2022-03-04T13:28:08.496225Z"
    },
    "executionInfo": {
     "elapsed": 29079,
     "status": "ok",
     "timestamp": 1639927425975,
     "user": {
      "displayName": "lisa richter",
      "photoUrl": "https://lh3.googleusercontent.com/a/default-user=s64",
      "userId": "08999729000846221512"
     },
     "user_tz": -60
    },
    "id": "0BW8j8d-VMEf",
    "outputId": "ae25fde7-2831-463e-9f9c-94cffece4399"
   },
   "outputs": [],
   "source": [
    "# load pre-trained XLNet model\n",
    "from transformers import XLNetForSequenceClassification\n",
    "\n",
    "model = XLNetForSequenceClassification.from_pretrained('xlnet-base-cased', num_labels = 2)\n",
    "model = model.to(device)"
   ]
  },
  {
   "cell_type": "code",
   "execution_count": null,
   "metadata": {
    "execution": {
     "iopub.execute_input": "2022-03-04T13:28:33.447044Z",
     "iopub.status.busy": "2022-03-04T13:28:33.446617Z",
     "iopub.status.idle": "2022-03-04T13:28:33.492881Z",
     "shell.execute_reply": "2022-03-04T13:28:33.492039Z",
     "shell.execute_reply.started": "2022-03-04T13:28:33.446989Z"
    },
    "executionInfo": {
     "elapsed": 209,
     "status": "ok",
     "timestamp": 1639927428967,
     "user": {
      "displayName": "lisa richter",
      "photoUrl": "https://lh3.googleusercontent.com/a/default-user=s64",
      "userId": "08999729000846221512"
     },
     "user_tz": -60
    },
    "id": "NJ30PhWNVPPi"
   },
   "outputs": [],
   "source": [
    "# defining hyperparameters:\n",
    "EPOCHS = 2\n",
    "\n",
    "param_optimizer = list(model.named_parameters())\n",
    "no_decay = ['bias', 'LayerNorm.bias', 'LayerNorm.weight']\n",
    "optimizer_grouped_parameters = [{'params': [p for n, p in param_optimizer if not any(nd in n for nd in no_decay)], 'weight_decay': 0.01},\n",
    "                                {'params': [p for n, p in param_optimizer if any(nd in n for nd in no_decay)], 'weight_decay':0.0}]\n",
    "\n",
    "optimizer = AdamW(optimizer_grouped_parameters, lr=3e-5)\n",
    "total_steps = len(train_data_loader) * EPOCHS\n",
    "\n",
    "scheduler = get_linear_schedule_with_warmup(optimizer,\n",
    "                                            num_warmup_steps=0,\n",
    "                                            num_training_steps=total_steps)"
   ]
  },
  {
   "cell_type": "code",
   "execution_count": null,
   "metadata": {
    "execution": {
     "iopub.execute_input": "2022-03-04T13:28:50.873663Z",
     "iopub.status.busy": "2022-03-04T13:28:50.873263Z",
     "iopub.status.idle": "2022-03-04T13:28:51.105747Z",
     "shell.execute_reply": "2022-03-04T13:28:51.104663Z",
     "shell.execute_reply.started": "2022-03-04T13:28:50.873621Z"
    },
    "executionInfo": {
     "elapsed": 518,
     "status": "ok",
     "timestamp": 1639927430687,
     "user": {
      "displayName": "lisa richter",
      "photoUrl": "https://lh3.googleusercontent.com/a/default-user=s64",
      "userId": "08999729000846221512"
     },
     "user_tz": -60
    },
    "id": "H32BljfAVzPA",
    "outputId": "2bbad477-e6f4-4376-f66e-c1162fcb66db"
   },
   "outputs": [],
   "source": [
    "# sanity check: \n",
    "data = next(iter(val_data_loader))\n",
    "data.keys()"
   ]
  },
  {
   "cell_type": "code",
   "execution_count": null,
   "metadata": {
    "execution": {
     "iopub.execute_input": "2022-03-04T13:28:53.664337Z",
     "iopub.status.busy": "2022-03-04T13:28:53.663337Z",
     "iopub.status.idle": "2022-03-04T13:28:53.673679Z",
     "shell.execute_reply": "2022-03-04T13:28:53.672551Z",
     "shell.execute_reply.started": "2022-03-04T13:28:53.664284Z"
    },
    "executionInfo": {
     "elapsed": 211,
     "status": "ok",
     "timestamp": 1639927433797,
     "user": {
      "displayName": "lisa richter",
      "photoUrl": "https://lh3.googleusercontent.com/a/default-user=s64",
      "userId": "08999729000846221512"
     },
     "user_tz": -60
    },
    "id": "NGaIw8BaV2xx",
    "outputId": "55a70a1a-ffb8-412c-9914-10a4c499c3ce"
   },
   "outputs": [],
   "source": [
    "input_ids = data['input_ids'].to(device)\n",
    "attention_mask = data['attention_mask'].to(device)\n",
    "targets = data['targets'].to(device)\n",
    "\n",
    "print(input_ids.reshape(8,512).shape) # batch size x seq length\n",
    "print(attention_mask.shape) # batch size x seq length"
   ]
  },
  {
   "cell_type": "code",
   "execution_count": null,
   "metadata": {
    "execution": {
     "iopub.execute_input": "2022-03-04T13:28:56.745905Z",
     "iopub.status.busy": "2022-03-04T13:28:56.745544Z",
     "iopub.status.idle": "2022-03-04T13:29:17.203724Z",
     "shell.execute_reply": "2022-03-04T13:29:17.202795Z",
     "shell.execute_reply.started": "2022-03-04T13:28:56.745865Z"
    },
    "executionInfo": {
     "elapsed": 529,
     "status": "ok",
     "timestamp": 1639927436099,
     "user": {
      "displayName": "lisa richter",
      "photoUrl": "https://lh3.googleusercontent.com/a/default-user=s64",
      "userId": "08999729000846221512"
     },
     "user_tz": -60
    },
    "id": "i904xeuKV-mv"
   },
   "outputs": [],
   "source": [
    "outputs = model(input_ids.reshape(8,512), \n",
    "                token_type_ids=None, \n",
    "                attention_mask=attention_mask, \n",
    "                labels=targets)"
   ]
  },
  {
   "cell_type": "code",
   "execution_count": null,
   "metadata": {
    "execution": {
     "iopub.execute_input": "2022-03-04T13:29:21.820988Z",
     "iopub.status.busy": "2022-03-04T13:29:21.820344Z",
     "iopub.status.idle": "2022-03-04T13:29:21.827369Z",
     "shell.execute_reply": "2022-03-04T13:29:21.826659Z",
     "shell.execute_reply.started": "2022-03-04T13:29:21.820923Z"
    },
    "executionInfo": {
     "elapsed": 3,
     "status": "ok",
     "timestamp": 1639927437307,
     "user": {
      "displayName": "lisa richter",
      "photoUrl": "https://lh3.googleusercontent.com/a/default-user=s64",
      "userId": "08999729000846221512"
     },
     "user_tz": -60
    },
    "id": "1vaahW2hWFKk",
    "outputId": "deb3af3e-1571-4a0f-c95c-985837927c92"
   },
   "outputs": [],
   "source": [
    "type(outputs[0]) # should be torch.Tensor"
   ]
  },
  {
   "cell_type": "code",
   "execution_count": null,
   "metadata": {
    "execution": {
     "iopub.execute_input": "2022-03-04T13:29:23.05842Z",
     "iopub.status.busy": "2022-03-04T13:29:23.058091Z",
     "iopub.status.idle": "2022-03-04T13:29:23.069635Z",
     "shell.execute_reply": "2022-03-04T13:29:23.068693Z",
     "shell.execute_reply.started": "2022-03-04T13:29:23.058384Z"
    },
    "executionInfo": {
     "elapsed": 204,
     "status": "ok",
     "timestamp": 1639927439654,
     "user": {
      "displayName": "lisa richter",
      "photoUrl": "https://lh3.googleusercontent.com/a/default-user=s64",
      "userId": "08999729000846221512"
     },
     "user_tz": -60
    },
    "id": "BTZJVJzbWH1t"
   },
   "outputs": [],
   "source": [
    "# define training step function:\n",
    "from sklearn import metrics\n",
    "\n",
    "def train_epoch(model, data_loader, optimizer, device, scheduler, n_examples):\n",
    "    model = model.train()\n",
    "    losses = []\n",
    "    acc = 0\n",
    "    counter = 0\n",
    "    \n",
    "    for d in data_loader:\n",
    "        input_ids = d[\"input_ids\"].reshape(8,512).to(device)\n",
    "        attention_mask = d[\"attention_mask\"].to(device)\n",
    "        targets = d[\"targets\"].to(device)\n",
    "    \n",
    "        outputs = model(input_ids=input_ids, token_type_ids=None, attention_mask=attention_mask, labels = targets)\n",
    "        loss = outputs[0]\n",
    "        logits = outputs[1]\n",
    "    \n",
    "        _, prediction = torch.max(outputs[1], dim=1)\n",
    "        targets = targets.cpu().detach().numpy()\n",
    "        prediction = prediction.cpu().detach().numpy()\n",
    "        accuracy = metrics.accuracy_score(targets, prediction)\n",
    "\n",
    "        acc += accuracy\n",
    "        losses.append(loss.item())\n",
    "\n",
    "        loss.backward()\n",
    "\n",
    "        nn.utils.clip_grad_norm_(model.parameters(), max_norm=1.0)\n",
    "        optimizer.step()\n",
    "        scheduler.step()\n",
    "        optimizer.zero_grad()\n",
    "        counter = counter + 1\n",
    "    \n",
    "    return acc / counter, np.mean(losses)"
   ]
  },
  {
   "cell_type": "code",
   "execution_count": null,
   "metadata": {
    "execution": {
     "iopub.execute_input": "2022-03-04T13:29:24.320684Z",
     "iopub.status.busy": "2022-03-04T13:29:24.320353Z",
     "iopub.status.idle": "2022-03-04T13:29:24.328557Z",
     "shell.execute_reply": "2022-03-04T13:29:24.327655Z",
     "shell.execute_reply.started": "2022-03-04T13:29:24.320647Z"
    },
    "executionInfo": {
     "elapsed": 218,
     "status": "ok",
     "timestamp": 1639927441330,
     "user": {
      "displayName": "lisa richter",
      "photoUrl": "https://lh3.googleusercontent.com/a/default-user=s64",
      "userId": "08999729000846221512"
     },
     "user_tz": -60
    },
    "id": "uo_4GfYUWf6y"
   },
   "outputs": [],
   "source": [
    "# define evaluation function:\n",
    "def eval_model(model, data_loader, device, n_examples):\n",
    "    model = model.eval()\n",
    "    losses = []\n",
    "    acc = 0\n",
    "    counter = 0\n",
    "    \n",
    "    with torch.no_grad():\n",
    "        for d in data_loader:\n",
    "            input_ids = d[\"input_ids\"].reshape(8,512).to(device)\n",
    "            attention_mask = d[\"attention_mask\"].to(device)\n",
    "            targets = d[\"targets\"].to(device)\n",
    "            \n",
    "            outputs = model(input_ids=input_ids, token_type_ids=None, attention_mask=attention_mask, labels = targets)\n",
    "            loss = outputs[0]\n",
    "            logits = outputs[1]\n",
    "            \n",
    "            _, prediction = torch.max(outputs[1], dim=1)\n",
    "            targets = targets.cpu().detach().numpy()\n",
    "            prediction = prediction.cpu().detach().numpy()\n",
    "            accuracy = metrics.accuracy_score(targets, prediction)\n",
    "            \n",
    "            acc += accuracy\n",
    "            losses.append(loss.item())\n",
    "            counter += 1\n",
    "            \n",
    "    return acc / counter, np.mean(losses)"
   ]
  },
  {
   "cell_type": "markdown",
   "metadata": {
    "id": "t-KmGspfW6Mz"
   },
   "source": [
    "# 3. Fine-Tune the Model"
   ]
  },
  {
   "cell_type": "code",
   "execution_count": null,
   "metadata": {
    "id": "VMDeps-AW0Q4",
    "outputId": "8ec3dece-bc52-41c7-8f1d-4b7f6ba78b9b"
   },
   "outputs": [],
   "source": [
    "%%time\n",
    "history = defaultdict(list)\n",
    "best_accuracy = 0\n",
    "\n",
    "for epoch in range(EPOCHS):\n",
    "    print(f'Epoch {epoch + 1}/{EPOCHS}')\n",
    "    print('-' * 10)\n",
    "    \n",
    "    # call train function\n",
    "    train_acc, train_loss = train_epoch(model,\n",
    "                                      train_data_loader,\n",
    "                                      optimizer,\n",
    "                                      device, \n",
    "                                      scheduler, \n",
    "                                      len(df_train))\n",
    "    \n",
    "    print(f'Train loss {train_loss} Train accuracy {train_acc}')\n",
    "    \n",
    "    # call evaluation function\n",
    "    val_acc, val_loss = eval_model(model,\n",
    "                                 val_data_loader, \n",
    "                                 device, \n",
    "                                 len(df_val))\n",
    "    \n",
    "    print(f'Val loss {val_loss} Val accuracy {val_acc}')\n",
    "    print()\n",
    "    \n",
    "    history['train_acc'].append(train_acc)\n",
    "    history['train_loss'].append(train_loss)\n",
    "    history['val_acc'].append(val_acc)\n",
    "    history['val_loss'].append(val_loss)\n",
    "    \n",
    "    if val_acc > best_accuracy:\n",
    "        torch.save(model.state_dict(), 'xlnet_model_hate.bin') # note: this scrip was implemented using Kaggle's GPU. The model was saved into the Kaggle repo and downloaded manually\n",
    "        best_accuracy = val_acc"
   ]
  },
  {
   "cell_type": "code",
   "execution_count": null,
   "metadata": {},
   "outputs": [],
   "source": [
    "fig = plt.figure()\n",
    "plt.plot(history['train_acc'], label='train accuracy')\n",
    "plt.plot(history['val_acc'], label='validation accuracy')\n",
    "plt.plot(history['train_loss'], label='train loss')\n",
    "plt.plot(history['val_loss'], label='validation loss')\n",
    "#plt.title('Training History')\n",
    "plt.ylabel('Accuracy and Loss')\n",
    "plt.xlabel('Epoch')\n",
    "plt.legend()\n",
    "plt.ylim([0, 1])\n",
    "fig.savefig('training_hate.png');"
   ]
  },
  {
   "cell_type": "markdown",
   "metadata": {
    "id": "qkt-pTitXaxI"
   },
   "source": [
    "# 4. Evaluation of Fine-Tuned Model"
   ]
  },
  {
   "cell_type": "code",
   "execution_count": null,
   "metadata": {
    "id": "BhgjuEUpW4X0"
   },
   "outputs": [],
   "source": [
    "# read model saved in previous step:\n",
    "# when connected to GPU:\n",
    "model.load_state_dict(torch.load('xlnet_model_hate.bin'))\n",
    "\n",
    "# when not connected to GPU (hence no cuda):\n",
    "#model.load_state_dict(torch.load('/content/drive/MyDrive/Colab Notebooks/models/xlnet_model_hate.bin', map_location=torch.device('cpu')))"
   ]
  },
  {
   "cell_type": "code",
   "execution_count": null,
   "metadata": {
    "id": "M5m549A4XkCq"
   },
   "outputs": [],
   "source": [
    "model = model.to(device)"
   ]
  },
  {
   "cell_type": "code",
   "execution_count": null,
   "metadata": {
    "id": "k2LEhO6BXk9O"
   },
   "outputs": [],
   "source": [
    "# call evaluation function and apply to test set\n",
    "test_acc, test_loss = eval_model(model,\n",
    "                                 test_data_loader,\n",
    "                                 device,\n",
    "                                 len(df_test))\n",
    "\n",
    "print('Test Accuracy :', test_acc)\n",
    "print('Test Loss :', test_loss)"
   ]
  },
  {
   "cell_type": "code",
   "execution_count": null,
   "metadata": {
    "id": "gfagcMqXXySQ"
   },
   "outputs": [],
   "source": [
    "# define function to get prediction of data\n",
    "def get_predictions(model, data_loader):\n",
    "    model = model.eval()\n",
    "    \n",
    "    review_texts = []\n",
    "    predictions = []\n",
    "    prediction_probs = []\n",
    "    real_values = []\n",
    "    \n",
    "    with torch.no_grad():\n",
    "        for d in data_loader:\n",
    "            texts = d[\"review_text\"]\n",
    "            input_ids = d[\"input_ids\"].reshape(8,512).to(device)\n",
    "            attention_mask = d[\"attention_mask\"].to(device)\n",
    "            targets = d[\"targets\"].to(device)\n",
    "            \n",
    "            outputs = model(input_ids=input_ids,\n",
    "                            token_type_ids=None,\n",
    "                            attention_mask=attention_mask,#\n",
    "                            labels=targets)\n",
    "            \n",
    "            loss = outputs[0]\n",
    "            logits = outputs[1]\n",
    "            \n",
    "            _, preds = torch.max(outputs[1], dim=1)\n",
    "            probs = F.softmax(outputs[1], dim=1)\n",
    "            \n",
    "            review_texts.extend(texts)\n",
    "            predictions.extend(preds)\n",
    "            prediction_probs.extend(probs)\n",
    "            real_values.extend(targets)\n",
    "            \n",
    "    predictions = torch.stack(predictions).cpu()\n",
    "    prediction_probs = torch.stack(prediction_probs).cpu()\n",
    "    real_values = torch.stack(real_values).cpu()\n",
    "    \n",
    "    return review_texts, predictions, prediction_probs, real_values"
   ]
  },
  {
   "cell_type": "code",
   "execution_count": null,
   "metadata": {
    "id": "QF0BEx6wYd9B"
   },
   "outputs": [],
   "source": [
    "# call prediction function to get actual predictions of test set \n",
    "y_review_texts, y_pred, y_pred_probs, y_test = get_predictions(model, test_data_loader)"
   ]
  },
  {
   "cell_type": "code",
   "execution_count": null,
   "metadata": {
    "id": "bvVa7l2DYm3L"
   },
   "outputs": [],
   "source": [
    "print(classification_report(y_test, y_pred, target_names=class_names))\n",
    "report = classification_report(y_test, y_pred, target_names=class_names,output_dict=True)\n",
    "report = pd.DataFrame(report).transpose()\n",
    "report.to_csv('report_hate.csv')"
   ]
  },
  {
   "cell_type": "code",
   "execution_count": null,
   "metadata": {},
   "outputs": [],
   "source": [
    "def show_confusion_matrix(confusion_matrix):\n",
    "    hmap = sns.heatmap(confusion_matrix/ confusion_matrix.sum(axis=1)[:, np.newaxis], annot=True, fmt='.2%', cmap=\"Blues\")\n",
    "    hmap.yaxis.set_ticklabels(hmap.yaxis.get_ticklabels(), rotation=0, ha='right')\n",
    "    hmap.xaxis.set_ticklabels(hmap.xaxis.get_ticklabels(), rotation=30, ha='right')\n",
    "\n",
    "    plt.ylabel('True Hate')\n",
    "    plt.xlabel('Predicted Hate')\n",
    "    plt.savefig('confusion_hate');\n",
    "    \n",
    "\n",
    "cm = confusion_matrix(y_test, y_pred)\n",
    "df_cm = pd.DataFrame(cm, index=class_names, columns=class_names)\n",
    "df_cm.to_csv('cm_hate.csv')\n",
    "\n",
    "show_confusion_matrix(df_cm)"
   ]
  }
 ],
 "metadata": {
  "kernelspec": {
   "display_name": "Python 3 (ipykernel)",
   "language": "python",
   "name": "python3"
  },
  "language_info": {
   "codemirror_mode": {
    "name": "ipython",
    "version": 3
   },
   "file_extension": ".py",
   "mimetype": "text/x-python",
   "name": "python",
   "nbconvert_exporter": "python",
   "pygments_lexer": "ipython3",
   "version": "3.9.6"
  }
 },
 "nbformat": 4,
 "nbformat_minor": 4
}
