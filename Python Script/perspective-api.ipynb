{
 "cells": [
  {
   "cell_type": "code",
   "execution_count": null,
   "metadata": {
    "execution": {
     "iopub.execute_input": "2022-01-12T09:59:01.425897Z",
     "iopub.status.busy": "2022-01-12T09:59:01.425512Z",
     "iopub.status.idle": "2022-01-12T09:59:01.812674Z",
     "shell.execute_reply": "2022-01-12T09:59:01.811926Z",
     "shell.execute_reply.started": "2022-01-12T09:59:01.425804Z"
    }
   },
   "outputs": [],
   "source": [
    "from googleapiclient import discovery\n",
    "import pandas as pd\n",
    "import time\n",
    "import re\n",
    "import json"
   ]
  },
  {
   "cell_type": "markdown",
   "metadata": {},
   "source": [
    "### Define functions"
   ]
  },
  {
   "cell_type": "code",
   "execution_count": null,
   "metadata": {
    "execution": {
     "iopub.execute_input": "2022-01-12T09:13:03.092837Z",
     "iopub.status.busy": "2022-01-12T09:13:03.092566Z",
     "iopub.status.idle": "2022-01-12T09:13:03.099372Z",
     "shell.execute_reply": "2022-01-12T09:13:03.098652Z",
     "shell.execute_reply.started": "2022-01-12T09:13:03.092809Z"
    }
   },
   "outputs": [],
   "source": [
    "# define function for text preprocessing \n",
    "def prepare_text(text):\n",
    "    text = re.sub(r\"@[A-Za-z0-9_]+\", ' ', text) # remove @user \n",
    "    text = re.sub(r\"https?://[A-Za-z0-9./]+\", ' ', text) # remove links\n",
    "    text = re.sub(r\"[^a-zA-z.!?'0-9]\", ' ', text) # remove smileys\n",
    "    text = re.sub('[^A-Za-z0-9]+', ' ', text) # remove any other special characters\n",
    "    text = re.sub('#', '', text) # remove hash sign\n",
    "    text = re.sub('\\t', ' ',  text) # remove tab\n",
    "    text = re.sub(r\" +\", ' ', text) # remove multiple whitespaces\n",
    "    return text"
   ]
  },
  {
   "cell_type": "markdown",
   "metadata": {},
   "source": [
    "### Set up API"
   ]
  },
  {
   "cell_type": "code",
   "execution_count": null,
   "metadata": {
    "execution": {
     "iopub.execute_input": "2022-01-12T09:13:14.550923Z",
     "iopub.status.busy": "2022-01-12T09:13:14.550335Z",
     "iopub.status.idle": "2022-01-12T09:13:14.682932Z",
     "shell.execute_reply": "2022-01-12T09:13:14.682052Z",
     "shell.execute_reply.started": "2022-01-12T09:13:14.550874Z"
    }
   },
   "outputs": [],
   "source": [
    "creds = pd.read_csv('../input/creds-perspective-api/CredentialsPerspectiveAPI.csv')\n",
    "api_key = creds['api_key'].iloc[0]\n",
    "\n",
    "client = discovery.build(\"commentanalyzer\",\n",
    "                         \"v1alpha1\",\n",
    "                         developerKey=api_key,\n",
    "                         discoveryServiceUrl=\"https://commentanalyzer.googleapis.com/$discovery/rest?version=v1alpha1\"\n",
    "                        )"
   ]
  },
  {
   "cell_type": "markdown",
   "metadata": {},
   "source": [
    "### Prepare data"
   ]
  },
  {
   "cell_type": "code",
   "execution_count": null,
   "metadata": {
    "execution": {
     "iopub.execute_input": "2022-01-12T09:59:19.407404Z",
     "iopub.status.busy": "2022-01-12T09:59:19.406956Z",
     "iopub.status.idle": "2022-01-12T09:59:21.896545Z",
     "shell.execute_reply": "2022-01-12T09:59:21.895812Z",
     "shell.execute_reply.started": "2022-01-12T09:59:19.407353Z"
    }
   },
   "outputs": [],
   "source": [
    "# read data: \n",
    "dtype={'text': str, 'id': str, 'tweet_id': str, 'title': str, 'outlet': str, 'twitter_handle': str, 'article_url': str, 'adfontes_url': str, 'bias_score': float, 'reliability_score': float}\n",
    "\n",
    "# note: this scrip was implemented using Kaggle's GPU. The dataset 'all_tweets_final' was loaded into the Kaggle repo and accessed from there\n",
    "all_tweets = pd.read_csv('../input/all-tweets-final/all_tweets_final.csv', dtype=dtype)"
   ]
  },
  {
   "cell_type": "code",
   "execution_count": null,
   "metadata": {
    "execution": {
     "iopub.execute_input": "2022-01-12T09:59:21.898562Z",
     "iopub.status.busy": "2022-01-12T09:59:21.898189Z",
     "iopub.status.idle": "2022-01-12T09:59:21.904393Z",
     "shell.execute_reply": "2022-01-12T09:59:21.903158Z",
     "shell.execute_reply.started": "2022-01-12T09:59:21.898526Z"
    }
   },
   "outputs": [],
   "source": [
    "# split data in subsessions as max Kernel runtime is 9 hours; Perspective API 1 request per second\n",
    "#all_tweets = all_tweets[0:25115] # sub1: 0 - 25114\n",
    "#all_tweets = all_tweets[25115:50230] # sub2: 25115 - 50229\n",
    "#all_tweets = all_tweets[50230:75345] # sub3: 50230 - 75344\n",
    "#all_tweets = all_tweets[75345:100460] # sub4: 75345 - 100459\n",
    "#all_tweets = all_tweets[100460:125575] # sub5: 100460 - 125574\n",
    "#all_tweets = all_tweets[125575:150690] # sub6: 1255575 - 150689\n",
    "all_tweets = all_tweets[150690:len(all_tweets)] # sub7: 150690 - 175806"
   ]
  },
  {
   "cell_type": "code",
   "execution_count": null,
   "metadata": {
    "execution": {
     "iopub.execute_input": "2022-01-12T09:13:34.495427Z",
     "iopub.status.busy": "2022-01-12T09:13:34.495116Z",
     "iopub.status.idle": "2022-01-12T09:13:35.354888Z",
     "shell.execute_reply": "2022-01-12T09:13:35.3541Z",
     "shell.execute_reply.started": "2022-01-12T09:13:34.495392Z"
    }
   },
   "outputs": [],
   "source": [
    "# apply text preprocessing to tweets:\n",
    "all_tweets['text_prepared'] = all_tweets['text'].apply(prepare_text)"
   ]
  },
  {
   "cell_type": "code",
   "execution_count": null,
   "metadata": {
    "execution": {
     "iopub.execute_input": "2022-01-12T09:13:35.356965Z",
     "iopub.status.busy": "2022-01-12T09:13:35.356663Z",
     "iopub.status.idle": "2022-01-12T09:13:35.363087Z",
     "shell.execute_reply": "2022-01-12T09:13:35.362288Z",
     "shell.execute_reply.started": "2022-01-12T09:13:35.356922Z"
    }
   },
   "outputs": [],
   "source": [
    "tweets = all_tweets['text_prepared'].tolist()\n",
    "tweet_ids = all_tweets['id'].tolist()"
   ]
  },
  {
   "cell_type": "code",
   "execution_count": null,
   "metadata": {
    "execution": {
     "iopub.execute_input": "2022-01-12T09:13:44.878556Z",
     "iopub.status.busy": "2022-01-12T09:13:44.878079Z",
     "iopub.status.idle": "2022-01-12T09:21:21.365586Z",
     "shell.execute_reply": "2022-01-12T09:21:21.364474Z",
     "shell.execute_reply.started": "2022-01-12T09:13:44.878502Z"
    }
   },
   "outputs": [],
   "source": [
    "# note: for more information about the PerspectiveAPI attributes see https://developers.perspectiveapi.com/s/about-the-api-attributes-and-languages\n",
    "\n",
    "responses={} # empty dictionary to store responses in it\n",
    "\n",
    "for tweet, tweet_id in zip(tweets, tweet_ids):\n",
    "    analyze_request = {'comment': { 'text': tweet }, \n",
    "                       'requestedAttributes': {'TOXICITY': {}, \n",
    "                                               'SEVERE_TOXICITY': {},\n",
    "                                               'IDENTITY_ATTACK': {},\n",
    "                                               'INSULT': {},\n",
    "                                               'PROFANITY': {}, \n",
    "                                               'THREAT': {},\n",
    "                                               'SEXUALLY_EXPLICIT' : {}, \n",
    "                                               'FLIRTATION': {},\n",
    "                                               'ATTACK_ON_AUTHOR': {},\n",
    "                                               'ATTACK_ON_COMMENTER': {},\n",
    "                                               'INCOHERENT': {},\n",
    "                                               'INFLAMMATORY': {},\n",
    "                                               'LIKELY_TO_REJECT' : {},\n",
    "                                               'OBSCENE': {},\n",
    "                                               'SPAM': {},\n",
    "                                               'UNSUBSTANTIAL': {}},\n",
    "                       'languages': 'en'\n",
    "                      }\n",
    "    responses[tweet_id]=client.comments().analyze(body=analyze_request).execute()\n",
    "    time.sleep(1.1) # one query per 1.1 seconds to not exceed API limit"
   ]
  },
  {
   "cell_type": "code",
   "execution_count": null,
   "metadata": {},
   "outputs": [],
   "source": [
    "# save responses as json; # note: this scrip was implemented using Kaggle's GPU. The classified datasets were saved into the Kaggle repo and downloaded manually\n",
    "#filename = 'responses_sub1.json' # sub1\n",
    "#filename = 'responses_sub2.json' # sub2\n",
    "#filename = 'responses_sub3.json' # sub3\n",
    "#filename = 'responses_sub4.json' # sub4\n",
    "#filename = 'responses_sub5.json' # sub5\n",
    "#filename = 'responses_sub6.json' # sub6\n",
    "filename = 'responses_sub7.json' # sub7\n",
    "\n",
    "with open(filename, 'w') as fp:\n",
    "    json.dump(responses, fp)"
   ]
  },
  {
   "cell_type": "code",
   "execution_count": null,
   "metadata": {},
   "outputs": [],
   "source": []
  },
  {
   "cell_type": "code",
   "execution_count": null,
   "metadata": {},
   "outputs": [],
   "source": []
  }
 ],
 "metadata": {
  "kernelspec": {
   "display_name": "Python 3 (ipykernel)",
   "language": "python",
   "name": "python3"
  },
  "language_info": {
   "codemirror_mode": {
    "name": "ipython",
    "version": 3
   },
   "file_extension": ".py",
   "mimetype": "text/x-python",
   "name": "python",
   "nbconvert_exporter": "python",
   "pygments_lexer": "ipython3",
   "version": "3.9.6"
  }
 },
 "nbformat": 4,
 "nbformat_minor": 4
}
