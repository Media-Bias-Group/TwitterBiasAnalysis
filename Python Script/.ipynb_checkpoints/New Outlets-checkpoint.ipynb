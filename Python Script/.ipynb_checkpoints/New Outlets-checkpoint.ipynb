{
 "cells": [
  {
   "cell_type": "code",
   "execution_count": 1,
   "id": "aca6db25",
   "metadata": {},
   "outputs": [],
   "source": [
    "import pandas as pd"
   ]
  },
  {
   "cell_type": "code",
   "execution_count": 65,
   "id": "5d102697",
   "metadata": {},
   "outputs": [],
   "source": [
    "rated_articles=pd.read_csv('data/ratings_articles.csv', index_col=0, encoding='cp1252')\n",
    "news_sources=pd.read_csv('data/ratings_overall.csv', index_col=0, encoding='cp1252')"
   ]
  },
  {
   "cell_type": "code",
   "execution_count": 66,
   "id": "fa2a15d3",
   "metadata": {},
   "outputs": [],
   "source": [
    "# remove \" Bias and Reliability\" and replace column\n",
    "sources_list =  []\n",
    "\n",
    "for source in news_sources['sources']:\n",
    "    sources_list.append( source.replace(\" Bias and Reliability\", \"\"))\n",
    "\n",
    "df = pd.DataFrame(sources_list, columns =['sources'])\n",
    "news_sources['sources'] = df['sources'].values"
   ]
  },
  {
   "cell_type": "code",
   "execution_count": 75,
   "id": "fd764cdf",
   "metadata": {},
   "outputs": [],
   "source": [
    "# join rated_articles and news_sources:\n",
    "rated_articles_outlet=pd.merge(rated_articles, news_sources[['urls', 'sources']], left_on='url', right_on='urls', how='left').drop(columns=['urls'])"
   ]
  },
  {
   "cell_type": "code",
   "execution_count": 81,
   "id": "d4a3cb3c",
   "metadata": {},
   "outputs": [],
   "source": [
    "outlets_article_count=rated_articles_outlet.groupby('sources').agg({\"title\": \"count\"})"
   ]
  },
  {
   "cell_type": "code",
   "execution_count": 82,
   "id": "8fa0f33e",
   "metadata": {},
   "outputs": [],
   "source": [
    "# save as xlsx:\n",
    "outlets_article_count.to_excel('data/article_count.xlsx', header=True, index=True)"
   ]
  },
  {
   "cell_type": "code",
   "execution_count": null,
   "id": "261f1936",
   "metadata": {},
   "outputs": [],
   "source": []
  },
  {
   "cell_type": "code",
   "execution_count": null,
   "id": "6b886f24",
   "metadata": {},
   "outputs": [],
   "source": []
  },
  {
   "cell_type": "code",
   "execution_count": null,
   "id": "831da0de",
   "metadata": {},
   "outputs": [],
   "source": []
  },
  {
   "cell_type": "code",
   "execution_count": null,
   "id": "71731fbe",
   "metadata": {},
   "outputs": [],
   "source": []
  },
  {
   "cell_type": "code",
   "execution_count": null,
   "id": "c2145a37",
   "metadata": {},
   "outputs": [],
   "source": []
  },
  {
   "cell_type": "code",
   "execution_count": 52,
   "id": "c89afa85",
   "metadata": {},
   "outputs": [],
   "source": [
    "\n"
   ]
  },
  {
   "cell_type": "code",
   "execution_count": null,
   "id": "edce6ea7",
   "metadata": {},
   "outputs": [],
   "source": []
  },
  {
   "cell_type": "code",
   "execution_count": null,
   "id": "2de582dd",
   "metadata": {},
   "outputs": [],
   "source": []
  },
  {
   "cell_type": "code",
   "execution_count": null,
   "id": "a273f13d",
   "metadata": {},
   "outputs": [],
   "source": []
  },
  {
   "cell_type": "code",
   "execution_count": null,
   "id": "260116e6",
   "metadata": {},
   "outputs": [],
   "source": []
  },
  {
   "cell_type": "code",
   "execution_count": null,
   "id": "b6c647a0",
   "metadata": {},
   "outputs": [],
   "source": []
  },
  {
   "cell_type": "code",
   "execution_count": null,
   "id": "f328e714",
   "metadata": {},
   "outputs": [],
   "source": []
  },
  {
   "cell_type": "code",
   "execution_count": null,
   "id": "5b50bacd",
   "metadata": {},
   "outputs": [],
   "source": []
  },
  {
   "cell_type": "code",
   "execution_count": null,
   "id": "98dc29e9",
   "metadata": {},
   "outputs": [],
   "source": []
  }
 ],
 "metadata": {
  "kernelspec": {
   "display_name": "Python 3 (ipykernel)",
   "language": "python",
   "name": "python3"
  },
  "language_info": {
   "codemirror_mode": {
    "name": "ipython",
    "version": 3
   },
   "file_extension": ".py",
   "mimetype": "text/x-python",
   "name": "python",
   "nbconvert_exporter": "python",
   "pygments_lexer": "ipython3",
   "version": "3.9.6"
  }
 },
 "nbformat": 4,
 "nbformat_minor": 5
}
