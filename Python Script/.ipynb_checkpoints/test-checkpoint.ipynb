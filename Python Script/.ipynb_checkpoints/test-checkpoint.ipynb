{
 "cells": [
  {
   "cell_type": "code",
   "execution_count": 59,
   "id": "aba4adb7",
   "metadata": {},
   "outputs": [],
   "source": [
    "import pandas as pd\n",
    "import requests\n",
    "import json\n",
    "import datetime"
   ]
  },
  {
   "cell_type": "code",
   "execution_count": 119,
   "id": "e7ba5d0d",
   "metadata": {},
   "outputs": [],
   "source": [
    "#date=2021-10-16T00:00:00+0100\n",
    "#start_time = '2021-10-16T00:00:00+0100' # date as string \n",
    "# string to datetime:\n",
    "start_time = datetime.datetime.strptime('2021-10-16T00:00:00+0200', '%Y-%m-%dT%H:%M:%S%z')\n",
    "end_time = datetime.datetime.strptime('2021-10-16T23:59:59+0200', '%Y-%m-%dT%H:%M:%S%z')\n",
    "\n",
    "# datetime to RFC3339\n",
    "start = start_time.isoformat()\n",
    "end = end_time.isoformat()"
   ]
  },
  {
   "cell_type": "code",
   "execution_count": null,
   "id": "7a0ce09f",
   "metadata": {},
   "outputs": [],
   "source": []
  },
  {
   "cell_type": "code",
   "execution_count": 120,
   "id": "bc491f9d",
   "metadata": {},
   "outputs": [],
   "source": [
    "def connect_to_twitter():\n",
    "    bearer_token = \"AAAAAAAAAAAAAAAAAAAAALHbUgEAAAAAcbfxbyr%2BsqJDQMpIumE1LYFgau4%3DtZSOHx2L3uEGs4m2a6OOFIos2Moy2FYfOkiVJd3v5OFKP9A48M\"\n",
    "    return {\"Authorization\": \"Bearer {}\".format(bearer_token)}"
   ]
  },
  {
   "cell_type": "code",
   "execution_count": 121,
   "id": "0fdd5a57",
   "metadata": {},
   "outputs": [],
   "source": [
    "headers = connect_to_twitter()"
   ]
  },
  {
   "cell_type": "code",
   "execution_count": 128,
   "id": "8b827557",
   "metadata": {},
   "outputs": [],
   "source": [
    "# search/all only for academic\n",
    "\n",
    "# request all tweets from FoxNews that were created on the 16.10.\n",
    "# default max_results: 10; maximum max_results: 100\n",
    "def make_request(headers):\n",
    "    url=\"http://api.twitter.com/2/tweets/search/recent\"\n",
    "    params={'query': 'from:FoxNews', 'start_time': start, 'end_time': end, 'tweet.fields': 'author_id,entities,attachments,conversation_id,created_at,referenced_tweets', 'max_results': 95}\n",
    "    return requests.request(\"GET\", url, params=params, headers=headers).json()\n",
    "\n",
    "\n"
   ]
  },
  {
   "cell_type": "code",
   "execution_count": 129,
   "id": "a3f4da48",
   "metadata": {},
   "outputs": [],
   "source": [
    "response = make_request(headers)"
   ]
  },
  {
   "cell_type": "code",
   "execution_count": 130,
   "id": "d5a97cb5",
   "metadata": {},
   "outputs": [
    {
     "name": "stdout",
     "output_type": "stream",
     "text": [
      "{'data': [{'created_at': '2021-10-16T21:45:00.000Z', 'author_id': '1367531', 'text': 'Ranchers launch effort to build own meat plants to fight against low beef prices\\n\\nhttps://t.co/K0CrIoubSa', 'conversation_id': '1449491591048187913', 'id': '1449491591048187913', 'entities': {'urls': [{'start': 82, 'end': 105, 'url': 'https://t.co/K0CrIoubSa', 'expanded_url': 'https://www.foxnews.com/us/ranchers-launch-effort-to-build-own-meat-plants-to-fight-against-low-beef-prices', 'display_url': 'foxnews.com/us/ranchers-la…'}]}}, {'created_at': '2021-10-16T21:30:00.000Z', 'author_id': '1367531', 'text': \"Panthers place McCaffrey on IR; RB can't return until Week 9\\n\\nhttps://t.co/CIVfrdV8Ca\", 'entities': {'annotations': [{'start': 0, 'end': 7, 'probability': 0.9754, 'type': 'Organization', 'normalized_text': 'Panthers'}, {'start': 15, 'end': 23, 'probability': 0.683, 'type': 'Person', 'normalized_text': 'McCaffrey'}, {'start': 28, 'end': 29, 'probability': 0.506, 'type': 'Organization', 'normalized_text': 'IR'}], 'urls': [{'start': 62, 'end': 85, 'url': 'https://t.co/CIVfrdV8Ca', 'expanded_url': 'https://www.foxnews.com/sports/panthers-place-mccaffrey-ir-rb-cant-return-until-week-9', 'display_url': 'foxnews.com/sports/panther…'}]}, 'conversation_id': '1449487817034252291', 'id': '1449487817034252291'}, {'created_at': '2021-10-16T21:15:00.000Z', 'author_id': '1367531', 'text': \"'Let's Go Brandon!' goes from social media meme to the top of the iTunes charts\\n\\nhttps://t.co/1cHeM2iE1G\", 'entities': {'annotations': [{'start': 1, 'end': 16, 'probability': 0.8045, 'type': 'Other', 'normalized_text': \"Let's Go Brandon\"}], 'urls': [{'start': 81, 'end': 104, 'url': 'https://t.co/1cHeM2iE1G', 'expanded_url': 'https://www.foxnews.com/entertainment/anti-biden-lets-go-brandon-song-tops-itunes-hip-hop-chart', 'display_url': 'foxnews.com/entertainment/…'}]}, 'conversation_id': '1449484041305018370', 'id': '1449484041305018370'}, {'created_at': '2021-10-16T21:00:01.000Z', 'author_id': '1367531', 'text': 'Hillary Clinton arrives at UC Irvine Medical Center as Bill Clinton recovers from infection\\n\\nhttps://t.co/zG5EAkdUZd', 'entities': {'annotations': [{'start': 0, 'end': 14, 'probability': 0.9871, 'type': 'Person', 'normalized_text': 'Hillary Clinton'}, {'start': 27, 'end': 50, 'probability': 0.5214, 'type': 'Organization', 'normalized_text': 'UC Irvine Medical Center'}, {'start': 55, 'end': 66, 'probability': 0.9227, 'type': 'Person', 'normalized_text': 'Bill Clinton'}], 'urls': [{'start': 93, 'end': 116, 'url': 'https://t.co/zG5EAkdUZd', 'expanded_url': 'https://www.foxnews.com/politics/hillary-clinton-chelsea-clinton-uc-irvine-medical-center-bill-clinton-infection-recovery', 'display_url': 'foxnews.com/politics/hilla…'}]}, 'conversation_id': '1449480271078776837', 'id': '1449480271078776837'}, {'created_at': '2021-10-16T20:39:03.000Z', 'author_id': '1367531', 'text': 'BREAKING: Robert Durst placed on ventilator after contracting COVID-19\\n\\nhttps://t.co/QeZ9PkXSKE', 'entities': {'annotations': [{'start': 10, 'end': 21, 'probability': 0.9896, 'type': 'Person', 'normalized_text': 'Robert Durst'}], 'urls': [{'start': 72, 'end': 95, 'url': 'https://t.co/QeZ9PkXSKE', 'expanded_url': 'https://www.foxnews.com/us/robert-durst-placed-on-ventilator-after-contracting-covid-19', 'display_url': 'foxnews.com/us/robert-durs…'}]}, 'conversation_id': '1449474997349752835', 'id': '1449474997349752835'}, {'created_at': '2021-10-16T20:30:00.000Z', 'author_id': '1367531', 'text': 'Dodgers say Knebel, not Scherzer, will start Game 1 of NLCS\\n\\nhttps://t.co/9VR35DBbOm', 'entities': {'annotations': [{'start': 0, 'end': 6, 'probability': 0.9489, 'type': 'Organization', 'normalized_text': 'Dodgers'}, {'start': 12, 'end': 17, 'probability': 0.7007, 'type': 'Person', 'normalized_text': 'Knebel'}, {'start': 24, 'end': 31, 'probability': 0.9527, 'type': 'Person', 'normalized_text': 'Scherzer'}, {'start': 55, 'end': 58, 'probability': 0.6649, 'type': 'Organization', 'normalized_text': 'NLCS'}], 'urls': [{'start': 61, 'end': 84, 'url': 'https://t.co/9VR35DBbOm', 'expanded_url': 'https://www.foxnews.com/sports/dodgers-say-knebel-not-scherzer-will-start-game-1-nlcs', 'display_url': 'foxnews.com/sports/dodgers…'}]}, 'conversation_id': '1449472716919099394', 'id': '1449472716919099394'}, {'created_at': '2021-10-16T20:23:00.000Z', 'author_id': '1367531', 'text': \"Protesters outside home of Brian Laundrie's parents hold up signs and chant, 'Justice for Gabby' https://t.co/K4wUZ3uhK3 https://t.co/X5sUSsZCnh\", 'entities': {'annotations': [{'start': 27, 'end': 40, 'probability': 0.986, 'type': 'Person', 'normalized_text': 'Brian Laundrie'}, {'start': 90, 'end': 94, 'probability': 0.5963, 'type': 'Person', 'normalized_text': 'Gabby'}], 'urls': [{'start': 97, 'end': 120, 'url': 'https://t.co/K4wUZ3uhK3', 'expanded_url': 'https://www.foxnews.com/live-news/brian-laundrie-gabby-petito-fiance-search-desantis', 'display_url': 'foxnews.com/live-news/bria…'}, {'start': 121, 'end': 144, 'url': 'https://t.co/X5sUSsZCnh', 'expanded_url': 'https://twitter.com/FoxNews/status/1449470956498571265/video/1', 'display_url': 'pic.twitter.com/X5sUSsZCnh'}]}, 'attachments': {'media_keys': ['7_1449470905546125316']}, 'conversation_id': '1449470956498571265', 'id': '1449470956498571265'}, {'created_at': '2021-10-16T20:13:23.000Z', 'author_id': '1367531', 'text': \"BREAKING: Texas deputy killed, 2 more injured in 'ambush' attack\\n\\nhttps://t.co/93bAyk7Ukn\", 'entities': {'annotations': [{'start': 10, 'end': 14, 'probability': 0.9159, 'type': 'Place', 'normalized_text': 'Texas'}], 'urls': [{'start': 66, 'end': 89, 'url': 'https://t.co/93bAyk7Ukn', 'expanded_url': 'https://www.foxnews.com/us/texas-deputy-killed-2-more-injured-in-ambush-attack', 'display_url': 'foxnews.com/us/texas-deput…'}]}, 'conversation_id': '1449468534724210694', 'id': '1449468534724210694'}, {'created_at': '2021-10-16T20:00:00.000Z', 'author_id': '1367531', 'text': 'Dodgers vs. Braves: What to know about 2021 NLCS\\n\\nhttps://t.co/iwD2sGHMsh', 'entities': {'annotations': [{'start': 0, 'end': 6, 'probability': 0.9876, 'type': 'Organization', 'normalized_text': 'Dodgers'}, {'start': 12, 'end': 17, 'probability': 0.9273, 'type': 'Organization', 'normalized_text': 'Braves'}], 'urls': [{'start': 50, 'end': 73, 'url': 'https://t.co/iwD2sGHMsh', 'expanded_url': 'https://www.foxnews.com/sports/dodgers-braves-2021-nlcs', 'display_url': 'foxnews.com/sports/dodgers…'}]}, 'conversation_id': '1449465167327154178', 'id': '1449465167327154178'}, {'created_at': '2021-10-16T19:53:26.000Z', 'author_id': '1367531', 'text': 'Tom Topps of St. Petersburg, Florida, explains why he organized protest outside Laundrie home https://t.co/K4wUZ3uhK3 https://t.co/df3lPDt3fu', 'entities': {'annotations': [{'start': 0, 'end': 8, 'probability': 0.8634, 'type': 'Person', 'normalized_text': 'Tom Topps'}, {'start': 13, 'end': 26, 'probability': 0.8533, 'type': 'Place', 'normalized_text': 'St. Petersburg'}, {'start': 29, 'end': 35, 'probability': 0.5805, 'type': 'Place', 'normalized_text': 'Florida'}], 'urls': [{'start': 94, 'end': 117, 'url': 'https://t.co/K4wUZ3uhK3', 'expanded_url': 'https://www.foxnews.com/live-news/brian-laundrie-gabby-petito-fiance-search-desantis', 'display_url': 'foxnews.com/live-news/bria…'}, {'start': 118, 'end': 141, 'url': 'https://t.co/df3lPDt3fu', 'expanded_url': 'https://twitter.com/FoxNews/status/1449463514737827849/video/1', 'display_url': 'pic.twitter.com/df3lPDt3fu'}]}, 'attachments': {'media_keys': ['7_1449463409750298627']}, 'conversation_id': '1449463514737827849', 'id': '1449463514737827849'}, {'created_at': '2021-10-16T19:45:00.000Z', 'author_id': '1367531', 'text': \"Ohio's Armani Rogers sets NCAA record with long touchdown run\\n\\nhttps://t.co/K3SBQvlJR3\", 'entities': {'annotations': [{'start': 0, 'end': 3, 'probability': 0.7397, 'type': 'Organization', 'normalized_text': 'Ohio'}, {'start': 7, 'end': 19, 'probability': 0.8772, 'type': 'Person', 'normalized_text': 'Armani Rogers'}, {'start': 26, 'end': 29, 'probability': 0.972, 'type': 'Organization', 'normalized_text': 'NCAA'}], 'urls': [{'start': 63, 'end': 86, 'url': 'https://t.co/K3SBQvlJR3', 'expanded_url': 'https://www.foxnews.com/sports/ohio-armani-rogers-ncaa-record-touchdown', 'display_url': 'foxnews.com/sports/ohio-ar…'}]}, 'conversation_id': '1449461392180920320', 'id': '1449461392180920320'}, {'created_at': '2021-10-16T19:30:00.000Z', 'author_id': '1367531', 'text': '.@RCamposDuffy: My time at Fox News has been a mother’s dream. #FoxNews25 https://t.co/yj5Cbq5oE7 https://t.co/RkjO8vKqNQ', 'entities': {'mentions': [{'start': 1, 'end': 14, 'username': 'RCamposDuffy', 'id': '34793128'}], 'annotations': [{'start': 27, 'end': 34, 'probability': 0.9836, 'type': 'Organization', 'normalized_text': 'Fox News'}], 'urls': [{'start': 74, 'end': 97, 'url': 'https://t.co/yj5Cbq5oE7', 'expanded_url': 'http://fxn.ws/3uC8GR4', 'display_url': 'fxn.ws/3uC8GR4'}, {'start': 98, 'end': 121, 'url': 'https://t.co/RkjO8vKqNQ', 'expanded_url': 'https://twitter.com/FoxNews/status/1449457617118511105/video/1', 'display_url': 'pic.twitter.com/RkjO8vKqNQ'}], 'hashtags': [{'start': 63, 'end': 73, 'tag': 'FoxNews25'}]}, 'attachments': {'media_keys': ['13_1445887080329060352']}, 'conversation_id': '1449457617118511105', 'id': '1449457617118511105'}, {'created_at': '2021-10-16T19:15:00.000Z', 'author_id': '1367531', 'text': 'Woman raped on train as bystanders did nothing, police say\\n\\nhttps://t.co/HQIQqp9ju8', 'conversation_id': '1449453842446241794', 'id': '1449453842446241794', 'entities': {'urls': [{'start': 60, 'end': 83, 'url': 'https://t.co/HQIQqp9ju8', 'expanded_url': 'https://www.foxnews.com/us/woman-raped-train-bystanders-nothing-police-say', 'display_url': 'foxnews.com/us/woman-raped…'}]}}, {'created_at': '2021-10-16T19:00:00.000Z', 'author_id': '1367531', 'text': \"Biden pays tribute to fallen police officers, tells families that 'your loss is America's loss'\\n\\nhttps://t.co/w1dRt35qyu\", 'entities': {'annotations': [{'start': 0, 'end': 4, 'probability': 0.9843, 'type': 'Person', 'normalized_text': 'Biden'}, {'start': 80, 'end': 86, 'probability': 0.9837, 'type': 'Place', 'normalized_text': 'America'}], 'urls': [{'start': 97, 'end': 120, 'url': 'https://t.co/w1dRt35qyu', 'expanded_url': 'https://www.foxnews.com/politics/biden-speaks-event-us-capitol-honoring-law-enforcement-killed-line-duty', 'display_url': 'foxnews.com/politics/biden…'}]}, 'conversation_id': '1449450068541677577', 'id': '1449450068541677577'}, {'created_at': '2021-10-16T18:48:24.000Z', 'author_id': '1367531', 'text': 'Navy SEALs seeking religious exemptions to vaccine mandate facing intimidation and harassment, sources say https://t.co/XKPcSDDH8Q', 'conversation_id': '1449447148559290374', 'id': '1449447148559290374', 'entities': {'urls': [{'start': 107, 'end': 130, 'url': 'https://t.co/XKPcSDDH8Q', 'expanded_url': 'https://www.foxnews.com/politics/navy-seals-coronavirus-vaccine-mandate-religious-exemption-intimidation-harassment', 'display_url': 'foxnews.com/politics/navy-…'}]}}, {'created_at': '2021-10-16T18:45:00.000Z', 'author_id': '1367531', 'text': 'US cities with worst air pollution ranked: report\\n\\nhttps://t.co/grveKaWlxF', 'entities': {'annotations': [{'start': 0, 'end': 1, 'probability': 0.7923, 'type': 'Place', 'normalized_text': 'US'}], 'urls': [{'start': 51, 'end': 74, 'url': 'https://t.co/grveKaWlxF', 'expanded_url': 'https://www.foxnews.com/us/us-cities-worst-air-pollution-ranked-report', 'display_url': 'foxnews.com/us/us-cities-w…', 'images': [{'url': 'https://pbs.twimg.com/news_img/1449434981990813702/eZr2BTFv?format=jpg&name=orig', 'width': 1024, 'height': 512}, {'url': 'https://pbs.twimg.com/news_img/1449434981990813702/eZr2BTFv?format=jpg&name=150x150', 'width': 150, 'height': 150}], 'status': 200, 'title': 'US cities with worst air pollution ranked: report', 'description': 'The U.S. cities with the worst air pollution levels were ranked in a recent report, which concluded that more than 58 million Americans experienced more than 100 days of polluted air in 2020.\\xa0', 'unwound_url': 'https://www.foxnews.com/us/us-cities-worst-air-pollution-ranked-report'}]}, 'conversation_id': '1449446292615090177', 'id': '1449446292615090177'}, {'created_at': '2021-10-16T18:26:13.000Z', 'author_id': '1367531', 'text': 'Russian thrusters accidentally tilt International Space Station again\\n\\nhttps://t.co/Oz8iYotWUx', 'conversation_id': '1449441565013852163', 'id': '1449441565013852163', 'entities': {'urls': [{'start': 71, 'end': 94, 'url': 'https://t.co/Oz8iYotWUx', 'expanded_url': 'https://www.foxnews.com/science/russian-thrusters-accidentally-tilt-space-station-again', 'display_url': 'foxnews.com/science/russia…'}]}}, {'created_at': '2021-10-16T17:45:25.000Z', 'author_id': '1367531', 'text': \"Rutgers' Greg Schiano seemingly disappears into thin air after giving team pep talk\\n\\nhttps://t.co/2rmwxGaVKK\", 'entities': {'annotations': [{'start': 0, 'end': 6, 'probability': 0.9192, 'type': 'Organization', 'normalized_text': 'Rutgers'}, {'start': 9, 'end': 20, 'probability': 0.9848, 'type': 'Person', 'normalized_text': 'Greg Schiano'}], 'urls': [{'start': 85, 'end': 108, 'url': 'https://t.co/2rmwxGaVKK', 'expanded_url': 'https://www.foxnews.com/sports/rutgers-greg-schiano-disappears-pep-talk', 'display_url': 'foxnews.com/sports/rutgers…'}]}, 'conversation_id': '1449431298452377607', 'id': '1449431298452377607'}, {'created_at': '2021-10-16T17:29:01.000Z', 'author_id': '1367531', 'text': 'DeSantis threatens to sue Biden administration over vaccine mandate\\n\\nhttps://t.co/F0Z3wfK1Ay', 'entities': {'annotations': [{'start': 0, 'end': 7, 'probability': 0.7962, 'type': 'Person', 'normalized_text': 'DeSantis'}, {'start': 26, 'end': 30, 'probability': 0.9771, 'type': 'Person', 'normalized_text': 'Biden'}], 'urls': [{'start': 69, 'end': 92, 'url': 'https://t.co/F0Z3wfK1Ay', 'expanded_url': 'https://www.foxnews.com/us/desantis-threatens-lawsuit-biden-vaccine-mandate', 'display_url': 'foxnews.com/us/desantis-th…'}]}, 'conversation_id': '1449427173425692683', 'id': '1449427173425692683'}, {'created_at': '2021-10-16T17:04:09.000Z', 'author_id': '1367531', 'text': 'Michigan officials charge 3 women with attempted voter fraud in 2020 election\\n\\nhttps://t.co/jHoY3KTiSm', 'entities': {'annotations': [{'start': 0, 'end': 7, 'probability': 0.8356, 'type': 'Place', 'normalized_text': 'Michigan'}], 'urls': [{'start': 79, 'end': 102, 'url': 'https://t.co/jHoY3KTiSm', 'expanded_url': 'https://www.foxnews.com/us/michigan-officials-women-voter-fraud-2020-election', 'display_url': 'foxnews.com/us/michigan-of…'}]}, 'conversation_id': '1449420912030277633', 'id': '1449420912030277633'}, {'created_at': '2021-10-16T17:03:47.000Z', 'author_id': '1367531', 'text': 'Immigration hawks says Biden’s CBP pick has ‘downright dangerous’ record opposing enforcement moves\\n\\nhttps://t.co/RrC1SCB8ux', 'entities': {'annotations': [{'start': 0, 'end': 16, 'probability': 0.5593, 'type': 'Organization', 'normalized_text': 'Immigration hawks'}, {'start': 23, 'end': 27, 'probability': 0.9835, 'type': 'Person', 'normalized_text': 'Biden'}, {'start': 31, 'end': 33, 'probability': 0.6382, 'type': 'Organization', 'normalized_text': 'CBP'}], 'urls': [{'start': 101, 'end': 124, 'url': 'https://t.co/RrC1SCB8ux', 'expanded_url': 'https://www.foxnews.com/politics/immigration-hawks-bidens-cbp-pick-downright-dangerous-record-opposing-enforcement', 'display_url': 'foxnews.com/politics/immig…'}]}, 'conversation_id': '1449420821341036546', 'id': '1449420821341036546'}, {'created_at': '2021-10-16T16:27:52.000Z', 'author_id': '1367531', 'text': \"William Shatner claps back at George Takei's body-shaming comments following Blue Origin flight: 'Don't hate'\\n\\nhttps://t.co/CKLAVt6uoc\", 'entities': {'annotations': [{'start': 0, 'end': 14, 'probability': 0.9955, 'type': 'Person', 'normalized_text': 'William Shatner'}, {'start': 30, 'end': 41, 'probability': 0.8481, 'type': 'Person', 'normalized_text': 'George Takei'}], 'urls': [{'start': 111, 'end': 134, 'url': 'https://t.co/CKLAVt6uoc', 'expanded_url': 'https://www.foxnews.com/entertainment/william-shatner-claps-back-george-takei-body-shaming-comments-blue-origin-flight', 'display_url': 'foxnews.com/entertainment/…'}]}, 'conversation_id': '1449411784948035584', 'id': '1449411784948035584'}, {'created_at': '2021-10-16T16:21:30.000Z', 'author_id': '1367531', 'text': 'Mötley Crüe singer Vince Neil transported to hospital after falling off stage during concert: report\\n\\nhttps://t.co/sFwqTZzgYZ', 'conversation_id': '1449410182270836741', 'id': '1449410182270836741', 'entities': {'urls': [{'start': 102, 'end': 125, 'url': 'https://t.co/sFwqTZzgYZ', 'expanded_url': 'https://www.foxnews.com/entertainment/motley-crue-singer-vince-neil-transported-hospital-falling-offstage-concert', 'display_url': 'foxnews.com/entertainment/…'}]}}, {'created_at': '2021-10-16T15:32:54.000Z', 'author_id': '1367531', 'text': 'Alabama high school football game shooting leaves several wounded, police say\\n\\nhttps://t.co/bgLEO62NvM', 'entities': {'annotations': [{'start': 0, 'end': 6, 'probability': 0.8218, 'type': 'Organization', 'normalized_text': 'Alabama'}], 'urls': [{'start': 79, 'end': 102, 'url': 'https://t.co/bgLEO62NvM', 'expanded_url': 'https://www.foxnews.com/sports/alabama-high-school-football-game-shooting', 'display_url': 'foxnews.com/sports/alabama…'}]}, 'conversation_id': '1449397952225685505', 'id': '1449397952225685505'}, {'created_at': '2021-10-16T14:58:34.000Z', 'author_id': '1367531', 'text': 'Kyle Rittenhouse victim sues, claims Kenosha police conspired with vigilantes\\n\\nhttps://t.co/84ObXSS8yh', 'entities': {'annotations': [{'start': 0, 'end': 15, 'probability': 0.9612, 'type': 'Person', 'normalized_text': 'Kyle Rittenhouse'}, {'start': 37, 'end': 43, 'probability': 0.4897, 'type': 'Organization', 'normalized_text': 'Kenosha'}], 'urls': [{'start': 79, 'end': 102, 'url': 'https://t.co/84ObXSS8yh', 'expanded_url': 'https://www.foxnews.com/us/kyle-rittenhouse-victim-grosskreutz-lawsuit-kenosha-police', 'display_url': 'foxnews.com/us/kyle-ritten…'}]}, 'conversation_id': '1449389309426126855', 'id': '1449389309426126855'}, {'created_at': '2021-10-16T14:57:40.000Z', 'author_id': '1367531', 'text': \"Canadian pastor defiant as judge orders him to parrot 'medical experts' from pulpit: 'I will not obey'\\n\\nhttps://t.co/E1KfX4VG9N\", 'conversation_id': '1449389084397408258', 'id': '1449389084397408258', 'entities': {'urls': [{'start': 104, 'end': 127, 'url': 'https://t.co/E1KfX4VG9N', 'expanded_url': 'https://www.foxnews.com/world/canadian-pastor-ordered-judge-cite-medical-experts-pulpit', 'display_url': 'foxnews.com/world/canadian…'}]}}, {'created_at': '2021-10-16T14:42:00.000Z', 'author_id': '1367531', 'text': 'Robot dog armed with sniper rifle unveiled at US Army trade show\\n\\nhttps://t.co/0y5yePrAum', 'entities': {'annotations': [{'start': 46, 'end': 52, 'probability': 0.6412, 'type': 'Organization', 'normalized_text': 'US Army'}], 'urls': [{'start': 66, 'end': 89, 'url': 'https://t.co/0y5yePrAum', 'expanded_url': 'https://www.foxnews.com/science/robot-dog-armed-sniper-rifle-us-army-trade-show', 'display_url': 'foxnews.com/science/robot-…'}]}, 'conversation_id': '1449385139918807042', 'id': '1449385139918807042'}, {'created_at': '2021-10-16T13:59:17.000Z', 'author_id': '1367531', 'referenced_tweets': [{'type': 'quoted', 'id': '1449353335816007682'}], 'text': 'We are @saucehouseBBQ in Athens, GA. https://t.co/OBU1UMkMBz', 'entities': {'mentions': [{'start': 7, 'end': 21, 'username': 'SaucehouseBBQ', 'id': '1580956700'}], 'annotations': [{'start': 25, 'end': 34, 'probability': 0.6925, 'type': 'Place', 'normalized_text': 'Athens, GA'}], 'urls': [{'start': 37, 'end': 60, 'url': 'https://t.co/OBU1UMkMBz', 'expanded_url': 'https://twitter.com/Outkick/status/1449353335816007682', 'display_url': 'twitter.com/Outkick/status…'}]}, 'conversation_id': '1449374389699502080', 'id': '1449374389699502080'}, {'created_at': '2021-10-16T12:30:01.000Z', 'author_id': '1367531', 'text': 'Psaki, DOJ in damage control mode after Biden says subpoena defiers should be prosecuted\\n\\nhttps://t.co/RWiCaHreLf', 'entities': {'annotations': [{'start': 7, 'end': 9, 'probability': 0.8228, 'type': 'Organization', 'normalized_text': 'DOJ'}, {'start': 40, 'end': 44, 'probability': 0.9964, 'type': 'Person', 'normalized_text': 'Biden'}], 'urls': [{'start': 90, 'end': 113, 'url': 'https://t.co/RWiCaHreLf', 'expanded_url': 'https://www.foxnews.com/politics/psaki-doj-damage-control-mode-biden-says-subpoena-defiers-prosecuted', 'display_url': 'foxnews.com/politics/psaki…'}]}, 'conversation_id': '1449351924780830721', 'id': '1449351924780830721'}, {'created_at': '2021-10-16T12:00:21.000Z', 'author_id': '1367531', 'text': 'Skydive your way to a stay at this Utah resort\\n\\nhttps://t.co/xsUVs2w92O', 'entities': {'annotations': [{'start': 35, 'end': 38, 'probability': 0.9149, 'type': 'Place', 'normalized_text': 'Utah'}], 'urls': [{'start': 48, 'end': 71, 'url': 'https://t.co/xsUVs2w92O', 'expanded_url': 'https://www.foxnews.com/travel/skydive-utah-sorrel-river-ranch-resort', 'display_url': 'foxnews.com/travel/skydive…'}]}, 'conversation_id': '1449344460731699206', 'id': '1449344460731699206'}, {'created_at': '2021-10-16T11:52:07.000Z', 'author_id': '1367531', 'text': 'Chris Laundrie on Saturday morning removed a sign on his property line that read, ‘What if it was Cassie?’\\n\\nhttps://t.co/K4wUZ3uhK3 https://t.co/2Zw9KlKzvj', 'entities': {'annotations': [{'start': 0, 'end': 13, 'probability': 0.9955, 'type': 'Person', 'normalized_text': 'Chris Laundrie'}, {'start': 98, 'end': 103, 'probability': 0.9134, 'type': 'Person', 'normalized_text': 'Cassie'}], 'urls': [{'start': 108, 'end': 131, 'url': 'https://t.co/K4wUZ3uhK3', 'expanded_url': 'https://www.foxnews.com/live-news/brian-laundrie-gabby-petito-fiance-search-desantis', 'display_url': 'foxnews.com/live-news/bria…'}, {'start': 132, 'end': 155, 'url': 'https://t.co/2Zw9KlKzvj', 'expanded_url': 'https://twitter.com/FoxNews/status/1449342386673537034/video/1', 'display_url': 'pic.twitter.com/2Zw9KlKzvj'}]}, 'attachments': {'media_keys': ['7_1449342195438342147']}, 'conversation_id': '1449342386673537034', 'id': '1449342386673537034'}, {'created_at': '2021-10-16T11:47:35.000Z', 'author_id': '1367531', 'text': \"Houston deputy killed, 2 more injured in ambush attack: 'Shot from behind'\\n\\nhttps://t.co/lEya4qFPmC\", 'entities': {'annotations': [{'start': 0, 'end': 6, 'probability': 0.8499, 'type': 'Place', 'normalized_text': 'Houston'}], 'urls': [{'start': 76, 'end': 99, 'url': 'https://t.co/lEya4qFPmC', 'expanded_url': 'https://www.foxnews.com/us/houston-deputy-killed-injured-ambush-attack', 'display_url': 'foxnews.com/us/houston-dep…'}]}, 'conversation_id': '1449341247383015429', 'id': '1449341247383015429'}, {'created_at': '2021-10-16T11:30:00.000Z', 'author_id': '1367531', 'text': 'China launches 3 astronauts on 6-month space station mission\\n\\nhttps://t.co/JRjYrk6J8c', 'entities': {'annotations': [{'start': 0, 'end': 4, 'probability': 0.9529, 'type': 'Place', 'normalized_text': 'China'}], 'urls': [{'start': 62, 'end': 85, 'url': 'https://t.co/JRjYrk6J8c', 'expanded_url': 'https://www.foxnews.com/world/china-launches-3-astronauts-6-month-space-station-mission', 'display_url': 'foxnews.com/world/china-la…'}]}, 'conversation_id': '1449336822010548226', 'id': '1449336822010548226'}, {'created_at': '2021-10-16T11:01:15.000Z', 'author_id': '1367531', 'text': \"Where are the 'Dance Moms' girls today?\\n\\nhttps://t.co/dHA9sYe7dJ\", 'conversation_id': '1449329589197721600', 'id': '1449329589197721600', 'entities': {'urls': [{'start': 41, 'end': 64, 'url': 'https://t.co/dHA9sYe7dJ', 'expanded_url': 'https://www.foxnews.com/entertainment/where-dance-moms-girls-today', 'display_url': 'foxnews.com/entertainment/…'}]}}, {'created_at': '2021-10-16T11:00:43.000Z', 'author_id': '1367531', 'text': 'Brian Laundrie manhunt: Wyoming restaurant fight is key, FBI behavioral analyst says\\n\\nhttps://t.co/QA2pYYDzyl', 'entities': {'annotations': [{'start': 0, 'end': 13, 'probability': 0.99, 'type': 'Person', 'normalized_text': 'Brian Laundrie'}, {'start': 24, 'end': 30, 'probability': 0.6655, 'type': 'Place', 'normalized_text': 'Wyoming'}, {'start': 57, 'end': 59, 'probability': 0.9869, 'type': 'Organization', 'normalized_text': 'FBI'}], 'urls': [{'start': 86, 'end': 109, 'url': 'https://t.co/QA2pYYDzyl', 'expanded_url': 'https://www.foxnews.com/us/laundrie-petito-wyoming-restaurant-fight-fbi-analyst', 'display_url': 'foxnews.com/us/laundrie-pe…'}]}, 'conversation_id': '1449329452299825153', 'id': '1449329452299825153'}, {'created_at': '2021-10-16T11:00:01.000Z', 'author_id': '1367531', 'text': 'Tom Brady believes he could play well into his 50s\\n\\nhttps://t.co/47j86nkbPx', 'entities': {'annotations': [{'start': 0, 'end': 8, 'probability': 0.999, 'type': 'Person', 'normalized_text': 'Tom Brady'}], 'urls': [{'start': 52, 'end': 75, 'url': 'https://t.co/47j86nkbPx', 'expanded_url': 'https://www.foxnews.com/sports/tom-brady-believes-could-play-into-50s', 'display_url': 'foxnews.com/sports/tom-bra…'}]}, 'conversation_id': '1449329278420754432', 'id': '1449329278420754432'}, {'created_at': '2021-10-16T10:39:23.000Z', 'author_id': '1367531', 'text': \"'Green monster' Halloween smoothies to make with kids\\n\\nhttps://t.co/622VbM8ysV\", 'entities': {'annotations': [{'start': 16, 'end': 24, 'probability': 0.7487, 'type': 'Other', 'normalized_text': 'Halloween'}], 'urls': [{'start': 55, 'end': 78, 'url': 'https://t.co/622VbM8ysV', 'expanded_url': 'https://www.foxnews.com/lifestyle/green-monster-halloween-smoothies-kids-recipe', 'display_url': 'foxnews.com/lifestyle/gree…'}]}, 'conversation_id': '1449324082818953222', 'id': '1449324082818953222'}, {'created_at': '2021-10-16T10:30:00.000Z', 'author_id': '1367531', 'text': 'CDC: Record high drug overdose deaths in US at over 96,000 in 12-month period\\n\\nhttps://t.co/E9f0zLSHKC', 'entities': {'annotations': [{'start': 0, 'end': 2, 'probability': 0.5334, 'type': 'Organization', 'normalized_text': 'CDC'}, {'start': 41, 'end': 42, 'probability': 0.9431, 'type': 'Place', 'normalized_text': 'US'}], 'urls': [{'start': 79, 'end': 102, 'url': 'https://t.co/E9f0zLSHKC', 'expanded_url': 'https://www.foxnews.com/health/record-high-drug-overdose-deaths-us', 'display_url': 'foxnews.com/health/record-…'}]}, 'conversation_id': '1449321724303052801', 'id': '1449321724303052801'}, {'created_at': '2021-10-16T10:15:06.000Z', 'author_id': '1367531', 'text': 'Waffle House waitress pulled gun over food complaint, Atlanta customer claims\\n\\nhttps://t.co/SJwIBe7R7u', 'entities': {'annotations': [{'start': 0, 'end': 11, 'probability': 0.509, 'type': 'Organization', 'normalized_text': 'Waffle House'}, {'start': 54, 'end': 60, 'probability': 0.8316, 'type': 'Place', 'normalized_text': 'Atlanta'}], 'urls': [{'start': 79, 'end': 102, 'url': 'https://t.co/SJwIBe7R7u', 'expanded_url': 'https://www.foxnews.com/us/waffle-house-waitress-gun-eggs-atlanta-customer', 'display_url': 'foxnews.com/us/waffle-hous…'}]}, 'conversation_id': '1449317975127994369', 'id': '1449317975127994369'}, {'created_at': '2021-10-16T09:00:02.000Z', 'author_id': '1367531', 'text': 'Border Patrol finds two sisters, 4 and 6, alone near border in Yuma sector\\n\\nhttps://t.co/tSpvXosCEY', 'entities': {'annotations': [{'start': 0, 'end': 12, 'probability': 0.4462, 'type': 'Organization', 'normalized_text': 'Border Patrol'}, {'start': 63, 'end': 66, 'probability': 0.9287, 'type': 'Place', 'normalized_text': 'Yuma'}], 'urls': [{'start': 76, 'end': 99, 'url': 'https://t.co/tSpvXosCEY', 'expanded_url': 'https://www.foxnews.com/politics/border-patrol-yuma-arizona-two-girls-alone', 'display_url': 'foxnews.com/politics/borde…'}]}, 'conversation_id': '1449299082850324481', 'id': '1449299082850324481'}, {'created_at': '2021-10-16T08:30:00.000Z', 'author_id': '1367531', 'text': 'Biden official who said inflation issues are ‘high class problems’ once ripped Trump admin for price increases\\n\\nhttps://t.co/Ix259MyvOX', 'entities': {'annotations': [{'start': 0, 'end': 4, 'probability': 0.9617, 'type': 'Person', 'normalized_text': 'Biden'}, {'start': 79, 'end': 83, 'probability': 0.9971, 'type': 'Person', 'normalized_text': 'Trump'}], 'urls': [{'start': 112, 'end': 135, 'url': 'https://t.co/Ix259MyvOX', 'expanded_url': 'https://www.foxnews.com/media/biden-official-inflation-high-class-trump-price', 'display_url': 'foxnews.com/media/biden-of…'}]}, 'conversation_id': '1449291524202655746', 'id': '1449291524202655746'}, {'created_at': '2021-10-16T08:00:01.000Z', 'author_id': '1367531', 'text': 'Loudoun County superintendent apologizes, board member resigns as backlash grows over alleged sexual assaults\\n\\nhttps://t.co/IuXaY0RzQx', 'entities': {'annotations': [{'start': 0, 'end': 13, 'probability': 0.4362, 'type': 'Place', 'normalized_text': 'Loudoun County'}], 'urls': [{'start': 111, 'end': 134, 'url': 'https://t.co/IuXaY0RzQx', 'expanded_url': 'https://www.foxnews.com/politics/loudoun-county-superintendent-apologizes-board-member-resigns-sexual-assault-backlash', 'display_url': 'foxnews.com/politics/loudo…'}]}, 'conversation_id': '1449283977697660930', 'id': '1449283977697660930'}, {'created_at': '2021-10-16T07:30:00.000Z', 'author_id': '1367531', 'text': \"'America’s Newsroom' with Bill Hemmer and Dana Perino outdraws ABC, NBC\\n\\nhttps://t.co/0z1LZFfBor\", 'entities': {'annotations': [{'start': 1, 'end': 7, 'probability': 0.828, 'type': 'Place', 'normalized_text': 'America'}, {'start': 26, 'end': 36, 'probability': 0.9677, 'type': 'Person', 'normalized_text': 'Bill Hemmer'}, {'start': 42, 'end': 52, 'probability': 0.9744, 'type': 'Person', 'normalized_text': 'Dana Perino'}, {'start': 63, 'end': 65, 'probability': 0.5541, 'type': 'Organization', 'normalized_text': 'ABC'}, {'start': 68, 'end': 70, 'probability': 0.9207, 'type': 'Organization', 'normalized_text': 'NBC'}], 'urls': [{'start': 73, 'end': 96, 'url': 'https://t.co/0z1LZFfBor', 'expanded_url': 'https://www.foxnews.com/media/americas-newsroom-bill-hemmer-dana-perino-outdraws-abc-nbc', 'display_url': 'foxnews.com/media/americas…'}]}, 'conversation_id': '1449276425110843392', 'id': '1449276425110843392'}, {'created_at': '2021-10-16T07:00:00.000Z', 'author_id': '1367531', 'text': 'Katey Sagal hit by a car, hospitalized: report\\n\\nhttps://t.co/rX6y5ANyyY', 'entities': {'annotations': [{'start': 0, 'end': 10, 'probability': 0.8715, 'type': 'Person', 'normalized_text': 'Katey Sagal'}], 'urls': [{'start': 48, 'end': 71, 'url': 'https://t.co/rX6y5ANyyY', 'expanded_url': 'https://www.foxnews.com/entertainment/katey-sagal-hit-car-hospitalized-report', 'display_url': 'foxnews.com/entertainment/…'}]}, 'conversation_id': '1449268875657297922', 'id': '1449268875657297922'}, {'created_at': '2021-10-16T06:30:00.000Z', 'author_id': '1367531', 'text': 'Obama to attend UN climate summit in Glasgow\\n\\nhttps://t.co/PbDc46jy76', 'entities': {'annotations': [{'start': 0, 'end': 4, 'probability': 0.9955, 'type': 'Person', 'normalized_text': 'Obama'}, {'start': 16, 'end': 17, 'probability': 0.3249, 'type': 'Place', 'normalized_text': 'UN'}, {'start': 37, 'end': 43, 'probability': 0.9938, 'type': 'Place', 'normalized_text': 'Glasgow'}], 'urls': [{'start': 46, 'end': 69, 'url': 'https://t.co/PbDc46jy76', 'expanded_url': 'https://www.foxnews.com/politics/obama-un-climate-summit-glasgow', 'display_url': 'foxnews.com/politics/obama…'}]}, 'conversation_id': '1449261323779510278', 'id': '1449261323779510278'}, {'created_at': '2021-10-16T06:00:01.000Z', 'author_id': '1367531', 'text': 'Liberal media turns on progressive NBA star Kyrie Irving for breaking rank with left on vaccine mandates\\n\\nhttps://t.co/QcVHYBHgKI', 'entities': {'annotations': [{'start': 35, 'end': 37, 'probability': 0.9558, 'type': 'Organization', 'normalized_text': 'NBA'}, {'start': 44, 'end': 55, 'probability': 0.9809, 'type': 'Person', 'normalized_text': 'Kyrie Irving'}], 'urls': [{'start': 106, 'end': 129, 'url': 'https://t.co/QcVHYBHgKI', 'expanded_url': 'https://www.foxnews.com/media/kyrie-irving-activism-broke-rank-left-covid-vaccine-mandates', 'display_url': 'foxnews.com/media/kyrie-ir…'}]}, 'conversation_id': '1449253779535122434', 'id': '1449253779535122434'}, {'created_at': '2021-10-16T05:30:00.000Z', 'author_id': '1367531', 'text': \"DHS says it anticipates restarting Trump-era 'Remain in Mexico' policy in November, is rebuilding tent courts\\n\\nhttps://t.co/B5vQwyKose\", 'entities': {'annotations': [{'start': 0, 'end': 2, 'probability': 0.8798, 'type': 'Organization', 'normalized_text': 'DHS'}, {'start': 56, 'end': 61, 'probability': 0.9962, 'type': 'Place', 'normalized_text': 'Mexico'}], 'urls': [{'start': 111, 'end': 134, 'url': 'https://t.co/B5vQwyKose', 'expanded_url': 'https://www.foxnews.com/politics/dhs-restarting-remain-in-mexico-policy-tent-courts', 'display_url': 'foxnews.com/politics/dhs-r…'}]}, 'conversation_id': '1449246224352219142', 'id': '1449246224352219142'}, {'created_at': '2021-10-16T05:00:01.000Z', 'author_id': '1367531', 'text': \"Arizona sheriff sounds alarm on massive fentanyl seizures: 'The war on drugs is back'\\n\\nhttps://t.co/PAzjhAFlqp\", 'entities': {'annotations': [{'start': 0, 'end': 6, 'probability': 0.9059, 'type': 'Place', 'normalized_text': 'Arizona'}], 'urls': [{'start': 87, 'end': 110, 'url': 'https://t.co/PAzjhAFlqp', 'expanded_url': 'https://www.foxnews.com/media/arizona-sheriff-war-drugs-back-seizing-fentanyl-border', 'display_url': 'foxnews.com/media/arizona-…'}]}, 'conversation_id': '1449238680539828225', 'id': '1449238680539828225'}, {'created_at': '2021-10-16T04:00:59.000Z', 'author_id': '1367531', 'text': \"Michigan schools cancel Halloween, Valentine's Day due to concerns over inclusion https://t.co/Cty5TdEjIh\", 'entities': {'annotations': [{'start': 0, 'end': 7, 'probability': 0.7538, 'type': 'Place', 'normalized_text': 'Michigan'}, {'start': 24, 'end': 32, 'probability': 0.9169, 'type': 'Other', 'normalized_text': 'Halloween'}, {'start': 35, 'end': 43, 'probability': 0.3115, 'type': 'Person', 'normalized_text': 'Valentine'}], 'urls': [{'start': 82, 'end': 105, 'url': 'https://t.co/Cty5TdEjIh', 'expanded_url': 'https://www.foxnews.com/us/michigan-schools-cancel-halloween-valentines-day-inclusion', 'display_url': 'foxnews.com/us/michigan-sc…'}]}, 'conversation_id': '1449223824742944772', 'id': '1449223824742944772'}, {'created_at': '2021-10-16T03:00:02.000Z', 'author_id': '1367531', 'text': 'Jill Biden hits campaign trail Friday in Virginia, New Jersey\\n\\nhttps://t.co/LyjxXYWjBJ', 'entities': {'annotations': [{'start': 0, 'end': 9, 'probability': 0.9962, 'type': 'Person', 'normalized_text': 'Jill Biden'}, {'start': 41, 'end': 48, 'probability': 0.9959, 'type': 'Place', 'normalized_text': 'Virginia'}, {'start': 51, 'end': 60, 'probability': 0.3975, 'type': 'Place', 'normalized_text': 'New Jersey'}], 'urls': [{'start': 63, 'end': 86, 'url': 'https://t.co/LyjxXYWjBJ', 'expanded_url': 'https://www.foxnews.com/politics/jill-biden-virginia-new-jersey-campaign-trail', 'display_url': 'foxnews.com/politics/jill-…'}]}, 'conversation_id': '1449208485065932803', 'id': '1449208485065932803'}, {'created_at': '2021-10-16T02:30:00.000Z', 'author_id': '1367531', 'text': 'Scheller, Marine who criticized Afghanistan withdrawal, sentenced to reprimand, forfeiture of $5K in pay\\n\\nhttps://t.co/VV9YHytPKF', 'entities': {'annotations': [{'start': 0, 'end': 7, 'probability': 0.4403, 'type': 'Person', 'normalized_text': 'Scheller'}, {'start': 32, 'end': 42, 'probability': 0.7101, 'type': 'Place', 'normalized_text': 'Afghanistan'}], 'urls': [{'start': 106, 'end': 129, 'url': 'https://t.co/VV9YHytPKF', 'expanded_url': 'https://www.foxnews.com/politics/scheller-marine-who-criticized-afghanistan-withdrawal-sentenced-reprimand-pay-forfeiture', 'display_url': 'foxnews.com/politics/schel…'}]}, 'conversation_id': '1449200927538221061', 'id': '1449200927538221061'}, {'created_at': '2021-10-16T01:59:14.000Z', 'author_id': '1367531', 'text': 'Manchin dismissively calls Sanders a ‘self-declared independent socialist’ https://t.co/3qxeqztV2P', 'entities': {'annotations': [{'start': 0, 'end': 6, 'probability': 0.8499, 'type': 'Person', 'normalized_text': 'Manchin'}, {'start': 27, 'end': 33, 'probability': 0.9873, 'type': 'Person', 'normalized_text': 'Sanders'}], 'urls': [{'start': 75, 'end': 98, 'url': 'https://t.co/3qxeqztV2P', 'expanded_url': 'https://www.foxnews.com/politics/manchin-dismissively-calls-sanders-a-self-declared-independent-socialist', 'display_url': 'foxnews.com/politics/manch…'}]}, 'conversation_id': '1449193184286887938', 'id': '1449193184286887938'}, {'created_at': '2021-10-16T01:50:00.000Z', 'author_id': '1367531', 'text': \"Tubi's 'Famously Haunted: Amityville' examines paranormal activity at famed New York murder site https://t.co/NsmYlHQN52\", 'entities': {'annotations': [{'start': 76, 'end': 83, 'probability': 0.8774, 'type': 'Place', 'normalized_text': 'New York'}], 'urls': [{'start': 97, 'end': 120, 'url': 'https://t.co/NsmYlHQN52', 'expanded_url': 'https://www.foxnews.com/entertainment/tubi-famously-haunted-amityville-paranormal-activity-new-york-murder-site', 'display_url': 'foxnews.com/entertainment/…'}]}, 'conversation_id': '1449190859539353600', 'id': '1449190859539353600'}, {'created_at': '2021-10-16T01:48:50.000Z', 'author_id': '1367531', 'text': \"'RHOC' alum Vicki Gunvalson accuses ex-fiancé of cheating: 'No Christian man would do what he's done'\\nhttps://t.co/piouJ7jvGx\", 'entities': {'annotations': [{'start': 1, 'end': 4, 'probability': 0.4298, 'type': 'Organization', 'normalized_text': 'RHOC'}, {'start': 12, 'end': 26, 'probability': 0.996, 'type': 'Person', 'normalized_text': 'Vicki Gunvalson'}], 'urls': [{'start': 102, 'end': 125, 'url': 'https://t.co/piouJ7jvGx', 'expanded_url': 'https://www.foxnews.com/entertainment/rhoc-vicki-gunvalson-accuses-ex-fiance-cheating', 'display_url': 'foxnews.com/entertainment/…'}]}, 'conversation_id': '1449190568253399042', 'id': '1449190568253399042'}, {'created_at': '2021-10-16T01:40:00.000Z', 'author_id': '1367531', 'text': \"Maxine Waters still hasn't explained bizarre Twitter hacking claim https://t.co/s7JHp4d6W2\", 'entities': {'annotations': [{'start': 0, 'end': 12, 'probability': 0.965, 'type': 'Person', 'normalized_text': 'Maxine Waters'}, {'start': 45, 'end': 51, 'probability': 0.5297, 'type': 'Product', 'normalized_text': 'Twitter'}], 'urls': [{'start': 67, 'end': 90, 'url': 'https://t.co/s7JHp4d6W2', 'expanded_url': 'https://www.foxnews.com/politics/maxine-waters-bizarre-twitter-hacking-claim', 'display_url': 'foxnews.com/politics/maxin…'}]}, 'conversation_id': '1449188343082668035', 'id': '1449188343082668035'}, {'created_at': '2021-10-16T01:30:00.000Z', 'author_id': '1367531', 'text': 'The late show, with Joe Biden: The president on average is more than 20 minutes tardy for his events\\n\\nhttps://t.co/13JY4UCyXE', 'entities': {'annotations': [{'start': 20, 'end': 28, 'probability': 0.9976, 'type': 'Person', 'normalized_text': 'Joe Biden'}], 'urls': [{'start': 102, 'end': 125, 'url': 'https://t.co/13JY4UCyXE', 'expanded_url': 'https://www.foxnews.com/us/late-joe-biden-routine-tardiness-problem', 'display_url': 'foxnews.com/us/late-joe-bi…'}]}, 'conversation_id': '1449185826328375297', 'id': '1449185826328375297'}, {'created_at': '2021-10-16T01:27:52.000Z', 'author_id': '1367531', 'text': 'Liberal columnist, frequent MSNBC guest Elizabeth Drew mocks horrific murder of UK conservative David Amess\\nhttps://t.co/DEM6miADDg', 'entities': {'annotations': [{'start': 28, 'end': 32, 'probability': 0.9233, 'type': 'Organization', 'normalized_text': 'MSNBC'}, {'start': 40, 'end': 53, 'probability': 0.9809, 'type': 'Person', 'normalized_text': 'Elizabeth Drew'}, {'start': 80, 'end': 81, 'probability': 0.8569, 'type': 'Place', 'normalized_text': 'UK'}, {'start': 96, 'end': 106, 'probability': 0.9889, 'type': 'Person', 'normalized_text': 'David Amess'}], 'urls': [{'start': 108, 'end': 131, 'url': 'https://t.co/DEM6miADDg', 'expanded_url': 'https://www.foxnews.com/media/elizabeth-drew-david-amess-murder', 'display_url': 'foxnews.com/media/elizabet…'}]}, 'conversation_id': '1449185291198156803', 'id': '1449185291198156803'}, {'created_at': '2021-10-16T01:20:14.000Z', 'author_id': '1367531', 'text': \"ABC, CBS, NBC evening newscasts offer 'lopsided' coverage Dems, GOP lawmakers amid spending battle: study https://t.co/5NpNVTOpMi\", 'entities': {'annotations': [{'start': 0, 'end': 2, 'probability': 0.9129, 'type': 'Organization', 'normalized_text': 'ABC'}, {'start': 5, 'end': 7, 'probability': 0.9745, 'type': 'Organization', 'normalized_text': 'CBS'}, {'start': 10, 'end': 12, 'probability': 0.9845, 'type': 'Organization', 'normalized_text': 'NBC'}, {'start': 58, 'end': 61, 'probability': 0.872, 'type': 'Organization', 'normalized_text': 'Dems'}, {'start': 64, 'end': 66, 'probability': 0.9442, 'type': 'Organization', 'normalized_text': 'GOP'}], 'urls': [{'start': 106, 'end': 129, 'url': 'https://t.co/5NpNVTOpMi', 'expanded_url': 'https://www.foxnews.com/media/abc-cbs-nbc-evening-newscasts-offer-lopsided-coverage-dems-gop-lawmakers-amid-spending-battle-study', 'display_url': 'foxnews.com/media/abc-cbs-…'}]}, 'conversation_id': '1449183370722922496', 'id': '1449183370722922496'}, {'created_at': '2021-10-16T01:20:00.000Z', 'author_id': '1367531', 'text': \"Christmas tree manufacturer warns of supply shortages, price increases: 'Go out and buy today' https://t.co/mgzxubTgpy\", 'entities': {'annotations': [{'start': 0, 'end': 8, 'probability': 0.8846, 'type': 'Other', 'normalized_text': 'Christmas'}], 'urls': [{'start': 95, 'end': 118, 'url': 'https://t.co/mgzxubTgpy', 'expanded_url': 'https://www.foxnews.com/media/christmas-tree-manufacturer-supply-shortage', 'display_url': 'foxnews.com/media/christma…'}]}, 'conversation_id': '1449183309976592384', 'id': '1449183309976592384'}, {'created_at': '2021-10-16T01:13:59.000Z', 'author_id': '1367531', 'text': 'National Zoo vaccinates primates against COVID-19 https://t.co/2NKG2fg2rG', 'conversation_id': '1449181795371585539', 'id': '1449181795371585539', 'entities': {'urls': [{'start': 50, 'end': 73, 'url': 'https://t.co/2NKG2fg2rG', 'expanded_url': 'https://www.foxnews.com/us/national-zoo-vaccinates-primates-against-covid-19', 'display_url': 'foxnews.com/us/national-zo…'}]}}, {'created_at': '2021-10-16T01:10:00.000Z', 'author_id': '1367531', 'text': \"Ingraham: Biden's vaccine mandate will wreck economy, 'haunt businesses for years'\\n\\nhttps://t.co/2dnz9Nf92U\", 'entities': {'annotations': [{'start': 0, 'end': 7, 'probability': 0.7644, 'type': 'Person', 'normalized_text': 'Ingraham'}, {'start': 10, 'end': 14, 'probability': 0.9863, 'type': 'Person', 'normalized_text': 'Biden'}], 'urls': [{'start': 84, 'end': 107, 'url': 'https://t.co/2dnz9Nf92U', 'expanded_url': 'https://www.foxnews.com/media/ingraham-biden-vaccine-mandate-wreck-economy-businesses', 'display_url': 'foxnews.com/media/ingraham…'}]}, 'conversation_id': '1449180793243275266', 'id': '1449180793243275266'}, {'created_at': '2021-10-16T01:00:00.000Z', 'author_id': '1367531', 'text': \"Britney Spears says she wishes she 'lived in another country': 'I'm disgusted with the system'\\n\\nhttps://t.co/jlMCUAwntb\", 'entities': {'annotations': [{'start': 0, 'end': 13, 'probability': 0.9961, 'type': 'Person', 'normalized_text': 'Britney Spears'}], 'urls': [{'start': 96, 'end': 119, 'url': 'https://t.co/jlMCUAwntb', 'expanded_url': 'https://www.foxnews.com/entertainment/britney-spears-wishes-lived-another-country', 'display_url': 'foxnews.com/entertainment/…'}]}, 'conversation_id': '1449178276576985092', 'id': '1449178276576985092'}, {'created_at': '2021-10-16T00:50:00.000Z', 'author_id': '1367531', 'text': \"California police chief's 1969 letter suspected Zodiac killer link to Cheri Jo Bates murder, group says https://t.co/lD1XxgmJnF\", 'entities': {'annotations': [{'start': 0, 'end': 9, 'probability': 0.9528, 'type': 'Place', 'normalized_text': 'California'}, {'start': 70, 'end': 83, 'probability': 0.9868, 'type': 'Person', 'normalized_text': 'Cheri Jo Bates'}], 'urls': [{'start': 104, 'end': 127, 'url': 'https://t.co/lD1XxgmJnF', 'expanded_url': 'https://www.foxnews.com/us/california-zodiac-killer-cheri-bates', 'display_url': 'foxnews.com/us/california-…'}]}, 'conversation_id': '1449175760053448705', 'id': '1449175760053448705'}, {'created_at': '2021-10-16T00:40:00.000Z', 'author_id': '1367531', 'text': \"Alice Cooper says he picked up this surprising new skill during COVID lockdown: 'You miss that adrenaline'\\n\\nhttps://t.co/OFK21C4vsa\", 'entities': {'annotations': [{'start': 0, 'end': 11, 'probability': 0.9973, 'type': 'Person', 'normalized_text': 'Alice Cooper'}], 'urls': [{'start': 108, 'end': 131, 'url': 'https://t.co/OFK21C4vsa', 'expanded_url': 'https://www.foxnews.com/entertainment/alice-cooper-music-tour-audible', 'display_url': 'foxnews.com/entertainment/…'}]}, 'conversation_id': '1449173243391143938', 'id': '1449173243391143938'}, {'created_at': '2021-10-16T00:38:18.000Z', 'author_id': '1367531', 'text': \"Jessica Chastain had one condition while filming full-frontal nudity: 'I wanted it to be balanced' https://t.co/cscOQeZksb\", 'entities': {'annotations': [{'start': 0, 'end': 15, 'probability': 0.998, 'type': 'Person', 'normalized_text': 'Jessica Chastain'}], 'urls': [{'start': 99, 'end': 122, 'url': 'https://t.co/cscOQeZksb', 'expanded_url': 'https://www.foxnews.com/entertainment/jessica-chastain-oscar-isaac', 'display_url': 'foxnews.com/entertainment/…'}]}, 'conversation_id': '1449172818697015296', 'id': '1449172818697015296'}, {'created_at': '2021-10-16T00:30:00.000Z', 'author_id': '1367531', 'text': 'Biden praises Chris Dodd, allegedly party to sexual assault of waitress, as person who’d treat waitstaff well https://t.co/aYMC2ScgoT', 'entities': {'annotations': [{'start': 0, 'end': 4, 'probability': 0.9903, 'type': 'Person', 'normalized_text': 'Biden'}, {'start': 14, 'end': 23, 'probability': 0.998, 'type': 'Person', 'normalized_text': 'Chris Dodd'}], 'urls': [{'start': 110, 'end': 133, 'url': 'https://t.co/aYMC2ScgoT', 'expanded_url': 'https://www.foxnews.com/politics/chris-dodd-accused-of-assaulting-waitress-praised-by-biden-for-how-he-treats-wait-staff', 'display_url': 'foxnews.com/politics/chris…'}]}, 'conversation_id': '1449170728478253056', 'id': '1449170728478253056'}, {'created_at': '2021-10-16T00:20:00.000Z', 'author_id': '1367531', 'text': \"'Big RBG fan' Katie Couric marks another former nightly news anchor who embraces liberal views\\n\\nhttps://t.co/zn75xTe9YA\", 'entities': {'annotations': [{'start': 14, 'end': 25, 'probability': 0.9915, 'type': 'Person', 'normalized_text': 'Katie Couric'}], 'urls': [{'start': 96, 'end': 119, 'url': 'https://t.co/zn75xTe9YA', 'expanded_url': 'https://www.foxnews.com/media/katie-couric-nightly-news-anchor-liberal', 'display_url': 'foxnews.com/media/katie-co…'}]}, 'conversation_id': '1449168210226409472', 'id': '1449168210226409472'}, {'created_at': '2021-10-16T00:10:00.000Z', 'author_id': '1367531', 'text': \"'Masked Singer' cupcake dishes on famous family, reaction to the big reveal\\n\\nhttps://t.co/uY2fEVzZTv\", 'conversation_id': '1449165693723701253', 'id': '1449165693723701253', 'entities': {'urls': [{'start': 77, 'end': 100, 'url': 'https://t.co/uY2fEVzZTv', 'expanded_url': 'https://www.foxnews.com/entertainment/masked-singer-reveals-cupcake', 'display_url': 'foxnews.com/entertainment/…'}]}}, {'created_at': '2021-10-16T00:00:02.000Z', 'author_id': '1367531', 'text': \"'Reminiscent of Jan. 6': Violent protesters arrested after storming Interior Department, injuring officers https://t.co/u9klgxptbP\", 'entities': {'annotations': [{'start': 68, 'end': 86, 'probability': 0.5679, 'type': 'Organization', 'normalized_text': 'Interior Department'}], 'urls': [{'start': 107, 'end': 130, 'url': 'https://t.co/u9klgxptbP', 'expanded_url': 'https://www.foxnews.com/politics/reminiscent-of-jan-6-violent-protesters-arrested-after-storming-interior-department-injuring-officers', 'display_url': 'foxnews.com/politics/remin…'}]}, 'conversation_id': '1449163184976265216', 'id': '1449163184976265216'}, {'created_at': '2021-10-15T23:50:00.000Z', 'author_id': '1367531', 'text': \"Co-stars who reportedly didn't get along off-screen\\n\\nhttps://t.co/itv2YzvY1k\", 'conversation_id': '1449160660491935750', 'id': '1449160660491935750', 'entities': {'urls': [{'start': 53, 'end': 76, 'url': 'https://t.co/itv2YzvY1k', 'expanded_url': 'https://www.foxnews.com/entertainment/co-stars-didnt-get-along-off-screen', 'display_url': 'foxnews.com/entertainment/…', 'images': [{'url': 'https://pbs.twimg.com/news_img/1449160662106656769/wyzZldLf?format=jpg&name=orig', 'width': 1024, 'height': 512}, {'url': 'https://pbs.twimg.com/news_img/1449160662106656769/wyzZldLf?format=jpg&name=150x150', 'width': 150, 'height': 150}], 'status': 200, 'title': \"Co-stars who reportedly didn't get along off-screen\", 'description': \"From movie to TV sets, there are always a bunch of different personalities among stars -- and sometimes they just don't mix well.\\xa0\", 'unwound_url': 'https://www.foxnews.com/entertainment/co-stars-didnt-get-along-off-screen'}]}}, {'created_at': '2021-10-15T23:46:56.000Z', 'author_id': '1367531', 'text': \"'I'VE HAD ENOUGH': Two sisters from Minnesota put up new sign on Laundries' yard that reads, 'What if it was Cassie?'\\n\\nhttps://t.co/ZAcFcZDNGT https://t.co/te93bumgvM\", 'entities': {'annotations': [{'start': 36, 'end': 44, 'probability': 0.6401, 'type': 'Place', 'normalized_text': 'Minnesota'}, {'start': 109, 'end': 114, 'probability': 0.8876, 'type': 'Person', 'normalized_text': 'Cassie'}], 'urls': [{'start': 119, 'end': 142, 'url': 'https://t.co/ZAcFcZDNGT', 'expanded_url': 'https://www.foxnews.com/live-news/gabby-petito-coroner-laundrie-florida-homicide', 'display_url': 'foxnews.com/live-news/gabb…'}, {'start': 143, 'end': 166, 'url': 'https://t.co/te93bumgvM', 'expanded_url': 'https://twitter.com/FoxNews/status/1449159890996498436/video/1', 'display_url': 'pic.twitter.com/te93bumgvM'}]}, 'attachments': {'media_keys': ['7_1449159845035266049']}, 'conversation_id': '1449159890996498436', 'id': '1449159890996498436'}, {'created_at': '2021-10-15T23:40:00.000Z', 'author_id': '1367531', 'text': 'Navy SEALS seeking religious exemptions to vaccine mandate facing intimidation and harassment, sources say\\n\\nhttps://t.co/XKPcSDm6hi', 'conversation_id': '1449158143972364288', 'id': '1449158143972364288', 'entities': {'urls': [{'start': 108, 'end': 131, 'url': 'https://t.co/XKPcSDm6hi', 'expanded_url': 'https://www.foxnews.com/politics/navy-seals-coronavirus-vaccine-mandate-religious-exemption-intimidation-harassment', 'display_url': 'foxnews.com/politics/navy-…'}]}}, {'created_at': '2021-10-15T23:38:52.000Z', 'author_id': '1367531', 'text': \"'Defund the police' advocate Cori Bush drops another $65,000 into private security services\\n\\nhttps://t.co/krkRJZw1UG\", 'entities': {'annotations': [{'start': 29, 'end': 37, 'probability': 0.9807, 'type': 'Person', 'normalized_text': 'Cori Bush'}], 'urls': [{'start': 93, 'end': 116, 'url': 'https://t.co/krkRJZw1UG', 'expanded_url': 'https://www.foxnews.com/politics/defund-the-police-advocate-cori-bush-drops-more-into-private-security-services', 'display_url': 'foxnews.com/politics/defun…'}]}, 'conversation_id': '1449157859820855296', 'id': '1449157859820855296'}, {'created_at': '2021-10-15T23:30:00.000Z', 'author_id': '1367531', 'text': '95-year-old WWII veteran gets bumped up Corvette Stingray waiting list\\n\\nhttps://t.co/HHLD9s0sTw', 'entities': {'annotations': [{'start': 40, 'end': 56, 'probability': 0.4488, 'type': 'Organization', 'normalized_text': 'Corvette Stingray'}], 'urls': [{'start': 72, 'end': 95, 'url': 'https://t.co/HHLD9s0sTw', 'expanded_url': 'https://www.foxnews.com/auto/95-year-old-wwii-veteran-corvette-stingray', 'display_url': 'foxnews.com/auto/95-year-o…'}]}, 'conversation_id': '1449155628530798600', 'id': '1449155628530798600'}, {'created_at': '2021-10-15T23:20:00.000Z', 'author_id': '1367531', 'text': 'Thanksgiving history: Traditions and origins, where did it begin?\\n\\nhttps://t.co/IGMt8oLGUw', 'entities': {'annotations': [{'start': 0, 'end': 11, 'probability': 0.9825, 'type': 'Other', 'normalized_text': 'Thanksgiving'}], 'urls': [{'start': 67, 'end': 90, 'url': 'https://t.co/IGMt8oLGUw', 'expanded_url': 'https://www.foxnews.com/lifestyle/thanksgiving-history-holiday-traditions-origins', 'display_url': 'foxnews.com/lifestyle/than…'}]}, 'conversation_id': '1449153110778126336', 'id': '1449153110778126336'}, {'created_at': '2021-10-15T23:12:03.000Z', 'author_id': '1367531', 'text': 'Jussie Smollett criminal trial to move forward after judge denies to dismiss case\\n\\nhttps://t.co/W0R58LMWlI', 'entities': {'annotations': [{'start': 0, 'end': 14, 'probability': 0.9655, 'type': 'Person', 'normalized_text': 'Jussie Smollett'}], 'urls': [{'start': 83, 'end': 106, 'url': 'https://t.co/W0R58LMWlI', 'expanded_url': 'https://www.foxnews.com/entertainment/jussie-smollett-criminal-trial-judge-denies-dismiss-case', 'display_url': 'foxnews.com/entertainment/…'}]}, 'conversation_id': '1449151109373775876', 'id': '1449151109373775876'}, {'created_at': '2021-10-15T23:10:00.000Z', 'author_id': '1367531', 'text': 'How to make the ultimate Maine lobster grilled cheese sandwich\\n\\nhttps://t.co/RKh460GRtp', 'conversation_id': '1449150594174775299', 'id': '1449150594174775299', 'entities': {'urls': [{'start': 64, 'end': 87, 'url': 'https://t.co/RKh460GRtp', 'expanded_url': 'https://www.foxnews.com/food-drink/ultimate-maine-lobster-grilled-cheese-recipe', 'display_url': 'foxnews.com/food-drink/ult…'}]}}, {'created_at': '2021-10-15T23:03:38.000Z', 'author_id': '1367531', 'text': 'Brian Laundrie manhunt: Chris Laundrie installs apparent doorbell camera\\n\\nhttps://t.co/EnbPeXs17T', 'entities': {'annotations': [{'start': 0, 'end': 13, 'probability': 0.9931, 'type': 'Person', 'normalized_text': 'Brian Laundrie'}, {'start': 24, 'end': 37, 'probability': 0.9912, 'type': 'Person', 'normalized_text': 'Chris Laundrie'}], 'urls': [{'start': 74, 'end': 97, 'url': 'https://t.co/EnbPeXs17T', 'expanded_url': 'https://www.foxnews.com/us/brian-laundrie-manhunt-doorbell-camera', 'display_url': 'foxnews.com/us/brian-laund…'}]}, 'conversation_id': '1449148993049608193', 'id': '1449148993049608193'}, {'created_at': '2021-10-15T23:00:00.000Z', 'author_id': '1367531', 'text': 'Psaki refers to climate change as a ‘crisis’ after failing to do so for the border\\n\\nhttps://t.co/P6QW9Yugo0', 'entities': {'annotations': [{'start': 0, 'end': 4, 'probability': 0.4793, 'type': 'Person', 'normalized_text': 'Psaki'}], 'urls': [{'start': 84, 'end': 107, 'url': 'https://t.co/P6QW9Yugo0', 'expanded_url': 'https://www.foxnews.com/politics/psaki-refers-to-climate-as-a-crisis-during-white-house-press-briefing-fails-to-recognize-border-crisis', 'display_url': 'foxnews.com/politics/psaki…'}]}, 'conversation_id': '1449148078628294656', 'id': '1449148078628294656'}, {'created_at': '2021-10-15T22:54:24.000Z', 'author_id': '1367531', 'text': 'Texas National Guard soldiers fired upon across border by suspected cartel gunmen, authorities say\\n\\nhttps://t.co/6g0ITPd1AO', 'entities': {'annotations': [{'start': 0, 'end': 19, 'probability': 0.7617, 'type': 'Organization', 'normalized_text': 'Texas National Guard'}], 'urls': [{'start': 100, 'end': 123, 'url': 'https://t.co/6g0ITPd1AO', 'expanded_url': 'https://www.foxnews.com/us/texas-national-guard-fired-border-cartel', 'display_url': 'foxnews.com/us/texas-natio…'}]}, 'conversation_id': '1449146670307061760', 'id': '1449146670307061760'}, {'created_at': '2021-10-15T22:50:00.000Z', 'author_id': '1367531', 'text': 'Biden administration struggles with cascading crises and controversies, from border to supply chain and more\\n\\nhttps://t.co/cNQFyEngZ1', 'entities': {'annotations': [{'start': 0, 'end': 4, 'probability': 0.9591, 'type': 'Person', 'normalized_text': 'Biden'}], 'urls': [{'start': 110, 'end': 133, 'url': 'https://t.co/cNQFyEngZ1', 'expanded_url': 'https://www.foxnews.com/politics/biden-administration-leadership-cabinet-crises', 'display_url': 'foxnews.com/politics/biden…'}]}, 'conversation_id': '1449145561064493057', 'id': '1449145561064493057'}, {'created_at': '2021-10-15T22:43:51.000Z', 'author_id': '1367531', 'text': 'Former President Clinton to stay in hospital Friday night\\n\\nhttps://t.co/TuEK8Hzn7Z', 'entities': {'annotations': [{'start': 7, 'end': 23, 'probability': 0.8274, 'type': 'Person', 'normalized_text': 'President Clinton'}], 'urls': [{'start': 59, 'end': 82, 'url': 'https://t.co/TuEK8Hzn7Z', 'expanded_url': 'https://www.foxnews.com/politics/former-president-clinton-stay-hospital-friday-night', 'display_url': 'foxnews.com/politics/forme…'}]}, 'conversation_id': '1449144014796689409', 'id': '1449144014796689409'}, {'created_at': '2021-10-15T22:40:00.000Z', 'author_id': '1367531', 'text': \"Iowa teen 'covered in blood' admits to killing parents with knife and axe, police say\\n\\nhttps://t.co/Eqlm2LBrpa\", 'entities': {'annotations': [{'start': 0, 'end': 3, 'probability': 0.4619, 'type': 'Place', 'normalized_text': 'Iowa'}], 'urls': [{'start': 87, 'end': 110, 'url': 'https://t.co/Eqlm2LBrpa', 'expanded_url': 'https://www.foxnews.com/us/iowa-teen-covered-in-blood-admits-to-killing-parents-with-knife-and-axe-police-say', 'display_url': 'foxnews.com/us/iowa-teen-c…', 'images': [{'url': 'https://pbs.twimg.com/news_img/1449117893053005824/QhdTumr_?format=jpg&name=orig', 'width': 1024, 'height': 512}, {'url': 'https://pbs.twimg.com/news_img/1449117893053005824/QhdTumr_?format=jpg&name=150x150', 'width': 150, 'height': 150}], 'status': 200, 'title': \"Iowa teen 'covered in blood' admits to killing parents with knife and axe, police say\", 'description': 'An Iowa teenager found by police soaked in blood is charged with killing his parents with a knife and axe because he wanted to “take charge of his life,” authorities said.', 'unwound_url': 'https://www.foxnews.com/us/iowa-teen-covered-in-blood-admits-to-killing-parents-with-knife-and-axe-police-say'}]}, 'conversation_id': '1449143044414926849', 'id': '1449143044414926849'}, {'created_at': '2021-10-15T22:30:00.000Z', 'author_id': '1367531', 'text': 'Los Angeles scrubs Catholic Saint Junipero Serra from park where statue was torn down by activists\\n\\nhttps://t.co/v9Iye8QohZ', 'entities': {'annotations': [{'start': 0, 'end': 47, 'probability': 0.2142, 'type': 'Organization', 'normalized_text': 'Los Angeles scrubs Catholic Saint Junipero Serra'}], 'urls': [{'start': 100, 'end': 123, 'url': 'https://t.co/v9Iye8QohZ', 'expanded_url': 'https://www.foxnews.com/politics/los-angeles-scrubs-catholic-saint-junipero-park-statue-torn-down', 'display_url': 'foxnews.com/politics/los-a…'}]}, 'conversation_id': '1449140528004485121', 'id': '1449140528004485121'}, {'created_at': '2021-10-15T22:26:25.000Z', 'author_id': '1367531', 'text': \"Psaki promises 'to choose my words more carefully' following Hatch Act violation complaint\\n\\nhttps://t.co/aIivux3UKI\", 'conversation_id': '1449139626279460864', 'id': '1449139626279460864', 'entities': {'urls': [{'start': 92, 'end': 115, 'url': 'https://t.co/aIivux3UKI', 'expanded_url': 'https://www.foxnews.com/politics/psaki-promises-to-choose-my-words-more-carefully-following-hatch-act-violation-complaint', 'display_url': 'foxnews.com/politics/psaki…'}]}}, {'created_at': '2021-10-15T22:20:00.000Z', 'author_id': '1367531', 'text': \"Murdaugh lawyer says client 'understands' he's going to prison for stealing money, waives extradition hearing\\n\\nhttps://t.co/jLoqzV9j3J\", 'entities': {'annotations': [{'start': 0, 'end': 7, 'probability': 0.6123, 'type': 'Person', 'normalized_text': 'Murdaugh'}], 'urls': [{'start': 111, 'end': 134, 'url': 'https://t.co/jLoqzV9j3J', 'expanded_url': 'https://www.foxnews.com/us/murdaugh-lawyer-reconciled-prison-stealing-money', 'display_url': 'foxnews.com/us/murdaugh-la…'}]}, 'conversation_id': '1449138011422265348', 'id': '1449138011422265348'}, {'created_at': '2021-10-15T22:15:00.000Z', 'author_id': '1367531', 'text': '.@kilmeade: Fox News matters and it resonates with a lot of people. #FoxNews25 https://t.co/yj5Cbq5oE7 https://t.co/hZemXEmEtl', 'entities': {'mentions': [{'start': 1, 'end': 10, 'username': 'kilmeade', 'id': '43919633'}], 'annotations': [{'start': 12, 'end': 19, 'probability': 0.91, 'type': 'Organization', 'normalized_text': 'Fox News'}], 'urls': [{'start': 79, 'end': 102, 'url': 'https://t.co/yj5Cbq5oE7', 'expanded_url': 'http://fxn.ws/3uC8GR4', 'display_url': 'fxn.ws/3uC8GR4'}, {'start': 103, 'end': 126, 'url': 'https://t.co/hZemXEmEtl', 'expanded_url': 'https://twitter.com/FoxNews/status/1449136753273565188/video/1', 'display_url': 'pic.twitter.com/hZemXEmEtl'}], 'hashtags': [{'start': 68, 'end': 78, 'tag': 'FoxNews25'}]}, 'attachments': {'media_keys': ['13_1445874811880689668']}, 'conversation_id': '1449136753273565188', 'id': '1449136753273565188'}, {'created_at': '2021-10-15T22:10:00.000Z', 'author_id': '1367531', 'text': \"13-year-olds' reading, math scores decline for first time in national test's history\\n\\nhttps://t.co/vg4azZ9KAL\", 'conversation_id': '1449135494667948039', 'id': '1449135494667948039', 'entities': {'urls': [{'start': 86, 'end': 109, 'url': 'https://t.co/vg4azZ9KAL', 'expanded_url': 'https://www.foxnews.com/us/13-year-olds-reading-math-scores-decline-national-test', 'display_url': 'foxnews.com/us/13-year-old…'}]}}, {'created_at': '2021-10-15T22:00:00.000Z', 'author_id': '1367531', 'text': \"CNN's Dr. Sanjay Gupta accused of 'journalistic malpractice' for spinning disastrous Joe Rogan interview\\n\\nhttps://t.co/cB2nZXIJty\", 'entities': {'annotations': [{'start': 0, 'end': 2, 'probability': 0.9833, 'type': 'Organization', 'normalized_text': 'CNN'}, {'start': 6, 'end': 21, 'probability': 0.9251, 'type': 'Person', 'normalized_text': 'Dr. Sanjay Gupta'}, {'start': 85, 'end': 93, 'probability': 0.9875, 'type': 'Person', 'normalized_text': 'Joe Rogan'}], 'urls': [{'start': 106, 'end': 129, 'url': 'https://t.co/cB2nZXIJty', 'expanded_url': 'https://www.foxnews.com/media/cnn-dr-sanjay-gupta-journalistic-malpractice-joe-rogan-interview', 'display_url': 'foxnews.com/media/cnn-dr-s…'}]}, 'conversation_id': '1449132980119691266', 'id': '1449132980119691266'}], 'meta': {'newest_id': '1449491591048187913', 'oldest_id': '1449132980119691266', 'result_count': 89}}\n"
     ]
    }
   ],
   "source": [
    "print(response)"
   ]
  },
  {
   "cell_type": "code",
   "execution_count": 131,
   "id": "bb9b9be0",
   "metadata": {},
   "outputs": [],
   "source": [
    "def make_df(response):\n",
    "    return pd.DataFrame(response['data'])"
   ]
  },
  {
   "cell_type": "code",
   "execution_count": 135,
   "id": "4b90114e",
   "metadata": {},
   "outputs": [
    {
     "data": {
      "text/html": [
       "<div>\n",
       "<style scoped>\n",
       "    .dataframe tbody tr th:only-of-type {\n",
       "        vertical-align: middle;\n",
       "    }\n",
       "\n",
       "    .dataframe tbody tr th {\n",
       "        vertical-align: top;\n",
       "    }\n",
       "\n",
       "    .dataframe thead th {\n",
       "        text-align: right;\n",
       "    }\n",
       "</style>\n",
       "<table border=\"1\" class=\"dataframe\">\n",
       "  <thead>\n",
       "    <tr style=\"text-align: right;\">\n",
       "      <th></th>\n",
       "      <th>created_at</th>\n",
       "      <th>author_id</th>\n",
       "      <th>text</th>\n",
       "      <th>conversation_id</th>\n",
       "      <th>id</th>\n",
       "      <th>entities</th>\n",
       "      <th>attachments</th>\n",
       "      <th>referenced_tweets</th>\n",
       "    </tr>\n",
       "  </thead>\n",
       "  <tbody>\n",
       "    <tr>\n",
       "      <th>0</th>\n",
       "      <td>2021-10-16T21:45:00.000Z</td>\n",
       "      <td>1367531</td>\n",
       "      <td>Ranchers launch effort to build own meat plant...</td>\n",
       "      <td>1449491591048187913</td>\n",
       "      <td>1449491591048187913</td>\n",
       "      <td>{'urls': [{'start': 82, 'end': 105, 'url': 'ht...</td>\n",
       "      <td>NaN</td>\n",
       "      <td>NaN</td>\n",
       "    </tr>\n",
       "    <tr>\n",
       "      <th>1</th>\n",
       "      <td>2021-10-16T21:30:00.000Z</td>\n",
       "      <td>1367531</td>\n",
       "      <td>Panthers place McCaffrey on IR; RB can't retur...</td>\n",
       "      <td>1449487817034252291</td>\n",
       "      <td>1449487817034252291</td>\n",
       "      <td>{'annotations': [{'start': 0, 'end': 7, 'proba...</td>\n",
       "      <td>NaN</td>\n",
       "      <td>NaN</td>\n",
       "    </tr>\n",
       "    <tr>\n",
       "      <th>2</th>\n",
       "      <td>2021-10-16T21:15:00.000Z</td>\n",
       "      <td>1367531</td>\n",
       "      <td>'Let's Go Brandon!' goes from social media mem...</td>\n",
       "      <td>1449484041305018370</td>\n",
       "      <td>1449484041305018370</td>\n",
       "      <td>{'annotations': [{'start': 1, 'end': 16, 'prob...</td>\n",
       "      <td>NaN</td>\n",
       "      <td>NaN</td>\n",
       "    </tr>\n",
       "    <tr>\n",
       "      <th>3</th>\n",
       "      <td>2021-10-16T21:00:01.000Z</td>\n",
       "      <td>1367531</td>\n",
       "      <td>Hillary Clinton arrives at UC Irvine Medical C...</td>\n",
       "      <td>1449480271078776837</td>\n",
       "      <td>1449480271078776837</td>\n",
       "      <td>{'annotations': [{'start': 0, 'end': 14, 'prob...</td>\n",
       "      <td>NaN</td>\n",
       "      <td>NaN</td>\n",
       "    </tr>\n",
       "    <tr>\n",
       "      <th>4</th>\n",
       "      <td>2021-10-16T20:39:03.000Z</td>\n",
       "      <td>1367531</td>\n",
       "      <td>BREAKING: Robert Durst placed on ventilator af...</td>\n",
       "      <td>1449474997349752835</td>\n",
       "      <td>1449474997349752835</td>\n",
       "      <td>{'annotations': [{'start': 10, 'end': 21, 'pro...</td>\n",
       "      <td>NaN</td>\n",
       "      <td>NaN</td>\n",
       "    </tr>\n",
       "    <tr>\n",
       "      <th>...</th>\n",
       "      <td>...</td>\n",
       "      <td>...</td>\n",
       "      <td>...</td>\n",
       "      <td>...</td>\n",
       "      <td>...</td>\n",
       "      <td>...</td>\n",
       "      <td>...</td>\n",
       "      <td>...</td>\n",
       "    </tr>\n",
       "    <tr>\n",
       "      <th>84</th>\n",
       "      <td>2021-10-15T22:26:25.000Z</td>\n",
       "      <td>1367531</td>\n",
       "      <td>Psaki promises 'to choose my words more carefu...</td>\n",
       "      <td>1449139626279460864</td>\n",
       "      <td>1449139626279460864</td>\n",
       "      <td>{'urls': [{'start': 92, 'end': 115, 'url': 'ht...</td>\n",
       "      <td>NaN</td>\n",
       "      <td>NaN</td>\n",
       "    </tr>\n",
       "    <tr>\n",
       "      <th>85</th>\n",
       "      <td>2021-10-15T22:20:00.000Z</td>\n",
       "      <td>1367531</td>\n",
       "      <td>Murdaugh lawyer says client 'understands' he's...</td>\n",
       "      <td>1449138011422265348</td>\n",
       "      <td>1449138011422265348</td>\n",
       "      <td>{'annotations': [{'start': 0, 'end': 7, 'proba...</td>\n",
       "      <td>NaN</td>\n",
       "      <td>NaN</td>\n",
       "    </tr>\n",
       "    <tr>\n",
       "      <th>86</th>\n",
       "      <td>2021-10-15T22:15:00.000Z</td>\n",
       "      <td>1367531</td>\n",
       "      <td>.@kilmeade: Fox News matters and it resonates ...</td>\n",
       "      <td>1449136753273565188</td>\n",
       "      <td>1449136753273565188</td>\n",
       "      <td>{'mentions': [{'start': 1, 'end': 10, 'usernam...</td>\n",
       "      <td>{'media_keys': ['13_1445874811880689668']}</td>\n",
       "      <td>NaN</td>\n",
       "    </tr>\n",
       "    <tr>\n",
       "      <th>87</th>\n",
       "      <td>2021-10-15T22:10:00.000Z</td>\n",
       "      <td>1367531</td>\n",
       "      <td>13-year-olds' reading, math scores decline for...</td>\n",
       "      <td>1449135494667948039</td>\n",
       "      <td>1449135494667948039</td>\n",
       "      <td>{'urls': [{'start': 86, 'end': 109, 'url': 'ht...</td>\n",
       "      <td>NaN</td>\n",
       "      <td>NaN</td>\n",
       "    </tr>\n",
       "    <tr>\n",
       "      <th>88</th>\n",
       "      <td>2021-10-15T22:00:00.000Z</td>\n",
       "      <td>1367531</td>\n",
       "      <td>CNN's Dr. Sanjay Gupta accused of 'journalisti...</td>\n",
       "      <td>1449132980119691266</td>\n",
       "      <td>1449132980119691266</td>\n",
       "      <td>{'annotations': [{'start': 0, 'end': 2, 'proba...</td>\n",
       "      <td>NaN</td>\n",
       "      <td>NaN</td>\n",
       "    </tr>\n",
       "  </tbody>\n",
       "</table>\n",
       "<p>89 rows × 8 columns</p>\n",
       "</div>"
      ],
      "text/plain": [
       "                  created_at author_id  \\\n",
       "0   2021-10-16T21:45:00.000Z   1367531   \n",
       "1   2021-10-16T21:30:00.000Z   1367531   \n",
       "2   2021-10-16T21:15:00.000Z   1367531   \n",
       "3   2021-10-16T21:00:01.000Z   1367531   \n",
       "4   2021-10-16T20:39:03.000Z   1367531   \n",
       "..                       ...       ...   \n",
       "84  2021-10-15T22:26:25.000Z   1367531   \n",
       "85  2021-10-15T22:20:00.000Z   1367531   \n",
       "86  2021-10-15T22:15:00.000Z   1367531   \n",
       "87  2021-10-15T22:10:00.000Z   1367531   \n",
       "88  2021-10-15T22:00:00.000Z   1367531   \n",
       "\n",
       "                                                 text      conversation_id  \\\n",
       "0   Ranchers launch effort to build own meat plant...  1449491591048187913   \n",
       "1   Panthers place McCaffrey on IR; RB can't retur...  1449487817034252291   \n",
       "2   'Let's Go Brandon!' goes from social media mem...  1449484041305018370   \n",
       "3   Hillary Clinton arrives at UC Irvine Medical C...  1449480271078776837   \n",
       "4   BREAKING: Robert Durst placed on ventilator af...  1449474997349752835   \n",
       "..                                                ...                  ...   \n",
       "84  Psaki promises 'to choose my words more carefu...  1449139626279460864   \n",
       "85  Murdaugh lawyer says client 'understands' he's...  1449138011422265348   \n",
       "86  .@kilmeade: Fox News matters and it resonates ...  1449136753273565188   \n",
       "87  13-year-olds' reading, math scores decline for...  1449135494667948039   \n",
       "88  CNN's Dr. Sanjay Gupta accused of 'journalisti...  1449132980119691266   \n",
       "\n",
       "                     id                                           entities  \\\n",
       "0   1449491591048187913  {'urls': [{'start': 82, 'end': 105, 'url': 'ht...   \n",
       "1   1449487817034252291  {'annotations': [{'start': 0, 'end': 7, 'proba...   \n",
       "2   1449484041305018370  {'annotations': [{'start': 1, 'end': 16, 'prob...   \n",
       "3   1449480271078776837  {'annotations': [{'start': 0, 'end': 14, 'prob...   \n",
       "4   1449474997349752835  {'annotations': [{'start': 10, 'end': 21, 'pro...   \n",
       "..                  ...                                                ...   \n",
       "84  1449139626279460864  {'urls': [{'start': 92, 'end': 115, 'url': 'ht...   \n",
       "85  1449138011422265348  {'annotations': [{'start': 0, 'end': 7, 'proba...   \n",
       "86  1449136753273565188  {'mentions': [{'start': 1, 'end': 10, 'usernam...   \n",
       "87  1449135494667948039  {'urls': [{'start': 86, 'end': 109, 'url': 'ht...   \n",
       "88  1449132980119691266  {'annotations': [{'start': 0, 'end': 2, 'proba...   \n",
       "\n",
       "                                   attachments referenced_tweets  \n",
       "0                                          NaN               NaN  \n",
       "1                                          NaN               NaN  \n",
       "2                                          NaN               NaN  \n",
       "3                                          NaN               NaN  \n",
       "4                                          NaN               NaN  \n",
       "..                                         ...               ...  \n",
       "84                                         NaN               NaN  \n",
       "85                                         NaN               NaN  \n",
       "86  {'media_keys': ['13_1445874811880689668']}               NaN  \n",
       "87                                         NaN               NaN  \n",
       "88                                         NaN               NaN  \n",
       "\n",
       "[89 rows x 8 columns]"
      ]
     },
     "execution_count": 135,
     "metadata": {},
     "output_type": "execute_result"
    }
   ],
   "source": [
    "df=make_df(response)\n",
    "df"
   ]
  },
  {
   "cell_type": "code",
   "execution_count": 134,
   "id": "f640a1f3",
   "metadata": {},
   "outputs": [],
   "source": [
    "# save fox news tweets to csv:\n",
    "df.to_csv('data/tests/all_tweets_fox_news_161021.csv', header=True, index=True)"
   ]
  },
  {
   "cell_type": "code",
   "execution_count": 141,
   "id": "5df2c35b",
   "metadata": {},
   "outputs": [],
   "source": [
    "# define new request: \n",
    "def make_request(headers):\n",
    "    url=\"http://api.twitter.com/2/tweets/search/recent\"\n",
    "    params={'query': 'conversation_id:1449491591048187913', 'tweet.fields': 'in_reply_to_user_id,author_id,created_at,conversation_id', 'expansions': 'referenced_tweets.id,in_reply_to_user_id', 'max_results': 100}\n",
    "    return requests.request(\"GET\", url, params=params, headers=headers).json()\n"
   ]
  },
  {
   "cell_type": "code",
   "execution_count": 142,
   "id": "7ea99547",
   "metadata": {},
   "outputs": [],
   "source": [
    "# make the request\n",
    "response_2 = make_request(headers)"
   ]
  },
  {
   "cell_type": "code",
   "execution_count": 145,
   "id": "f9078303",
   "metadata": {},
   "outputs": [],
   "source": [
    "comments=make_df(response_2)\n",
    "comments=comments.sort_values(by=['created_at'])"
   ]
  },
  {
   "cell_type": "code",
   "execution_count": 148,
   "id": "6c0f97d6",
   "metadata": {},
   "outputs": [],
   "source": [
    "# save comments to csv & excel (delecte excel later)\n",
    "comments.to_csv('data/tests/comments_1449491591048187913.csv', header=True, index=True)\n",
    "comments.to_excel('data/tests/comments_1449491591048187913.xlsx', header=True, index=True)"
   ]
  },
  {
   "cell_type": "code",
   "execution_count": 171,
   "id": "e370ba27",
   "metadata": {},
   "outputs": [],
   "source": [
    "# define new request: \n",
    "def make_request(headers):\n",
    "    url=\"https://api.twitter.com/2/tweets/1449491591048187913/retweeted_by\"\n",
    "    params={'tweet.fields': 'in_reply_to_user_id,author_id,created_at,conversation_id,text'}\n",
    "    return requests.request(\"GET\", url, params=params, headers=headers).json()\n"
   ]
  },
  {
   "cell_type": "code",
   "execution_count": 172,
   "id": "d13ae491",
   "metadata": {},
   "outputs": [],
   "source": [
    "# make the request\n",
    "response_3 = make_request(headers)\n"
   ]
  },
  {
   "cell_type": "code",
   "execution_count": 173,
   "id": "6d6b2f31",
   "metadata": {},
   "outputs": [
    {
     "name": "stdout",
     "output_type": "stream",
     "text": [
      "{'data': [{'id': '1026808626797858816', 'name': 'sophie', 'username': 'sophie55179587'}, {'id': '2827238230', 'name': 'vano', 'username': 'vankat54'}, {'id': '835960848304779264', 'name': 'Linda Beaumont', 'username': 'LindaBeaumont15'}, {'id': '1100103293999726593', 'name': 'Christopher L Partlow', 'username': 'ChrisPartlow001'}, {'id': '569153323', 'name': 'Marie Austell', 'username': 'austelme01'}, {'id': '1203240783928680448', 'name': 'Ashlee', 'username': 'gatling88'}, {'id': '236179162', 'name': 'Lauren', 'username': 'Lfacemaker'}, {'id': '789338414885826560', 'name': 'republidem', 'username': 'Cindyga54931894'}, {'id': '1381337843474268166', 'name': 'Steve', 'username': 'Steve421299371'}, {'id': '384702237', 'name': 'D', 'username': 'ddavisonnc'}, {'id': '1085203274532376579', 'name': 'Current events', 'username': 'My2centz_1'}, {'id': '1361027483160707074', 'name': 'Vera Muller', 'username': 'MullerVera'}, {'id': '842568128', 'name': 'hawk_chic', 'username': 'kb_creations'}, {'id': '842516142', 'name': 'America First True Patriots', 'username': 'FirstPatriots'}, {'id': '1207027592215384067', 'name': '#BidenCheated', 'username': 'blitz204'}, {'id': '1400655630483001354', 'name': 'LL', 'username': 'LL23379279'}, {'id': '26472657', 'name': 'Edward', 'username': 'USDebtAProblem'}, {'id': '192123268', 'name': 'Scotty Jones', 'username': 'scotty1110'}, {'id': '1202333490143993857', 'name': 'Pengyou5', 'username': 'Pengyou52'}, {'id': '21574172', 'name': 'T Lagarde', 'username': 'twlagarde'}, {'id': '1349146708433887237', 'name': 'Sam Enderle', 'username': 'SamEnderle'}, {'id': '1249852462166614017', 'name': 'Ivan Sexton', 'username': 'IvanSexton3'}, {'id': '1449085848444493825', 'name': 'Virginia Suarez Burris', 'username': 'BurrisSuarez'}, {'id': '2164489479', 'name': 'B.Wallace', 'username': 'Stevieray2013'}, {'id': '1310726065858510855', 'name': 'Mainefreethinker', 'username': 'Mainefreethink1'}, {'id': '728216867119104001', 'name': 'Bone', 'username': 'mbenskin55555'}, {'id': '2728654240', 'name': 'Maverick', 'username': 'ABElCapitan1'}, {'id': '3242996371', 'name': 'PAULA SMITH', 'username': 'GrammaToJakes'}, {'id': '1214741819281551360', 'name': 'Cory Wolfe🇺🇸 ♦️16', 'username': 'CorySWolfe'}, {'id': '952034275171405825', 'name': 'Mark W. Huth', 'username': 'MarkWHuth1'}, {'id': '2880303505', 'name': 'David Welfelt', 'username': 'dswelfelt'}, {'id': '2857080884', 'name': 'Cafe con leche', 'username': 'SenoraBeatriz'}, {'id': '71171985', 'name': 'Don Makowski', 'username': 'dmak144'}, {'id': '794682537620676608', 'name': 'Dorothy Shilow', 'username': 'ddeetaurus'}, {'id': '20451329', 'name': 'C - 🇺🇸 - One Nation - United We Stand  🇺🇸 -', 'username': 'carazariah'}, {'id': '1393008564906647557', 'name': 'Kyle Survance Jr', 'username': 'survance'}, {'id': '41713196', 'name': 'EET 🇺🇸 LET’S GO BRANDON!🤣', 'username': 'blessedmeranch'}, {'id': '1436882165602598914', 'name': 'Cristiana West', 'username': 'IAmHereUSA'}, {'id': '591951432', 'name': 'Lisa P., Lets Go Brandon', 'username': 'PLisaj'}, {'id': '65045387', 'name': 'Tammy Hammerbeck', 'username': 'Gehaunna'}, {'id': '1347522875268411398', 'name': '@LifeMatters', 'username': 'LifeMat61284049'}, {'id': '3754569014', 'name': '❌🇺🇸🇺🇸 Cathy 🇺🇸🇺🇸🇺🇸', 'username': 'CathyNolley'}, {'id': '76746977', 'name': 'Maddie~ RS can kiss my Native American ass!', 'username': 'eniledam05'}, {'id': '16871547', 'name': 'banditlink', 'username': 'banditlink'}, {'id': '1077368172699926529', 'name': 'Arjen Geijsel', 'username': 'arjen_geijsel'}, {'id': '1441171279436935174', 'name': 'Agent', 'username': 'TheAgentSmith_3'}, {'id': '1157841319580119040', 'name': 'RE MATTHEWS', 'username': 'REMATTHEWS2'}, {'id': '612932713', 'name': 'Marilyn Flax', 'username': 'MSFAERS'}, {'id': '457513022', 'name': 'Janice Matchett', 'username': 'janmatch'}, {'id': '321020675', 'name': 'Janet Morris', 'username': 'counselor46'}, {'id': '2502953495', 'name': 'Nancy Galloway', 'username': 'nlynne24g'}, {'id': '12364062', 'name': '🇺🇸 👮 ❌ Fred Stemp ❌👮🇺🇲', 'username': 'OleMarineFred'}, {'id': '1305202291398586368', 'name': 'The New World!', 'username': 'Vesuvius1777'}, {'id': '1011708602392997888', 'name': 'mike', 'username': 'mike71914654'}, {'id': '472589320', 'name': 'coffeedude❌❌', 'username': 'LeeSutton4'}, {'id': '838929288783069184', 'name': 'Beth Rea', 'username': 'BethRea5'}, {'id': '1275485552', 'name': 'Lisa Frizzell', 'username': 'kevslisababy'}, {'id': '53119816', 'name': 'Gino DiGino ✝️🇺🇸', 'username': 'digino69'}, {'id': '1653574208', 'name': 'troy schwinabart', 'username': 'TSchwinabart'}, {'id': '387732614', 'name': 'Mark S S.', 'username': 'markalsmith'}, {'id': '216537631', 'name': 'Jeff', 'username': 'fixie2work1'}, {'id': '392221352', 'name': 'twistedsks', 'username': '_Schwangsterrr5'}, {'id': '25672323', 'name': 'Robin Miller', 'username': 'Eugena_03'}, {'id': '978061640422719488', 'name': 'Matthew Michael', 'username': 'MatthewTrott3'}, {'id': '814979549503115264', 'name': 'Benjamin', 'username': 'benbaca2015'}, {'id': '1311932723846508544', 'name': 'Arman', 'username': 'Arman25849226'}, {'id': '254569407', 'name': 'Dennis Murphy Jr.', 'username': 'Dman541'}, {'id': '1263425924613107712', 'name': 'tigerwang', 'username': 'tigerwa70250694'}, {'id': '210275927', 'name': 'PAT QUINN', 'username': 'PDQACCESSORIES'}, {'id': '1430251429604864000', 'name': 'Ginger', 'username': 'Ginger38866874'}, {'id': '1412034144457007115', 'name': 'Kay Ivey', 'username': 'CKIV22'}, {'id': '3201938655', 'name': 'Master Tee', 'username': 'terry_mabey'}, {'id': '931337144295149568', 'name': 'Meredith Fajardo', 'username': 'mjfajardo11'}, {'id': '2926217961', 'name': 'tony a', 'username': 'casanovaguri'}, {'id': '1296196028090265600', 'name': 'Babalola Olawale', 'username': 'Babalol95765883'}, {'id': '942878222', 'name': '🇯🇵amzacK 🗣️', 'username': 'SWN1976'}, {'id': '2492414263', 'name': 'Ronald Locke JR', 'username': 'freewillagain'}, {'id': '99589959', 'name': 'Ceredwyn F. Holt', 'username': 'terraluxe'}, {'id': '1241032460005249026', 'name': 'Yiwu', 'username': 'Yiwu35350148'}, {'id': '1189814893', 'name': 'Edie Kastl', 'username': 'EdieKastl'}, {'id': '1376081651932008450', 'name': 'Xavier1017', 'username': 'Xavier10171'}, {'id': '1270654121301942272', 'name': 'DonnaRocky', 'username': 'DonnaRocky1'}, {'id': '878251938202234880', 'name': 'safelifeandpensions', 'username': 'michael_safe'}, {'id': '3371899932', 'name': 'signal Newsbear', 'username': 'langis_john'}, {'id': '825124504183644160', 'name': 'Lovingretiredlifeinflorida', 'username': 'RlLoupe'}, {'id': '756135007', 'name': 'Genevieve', 'username': 'GenevieveBayer'}, {'id': '1323696362576400384', 'name': 'VEB', 'username': 'VEB32140686'}, {'id': '1150585953288953857', 'name': 'Samjason1939', 'username': 'samjason1939'}, {'id': '816670379020263425', 'name': 'Bonnie Donihi', 'username': 'b_donihi'}], 'meta': {'result_count': 89}}\n"
     ]
    }
   ],
   "source": [
    "print(response_3)"
   ]
  },
  {
   "cell_type": "code",
   "execution_count": 174,
   "id": "360ce029",
   "metadata": {},
   "outputs": [],
   "source": [
    "retweets=make_df(response_3)"
   ]
  },
  {
   "cell_type": "code",
   "execution_count": 177,
   "id": "019cf780",
   "metadata": {},
   "outputs": [],
   "source": [
    "# save to excel (might delete later)\n",
    "retweets.to_excel('data/tests/retweets_1449491591048187913.xlsx', header=True, index=True)"
   ]
  },
  {
   "cell_type": "code",
   "execution_count": 182,
   "id": "82aebf5d",
   "metadata": {},
   "outputs": [],
   "source": [
    "# define new request: \n",
    "def make_request(headers):\n",
    "    url=\"http://api.twitter.com/2/tweets/search/recent\"\n",
    "    params={'query': '1449491591048187913', 'tweet.fields': 'author_id,entities,attachments,conversation_id,created_at,referenced_tweets', 'max_results': 100}\n",
    "    return requests.request(\"GET\", url, params=params, headers=headers).json()\n"
   ]
  },
  {
   "cell_type": "code",
   "execution_count": 183,
   "id": "f8b621ef",
   "metadata": {},
   "outputs": [],
   "source": [
    "# make the request\n",
    "response_4 = make_request(headers)\n"
   ]
  },
  {
   "cell_type": "code",
   "execution_count": 184,
   "id": "45ba7ad2",
   "metadata": {},
   "outputs": [
    {
     "name": "stdout",
     "output_type": "stream",
     "text": [
      "{'data': [{'conversation_id': '1449630985927204864', 'text': \"I'd like to know where the low beef prices are. It has tried in the last 3 months where I live so much so that most people can't afford much of it https://t.co/O0vRYrjy6i\", 'id': '1449630985927204864', 'referenced_tweets': [{'type': 'quoted', 'id': '1449491591048187913'}], 'created_at': '2021-10-17T06:58:54.000Z', 'author_id': '954540657686794240', 'entities': {'urls': [{'start': 147, 'end': 170, 'url': 'https://t.co/O0vRYrjy6i', 'expanded_url': 'https://twitter.com/FoxNews/status/1449491591048187913', 'display_url': 'twitter.com/FoxNews/status…'}]}}, {'conversation_id': '1449604376717312000', 'text': 'Good ! https://t.co/cA7vprJjyH', 'id': '1449604376717312000', 'referenced_tweets': [{'type': 'quoted', 'id': '1449491591048187913'}], 'created_at': '2021-10-17T05:13:10.000Z', 'author_id': '283380169', 'entities': {'urls': [{'start': 7, 'end': 30, 'url': 'https://t.co/cA7vprJjyH', 'expanded_url': 'https://twitter.com/foxnews/status/1449491591048187913', 'display_url': 'twitter.com/foxnews/status…'}]}}, {'conversation_id': '1449603492994117633', 'text': 'The government thinks we— as ranchers— are DUMB and NOT CAPABLE.\\n\\nTime to prove them wrong! https://t.co/TGAk3OfrgF', 'id': '1449603492994117633', 'referenced_tweets': [{'type': 'quoted', 'id': '1449491591048187913'}], 'created_at': '2021-10-17T05:09:39.000Z', 'author_id': '3254881010', 'entities': {'urls': [{'start': 92, 'end': 115, 'url': 'https://t.co/TGAk3OfrgF', 'expanded_url': 'https://twitter.com/foxnews/status/1449491591048187913', 'display_url': 'twitter.com/foxnews/status…'}]}}, {'conversation_id': '1449568773606985728', 'text': 'Go for it https://t.co/ABVPRcSm6Z', 'id': '1449568773606985728', 'referenced_tweets': [{'type': 'quoted', 'id': '1449491591048187913'}], 'created_at': '2021-10-17T02:51:41.000Z', 'author_id': '418239148', 'entities': {'urls': [{'start': 10, 'end': 33, 'url': 'https://t.co/ABVPRcSm6Z', 'expanded_url': 'https://twitter.com/FoxNews/status/1449491591048187913', 'display_url': 'twitter.com/FoxNews/status…'}]}}, {'conversation_id': '1449563710138298371', 'entities': {'annotations': [{'start': 0, 'end': 25, 'probability': 0.6149, 'type': 'Organization', 'normalized_text': 'Big Government Regulations'}], 'urls': [{'start': 47, 'end': 70, 'url': 'https://t.co/IzcOyaFyp6', 'expanded_url': 'https://twitter.com/foxnews/status/1449491591048187913', 'display_url': 'twitter.com/foxnews/status…'}]}, 'text': 'Big Government Regulations will win in the end https://t.co/IzcOyaFyp6', 'id': '1449563710138298371', 'referenced_tweets': [{'type': 'quoted', 'id': '1449491591048187913'}], 'created_at': '2021-10-17T02:31:34.000Z', 'author_id': '1360034926398234625'}, {'conversation_id': '1449555030416183297', 'entities': {'annotations': [{'start': 57, 'end': 66, 'probability': 0.2812, 'type': 'Other', 'normalized_text': 'Slo-Mo Joe'}, {'start': 70, 'end': 76, 'probability': 0.8658, 'type': 'Place', 'normalized_text': 'America'}], 'urls': [{'start': 79, 'end': 102, 'url': 'https://t.co/jL8FlDJ4AP', 'expanded_url': 'https://twitter.com/FoxNews/status/1449491591048187913', 'display_url': 'twitter.com/FoxNews/status…'}]}, 'text': \"Low beef prices? What planet are they living on? This is Slo-Mo Joe's America! https://t.co/jL8FlDJ4AP\", 'id': '1449555030416183297', 'referenced_tweets': [{'type': 'quoted', 'id': '1449491591048187913'}], 'created_at': '2021-10-17T01:57:05.000Z', 'author_id': '758463409784430592'}, {'conversation_id': '1449543866516971528', 'text': 'Ranchers have become  so evil. https://t.co/GM0eMuW4ej', 'id': '1449543866516971528', 'referenced_tweets': [{'type': 'quoted', 'id': '1449491591048187913'}], 'created_at': '2021-10-17T01:12:43.000Z', 'author_id': '890106271', 'entities': {'urls': [{'start': 31, 'end': 54, 'url': 'https://t.co/GM0eMuW4ej', 'expanded_url': 'https://twitter.com/FoxNews/status/1449491591048187913', 'display_url': 'twitter.com/FoxNews/status…'}]}}, {'conversation_id': '1449538842327982088', 'text': 'RT @melbataj: 💪', 'id': '1449538842327982088', 'referenced_tweets': [{'type': 'retweeted', 'id': '1449501163145940993'}], 'created_at': '2021-10-17T00:52:45.000Z', 'entities': {'mentions': [{'start': 3, 'end': 12, 'username': 'melbataj', 'id': '768887906119278592'}]}, 'author_id': '1243283042568986624'}, {'conversation_id': '1449522238877749248', 'text': '👏 Yes to this. https://t.co/0btv1kVua5', 'id': '1449522238877749248', 'referenced_tweets': [{'type': 'quoted', 'id': '1449491591048187913'}], 'created_at': '2021-10-16T23:46:47.000Z', 'author_id': '1425630546781220865', 'entities': {'urls': [{'start': 15, 'end': 38, 'url': 'https://t.co/0btv1kVua5', 'expanded_url': 'https://twitter.com/FoxNews/status/1449491591048187913', 'display_url': 'twitter.com/FoxNews/status…'}]}}, {'conversation_id': '1449518072004501504', 'entities': {'annotations': [{'start': 5, 'end': 8, 'probability': 0.8798, 'type': 'Place', 'normalized_text': 'U.S.'}], 'urls': [{'start': 34, 'end': 57, 'url': 'https://t.co/i5pAfO1U57', 'expanded_url': 'https://twitter.com/foxnews/status/1449491591048187913', 'display_url': 'twitter.com/foxnews/status…'}]}, 'text': 'Only U.S. beef and clearly marked https://t.co/i5pAfO1U57', 'id': '1449518072004501504', 'referenced_tweets': [{'type': 'quoted', 'id': '1449491591048187913'}], 'created_at': '2021-10-16T23:30:13.000Z', 'author_id': '1460929602'}, {'conversation_id': '1449513116111417355', 'entities': {'annotations': [{'start': 45, 'end': 47, 'probability': 0.6875, 'type': 'Place', 'normalized_text': 'Mtn'}, {'start': 56, 'end': 63, 'probability': 0.4571, 'type': 'Place', 'normalized_text': 'Arkansas'}, {'start': 138, 'end': 144, 'probability': 0.659, 'type': 'Organization', 'normalized_text': 'Walmart'}], 'urls': [{'start': 147, 'end': 170, 'url': 'https://t.co/SOnw6Dhrzp', 'expanded_url': 'https://twitter.com/FoxNews/status/1449491591048187913', 'display_url': 'twitter.com/FoxNews/status…'}]}, 'text': \"Where are these low beef prices? Not here in Mtn. View, Arkansas that's for sure. I paid over $6.00 for a lb. of ground beef at the local Walmart. https://t.co/SOnw6Dhrzp\", 'id': '1449513116111417355', 'referenced_tweets': [{'type': 'quoted', 'id': '1449491591048187913'}], 'created_at': '2021-10-16T23:10:32.000Z', 'author_id': '99589959'}, {'conversation_id': '1449506333892485127', 'text': '28.00$ a pound at the store. https://t.co/MWmPRVcTU0', 'id': '1449506333892485127', 'referenced_tweets': [{'type': 'quoted', 'id': '1449491591048187913'}], 'created_at': '2021-10-16T22:43:35.000Z', 'author_id': '1233378940540129280', 'entities': {'urls': [{'start': 29, 'end': 52, 'url': 'https://t.co/MWmPRVcTU0', 'expanded_url': 'https://twitter.com/foxnews/status/1449491591048187913', 'display_url': 'twitter.com/foxnews/status…'}]}}, {'conversation_id': '1449501163145940993', 'text': '💪 https://t.co/KGcigt8yxz', 'id': '1449501163145940993', 'referenced_tweets': [{'type': 'quoted', 'id': '1449491591048187913'}], 'created_at': '2021-10-16T22:23:02.000Z', 'author_id': '768887906119278592', 'entities': {'urls': [{'start': 2, 'end': 25, 'url': 'https://t.co/KGcigt8yxz', 'expanded_url': 'https://twitter.com/FoxNews/status/1449491591048187913', 'display_url': 'twitter.com/FoxNews/status…'}]}}, {'conversation_id': '1449500122228793348', 'text': \"Interesting. People raising cattle have gone from getting 35 cents a dollar in the 70's to 14 cents a dollar now as they've gotten squeezed by a consolidated meat processing industry and hope to start their own plant in order to get better prices for themselves.\\nHave $300 mil https://t.co/FM2vuGSwk5\", 'id': '1449500122228793348', 'referenced_tweets': [{'type': 'quoted', 'id': '1449491591048187913'}], 'created_at': '2021-10-16T22:18:54.000Z', 'author_id': '2920971234', 'entities': {'urls': [{'start': 277, 'end': 300, 'url': 'https://t.co/FM2vuGSwk5', 'expanded_url': 'https://twitter.com/FoxNews/status/1449491591048187913', 'display_url': 'twitter.com/FoxNews/status…'}]}}, {'conversation_id': '1449498805922054152', 'text': 'Well vehemently is my Ranch... https://t.co/SWLubu8S4U', 'id': '1449498805922054152', 'referenced_tweets': [{'type': 'quoted', 'id': '1449491591048187913'}], 'created_at': '2021-10-16T22:13:40.000Z', 'author_id': '1395161951257481216', 'entities': {'urls': [{'start': 31, 'end': 54, 'url': 'https://t.co/SWLubu8S4U', 'expanded_url': 'https://twitter.com/FoxNews/status/1449491591048187913', 'display_url': 'twitter.com/FoxNews/status…'}]}}, {'conversation_id': '1449494980331032577', 'text': 'Low beef prices? Not at my butcher shop... https://t.co/yj6wjZyFvL', 'id': '1449494980331032577', 'referenced_tweets': [{'type': 'quoted', 'id': '1449491591048187913'}], 'created_at': '2021-10-16T21:58:28.000Z', 'author_id': '74945157', 'entities': {'urls': [{'start': 43, 'end': 66, 'url': 'https://t.co/yj6wjZyFvL', 'expanded_url': 'https://twitter.com/FoxNews/status/1449491591048187913', 'display_url': 'twitter.com/FoxNews/status…'}]}}, {'conversation_id': '1449491591048187913', 'text': '@FoxNews Ya know how STUPID this sounds after bitching for 2 months about inflation and high food prices?\\n\\nhttps://t.co/QnEEtO2F2O', 'id': '1449494515027480585', 'referenced_tweets': [{'type': 'quoted', 'id': '1449491591048187913'}, {'type': 'replied_to', 'id': '1449491591048187913'}], 'created_at': '2021-10-16T21:56:37.000Z', 'entities': {'mentions': [{'start': 0, 'end': 8, 'username': 'FoxNews', 'id': '1367531'}], 'urls': [{'start': 107, 'end': 130, 'url': 'https://t.co/QnEEtO2F2O', 'expanded_url': 'https://twitter.com/FoxNews/status/1449491591048187913', 'display_url': 'twitter.com/FoxNews/status…'}]}, 'author_id': '514793921'}, {'conversation_id': '1449492292050591748', 'text': 'The Cost of meat 🥩 is out of reach for many. It’s Way too Expensive. https://t.co/KTcZU0INW2', 'id': '1449492292050591748', 'referenced_tweets': [{'type': 'quoted', 'id': '1449491591048187913'}], 'created_at': '2021-10-16T21:47:47.000Z', 'author_id': '1440435446056579080', 'entities': {'urls': [{'start': 69, 'end': 92, 'url': 'https://t.co/KTcZU0INW2', 'expanded_url': 'https://twitter.com/foxnews/status/1449491591048187913', 'display_url': 'twitter.com/foxnews/status…'}]}}], 'meta': {'newest_id': '1449630985927204864', 'oldest_id': '1449492292050591748', 'result_count': 18}}\n"
     ]
    }
   ],
   "source": [
    "print(response_4)"
   ]
  },
  {
   "cell_type": "code",
   "execution_count": 188,
   "id": "4743138a",
   "metadata": {},
   "outputs": [],
   "source": [
    "quoted_retweets=make_df(response_4)\n",
    "quoted_retweets.to_excel('data/tests/quoted_retweets_1449491591048187913.xlsx')"
   ]
  },
  {
   "cell_type": "code",
   "execution_count": null,
   "id": "84278666",
   "metadata": {},
   "outputs": [],
   "source": []
  }
 ],
 "metadata": {
  "kernelspec": {
   "display_name": "Python 3 (ipykernel)",
   "language": "python",
   "name": "python3"
  },
  "language_info": {
   "codemirror_mode": {
    "name": "ipython",
    "version": 3
   },
   "file_extension": ".py",
   "mimetype": "text/x-python",
   "name": "python",
   "nbconvert_exporter": "python",
   "pygments_lexer": "ipython3",
   "version": "3.9.6"
  }
 },
 "nbformat": 4,
 "nbformat_minor": 5
}
