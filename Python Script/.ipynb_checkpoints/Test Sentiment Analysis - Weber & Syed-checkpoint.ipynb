{
 "cells": [
  {
   "cell_type": "markdown",
   "id": "8ac98453",
   "metadata": {},
   "source": [
    "Example described in the following paper: Weber & Syed (2019): Interdisciplinary optimism? Sentiment analysis of Twitter data <br>\n",
    "GitHub Repo: https://github.com/shaheen-syed/Twitter-Sentiment-Analysis"
   ]
  },
  {
   "cell_type": "markdown",
   "id": "a474017a",
   "metadata": {},
   "source": [
    "Steps: \n",
    "1. Search Target Tweets (the one to be classified)\n",
    "2. Parse Target Tweets\n",
    "3. Preprocess Target Tweets\n",
    "4. Get Training Tweets\n",
    "5. Preprocessing Training Tweets\n",
    "6. Train ML Classifier\n",
    "7. Classify Target Tweets\n",
    "8. Plot Results"
   ]
  },
  {
   "cell_type": "markdown",
   "id": "28ee16d3",
   "metadata": {},
   "source": [
    "### 1. Search Target Tweets"
   ]
  },
  {
   "cell_type": "code",
   "execution_count": 1,
   "id": "b2e30cc0",
   "metadata": {},
   "outputs": [],
   "source": [
    "# search and scrape tweets via Twitter API"
   ]
  },
  {
   "cell_type": "markdown",
   "id": "c20d719c",
   "metadata": {},
   "source": [
    "### 2. Parse Target Tweets"
   ]
  },
  {
   "cell_type": "code",
   "execution_count": 2,
   "id": "f8c40594",
   "metadata": {},
   "outputs": [],
   "source": [
    "# reads all .txt files created while scraping tweets and parses individual tweets and relevant fields; \n",
    "# then saves ech tweet in MongoDB database\n",
    "# automatically knows if tweet has already been inserted previously "
   ]
  },
  {
   "cell_type": "markdown",
   "id": "f2790365",
   "metadata": {},
   "source": [
    "### 3. Preprocess Target Tweets\n",
    "- remove duplicates (there are none (?) in my dataset)\n",
    "- remove non-English tweets\n",
    "- user tags & URLs: replace with suitable placeholder [\\<user\\>, \\<url\\>] as they convey no specific sentiment \n",
    "- hashtags: remove hash sign\n",
    "- contractions & repeating characters: contractions (e.g., don't, can't) are splitted into their full two-word expression (e.g., do not, can not); words that have repeated characters are limitied to a maximum if two consecutive characters (e.g., loveeee >> lovee)\n",
    "- appply lemmatization to target tweets\n",
    "- uppercase and lowercase words were grouped as well\n",
    "- emoticons and emojis: crucial for determining sentiment of a tweet; positive emoticons/emojis were replaced with positive placeholder word, negative emoticons/emojis replaced with negative placeholder words [47 emoticons and 40 different emojics were replaced]\n",
    "- numbers & punctuations: removed as they typically convey no specific sentiment (but numbers that were used to replace characters or syllables of words were retained, e.g., 'see you l8ter' or 'brb')\n"
   ]
  },
  {
   "cell_type": "code",
   "execution_count": null,
   "id": "e04ab7fc",
   "metadata": {},
   "outputs": [],
   "source": []
  },
  {
   "cell_type": "markdown",
   "id": "db91cca7",
   "metadata": {},
   "source": [
    "### 4. Get Training Tweets\n",
    "- Sanders (domain not available anymore; GitHub repo: https://github.com/zfz/twitter_corpus)\n",
    "- OMD (not accessible)\n",
    "- Stanford Twitter Sentiment: 1) Test Set: contains 498 tweets manually annotated; 2) Training Set: contains 1.6 million tweets automatically labeled (http://help.sentiment140.com/for-students)\n",
    "- HCR (not accesible)\n",
    "- SemEval-2016 (https://alt.qcri.org/semeval2016/task4/index.php?id=data-and-tools and https://www.saifmohammad.com/WebPages/StanceDataset.htm)\n",
    "- SS (http://sentistrength.wlv.ac.uk/documentation/)\n",
    "- CLARIN-13 (https://www.clarin.si/repository/xmlui/handle/11356/1054)"
   ]
  },
  {
   "cell_type": "code",
   "execution_count": null,
   "id": "d973ce36",
   "metadata": {},
   "outputs": [],
   "source": []
  },
  {
   "cell_type": "markdown",
   "id": "513728ad",
   "metadata": {},
   "source": [
    "### 5. Preprocessing Training Tweets"
   ]
  },
  {
   "cell_type": "code",
   "execution_count": 3,
   "id": "19563559",
   "metadata": {},
   "outputs": [],
   "source": [
    "# same preprocessing steps as for target tweets"
   ]
  },
  {
   "cell_type": "markdown",
   "id": "c0554d2d",
   "metadata": {},
   "source": [
    "### 6. Train ML Classifier\n",
    "- BernoulliNB\n",
    "- MultinomialNB\n",
    "- LogisticRegression\n",
    "- DecisionTreeClassifier\n",
    "- AdaBoostClassifier"
   ]
  },
  {
   "cell_type": "code",
   "execution_count": null,
   "id": "5a65716b",
   "metadata": {},
   "outputs": [],
   "source": [
    "# script trains various machine learning classifiers to predict positive, negative and neutral sentiment classes#"
   ]
  },
  {
   "cell_type": "markdown",
   "id": "c49974b1",
   "metadata": {},
   "source": [
    "### 7. Classify Target Tweets"
   ]
  },
  {
   "cell_type": "code",
   "execution_count": null,
   "id": "dde5e6de",
   "metadata": {},
   "outputs": [],
   "source": []
  },
  {
   "cell_type": "markdown",
   "id": "95a33d0a",
   "metadata": {},
   "source": [
    "### 8. Plot Results"
   ]
  },
  {
   "cell_type": "code",
   "execution_count": null,
   "id": "21533838",
   "metadata": {},
   "outputs": [],
   "source": []
  }
 ],
 "metadata": {
  "kernelspec": {
   "display_name": "Python 3 (ipykernel)",
   "language": "python",
   "name": "python3"
  },
  "language_info": {
   "codemirror_mode": {
    "name": "ipython",
    "version": 3
   },
   "file_extension": ".py",
   "mimetype": "text/x-python",
   "name": "python",
   "nbconvert_exporter": "python",
   "pygments_lexer": "ipython3",
   "version": "3.9.6"
  }
 },
 "nbformat": 4,
 "nbformat_minor": 5
}
