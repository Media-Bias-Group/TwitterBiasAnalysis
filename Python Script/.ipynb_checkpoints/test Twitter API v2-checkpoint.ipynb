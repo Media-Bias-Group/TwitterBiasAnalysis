{
 "cells": [
  {
   "cell_type": "code",
   "execution_count": 20,
   "id": "a1cfc86c",
   "metadata": {},
   "outputs": [],
   "source": [
    "import pandas as pd\n",
    "import os\n",
    "import json"
   ]
  },
  {
   "cell_type": "code",
   "execution_count": null,
   "id": "213fa2d4",
   "metadata": {},
   "outputs": [],
   "source": []
  },
  {
   "cell_type": "code",
   "execution_count": 21,
   "id": "87fbdca2",
   "metadata": {},
   "outputs": [],
   "source": [
    "def connect_to_twitter():\n",
    "    bearer_token = \"AAAAAAAAAAAAAAAAAAAAALHbUgEAAAAAcbfxbyr%2BsqJDQMpIumE1LYFgau4%3DtZSOHx2L3uEGs4m2a6OOFIos2Moy2FYfOkiVJd3v5OFKP9A48M\"\n",
    "    return {\"Authorization\": \"Bearer {}\".format(bearer_token)}"
   ]
  },
  {
   "cell_type": "code",
   "execution_count": 22,
   "id": "1bdc6ce1",
   "metadata": {},
   "outputs": [],
   "source": [
    "headers = connect_to_twitter()"
   ]
  },
  {
   "cell_type": "code",
   "execution_count": 40,
   "id": "3a82fc72",
   "metadata": {},
   "outputs": [],
   "source": [
    "def make_request(headers):\n",
    "    url=\"http://api.twitter.com/2/tweets/search/recent\"\n",
    "    params=\"query=from:FoxNews\"\n",
    "    return requests.request(\"GET\", url, params=params, headers=headers).json()\n"
   ]
  },
  {
   "cell_type": "code",
   "execution_count": 41,
   "id": "a6b1809a",
   "metadata": {},
   "outputs": [],
   "source": [
    "response = make_request(headers)"
   ]
  },
  {
   "cell_type": "code",
   "execution_count": 42,
   "id": "435e2759",
   "metadata": {},
   "outputs": [
    {
     "name": "stdout",
     "output_type": "stream",
     "text": [
      "{'data': [{'id': '1449389309426126855', 'text': 'Kyle Rittenhouse victim sues, claims Kenosha police conspired with vigilantes\\n\\nhttps://t.co/84ObXSS8yh'}, {'id': '1449389084397408258', 'text': \"Canadian pastor defiant as judge orders him to parrot 'medical experts' from pulpit: 'I will not obey'\\n\\nhttps://t.co/E1KfX4VG9N\"}, {'id': '1449385139918807042', 'text': 'Robot dog armed with sniper rifle unveiled at US Army trade show\\n\\nhttps://t.co/0y5yePrAum'}, {'id': '1449374389699502080', 'text': 'We are @saucehouseBBQ in Athens, GA. https://t.co/OBU1UMkMBz'}, {'id': '1449351924780830721', 'text': 'Psaki, DOJ in damage control mode after Biden says subpoena defiers should be prosecuted\\n\\nhttps://t.co/RWiCaHreLf'}, {'id': '1449344460731699206', 'text': 'Skydive your way to a stay at this Utah resort\\n\\nhttps://t.co/xsUVs2w92O'}, {'id': '1449342386673537034', 'text': 'Chris Laundrie on Saturday morning removed a sign on his property line that read, ‘What if it was Cassie?’\\n\\nhttps://t.co/K4wUZ3uhK3 https://t.co/2Zw9KlKzvj'}, {'id': '1449341247383015429', 'text': \"Houston deputy killed, 2 more injured in ambush attack: 'Shot from behind'\\n\\nhttps://t.co/lEya4qFPmC\"}, {'id': '1449336822010548226', 'text': 'China launches 3 astronauts on 6-month space station mission\\n\\nhttps://t.co/JRjYrk6J8c'}, {'id': '1449329589197721600', 'text': \"Where are the 'Dance Moms' girls today?\\n\\nhttps://t.co/dHA9sYe7dJ\"}], 'meta': {'newest_id': '1449389309426126855', 'oldest_id': '1449329589197721600', 'result_count': 10, 'next_token': 'b26v89c19zqg8o3fpds9syrf83es99t9wnfdf1yhxh3el'}}\n"
     ]
    }
   ],
   "source": [
    "print(response)"
   ]
  },
  {
   "cell_type": "code",
   "execution_count": 49,
   "id": "c413d1fc",
   "metadata": {},
   "outputs": [],
   "source": [
    "def make_df(response):\n",
    "    return pd.DataFrame(response['data'])"
   ]
  },
  {
   "cell_type": "code",
   "execution_count": 50,
   "id": "9533fd00",
   "metadata": {},
   "outputs": [
    {
     "data": {
      "text/html": [
       "<div>\n",
       "<style scoped>\n",
       "    .dataframe tbody tr th:only-of-type {\n",
       "        vertical-align: middle;\n",
       "    }\n",
       "\n",
       "    .dataframe tbody tr th {\n",
       "        vertical-align: top;\n",
       "    }\n",
       "\n",
       "    .dataframe thead th {\n",
       "        text-align: right;\n",
       "    }\n",
       "</style>\n",
       "<table border=\"1\" class=\"dataframe\">\n",
       "  <thead>\n",
       "    <tr style=\"text-align: right;\">\n",
       "      <th></th>\n",
       "      <th>id</th>\n",
       "      <th>text</th>\n",
       "    </tr>\n",
       "  </thead>\n",
       "  <tbody>\n",
       "    <tr>\n",
       "      <th>0</th>\n",
       "      <td>1449389309426126855</td>\n",
       "      <td>Kyle Rittenhouse victim sues, claims Kenosha p...</td>\n",
       "    </tr>\n",
       "    <tr>\n",
       "      <th>1</th>\n",
       "      <td>1449389084397408258</td>\n",
       "      <td>Canadian pastor defiant as judge orders him to...</td>\n",
       "    </tr>\n",
       "    <tr>\n",
       "      <th>2</th>\n",
       "      <td>1449385139918807042</td>\n",
       "      <td>Robot dog armed with sniper rifle unveiled at ...</td>\n",
       "    </tr>\n",
       "    <tr>\n",
       "      <th>3</th>\n",
       "      <td>1449374389699502080</td>\n",
       "      <td>We are @saucehouseBBQ in Athens, GA. https://t...</td>\n",
       "    </tr>\n",
       "    <tr>\n",
       "      <th>4</th>\n",
       "      <td>1449351924780830721</td>\n",
       "      <td>Psaki, DOJ in damage control mode after Biden ...</td>\n",
       "    </tr>\n",
       "    <tr>\n",
       "      <th>5</th>\n",
       "      <td>1449344460731699206</td>\n",
       "      <td>Skydive your way to a stay at this Utah resort...</td>\n",
       "    </tr>\n",
       "    <tr>\n",
       "      <th>6</th>\n",
       "      <td>1449342386673537034</td>\n",
       "      <td>Chris Laundrie on Saturday morning removed a s...</td>\n",
       "    </tr>\n",
       "    <tr>\n",
       "      <th>7</th>\n",
       "      <td>1449341247383015429</td>\n",
       "      <td>Houston deputy killed, 2 more injured in ambus...</td>\n",
       "    </tr>\n",
       "    <tr>\n",
       "      <th>8</th>\n",
       "      <td>1449336822010548226</td>\n",
       "      <td>China launches 3 astronauts on 6-month space s...</td>\n",
       "    </tr>\n",
       "    <tr>\n",
       "      <th>9</th>\n",
       "      <td>1449329589197721600</td>\n",
       "      <td>Where are the 'Dance Moms' girls today?\\n\\nhtt...</td>\n",
       "    </tr>\n",
       "  </tbody>\n",
       "</table>\n",
       "</div>"
      ],
      "text/plain": [
       "                    id                                               text\n",
       "0  1449389309426126855  Kyle Rittenhouse victim sues, claims Kenosha p...\n",
       "1  1449389084397408258  Canadian pastor defiant as judge orders him to...\n",
       "2  1449385139918807042  Robot dog armed with sniper rifle unveiled at ...\n",
       "3  1449374389699502080  We are @saucehouseBBQ in Athens, GA. https://t...\n",
       "4  1449351924780830721  Psaki, DOJ in damage control mode after Biden ...\n",
       "5  1449344460731699206  Skydive your way to a stay at this Utah resort...\n",
       "6  1449342386673537034  Chris Laundrie on Saturday morning removed a s...\n",
       "7  1449341247383015429  Houston deputy killed, 2 more injured in ambus...\n",
       "8  1449336822010548226  China launches 3 astronauts on 6-month space s...\n",
       "9  1449329589197721600  Where are the 'Dance Moms' girls today?\\n\\nhtt..."
      ]
     },
     "execution_count": 50,
     "metadata": {},
     "output_type": "execute_result"
    }
   ],
   "source": [
    "make_df(response)"
   ]
  },
  {
   "cell_type": "code",
   "execution_count": null,
   "id": "86bf776e",
   "metadata": {},
   "outputs": [],
   "source": []
  },
  {
   "cell_type": "code",
   "execution_count": null,
   "id": "3edb72c7",
   "metadata": {},
   "outputs": [],
   "source": []
  }
 ],
 "metadata": {
  "kernelspec": {
   "display_name": "Python 3 (ipykernel)",
   "language": "python",
   "name": "python3"
  },
  "language_info": {
   "codemirror_mode": {
    "name": "ipython",
    "version": 3
   },
   "file_extension": ".py",
   "mimetype": "text/x-python",
   "name": "python",
   "nbconvert_exporter": "python",
   "pygments_lexer": "ipython3",
   "version": "3.9.6"
  }
 },
 "nbformat": 4,
 "nbformat_minor": 5
}
