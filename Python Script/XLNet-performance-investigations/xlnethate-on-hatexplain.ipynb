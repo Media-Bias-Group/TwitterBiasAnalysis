{
 "cells": [
  {
   "cell_type": "markdown",
   "id": "d28d8621",
   "metadata": {
    "papermill": {
     "duration": 0.007128,
     "end_time": "2022-08-29T01:13:15.865094",
     "exception": false,
     "start_time": "2022-08-29T01:13:15.857966",
     "status": "completed"
    },
    "tags": []
   },
   "source": [
    "### Note: <br>\n",
    "This code for the fine-tuning process of XLNet for hate speech detection is based on the following example, published on Medium: <br>\n",
    "\n",
    "link to article: https://medium.com/swlh/using-xlnet-for-sentiment-classification-cfa948e65e85 <br>\n",
    "author: Shanay Ghag <br>\n",
    "published at: Jun 16, 2020<br>\n",
    "link to GitHub: https://github.com/shanayghag/Sentiment-classification-using-XLNet"
   ]
  },
  {
   "cell_type": "code",
   "execution_count": 1,
   "id": "b2123354",
   "metadata": {
    "execution": {
     "iopub.execute_input": "2022-08-29T01:13:15.877567Z",
     "iopub.status.busy": "2022-08-29T01:13:15.876761Z",
     "iopub.status.idle": "2022-08-29T01:13:24.641670Z",
     "shell.execute_reply": "2022-08-29T01:13:24.640558Z"
    },
    "papermill": {
     "duration": 8.77409,
     "end_time": "2022-08-29T01:13:24.644403",
     "exception": false,
     "start_time": "2022-08-29T01:13:15.870313",
     "status": "completed"
    },
    "tags": []
   },
   "outputs": [],
   "source": [
    "from datasets import load_dataset_builder, load_dataset\n",
    "import numpy as np\n",
    "import pandas as pd\n",
    "import seaborn as sns\n",
    "from sklearn.utils import shuffle\n",
    "from sklearn.model_selection import train_test_split\n",
    "from sklearn.metrics import confusion_matrix, classification_report, accuracy_score\n",
    "import re\n",
    "\n",
    "import sentencepiece\n",
    "from collections import defaultdict\n",
    "import random\n",
    "import torch\n",
    "from torch import nn, optim\n",
    "from torch.utils.data import TensorDataset,RandomSampler,SequentialSampler, Dataset, DataLoader\n",
    "import torch.nn.functional as F\n",
    "from keras.preprocessing.sequence import pad_sequences\n",
    "import transformers\n",
    "from transformers import XLNetTokenizer, XLNetModel, AdamW, get_linear_schedule_with_warmup\n",
    "import matplotlib.pyplot as plt\n",
    "from sklearn import metrics"
   ]
  },
  {
   "cell_type": "code",
   "execution_count": 2,
   "id": "a392cffa",
   "metadata": {
    "execution": {
     "iopub.execute_input": "2022-08-29T01:13:24.656841Z",
     "iopub.status.busy": "2022-08-29T01:13:24.655377Z",
     "iopub.status.idle": "2022-08-29T01:13:24.725353Z",
     "shell.execute_reply": "2022-08-29T01:13:24.724262Z"
    },
    "executionInfo": {
     "elapsed": 17542,
     "status": "ok",
     "timestamp": 1639927280017,
     "user": {
      "displayName": "lisa richter",
      "photoUrl": "https://lh3.googleusercontent.com/a/default-user=s64",
      "userId": "08999729000846221512"
     },
     "user_tz": -60
    },
    "id": "g4Qe-YCBVUUa",
    "outputId": "40bb91f5-9d42-40af-bc87-d9bca9c0687d",
    "papermill": {
     "duration": 0.077738,
     "end_time": "2022-08-29T01:13:24.727443",
     "exception": false,
     "start_time": "2022-08-29T01:13:24.649705",
     "status": "completed"
    },
    "tags": []
   },
   "outputs": [
    {
     "data": {
      "text/plain": [
       "device(type='cuda', index=0)"
      ]
     },
     "execution_count": 2,
     "metadata": {},
     "output_type": "execute_result"
    }
   ],
   "source": [
    "# set up connection to drive: \n",
    "#from google.colab import drive\n",
    "#drive.mount('/content/drive')\n",
    "\n",
    "# define device: \n",
    "device = torch.device(\"cuda:0\" if torch.cuda.is_available() else \"cpu\")\n",
    "device"
   ]
  },
  {
   "cell_type": "code",
   "execution_count": 3,
   "id": "8f78e3ee",
   "metadata": {
    "execution": {
     "iopub.execute_input": "2022-08-29T01:13:24.738676Z",
     "iopub.status.busy": "2022-08-29T01:13:24.737889Z",
     "iopub.status.idle": "2022-08-29T01:13:24.743736Z",
     "shell.execute_reply": "2022-08-29T01:13:24.742873Z"
    },
    "executionInfo": {
     "elapsed": 205,
     "status": "ok",
     "timestamp": 1639927284695,
     "user": {
      "displayName": "lisa richter",
      "photoUrl": "https://lh3.googleusercontent.com/a/default-user=s64",
      "userId": "08999729000846221512"
     },
     "user_tz": -60
    },
    "id": "Zc586jVyHNI9",
    "papermill": {
     "duration": 0.013352,
     "end_time": "2022-08-29T01:13:24.745742",
     "exception": false,
     "start_time": "2022-08-29T01:13:24.732390",
     "status": "completed"
    },
    "tags": []
   },
   "outputs": [],
   "source": [
    "def prepare_text(text):\n",
    "    text = re.sub(r\"@[A-Za-z0-9_]+\", ' ', text) # remove @user \n",
    "    text = re.sub(r\"https?://[A-Za-z0-9./]+\", ' ', text) # remove links\n",
    "    text = re.sub(r\"[^a-zA-z.!?'0-9]\", ' ', text) # remove smileys\n",
    "    text = re.sub('#', '', text) # remove hash sign\n",
    "    text = re.sub('\\t', ' ',  text) # remove tab\n",
    "    text = re.sub(r\" +\", ' ', text) # remove multiple whitespaces\n",
    "    return text"
   ]
  },
  {
   "cell_type": "markdown",
   "id": "731e3a9f",
   "metadata": {
    "id": "CnPDjd1bsiBQ",
    "papermill": {
     "duration": 0.004365,
     "end_time": "2022-08-29T01:13:24.754875",
     "exception": false,
     "start_time": "2022-08-29T01:13:24.750510",
     "status": "completed"
    },
    "tags": []
   },
   "source": [
    "# 1. Prepare Hate Dataset for Fine-Tuning"
   ]
  },
  {
   "cell_type": "code",
   "execution_count": 4,
   "id": "8d66e85b",
   "metadata": {
    "execution": {
     "iopub.execute_input": "2022-08-29T01:13:24.765613Z",
     "iopub.status.busy": "2022-08-29T01:13:24.764767Z",
     "iopub.status.idle": "2022-08-29T01:13:25.554745Z",
     "shell.execute_reply": "2022-08-29T01:13:25.553731Z"
    },
    "papermill": {
     "duration": 0.79773,
     "end_time": "2022-08-29T01:13:25.557178",
     "exception": false,
     "start_time": "2022-08-29T01:13:24.759448",
     "status": "completed"
    },
    "tags": []
   },
   "outputs": [],
   "source": [
    "# Load HateXplain dataset\n",
    "import json\n",
    "f = open('../input/hatexplain-dataset/HateXplain_dataset.json')\n",
    "ds_json = json.load(f)"
   ]
  },
  {
   "cell_type": "code",
   "execution_count": 5,
   "id": "0e173ca5",
   "metadata": {
    "execution": {
     "iopub.execute_input": "2022-08-29T01:13:25.567946Z",
     "iopub.status.busy": "2022-08-29T01:13:25.567652Z",
     "iopub.status.idle": "2022-08-29T01:13:25.684353Z",
     "shell.execute_reply": "2022-08-29T01:13:25.683455Z"
    },
    "papermill": {
     "duration": 0.124483,
     "end_time": "2022-08-29T01:13:25.686559",
     "exception": false,
     "start_time": "2022-08-29T01:13:25.562076",
     "status": "completed"
    },
    "tags": []
   },
   "outputs": [],
   "source": [
    "from collections import Counter\n",
    "\n",
    "for key in ds_json.keys():\n",
    "    annotators = ds_json[key]['annotators']\n",
    "    slst = [ele['label'] for ele in annotators]\n",
    "    words_count = Counter(slst)\n",
    "    if words_count['normal'] >= 2:\n",
    "        label_word = 'normal'\n",
    "        label = 0\n",
    "    elif words_count['offensive'] >= 2:\n",
    "        label_word = 'offensive'\n",
    "        label = 1\n",
    "    elif words_count['hatespeech'] >= 2:\n",
    "        label_word = 'hatespeech'\n",
    "        label = 1\n",
    "    else:\n",
    "        label_word = \"undecided\"\n",
    "        label = 1 # put it into category one since in the paper hatespeech and offensive fell into the hate category\n",
    "    ds_json[key]['label'] = label\n",
    "    ds_json[key]['label_word'] = label_word\n",
    "    ds_json[key]['text'] = \" \".join(ds_json[key]['post_tokens'])"
   ]
  },
  {
   "cell_type": "code",
   "execution_count": 6,
   "id": "d8629aa2",
   "metadata": {
    "execution": {
     "iopub.execute_input": "2022-08-29T01:13:25.697451Z",
     "iopub.status.busy": "2022-08-29T01:13:25.697097Z",
     "iopub.status.idle": "2022-08-29T01:13:26.671479Z",
     "shell.execute_reply": "2022-08-29T01:13:26.670458Z"
    },
    "papermill": {
     "duration": 0.982261,
     "end_time": "2022-08-29T01:13:26.673856",
     "exception": false,
     "start_time": "2022-08-29T01:13:25.691595",
     "status": "completed"
    },
    "tags": []
   },
   "outputs": [],
   "source": [
    "df_hatexplain = pd.DataFrame(ds_json).transpose()\n",
    "df_testing = df_hatexplain.loc[:,['text', 'label']]\n",
    "df_testing = df_testing[:20000]\n",
    "df_testing['text'] = df_testing['text'].apply(prepare_text)"
   ]
  },
  {
   "cell_type": "code",
   "execution_count": 7,
   "id": "e5d7a1de",
   "metadata": {
    "execution": {
     "iopub.execute_input": "2022-08-29T01:13:26.685717Z",
     "iopub.status.busy": "2022-08-29T01:13:26.684861Z",
     "iopub.status.idle": "2022-08-29T01:13:26.691677Z",
     "shell.execute_reply": "2022-08-29T01:13:26.690652Z"
    },
    "papermill": {
     "duration": 0.015249,
     "end_time": "2022-08-29T01:13:26.694127",
     "exception": false,
     "start_time": "2022-08-29T01:13:26.678878",
     "status": "completed"
    },
    "tags": []
   },
   "outputs": [
    {
     "data": {
      "text/plain": [
       "20000"
      ]
     },
     "execution_count": 7,
     "metadata": {},
     "output_type": "execute_result"
    }
   ],
   "source": [
    "len(df_testing)"
   ]
  },
  {
   "cell_type": "code",
   "execution_count": 8,
   "id": "9b6feae0",
   "metadata": {
    "execution": {
     "iopub.execute_input": "2022-08-29T01:13:26.704893Z",
     "iopub.status.busy": "2022-08-29T01:13:26.704609Z",
     "iopub.status.idle": "2022-08-29T01:13:26.714245Z",
     "shell.execute_reply": "2022-08-29T01:13:26.713259Z"
    },
    "papermill": {
     "duration": 0.017531,
     "end_time": "2022-08-29T01:13:26.716553",
     "exception": false,
     "start_time": "2022-08-29T01:13:26.699022",
     "status": "completed"
    },
    "tags": []
   },
   "outputs": [],
   "source": [
    "# custom dataset class\n",
    "class HateDataset(Dataset):\n",
    "    def __init__(self, reviews, targets, tokenizer, max_len):\n",
    "        self.reviews = reviews\n",
    "        self.targets = targets\n",
    "        self.tokenizer = tokenizer\n",
    "        self.max_len = max_len\n",
    "\n",
    "    def __len__(self):\n",
    "        return len(self.reviews)\n",
    "    \n",
    "    def __getitem__(self, item):\n",
    "        review = str(self.reviews[item])\n",
    "        target = self.targets[item]\n",
    "        \n",
    "        encoding = self.tokenizer.encode_plus(review,\n",
    "                                              add_special_tokens=True,\n",
    "                                              max_length=self.max_len,\n",
    "                                              truncation=True,\n",
    "                                              return_token_type_ids=False,\n",
    "                                              pad_to_max_length=False,\n",
    "                                              return_attention_mask=True,\n",
    "                                              return_tensors='pt',)\n",
    "        \n",
    "        input_ids = pad_sequences(encoding['input_ids'], \n",
    "                                  maxlen=self.max_len, \n",
    "                                  dtype=torch.Tensor ,\n",
    "                                  truncating=\"post\",\n",
    "                                  padding=\"post\")\n",
    "        input_ids = input_ids.astype(dtype = 'int64')\n",
    "        input_ids = torch.tensor(input_ids) \n",
    "        \n",
    "        attention_mask = pad_sequences(encoding['attention_mask'], \n",
    "                                       maxlen=self.max_len, \n",
    "                                       dtype=torch.Tensor ,\n",
    "                                       truncating=\"post\",\n",
    "                                       padding=\"post\")\n",
    "        attention_mask = attention_mask.astype(dtype = 'int64')\n",
    "        attention_mask = torch.tensor(attention_mask)       \n",
    "        \n",
    "        return {'review_text': review,\n",
    "                'input_ids': input_ids,\n",
    "                'attention_mask': attention_mask.flatten(),\n",
    "                'targets': torch.tensor(target, dtype=torch.long)}"
   ]
  },
  {
   "cell_type": "code",
   "execution_count": 9,
   "id": "90340bb8",
   "metadata": {
    "execution": {
     "iopub.execute_input": "2022-08-29T01:13:26.727481Z",
     "iopub.status.busy": "2022-08-29T01:13:26.727215Z",
     "iopub.status.idle": "2022-08-29T01:13:26.732024Z",
     "shell.execute_reply": "2022-08-29T01:13:26.731144Z"
    },
    "papermill": {
     "duration": 0.012462,
     "end_time": "2022-08-29T01:13:26.733997",
     "exception": false,
     "start_time": "2022-08-29T01:13:26.721535",
     "status": "completed"
    },
    "tags": []
   },
   "outputs": [],
   "source": [
    "# define custom dataloader:\n",
    "def create_data_loader(df, tokenizer, max_len, batch_size):\n",
    "    ds = HateDataset(reviews=df.text.to_numpy(),\n",
    "                     targets=df.label.to_numpy(),\n",
    "                     tokenizer=tokenizer,\n",
    "                     max_len=max_len)\n",
    "    \n",
    "    return DataLoader(ds,\n",
    "                    batch_size=batch_size,\n",
    "                    num_workers=2)       "
   ]
  },
  {
   "cell_type": "code",
   "execution_count": 10,
   "id": "7f758a60",
   "metadata": {
    "execution": {
     "iopub.execute_input": "2022-08-29T01:13:26.745551Z",
     "iopub.status.busy": "2022-08-29T01:13:26.745112Z",
     "iopub.status.idle": "2022-08-29T01:13:26.753164Z",
     "shell.execute_reply": "2022-08-29T01:13:26.752241Z"
    },
    "executionInfo": {
     "elapsed": 218,
     "status": "ok",
     "timestamp": 1639927441330,
     "user": {
      "displayName": "lisa richter",
      "photoUrl": "https://lh3.googleusercontent.com/a/default-user=s64",
      "userId": "08999729000846221512"
     },
     "user_tz": -60
    },
    "id": "uo_4GfYUWf6y",
    "papermill": {
     "duration": 0.016547,
     "end_time": "2022-08-29T01:13:26.755180",
     "exception": false,
     "start_time": "2022-08-29T01:13:26.738633",
     "status": "completed"
    },
    "tags": []
   },
   "outputs": [],
   "source": [
    "# define evaluation function:\n",
    "def eval_model(model, data_loader, device, n_examples):\n",
    "    model = model.eval()\n",
    "    losses = []\n",
    "    acc = 0\n",
    "    counter = 0\n",
    "    \n",
    "    with torch.no_grad():\n",
    "        for d in data_loader:\n",
    "            input_ids = d[\"input_ids\"].reshape(8,512).to(device)\n",
    "            attention_mask = d[\"attention_mask\"].to(device)\n",
    "            targets = d[\"targets\"].to(device)\n",
    "            \n",
    "            outputs = model(input_ids=input_ids, token_type_ids=None, attention_mask=attention_mask, labels = targets)\n",
    "            loss = outputs[0]\n",
    "            logits = outputs[1]\n",
    "            \n",
    "            _, prediction = torch.max(outputs[1], dim=1)\n",
    "            targets = targets.cpu().detach().numpy()\n",
    "            prediction = prediction.cpu().detach().numpy()\n",
    "            accuracy = metrics.accuracy_score(targets, prediction)\n",
    "            \n",
    "            acc += accuracy\n",
    "            losses.append(loss.item())\n",
    "            counter += 1\n",
    "            \n",
    "    return acc / counter, np.mean(losses)"
   ]
  },
  {
   "cell_type": "code",
   "execution_count": 11,
   "id": "03eb5467",
   "metadata": {
    "execution": {
     "iopub.execute_input": "2022-08-29T01:13:26.766252Z",
     "iopub.status.busy": "2022-08-29T01:13:26.765496Z",
     "iopub.status.idle": "2022-08-29T01:14:00.792358Z",
     "shell.execute_reply": "2022-08-29T01:14:00.791362Z"
    },
    "id": "BhgjuEUpW4X0",
    "papermill": {
     "duration": 34.039769,
     "end_time": "2022-08-29T01:14:00.799665",
     "exception": false,
     "start_time": "2022-08-29T01:13:26.759896",
     "status": "completed"
    },
    "tags": []
   },
   "outputs": [
    {
     "data": {
      "application/vnd.jupyter.widget-view+json": {
       "model_id": "3cd2e08d399049b5977bfbd2c8cae588",
       "version_major": 2,
       "version_minor": 0
      },
      "text/plain": [
       "Downloading:   0%|          | 0.00/779k [00:00<?, ?B/s]"
      ]
     },
     "metadata": {},
     "output_type": "display_data"
    },
    {
     "data": {
      "application/vnd.jupyter.widget-view+json": {
       "model_id": "1e7cac80bf5f4808953b0c5f22b31d0f",
       "version_major": 2,
       "version_minor": 0
      },
      "text/plain": [
       "Downloading:   0%|          | 0.00/760 [00:00<?, ?B/s]"
      ]
     },
     "metadata": {},
     "output_type": "display_data"
    },
    {
     "data": {
      "application/vnd.jupyter.widget-view+json": {
       "model_id": "f973a8a9f1bd49fca801a50ee0552123",
       "version_major": 2,
       "version_minor": 0
      },
      "text/plain": [
       "Downloading:   0%|          | 0.00/445M [00:00<?, ?B/s]"
      ]
     },
     "metadata": {},
     "output_type": "display_data"
    },
    {
     "name": "stderr",
     "output_type": "stream",
     "text": [
      "Some weights of the model checkpoint at xlnet-base-cased were not used when initializing XLNetForSequenceClassification: ['lm_loss.weight', 'lm_loss.bias']\n",
      "- This IS expected if you are initializing XLNetForSequenceClassification from the checkpoint of a model trained on another task or with another architecture (e.g. initializing a BertForSequenceClassification model from a BertForPreTraining model).\n",
      "- This IS NOT expected if you are initializing XLNetForSequenceClassification from the checkpoint of a model that you expect to be exactly identical (initializing a BertForSequenceClassification model from a BertForSequenceClassification model).\n",
      "Some weights of XLNetForSequenceClassification were not initialized from the model checkpoint at xlnet-base-cased and are newly initialized: ['sequence_summary.summary.bias', 'logits_proj.weight', 'sequence_summary.summary.weight', 'logits_proj.bias']\n",
      "You should probably TRAIN this model on a down-stream task to be able to use it for predictions and inference.\n"
     ]
    },
    {
     "data": {
      "text/plain": [
       "<All keys matched successfully>"
      ]
     },
     "execution_count": 11,
     "metadata": {},
     "output_type": "execute_result"
    }
   ],
   "source": [
    "from transformers import XLNetForSequenceClassification, XLNetTokenizer\n",
    "tokenizer = XLNetTokenizer.from_pretrained('xlnet-base-cased')\n",
    "model = XLNetForSequenceClassification.from_pretrained('xlnet-base-cased', num_labels = 2)\n",
    "# read model saved in previous step:\n",
    "# when connected to GPU:\n",
    "\n",
    "model.load_state_dict(torch.load('../input/hate-classification-model/xlnet_model_hate.bin'))\n",
    "\n",
    "# when not connected to GPU (hence no cuda):\n",
    "#model.load_state_dict(torch.load('/content/drive/MyDrive/Colab Notebooks/models/xlnet_model_hate.bin', map_location=torch.device('cpu')))"
   ]
  },
  {
   "cell_type": "code",
   "execution_count": 12,
   "id": "99e1a9ab",
   "metadata": {
    "execution": {
     "iopub.execute_input": "2022-08-29T01:14:00.812450Z",
     "iopub.status.busy": "2022-08-29T01:14:00.811373Z",
     "iopub.status.idle": "2022-08-29T01:14:00.935917Z",
     "shell.execute_reply": "2022-08-29T01:14:00.935055Z"
    },
    "id": "M5m549A4XkCq",
    "papermill": {
     "duration": 0.133424,
     "end_time": "2022-08-29T01:14:00.938314",
     "exception": false,
     "start_time": "2022-08-29T01:14:00.804890",
     "status": "completed"
    },
    "tags": []
   },
   "outputs": [],
   "source": [
    "model = model.to(device)"
   ]
  },
  {
   "cell_type": "code",
   "execution_count": 13,
   "id": "b05cb04b",
   "metadata": {
    "execution": {
     "iopub.execute_input": "2022-08-29T01:14:00.950184Z",
     "iopub.status.busy": "2022-08-29T01:14:00.949887Z",
     "iopub.status.idle": "2022-08-29T01:14:00.954561Z",
     "shell.execute_reply": "2022-08-29T01:14:00.953619Z"
    },
    "papermill": {
     "duration": 0.012875,
     "end_time": "2022-08-29T01:14:00.956546",
     "exception": false,
     "start_time": "2022-08-29T01:14:00.943671",
     "status": "completed"
    },
    "tags": []
   },
   "outputs": [],
   "source": [
    "test_data_loader = create_data_loader(df_testing, tokenizer, 512, 8)"
   ]
  },
  {
   "cell_type": "code",
   "execution_count": 14,
   "id": "73db9e96",
   "metadata": {
    "execution": {
     "iopub.execute_input": "2022-08-29T01:14:00.968028Z",
     "iopub.status.busy": "2022-08-29T01:14:00.967761Z",
     "iopub.status.idle": "2022-08-29T01:14:00.974812Z",
     "shell.execute_reply": "2022-08-29T01:14:00.973887Z"
    },
    "id": "k2LEhO6BXk9O",
    "papermill": {
     "duration": 0.015105,
     "end_time": "2022-08-29T01:14:00.976863",
     "exception": false,
     "start_time": "2022-08-29T01:14:00.961758",
     "status": "completed"
    },
    "tags": []
   },
   "outputs": [
    {
     "data": {
      "text/plain": [
       "\"\\ntest_acc, test_loss = eval_model(model,\\n                                 test_data_loader,\\n                                 device,\\n                                 len(df_testing))\\n\\nprint('Test Accuracy :', test_acc)\\nprint('Test Loss :', test_loss)\""
      ]
     },
     "execution_count": 14,
     "metadata": {},
     "output_type": "execute_result"
    }
   ],
   "source": [
    "# call evaluation function and apply to test set\n",
    "'''\n",
    "test_acc, test_loss = eval_model(model,\n",
    "                                 test_data_loader,\n",
    "                                 device,\n",
    "                                 len(df_testing))\n",
    "\n",
    "print('Test Accuracy :', test_acc)\n",
    "print('Test Loss :', test_loss)'''"
   ]
  },
  {
   "cell_type": "code",
   "execution_count": 15,
   "id": "a406d490",
   "metadata": {
    "execution": {
     "iopub.execute_input": "2022-08-29T01:14:00.988623Z",
     "iopub.status.busy": "2022-08-29T01:14:00.988103Z",
     "iopub.status.idle": "2022-08-29T01:14:00.998138Z",
     "shell.execute_reply": "2022-08-29T01:14:00.997325Z"
    },
    "id": "gfagcMqXXySQ",
    "papermill": {
     "duration": 0.018099,
     "end_time": "2022-08-29T01:14:01.000136",
     "exception": false,
     "start_time": "2022-08-29T01:14:00.982037",
     "status": "completed"
    },
    "tags": []
   },
   "outputs": [],
   "source": [
    "# define function to get prediction of data\n",
    "def get_predictions(model, data_loader):\n",
    "    model = model.eval()\n",
    "    \n",
    "    review_texts = []\n",
    "    predictions = []\n",
    "    prediction_probs = []\n",
    "    real_values = []\n",
    "    \n",
    "    with torch.no_grad():\n",
    "        for d in data_loader:\n",
    "            texts = d[\"review_text\"]\n",
    "            input_ids = d[\"input_ids\"].reshape(8,512).to(device)\n",
    "            attention_mask = d[\"attention_mask\"].to(device)\n",
    "            targets = d[\"targets\"].to(device)\n",
    "            \n",
    "            outputs = model(input_ids=input_ids,\n",
    "                            token_type_ids=None,\n",
    "                            attention_mask=attention_mask,#\n",
    "                            labels=targets)\n",
    "            \n",
    "            loss = outputs[0]\n",
    "            logits = outputs[1]\n",
    "            \n",
    "            _, preds = torch.max(outputs[1], dim=1)\n",
    "            probs = F.softmax(outputs[1], dim=1)\n",
    "            review_texts.extend(texts)\n",
    "            threshold = 0.99\n",
    "            pred_thresh = []\n",
    "            for i in probs:\n",
    "                hatespeech_prob = i[1]\n",
    "                if hatespeech_prob < threshold:\n",
    "                    pred_thresh.append(0)\n",
    "                elif hatespeech_prob >= threshold:\n",
    "                    pred_thresh.append(1)\n",
    "            predictions.extend(torch.tensor(pred_thresh))\n",
    "            prediction_probs.extend(probs)\n",
    "            real_values.extend(targets)\n",
    "            \n",
    "    predictions = torch.stack(predictions).cpu()\n",
    "    prediction_probs = torch.stack(prediction_probs).cpu()\n",
    "    real_values = torch.stack(real_values).cpu()\n",
    "    \n",
    "    return review_texts, predictions, prediction_probs, real_values"
   ]
  },
  {
   "cell_type": "code",
   "execution_count": 16,
   "id": "b4c2f2a7",
   "metadata": {
    "execution": {
     "iopub.execute_input": "2022-08-29T01:14:01.012633Z",
     "iopub.status.busy": "2022-08-29T01:14:01.011819Z",
     "iopub.status.idle": "2022-08-29T01:27:25.554730Z",
     "shell.execute_reply": "2022-08-29T01:27:25.553610Z"
    },
    "id": "QF0BEx6wYd9B",
    "papermill": {
     "duration": 804.552018,
     "end_time": "2022-08-29T01:27:25.557570",
     "exception": false,
     "start_time": "2022-08-29T01:14:01.005552",
     "status": "completed"
    },
    "tags": []
   },
   "outputs": [],
   "source": [
    "# call prediction function to get actual predictions of test set \n",
    "y_review_texts, y_pred, y_pred_probs, y_test = get_predictions(model, test_data_loader)"
   ]
  },
  {
   "cell_type": "code",
   "execution_count": 17,
   "id": "d4359592",
   "metadata": {
    "execution": {
     "iopub.execute_input": "2022-08-29T01:27:25.572587Z",
     "iopub.status.busy": "2022-08-29T01:27:25.570870Z",
     "iopub.status.idle": "2022-08-29T01:27:25.650931Z",
     "shell.execute_reply": "2022-08-29T01:27:25.649514Z"
    },
    "id": "bvVa7l2DYm3L",
    "papermill": {
     "duration": 0.089436,
     "end_time": "2022-08-29T01:27:25.653658",
     "exception": false,
     "start_time": "2022-08-29T01:27:25.564222",
     "status": "completed"
    },
    "tags": []
   },
   "outputs": [
    {
     "name": "stdout",
     "output_type": "stream",
     "text": [
      "              precision    recall  f1-score   support\n",
      "\n",
      "     no hate       0.51      0.63      0.56      7778\n",
      "        hate       0.72      0.62      0.67     12222\n",
      "\n",
      "    accuracy                           0.62     20000\n",
      "   macro avg       0.62      0.62      0.62     20000\n",
      "weighted avg       0.64      0.62      0.63     20000\n",
      "\n"
     ]
    }
   ],
   "source": [
    "class_names = ['no hate', 'hate']\n",
    "print(classification_report(y_test, y_pred, target_names=class_names))\n",
    "report = classification_report(y_test, y_pred, target_names=class_names,output_dict=True)\n",
    "report = pd.DataFrame(report).transpose()\n",
    "report.to_csv('report_hate.csv')"
   ]
  },
  {
   "cell_type": "code",
   "execution_count": 18,
   "id": "545bf149",
   "metadata": {
    "execution": {
     "iopub.execute_input": "2022-08-29T01:27:25.666603Z",
     "iopub.status.busy": "2022-08-29T01:27:25.666328Z",
     "iopub.status.idle": "2022-08-29T01:27:25.953977Z",
     "shell.execute_reply": "2022-08-29T01:27:25.953110Z"
    },
    "papermill": {
     "duration": 0.296374,
     "end_time": "2022-08-29T01:27:25.956059",
     "exception": false,
     "start_time": "2022-08-29T01:27:25.659685",
     "status": "completed"
    },
    "tags": []
   },
   "outputs": [
    {
     "name": "stderr",
     "output_type": "stream",
     "text": [
      "/opt/conda/lib/python3.7/site-packages/ipykernel_launcher.py:2: FutureWarning: Support for multi-dimensional indexing (e.g. `obj[:, None]`) is deprecated and will be removed in a future version.  Convert to a numpy array before indexing instead.\n",
      "  \n"
     ]
    },
    {
     "data": {
      "image/png": "[encoded data removed]",
      "text/plain": [
       "<Figure size 432x288 with 2 Axes>"
      ]
     },
     "metadata": {
      "needs_background": "light"
     },
     "output_type": "display_data"
    }
   ],
   "source": [
    "def show_confusion_matrix(confusion_matrix):\n",
    "    hmap = sns.heatmap(confusion_matrix/ confusion_matrix.sum(axis=1)[:, np.newaxis], annot=True, fmt='.2%', cmap=\"Blues\")\n",
    "    hmap.yaxis.set_ticklabels(hmap.yaxis.get_ticklabels(), rotation=0, ha='right')\n",
    "    hmap.xaxis.set_ticklabels(hmap.xaxis.get_ticklabels(), rotation=30, ha='right')\n",
    "\n",
    "    plt.ylabel('True Hate')\n",
    "    plt.xlabel('Predicted Hate')\n",
    "    plt.savefig('confusion_hate');\n",
    "    \n",
    "\n",
    "cm = confusion_matrix(y_test, y_pred)\n",
    "df_cm = pd.DataFrame(cm, index=class_names, columns=class_names)\n",
    "df_cm.to_csv('cm_hate.csv')\n",
    "\n",
    "show_confusion_matrix(df_cm)"
   ]
  }
 ],
 "metadata": {
  "kernelspec": {
   "display_name": "Python 3",
   "language": "python",
   "name": "python3"
  },
  "language_info": {
   "codemirror_mode": {
    "name": "ipython",
    "version": 3
   },
   "file_extension": ".py",
   "mimetype": "text/x-python",
   "name": "python",
   "nbconvert_exporter": "python",
   "pygments_lexer": "ipython3",
   "version": "3.7.12"
  },
  "papermill": {
   "default_parameters": {},
   "duration": 861.603963,
   "end_time": "2022-08-29T01:27:29.396517",
   "environment_variables": {},
   "exception": null,
   "input_path": "__notebook__.ipynb",
   "output_path": "__notebook__.ipynb",
   "parameters": {},
   "start_time": "2022-08-29T01:13:07.792554",
   "version": "2.3.4"
  },
  "widgets": {
   "application/vnd.jupyter.widget-state+json": {
    "state": {
     "023d151f9da248a583fcdafcf7557701": {
      "model_module": "@jupyter-widgets/base",
      "model_module_version": "1.2.0",
      "model_name": "LayoutModel",
      "state": {
       "_model_module": "@jupyter-widgets/base",
       "_model_module_version": "1.2.0",
       "_model_name": "LayoutModel",
       "_view_count": null,
       "_view_module": "@jupyter-widgets/base",
       "_view_module_version": "1.2.0",
       "_view_name": "LayoutView",
       "align_content": null,
       "align_items": null,
       "align_self": null,
       "border": null,
       "bottom": null,
       "display": null,
       "flex": null,
       "flex_flow": null,
       "grid_area": null,
       "grid_auto_columns": null,
       "grid_auto_flow": null,
       "grid_auto_rows": null,
       "grid_column": null,
       "grid_gap": null,
       "grid_row": null,
       "grid_template_areas": null,
       "grid_template_columns": null,
       "grid_template_rows": null,
       "height": null,
       "justify_content": null,
       "justify_items": null,
       "left": null,
       "margin": null,
       "max_height": null,
       "max_width": null,
       "min_height": null,
       "min_width": null,
       "object_fit": null,
       "object_position": null,
       "order": null,
       "overflow": null,
       "overflow_x": null,
       "overflow_y": null,
       "padding": null,
       "right": null,
       "top": null,
       "visibility": null,
       "width": null
      }
     },
     "0783967a10f9466bbb9369661a4215fd": {
      "model_module": "@jupyter-widgets/base",
      "model_module_version": "1.2.0",
      "model_name": "LayoutModel",
      "state": {
       "_model_module": "@jupyter-widgets/base",
       "_model_module_version": "1.2.0",
       "_model_name": "LayoutModel",
       "_view_count": null,
       "_view_module": "@jupyter-widgets/base",
       "_view_module_version": "1.2.0",
       "_view_name": "LayoutView",
       "align_content": null,
       "align_items": null,
       "align_self": null,
       "border": null,
       "bottom": null,
       "display": null,
       "flex": null,
       "flex_flow": null,
       "grid_area": null,
       "grid_auto_columns": null,
       "grid_auto_flow": null,
       "grid_auto_rows": null,
       "grid_column": null,
       "grid_gap": null,
       "grid_row": null,
       "grid_template_areas": null,
       "grid_template_columns": null,
       "grid_template_rows": null,
       "height": null,
       "justify_content": null,
       "justify_items": null,
       "left": null,
       "margin": null,
       "max_height": null,
       "max_width": null,
       "min_height": null,
       "min_width": null,
       "object_fit": null,
       "object_position": null,
       "order": null,
       "overflow": null,
       "overflow_x": null,
       "overflow_y": null,
       "padding": null,
       "right": null,
       "top": null,
       "visibility": null,
       "width": null
      }
     },
     "081e9c51ae1e46f0b790e1b466d3bbfd": {
      "model_module": "@jupyter-widgets/controls",
      "model_module_version": "1.5.0",
      "model_name": "FloatProgressModel",
      "state": {
       "_dom_classes": [],
       "_model_module": "@jupyter-widgets/controls",
       "_model_module_version": "1.5.0",
       "_model_name": "FloatProgressModel",
       "_view_count": null,
       "_view_module": "@jupyter-widgets/controls",
       "_view_module_version": "1.5.0",
       "_view_name": "ProgressView",
       "bar_style": "success",
       "description": "",
       "description_tooltip": null,
       "layout": "IPY_MODEL_7c80bddc17a54679badea0d6d7884bc2",
       "max": 760.0,
       "min": 0.0,
       "orientation": "horizontal",
       "style": "IPY_MODEL_81834f860f434940923a9117629d5fe4",
       "value": 760.0
      }
     },
     "12b02cf8277a44019c1c4643f0d131b6": {
      "model_module": "@jupyter-widgets/controls",
      "model_module_version": "1.5.0",
      "model_name": "DescriptionStyleModel",
      "state": {
       "_model_module": "@jupyter-widgets/controls",
       "_model_module_version": "1.5.0",
       "_model_name": "DescriptionStyleModel",
       "_view_count": null,
       "_view_module": "@jupyter-widgets/base",
       "_view_module_version": "1.2.0",
       "_view_name": "StyleView",
       "description_width": ""
      }
     },
     "1e7cac80bf5f4808953b0c5f22b31d0f": {
      "model_module": "@jupyter-widgets/controls",
      "model_module_version": "1.5.0",
      "model_name": "HBoxModel",
      "state": {
       "_dom_classes": [],
       "_model_module": "@jupyter-widgets/controls",
       "_model_module_version": "1.5.0",
       "_model_name": "HBoxModel",
       "_view_count": null,
       "_view_module": "@jupyter-widgets/controls",
       "_view_module_version": "1.5.0",
       "_view_name": "HBoxView",
       "box_style": "",
       "children": [
        "IPY_MODEL_dac536ee52184bd19fa46b25cd390d3a",
        "IPY_MODEL_081e9c51ae1e46f0b790e1b466d3bbfd",
        "IPY_MODEL_bbe55d176b4d4b90b67ed4d28031f811"
       ],
       "layout": "IPY_MODEL_aa495f3e35e44a7a9195399083b7ac8b"
      }
     },
     "28c9cba6c6854252af7476399f17518a": {
      "model_module": "@jupyter-widgets/controls",
      "model_module_version": "1.5.0",
      "model_name": "DescriptionStyleModel",
      "state": {
       "_model_module": "@jupyter-widgets/controls",
       "_model_module_version": "1.5.0",
       "_model_name": "DescriptionStyleModel",
       "_view_count": null,
       "_view_module": "@jupyter-widgets/base",
       "_view_module_version": "1.2.0",
       "_view_name": "StyleView",
       "description_width": ""
      }
     },
     "3318c40aba774b3da460383a5f6dc7b6": {
      "model_module": "@jupyter-widgets/controls",
      "model_module_version": "1.5.0",
      "model_name": "HTMLModel",
      "state": {
       "_dom_classes": [],
       "_model_module": "@jupyter-widgets/controls",
       "_model_module_version": "1.5.0",
       "_model_name": "HTMLModel",
       "_view_count": null,
       "_view_module": "@jupyter-widgets/controls",
       "_view_module_version": "1.5.0",
       "_view_name": "HTMLView",
       "description": "",
       "description_tooltip": null,
       "layout": "IPY_MODEL_0783967a10f9466bbb9369661a4215fd",
       "placeholder": "​",
       "style": "IPY_MODEL_cf83712a73d0449da069af29105695db",
       "value": "Downloading: 100%"
      }
     },
     "3cd2e08d399049b5977bfbd2c8cae588": {
      "model_module": "@jupyter-widgets/controls",
      "model_module_version": "1.5.0",
      "model_name": "HBoxModel",
      "state": {
       "_dom_classes": [],
       "_model_module": "@jupyter-widgets/controls",
       "_model_module_version": "1.5.0",
       "_model_name": "HBoxModel",
       "_view_count": null,
       "_view_module": "@jupyter-widgets/controls",
       "_view_module_version": "1.5.0",
       "_view_name": "HBoxView",
       "box_style": "",
       "children": [
        "IPY_MODEL_3318c40aba774b3da460383a5f6dc7b6",
        "IPY_MODEL_9e66054392684fe7aa6ebdac8db84ac9",
        "IPY_MODEL_f057d72aa5af455981990ff7254218f6"
       ],
       "layout": "IPY_MODEL_6d021c94fae4438795742855bd2eb6fb"
      }
     },
     "3f47b4e8d0be4321894fdff2088ce9cd": {
      "model_module": "@jupyter-widgets/controls",
      "model_module_version": "1.5.0",
      "model_name": "ProgressStyleModel",
      "state": {
       "_model_module": "@jupyter-widgets/controls",
       "_model_module_version": "1.5.0",
       "_model_name": "ProgressStyleModel",
       "_view_count": null,
       "_view_module": "@jupyter-widgets/base",
       "_view_module_version": "1.2.0",
       "_view_name": "StyleView",
       "bar_color": null,
       "description_width": ""
      }
     },
     "5c22de63aa72483aa24ce6cd6fcda99d": {
      "model_module": "@jupyter-widgets/base",
      "model_module_version": "1.2.0",
      "model_name": "LayoutModel",
      "state": {
       "_model_module": "@jupyter-widgets/base",
       "_model_module_version": "1.2.0",
       "_model_name": "LayoutModel",
       "_view_count": null,
       "_view_module": "@jupyter-widgets/base",
       "_view_module_version": "1.2.0",
       "_view_name": "LayoutView",
       "align_content": null,
       "align_items": null,
       "align_self": null,
       "border": null,
       "bottom": null,
       "display": null,
       "flex": null,
       "flex_flow": null,
       "grid_area": null,
       "grid_auto_columns": null,
       "grid_auto_flow": null,
       "grid_auto_rows": null,
       "grid_column": null,
       "grid_gap": null,
       "grid_row": null,
       "grid_template_areas": null,
       "grid_template_columns": null,
       "grid_template_rows": null,
       "height": null,
       "justify_content": null,
       "justify_items": null,
       "left": null,
       "margin": null,
       "max_height": null,
       "max_width": null,
       "min_height": null,
       "min_width": null,
       "object_fit": null,
       "object_position": null,
       "order": null,
       "overflow": null,
       "overflow_x": null,
       "overflow_y": null,
       "padding": null,
       "right": null,
       "top": null,
       "visibility": null,
       "width": null
      }
     },
     "69c98a44b5c74b9d87197394b2d076db": {
      "model_module": "@jupyter-widgets/controls",
      "model_module_version": "1.5.0",
      "model_name": "FloatProgressModel",
      "state": {
       "_dom_classes": [],
       "_model_module": "@jupyter-widgets/controls",
       "_model_module_version": "1.5.0",
       "_model_name": "FloatProgressModel",
       "_view_count": null,
       "_view_module": "@jupyter-widgets/controls",
       "_view_module_version": "1.5.0",
       "_view_name": "ProgressView",
       "bar_style": "success",
       "description": "",
       "description_tooltip": null,
       "layout": "IPY_MODEL_cab5dc6676a249d0ae7f30a26254c4ac",
       "max": 467042463.0,
       "min": 0.0,
       "orientation": "horizontal",
       "style": "IPY_MODEL_c35b409f81a8411e9b1f7359cc25b8c2",
       "value": 467042463.0
      }
     },
     "6d021c94fae4438795742855bd2eb6fb": {
      "model_module": "@jupyter-widgets/base",
      "model_module_version": "1.2.0",
      "model_name": "LayoutModel",
      "state": {
       "_model_module": "@jupyter-widgets/base",
       "_model_module_version": "1.2.0",
       "_model_name": "LayoutModel",
       "_view_count": null,
       "_view_module": "@jupyter-widgets/base",
       "_view_module_version": "1.2.0",
       "_view_name": "LayoutView",
       "align_content": null,
       "align_items": null,
       "align_self": null,
       "border": null,
       "bottom": null,
       "display": null,
       "flex": null,
       "flex_flow": null,
       "grid_area": null,
       "grid_auto_columns": null,
       "grid_auto_flow": null,
       "grid_auto_rows": null,
       "grid_column": null,
       "grid_gap": null,
       "grid_row": null,
       "grid_template_areas": null,
       "grid_template_columns": null,
       "grid_template_rows": null,
       "height": null,
       "justify_content": null,
       "justify_items": null,
       "left": null,
       "margin": null,
       "max_height": null,
       "max_width": null,
       "min_height": null,
       "min_width": null,
       "object_fit": null,
       "object_position": null,
       "order": null,
       "overflow": null,
       "overflow_x": null,
       "overflow_y": null,
       "padding": null,
       "right": null,
       "top": null,
       "visibility": null,
       "width": null
      }
     },
     "7ac93ddf6f1e42fcb40c93affde70a5c": {
      "model_module": "@jupyter-widgets/controls",
      "model_module_version": "1.5.0",
      "model_name": "DescriptionStyleModel",
      "state": {
       "_model_module": "@jupyter-widgets/controls",
       "_model_module_version": "1.5.0",
       "_model_name": "DescriptionStyleModel",
       "_view_count": null,
       "_view_module": "@jupyter-widgets/base",
       "_view_module_version": "1.2.0",
       "_view_name": "StyleView",
       "description_width": ""
      }
     },
     "7c80bddc17a54679badea0d6d7884bc2": {
      "model_module": "@jupyter-widgets/base",
      "model_module_version": "1.2.0",
      "model_name": "LayoutModel",
      "state": {
       "_model_module": "@jupyter-widgets/base",
       "_model_module_version": "1.2.0",
       "_model_name": "LayoutModel",
       "_view_count": null,
       "_view_module": "@jupyter-widgets/base",
       "_view_module_version": "1.2.0",
       "_view_name": "LayoutView",
       "align_content": null,
       "align_items": null,
       "align_self": null,
       "border": null,
       "bottom": null,
       "display": null,
       "flex": null,
       "flex_flow": null,
       "grid_area": null,
       "grid_auto_columns": null,
       "grid_auto_flow": null,
       "grid_auto_rows": null,
       "grid_column": null,
       "grid_gap": null,
       "grid_row": null,
       "grid_template_areas": null,
       "grid_template_columns": null,
       "grid_template_rows": null,
       "height": null,
       "justify_content": null,
       "justify_items": null,
       "left": null,
       "margin": null,
       "max_height": null,
       "max_width": null,
       "min_height": null,
       "min_width": null,
       "object_fit": null,
       "object_position": null,
       "order": null,
       "overflow": null,
       "overflow_x": null,
       "overflow_y": null,
       "padding": null,
       "right": null,
       "top": null,
       "visibility": null,
       "width": null
      }
     },
     "81834f860f434940923a9117629d5fe4": {
      "model_module": "@jupyter-widgets/controls",
      "model_module_version": "1.5.0",
      "model_name": "ProgressStyleModel",
      "state": {
       "_model_module": "@jupyter-widgets/controls",
       "_model_module_version": "1.5.0",
       "_model_name": "ProgressStyleModel",
       "_view_count": null,
       "_view_module": "@jupyter-widgets/base",
       "_view_module_version": "1.2.0",
       "_view_name": "StyleView",
       "bar_color": null,
       "description_width": ""
      }
     },
     "889a393e690a4fccaeb088e1cc9a0dc4": {
      "model_module": "@jupyter-widgets/controls",
      "model_module_version": "1.5.0",
      "model_name": "DescriptionStyleModel",
      "state": {
       "_model_module": "@jupyter-widgets/controls",
       "_model_module_version": "1.5.0",
       "_model_name": "DescriptionStyleModel",
       "_view_count": null,
       "_view_module": "@jupyter-widgets/base",
       "_view_module_version": "1.2.0",
       "_view_name": "StyleView",
       "description_width": ""
      }
     },
     "88fe43c24b8c4ba6bc2780ebba1bd67a": {
      "model_module": "@jupyter-widgets/controls",
      "model_module_version": "1.5.0",
      "model_name": "HTMLModel",
      "state": {
       "_dom_classes": [],
       "_model_module": "@jupyter-widgets/controls",
       "_model_module_version": "1.5.0",
       "_model_name": "HTMLModel",
       "_view_count": null,
       "_view_module": "@jupyter-widgets/controls",
       "_view_module_version": "1.5.0",
       "_view_name": "HTMLView",
       "description": "",
       "description_tooltip": null,
       "layout": "IPY_MODEL_023d151f9da248a583fcdafcf7557701",
       "placeholder": "​",
       "style": "IPY_MODEL_12b02cf8277a44019c1c4643f0d131b6",
       "value": " 445M/445M [00:19&lt;00:00, 25.5MB/s]"
      }
     },
     "8e3903f58e264500a10e3778036204ca": {
      "model_module": "@jupyter-widgets/controls",
      "model_module_version": "1.5.0",
      "model_name": "DescriptionStyleModel",
      "state": {
       "_model_module": "@jupyter-widgets/controls",
       "_model_module_version": "1.5.0",
       "_model_name": "DescriptionStyleModel",
       "_view_count": null,
       "_view_module": "@jupyter-widgets/base",
       "_view_module_version": "1.2.0",
       "_view_name": "StyleView",
       "description_width": ""
      }
     },
     "9985000b34f3441080244ebc10210475": {
      "model_module": "@jupyter-widgets/base",
      "model_module_version": "1.2.0",
      "model_name": "LayoutModel",
      "state": {
       "_model_module": "@jupyter-widgets/base",
       "_model_module_version": "1.2.0",
       "_model_name": "LayoutModel",
       "_view_count": null,
       "_view_module": "@jupyter-widgets/base",
       "_view_module_version": "1.2.0",
       "_view_name": "LayoutView",
       "align_content": null,
       "align_items": null,
       "align_self": null,
       "border": null,
       "bottom": null,
       "display": null,
       "flex": null,
       "flex_flow": null,
       "grid_area": null,
       "grid_auto_columns": null,
       "grid_auto_flow": null,
       "grid_auto_rows": null,
       "grid_column": null,
       "grid_gap": null,
       "grid_row": null,
       "grid_template_areas": null,
       "grid_template_columns": null,
       "grid_template_rows": null,
       "height": null,
       "justify_content": null,
       "justify_items": null,
       "left": null,
       "margin": null,
       "max_height": null,
       "max_width": null,
       "min_height": null,
       "min_width": null,
       "object_fit": null,
       "object_position": null,
       "order": null,
       "overflow": null,
       "overflow_x": null,
       "overflow_y": null,
       "padding": null,
       "right": null,
       "top": null,
       "visibility": null,
       "width": null
      }
     },
     "9e66054392684fe7aa6ebdac8db84ac9": {
      "model_module": "@jupyter-widgets/controls",
      "model_module_version": "1.5.0",
      "model_name": "FloatProgressModel",
      "state": {
       "_dom_classes": [],
       "_model_module": "@jupyter-widgets/controls",
       "_model_module_version": "1.5.0",
       "_model_name": "FloatProgressModel",
       "_view_count": null,
       "_view_module": "@jupyter-widgets/controls",
       "_view_module_version": "1.5.0",
       "_view_name": "ProgressView",
       "bar_style": "success",
       "description": "",
       "description_tooltip": null,
       "layout": "IPY_MODEL_e4bf8ba9c1a84a628d2fe49cab3e14fb",
       "max": 798011.0,
       "min": 0.0,
       "orientation": "horizontal",
       "style": "IPY_MODEL_3f47b4e8d0be4321894fdff2088ce9cd",
       "value": 798011.0
      }
     },
     "a31e384725ce4eae9159a29cbc231417": {
      "model_module": "@jupyter-widgets/base",
      "model_module_version": "1.2.0",
      "model_name": "LayoutModel",
      "state": {
       "_model_module": "@jupyter-widgets/base",
       "_model_module_version": "1.2.0",
       "_model_name": "LayoutModel",
       "_view_count": null,
       "_view_module": "@jupyter-widgets/base",
       "_view_module_version": "1.2.0",
       "_view_name": "LayoutView",
       "align_content": null,
       "align_items": null,
       "align_self": null,
       "border": null,
       "bottom": null,
       "display": null,
       "flex": null,
       "flex_flow": null,
       "grid_area": null,
       "grid_auto_columns": null,
       "grid_auto_flow": null,
       "grid_auto_rows": null,
       "grid_column": null,
       "grid_gap": null,
       "grid_row": null,
       "grid_template_areas": null,
       "grid_template_columns": null,
       "grid_template_rows": null,
       "height": null,
       "justify_content": null,
       "justify_items": null,
       "left": null,
       "margin": null,
       "max_height": null,
       "max_width": null,
       "min_height": null,
       "min_width": null,
       "object_fit": null,
       "object_position": null,
       "order": null,
       "overflow": null,
       "overflow_x": null,
       "overflow_y": null,
       "padding": null,
       "right": null,
       "top": null,
       "visibility": null,
       "width": null
      }
     },
     "aa495f3e35e44a7a9195399083b7ac8b": {
      "model_module": "@jupyter-widgets/base",
      "model_module_version": "1.2.0",
      "model_name": "LayoutModel",
      "state": {
       "_model_module": "@jupyter-widgets/base",
       "_model_module_version": "1.2.0",
       "_model_name": "LayoutModel",
       "_view_count": null,
       "_view_module": "@jupyter-widgets/base",
       "_view_module_version": "1.2.0",
       "_view_name": "LayoutView",
       "align_content": null,
       "align_items": null,
       "align_self": null,
       "border": null,
       "bottom": null,
       "display": null,
       "flex": null,
       "flex_flow": null,
       "grid_area": null,
       "grid_auto_columns": null,
       "grid_auto_flow": null,
       "grid_auto_rows": null,
       "grid_column": null,
       "grid_gap": null,
       "grid_row": null,
       "grid_template_areas": null,
       "grid_template_columns": null,
       "grid_template_rows": null,
       "height": null,
       "justify_content": null,
       "justify_items": null,
       "left": null,
       "margin": null,
       "max_height": null,
       "max_width": null,
       "min_height": null,
       "min_width": null,
       "object_fit": null,
       "object_position": null,
       "order": null,
       "overflow": null,
       "overflow_x": null,
       "overflow_y": null,
       "padding": null,
       "right": null,
       "top": null,
       "visibility": null,
       "width": null
      }
     },
     "bbe55d176b4d4b90b67ed4d28031f811": {
      "model_module": "@jupyter-widgets/controls",
      "model_module_version": "1.5.0",
      "model_name": "HTMLModel",
      "state": {
       "_dom_classes": [],
       "_model_module": "@jupyter-widgets/controls",
       "_model_module_version": "1.5.0",
       "_model_name": "HTMLModel",
       "_view_count": null,
       "_view_module": "@jupyter-widgets/controls",
       "_view_module_version": "1.5.0",
       "_view_name": "HTMLView",
       "description": "",
       "description_tooltip": null,
       "layout": "IPY_MODEL_c781ec88d44840b4ad413ed4ca2a4d2b",
       "placeholder": "​",
       "style": "IPY_MODEL_28c9cba6c6854252af7476399f17518a",
       "value": " 760/760 [00:00&lt;00:00, 29.0kB/s]"
      }
     },
     "c35b409f81a8411e9b1f7359cc25b8c2": {
      "model_module": "@jupyter-widgets/controls",
      "model_module_version": "1.5.0",
      "model_name": "ProgressStyleModel",
      "state": {
       "_model_module": "@jupyter-widgets/controls",
       "_model_module_version": "1.5.0",
       "_model_name": "ProgressStyleModel",
       "_view_count": null,
       "_view_module": "@jupyter-widgets/base",
       "_view_module_version": "1.2.0",
       "_view_name": "StyleView",
       "bar_color": null,
       "description_width": ""
      }
     },
     "c630851a172141c2b6e202195ff0875f": {
      "model_module": "@jupyter-widgets/controls",
      "model_module_version": "1.5.0",
      "model_name": "HTMLModel",
      "state": {
       "_dom_classes": [],
       "_model_module": "@jupyter-widgets/controls",
       "_model_module_version": "1.5.0",
       "_model_name": "HTMLModel",
       "_view_count": null,
       "_view_module": "@jupyter-widgets/controls",
       "_view_module_version": "1.5.0",
       "_view_name": "HTMLView",
       "description": "",
       "description_tooltip": null,
       "layout": "IPY_MODEL_a31e384725ce4eae9159a29cbc231417",
       "placeholder": "​",
       "style": "IPY_MODEL_8e3903f58e264500a10e3778036204ca",
       "value": "Downloading: 100%"
      }
     },
     "c781ec88d44840b4ad413ed4ca2a4d2b": {
      "model_module": "@jupyter-widgets/base",
      "model_module_version": "1.2.0",
      "model_name": "LayoutModel",
      "state": {
       "_model_module": "@jupyter-widgets/base",
       "_model_module_version": "1.2.0",
       "_model_name": "LayoutModel",
       "_view_count": null,
       "_view_module": "@jupyter-widgets/base",
       "_view_module_version": "1.2.0",
       "_view_name": "LayoutView",
       "align_content": null,
       "align_items": null,
       "align_self": null,
       "border": null,
       "bottom": null,
       "display": null,
       "flex": null,
       "flex_flow": null,
       "grid_area": null,
       "grid_auto_columns": null,
       "grid_auto_flow": null,
       "grid_auto_rows": null,
       "grid_column": null,
       "grid_gap": null,
       "grid_row": null,
       "grid_template_areas": null,
       "grid_template_columns": null,
       "grid_template_rows": null,
       "height": null,
       "justify_content": null,
       "justify_items": null,
       "left": null,
       "margin": null,
       "max_height": null,
       "max_width": null,
       "min_height": null,
       "min_width": null,
       "object_fit": null,
       "object_position": null,
       "order": null,
       "overflow": null,
       "overflow_x": null,
       "overflow_y": null,
       "padding": null,
       "right": null,
       "top": null,
       "visibility": null,
       "width": null
      }
     },
     "cab5dc6676a249d0ae7f30a26254c4ac": {
      "model_module": "@jupyter-widgets/base",
      "model_module_version": "1.2.0",
      "model_name": "LayoutModel",
      "state": {
       "_model_module": "@jupyter-widgets/base",
       "_model_module_version": "1.2.0",
       "_model_name": "LayoutModel",
       "_view_count": null,
       "_view_module": "@jupyter-widgets/base",
       "_view_module_version": "1.2.0",
       "_view_name": "LayoutView",
       "align_content": null,
       "align_items": null,
       "align_self": null,
       "border": null,
       "bottom": null,
       "display": null,
       "flex": null,
       "flex_flow": null,
       "grid_area": null,
       "grid_auto_columns": null,
       "grid_auto_flow": null,
       "grid_auto_rows": null,
       "grid_column": null,
       "grid_gap": null,
       "grid_row": null,
       "grid_template_areas": null,
       "grid_template_columns": null,
       "grid_template_rows": null,
       "height": null,
       "justify_content": null,
       "justify_items": null,
       "left": null,
       "margin": null,
       "max_height": null,
       "max_width": null,
       "min_height": null,
       "min_width": null,
       "object_fit": null,
       "object_position": null,
       "order": null,
       "overflow": null,
       "overflow_x": null,
       "overflow_y": null,
       "padding": null,
       "right": null,
       "top": null,
       "visibility": null,
       "width": null
      }
     },
     "cf83712a73d0449da069af29105695db": {
      "model_module": "@jupyter-widgets/controls",
      "model_module_version": "1.5.0",
      "model_name": "DescriptionStyleModel",
      "state": {
       "_model_module": "@jupyter-widgets/controls",
       "_model_module_version": "1.5.0",
       "_model_name": "DescriptionStyleModel",
       "_view_count": null,
       "_view_module": "@jupyter-widgets/base",
       "_view_module_version": "1.2.0",
       "_view_name": "StyleView",
       "description_width": ""
      }
     },
     "d52f4d3df3054c659497c51b60e45db1": {
      "model_module": "@jupyter-widgets/base",
      "model_module_version": "1.2.0",
      "model_name": "LayoutModel",
      "state": {
       "_model_module": "@jupyter-widgets/base",
       "_model_module_version": "1.2.0",
       "_model_name": "LayoutModel",
       "_view_count": null,
       "_view_module": "@jupyter-widgets/base",
       "_view_module_version": "1.2.0",
       "_view_name": "LayoutView",
       "align_content": null,
       "align_items": null,
       "align_self": null,
       "border": null,
       "bottom": null,
       "display": null,
       "flex": null,
       "flex_flow": null,
       "grid_area": null,
       "grid_auto_columns": null,
       "grid_auto_flow": null,
       "grid_auto_rows": null,
       "grid_column": null,
       "grid_gap": null,
       "grid_row": null,
       "grid_template_areas": null,
       "grid_template_columns": null,
       "grid_template_rows": null,
       "height": null,
       "justify_content": null,
       "justify_items": null,
       "left": null,
       "margin": null,
       "max_height": null,
       "max_width": null,
       "min_height": null,
       "min_width": null,
       "object_fit": null,
       "object_position": null,
       "order": null,
       "overflow": null,
       "overflow_x": null,
       "overflow_y": null,
       "padding": null,
       "right": null,
       "top": null,
       "visibility": null,
       "width": null
      }
     },
     "dac536ee52184bd19fa46b25cd390d3a": {
      "model_module": "@jupyter-widgets/controls",
      "model_module_version": "1.5.0",
      "model_name": "HTMLModel",
      "state": {
       "_dom_classes": [],
       "_model_module": "@jupyter-widgets/controls",
       "_model_module_version": "1.5.0",
       "_model_name": "HTMLModel",
       "_view_count": null,
       "_view_module": "@jupyter-widgets/controls",
       "_view_module_version": "1.5.0",
       "_view_name": "HTMLView",
       "description": "",
       "description_tooltip": null,
       "layout": "IPY_MODEL_5c22de63aa72483aa24ce6cd6fcda99d",
       "placeholder": "​",
       "style": "IPY_MODEL_7ac93ddf6f1e42fcb40c93affde70a5c",
       "value": "Downloading: 100%"
      }
     },
     "e4bf8ba9c1a84a628d2fe49cab3e14fb": {
      "model_module": "@jupyter-widgets/base",
      "model_module_version": "1.2.0",
      "model_name": "LayoutModel",
      "state": {
       "_model_module": "@jupyter-widgets/base",
       "_model_module_version": "1.2.0",
       "_model_name": "LayoutModel",
       "_view_count": null,
       "_view_module": "@jupyter-widgets/base",
       "_view_module_version": "1.2.0",
       "_view_name": "LayoutView",
       "align_content": null,
       "align_items": null,
       "align_self": null,
       "border": null,
       "bottom": null,
       "display": null,
       "flex": null,
       "flex_flow": null,
       "grid_area": null,
       "grid_auto_columns": null,
       "grid_auto_flow": null,
       "grid_auto_rows": null,
       "grid_column": null,
       "grid_gap": null,
       "grid_row": null,
       "grid_template_areas": null,
       "grid_template_columns": null,
       "grid_template_rows": null,
       "height": null,
       "justify_content": null,
       "justify_items": null,
       "left": null,
       "margin": null,
       "max_height": null,
       "max_width": null,
       "min_height": null,
       "min_width": null,
       "object_fit": null,
       "object_position": null,
       "order": null,
       "overflow": null,
       "overflow_x": null,
       "overflow_y": null,
       "padding": null,
       "right": null,
       "top": null,
       "visibility": null,
       "width": null
      }
     },
     "f057d72aa5af455981990ff7254218f6": {
      "model_module": "@jupyter-widgets/controls",
      "model_module_version": "1.5.0",
      "model_name": "HTMLModel",
      "state": {
       "_dom_classes": [],
       "_model_module": "@jupyter-widgets/controls",
       "_model_module_version": "1.5.0",
       "_model_name": "HTMLModel",
       "_view_count": null,
       "_view_module": "@jupyter-widgets/controls",
       "_view_module_version": "1.5.0",
       "_view_name": "HTMLView",
       "description": "",
       "description_tooltip": null,
       "layout": "IPY_MODEL_9985000b34f3441080244ebc10210475",
       "placeholder": "​",
       "style": "IPY_MODEL_889a393e690a4fccaeb088e1cc9a0dc4",
       "value": " 779k/779k [00:00&lt;00:00, 981kB/s]"
      }
     },
     "f973a8a9f1bd49fca801a50ee0552123": {
      "model_module": "@jupyter-widgets/controls",
      "model_module_version": "1.5.0",
      "model_name": "HBoxModel",
      "state": {
       "_dom_classes": [],
       "_model_module": "@jupyter-widgets/controls",
       "_model_module_version": "1.5.0",
       "_model_name": "HBoxModel",
       "_view_count": null,
       "_view_module": "@jupyter-widgets/controls",
       "_view_module_version": "1.5.0",
       "_view_name": "HBoxView",
       "box_style": "",
       "children": [
        "IPY_MODEL_c630851a172141c2b6e202195ff0875f",
        "IPY_MODEL_69c98a44b5c74b9d87197394b2d076db",
        "IPY_MODEL_88fe43c24b8c4ba6bc2780ebba1bd67a"
       ],
       "layout": "IPY_MODEL_d52f4d3df3054c659497c51b60e45db1"
      }
     }
    },
    "version_major": 2,
    "version_minor": 0
   }
  }
 },
 "nbformat": 4,
 "nbformat_minor": 5
}
