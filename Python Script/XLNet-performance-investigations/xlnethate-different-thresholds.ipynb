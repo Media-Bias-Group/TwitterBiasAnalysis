{
 "cells": [
  {
   "cell_type": "markdown",
   "id": "6346b200",
   "metadata": {
    "papermill": {
     "duration": 0.011439,
     "end_time": "2022-08-30T02:29:06.585119",
     "exception": false,
     "start_time": "2022-08-30T02:29:06.573680",
     "status": "completed"
    },
    "tags": []
   },
   "source": [
    "### Note: <br>\n",
    "This code for the fine-tuning process of XLNet for hate speech detection is based on the following example, published on Medium: <br>\n",
    "\n",
    "link to article: https://medium.com/swlh/using-xlnet-for-sentiment-classification-cfa948e65e85 <br>\n",
    "author: Shanay Ghag <br>\n",
    "published at: Jun 16, 2020<br>\n",
    "link to GitHub: https://github.com/shanayghag/Sentiment-classification-using-XLNet"
   ]
  },
  {
   "cell_type": "code",
   "execution_count": 1,
   "id": "e1c52cac",
   "metadata": {
    "execution": {
     "iopub.execute_input": "2022-08-30T02:29:06.608056Z",
     "iopub.status.busy": "2022-08-30T02:29:06.606881Z",
     "iopub.status.idle": "2022-08-30T02:29:16.205944Z",
     "shell.execute_reply": "2022-08-30T02:29:16.204797Z"
    },
    "papermill": {
     "duration": 9.613431,
     "end_time": "2022-08-30T02:29:16.208779",
     "exception": false,
     "start_time": "2022-08-30T02:29:06.595348",
     "status": "completed"
    },
    "tags": []
   },
   "outputs": [],
   "source": [
    "from datasets import load_dataset_builder, load_dataset\n",
    "import numpy as np\n",
    "import pandas as pd\n",
    "import seaborn as sns\n",
    "from sklearn.utils import shuffle\n",
    "from sklearn.model_selection import train_test_split\n",
    "from sklearn.metrics import confusion_matrix, classification_report, accuracy_score\n",
    "import re\n",
    "\n",
    "import sentencepiece\n",
    "from collections import defaultdict\n",
    "\n",
    "import torch\n",
    "from torch import nn, optim\n",
    "from torch.utils.data import TensorDataset,RandomSampler,SequentialSampler, Dataset, DataLoader\n",
    "import torch.nn.functional as F\n",
    "from keras.preprocessing.sequence import pad_sequences\n",
    "import transformers\n",
    "from transformers import XLNetTokenizer, XLNetModel, AdamW, get_linear_schedule_with_warmup\n",
    "import matplotlib.pyplot as plt"
   ]
  },
  {
   "cell_type": "code",
   "execution_count": 2,
   "id": "5e826e40",
   "metadata": {
    "execution": {
     "iopub.execute_input": "2022-08-30T02:29:16.234600Z",
     "iopub.status.busy": "2022-08-30T02:29:16.232780Z",
     "iopub.status.idle": "2022-08-30T02:29:16.304426Z",
     "shell.execute_reply": "2022-08-30T02:29:16.303306Z"
    },
    "executionInfo": {
     "elapsed": 17542,
     "status": "ok",
     "timestamp": 1639927280017,
     "user": {
      "displayName": "lisa richter",
      "photoUrl": "https://lh3.googleusercontent.com/a/default-user=s64",
      "userId": "08999729000846221512"
     },
     "user_tz": -60
    },
    "id": "g4Qe-YCBVUUa",
    "outputId": "40bb91f5-9d42-40af-bc87-d9bca9c0687d",
    "papermill": {
     "duration": 0.086788,
     "end_time": "2022-08-30T02:29:16.306714",
     "exception": false,
     "start_time": "2022-08-30T02:29:16.219926",
     "status": "completed"
    },
    "tags": []
   },
   "outputs": [
    {
     "data": {
      "text/plain": [
       "device(type='cuda', index=0)"
      ]
     },
     "execution_count": 2,
     "metadata": {},
     "output_type": "execute_result"
    }
   ],
   "source": [
    "# set up connection to drive: \n",
    "#from google.colab import drive\n",
    "#drive.mount('/content/drive')\n",
    "\n",
    "# define device: \n",
    "device = torch.device(\"cuda:0\" if torch.cuda.is_available() else \"cpu\")\n",
    "device"
   ]
  },
  {
   "cell_type": "code",
   "execution_count": 3,
   "id": "9944091b",
   "metadata": {
    "execution": {
     "iopub.execute_input": "2022-08-30T02:29:16.329473Z",
     "iopub.status.busy": "2022-08-30T02:29:16.328431Z",
     "iopub.status.idle": "2022-08-30T02:29:16.334814Z",
     "shell.execute_reply": "2022-08-30T02:29:16.333832Z"
    },
    "executionInfo": {
     "elapsed": 205,
     "status": "ok",
     "timestamp": 1639927284695,
     "user": {
      "displayName": "lisa richter",
      "photoUrl": "https://lh3.googleusercontent.com/a/default-user=s64",
      "userId": "08999729000846221512"
     },
     "user_tz": -60
    },
    "id": "Zc586jVyHNI9",
    "papermill": {
     "duration": 0.019666,
     "end_time": "2022-08-30T02:29:16.336784",
     "exception": false,
     "start_time": "2022-08-30T02:29:16.317118",
     "status": "completed"
    },
    "tags": []
   },
   "outputs": [],
   "source": [
    "def prepare_text(text):\n",
    "    text = re.sub(r\"@[A-Za-z0-9_]+\", ' ', text) # remove @user \n",
    "    text = re.sub(r\"https?://[A-Za-z0-9./]+\", ' ', text) # remove links\n",
    "    text = re.sub(r\"[^a-zA-z.!?'0-9]\", ' ', text) # remove smileys\n",
    "    text = re.sub('#', '', text) # remove hash sign\n",
    "    text = re.sub('\\t', ' ',  text) # remove tab\n",
    "    text = re.sub(r\" +\", ' ', text) # remove multiple whitespaces\n",
    "    return text"
   ]
  },
  {
   "cell_type": "markdown",
   "id": "4626854f",
   "metadata": {
    "id": "CnPDjd1bsiBQ",
    "papermill": {
     "duration": 0.009971,
     "end_time": "2022-08-30T02:29:16.356999",
     "exception": false,
     "start_time": "2022-08-30T02:29:16.347028",
     "status": "completed"
    },
    "tags": []
   },
   "source": [
    "# 1. Prepare Hate Dataset for Fine-Tuning"
   ]
  },
  {
   "cell_type": "code",
   "execution_count": 4,
   "id": "1c13da3b",
   "metadata": {
    "execution": {
     "iopub.execute_input": "2022-08-30T02:29:16.379949Z",
     "iopub.status.busy": "2022-08-30T02:29:16.379612Z",
     "iopub.status.idle": "2022-08-30T02:29:20.084347Z",
     "shell.execute_reply": "2022-08-30T02:29:20.083273Z"
    },
    "executionInfo": {
     "elapsed": 3197,
     "status": "ok",
     "timestamp": 1639927291490,
     "user": {
      "displayName": "lisa richter",
      "photoUrl": "https://lh3.googleusercontent.com/a/default-user=s64",
      "userId": "08999729000846221512"
     },
     "user_tz": -60
    },
    "id": "QB1fi7RhskkP",
    "outputId": "2208c83a-6883-4e4d-9954-ca42283943ba",
    "papermill": {
     "duration": 3.71987,
     "end_time": "2022-08-30T02:29:20.087362",
     "exception": false,
     "start_time": "2022-08-30T02:29:16.367492",
     "status": "completed"
    },
    "tags": []
   },
   "outputs": [
    {
     "data": {
      "application/vnd.jupyter.widget-view+json": {
       "model_id": "da55875e513e4474aa7ccfb3c9439a6f",
       "version_major": 2,
       "version_minor": 0
      },
      "text/plain": [
       "Downloading builder script:   0%|          | 0.00/1.45k [00:00<?, ?B/s]"
      ]
     },
     "metadata": {},
     "output_type": "display_data"
    },
    {
     "data": {
      "application/vnd.jupyter.widget-view+json": {
       "model_id": "425c67a5d3bb4864811f09524273e75d",
       "version_major": 2,
       "version_minor": 0
      },
      "text/plain": [
       "Downloading metadata:   0%|          | 0.00/881 [00:00<?, ?B/s]"
      ]
     },
     "metadata": {},
     "output_type": "display_data"
    },
    {
     "name": "stdout",
     "output_type": "stream",
     "text": [
      "Downloading and preparing dataset tweets_hate_speech_detection/default (download: 2.96 MiB, generated: 3.04 MiB, post-processed: Unknown size, total: 6.00 MiB) to /root/.cache/huggingface/datasets/tweets_hate_speech_detection/default/0.0.0/c6b6f41e91ac9113e1c032c5ecf7a49b4e1e9dc8699ded3c2d8425c9217568b2...\n"
     ]
    },
    {
     "data": {
      "application/vnd.jupyter.widget-view+json": {
       "model_id": "c24b7430ede143198d7ec0b99ed1831a",
       "version_major": 2,
       "version_minor": 0
      },
      "text/plain": [
       "Downloading data:   0%|          | 0.00/1.28M [00:00<?, ?B/s]"
      ]
     },
     "metadata": {},
     "output_type": "display_data"
    },
    {
     "data": {
      "application/vnd.jupyter.widget-view+json": {
       "model_id": "6428b77f369d41339927047e67db3431",
       "version_major": 2,
       "version_minor": 0
      },
      "text/plain": [
       "Generating train split:   0%|          | 0/31962 [00:00<?, ? examples/s]"
      ]
     },
     "metadata": {},
     "output_type": "display_data"
    },
    {
     "name": "stdout",
     "output_type": "stream",
     "text": [
      "Dataset tweets_hate_speech_detection downloaded and prepared to /root/.cache/huggingface/datasets/tweets_hate_speech_detection/default/0.0.0/c6b6f41e91ac9113e1c032c5ecf7a49b4e1e9dc8699ded3c2d8425c9217568b2. Subsequent calls will reuse this data.\n"
     ]
    }
   ],
   "source": [
    "# load dataset from hugging face hub: tweets_hate_speech_detection\n",
    "hate_data_train = load_dataset('tweets_hate_speech_detection', split='train')"
   ]
  },
  {
   "cell_type": "code",
   "execution_count": 5,
   "id": "c08fecef",
   "metadata": {
    "execution": {
     "iopub.execute_input": "2022-08-30T02:29:20.111962Z",
     "iopub.status.busy": "2022-08-30T02:29:20.111639Z",
     "iopub.status.idle": "2022-08-30T02:29:20.164073Z",
     "shell.execute_reply": "2022-08-30T02:29:20.163180Z"
    },
    "executionInfo": {
     "elapsed": 217,
     "status": "ok",
     "timestamp": 1639927295023,
     "user": {
      "displayName": "lisa richter",
      "photoUrl": "https://lh3.googleusercontent.com/a/default-user=s64",
      "userId": "08999729000846221512"
     },
     "user_tz": -60
    },
    "id": "jq4tmXAEA0kH",
    "papermill": {
     "duration": 0.066762,
     "end_time": "2022-08-30T02:29:20.166246",
     "exception": false,
     "start_time": "2022-08-30T02:29:20.099484",
     "status": "completed"
    },
    "tags": []
   },
   "outputs": [],
   "source": [
    "tweet = hate_data_train['tweet']\n",
    "label = hate_data_train['label']\n",
    "df_hate_1 = pd.DataFrame({'text': tweet, 'label': label}) # 0 = no hate; 1 = hate (racist or sexist)\n"
   ]
  },
  {
   "cell_type": "code",
   "execution_count": 6,
   "id": "c732e03b",
   "metadata": {
    "execution": {
     "iopub.execute_input": "2022-08-30T02:29:20.189189Z",
     "iopub.status.busy": "2022-08-30T02:29:20.188890Z",
     "iopub.status.idle": "2022-08-30T02:29:24.031812Z",
     "shell.execute_reply": "2022-08-30T02:29:24.030234Z"
    },
    "executionInfo": {
     "elapsed": 3531,
     "status": "ok",
     "timestamp": 1639927299993,
     "user": {
      "displayName": "lisa richter",
      "photoUrl": "https://lh3.googleusercontent.com/a/default-user=s64",
      "userId": "08999729000846221512"
     },
     "user_tz": -60
    },
    "id": "HUPq8o4UHQOI",
    "outputId": "43db87fe-b7bc-40e9-dd70-cf67b538db7a",
    "papermill": {
     "duration": 3.856625,
     "end_time": "2022-08-30T02:29:24.033982",
     "exception": false,
     "start_time": "2022-08-30T02:29:20.177357",
     "status": "completed"
    },
    "tags": []
   },
   "outputs": [
    {
     "data": {
      "application/vnd.jupyter.widget-view+json": {
       "model_id": "e5f56bd9e3b6459cbb0bc2d37711e828",
       "version_major": 2,
       "version_minor": 0
      },
      "text/plain": [
       "Downloading builder script:   0%|          | 0.00/1.40k [00:00<?, ?B/s]"
      ]
     },
     "metadata": {},
     "output_type": "display_data"
    },
    {
     "data": {
      "application/vnd.jupyter.widget-view+json": {
       "model_id": "80748ef5335b4004b77a65d87b33529d",
       "version_major": 2,
       "version_minor": 0
      },
      "text/plain": [
       "Downloading metadata:   0%|          | 0.00/823 [00:00<?, ?B/s]"
      ]
     },
     "metadata": {},
     "output_type": "display_data"
    },
    {
     "name": "stdout",
     "output_type": "stream",
     "text": [
      "Downloading and preparing dataset hate_speech_offensive/default (download: 2.43 MiB, generated: 3.06 MiB, post-processed: Unknown size, total: 5.49 MiB) to /root/.cache/huggingface/datasets/hate_speech_offensive/default/1.0.0/5f5dfc7b42b5c650fe30a8c49df90b7dbb9c7a4b3fe43ae2e66fabfea35113f5...\n"
     ]
    },
    {
     "data": {
      "application/vnd.jupyter.widget-view+json": {
       "model_id": "f480159eb70149bb961e42f027ba8a9d",
       "version_major": 2,
       "version_minor": 0
      },
      "text/plain": [
       "Downloading data:   0%|          | 0.00/1.05M [00:00<?, ?B/s]"
      ]
     },
     "metadata": {},
     "output_type": "display_data"
    },
    {
     "data": {
      "application/vnd.jupyter.widget-view+json": {
       "model_id": "9b58b89c0377477f9f8f3e347b8e0134",
       "version_major": 2,
       "version_minor": 0
      },
      "text/plain": [
       "Generating train split:   0%|          | 0/24783 [00:00<?, ? examples/s]"
      ]
     },
     "metadata": {},
     "output_type": "display_data"
    },
    {
     "name": "stdout",
     "output_type": "stream",
     "text": [
      "Dataset hate_speech_offensive downloaded and prepared to /root/.cache/huggingface/datasets/hate_speech_offensive/default/1.0.0/5f5dfc7b42b5c650fe30a8c49df90b7dbb9c7a4b3fe43ae2e66fabfea35113f5. Subsequent calls will reuse this data.\n"
     ]
    }
   ],
   "source": [
    "# load different hate speech dataset:\n",
    "hate_data_2= load_dataset('hate_speech_offensive', split='train')"
   ]
  },
  {
   "cell_type": "code",
   "execution_count": 7,
   "id": "e1abb525",
   "metadata": {
    "execution": {
     "iopub.execute_input": "2022-08-30T02:29:24.059189Z",
     "iopub.status.busy": "2022-08-30T02:29:24.058882Z",
     "iopub.status.idle": "2022-08-30T02:29:24.098383Z",
     "shell.execute_reply": "2022-08-30T02:29:24.097505Z"
    },
    "executionInfo": {
     "elapsed": 205,
     "status": "ok",
     "timestamp": 1639927302966,
     "user": {
      "displayName": "lisa richter",
      "photoUrl": "https://lh3.googleusercontent.com/a/default-user=s64",
      "userId": "08999729000846221512"
     },
     "user_tz": -60
    },
    "id": "lR2rbmo9HmHw",
    "papermill": {
     "duration": 0.054473,
     "end_time": "2022-08-30T02:29:24.100520",
     "exception": false,
     "start_time": "2022-08-30T02:29:24.046047",
     "status": "completed"
    },
    "tags": []
   },
   "outputs": [],
   "source": [
    "text_2 = hate_data_2['tweet']\n",
    "label_2 = hate_data_2['class']\n",
    "\n",
    "df_hate_2 = pd.DataFrame({'text': text_2, 'label': label_2}) # 0 = hate-speech; 1 = offensive-language; 2 = neither"
   ]
  },
  {
   "cell_type": "code",
   "execution_count": 8,
   "id": "64acd1e6",
   "metadata": {
    "execution": {
     "iopub.execute_input": "2022-08-30T02:29:24.125514Z",
     "iopub.status.busy": "2022-08-30T02:29:24.125188Z",
     "iopub.status.idle": "2022-08-30T02:29:24.137186Z",
     "shell.execute_reply": "2022-08-30T02:29:24.136285Z"
    },
    "executionInfo": {
     "elapsed": 4,
     "status": "ok",
     "timestamp": 1639927304456,
     "user": {
      "displayName": "lisa richter",
      "photoUrl": "https://lh3.googleusercontent.com/a/default-user=s64",
      "userId": "08999729000846221512"
     },
     "user_tz": -60
    },
    "id": "my9mfzW6A0hk",
    "papermill": {
     "duration": 0.026591,
     "end_time": "2022-08-30T02:29:24.139244",
     "exception": false,
     "start_time": "2022-08-30T02:29:24.112653",
     "status": "completed"
    },
    "tags": []
   },
   "outputs": [],
   "source": [
    "# change label to match df_hate_1 and binary classification: 0: no hate; 1: hate\n",
    "df_hate_2.loc[(df_hate_2.label == 0),'label']=1 # change 0 to 1 to collapse hate speech and offensive language in one class\n",
    "df_hate_2.loc[(df_hate_2.label == 2),'label']=0 # then change 2 to 0 to match df_hate_1 classes\n",
    "# 0 = no hate; 1: hate "
   ]
  },
  {
   "cell_type": "code",
   "execution_count": 9,
   "id": "9685370c",
   "metadata": {
    "execution": {
     "iopub.execute_input": "2022-08-30T02:29:24.164922Z",
     "iopub.status.busy": "2022-08-30T02:29:24.164089Z",
     "iopub.status.idle": "2022-08-30T02:29:24.171492Z",
     "shell.execute_reply": "2022-08-30T02:29:24.170459Z"
    },
    "executionInfo": {
     "elapsed": 200,
     "status": "ok",
     "timestamp": 1639927306139,
     "user": {
      "displayName": "lisa richter",
      "photoUrl": "https://lh3.googleusercontent.com/a/default-user=s64",
      "userId": "08999729000846221512"
     },
     "user_tz": -60
    },
    "id": "mQCrtmA1A0c7",
    "papermill": {
     "duration": 0.022673,
     "end_time": "2022-08-30T02:29:24.173529",
     "exception": false,
     "start_time": "2022-08-30T02:29:24.150856",
     "status": "completed"
    },
    "tags": []
   },
   "outputs": [],
   "source": [
    "df_hate = pd.concat([df_hate_1, df_hate_2])"
   ]
  },
  {
   "cell_type": "code",
   "execution_count": 10,
   "id": "04b8b3b0",
   "metadata": {
    "execution": {
     "iopub.execute_input": "2022-08-30T02:29:24.197829Z",
     "iopub.status.busy": "2022-08-30T02:29:24.197204Z",
     "iopub.status.idle": "2022-08-30T02:29:24.206311Z",
     "shell.execute_reply": "2022-08-30T02:29:24.205498Z"
    },
    "papermill": {
     "duration": 0.02346,
     "end_time": "2022-08-30T02:29:24.208321",
     "exception": false,
     "start_time": "2022-08-30T02:29:24.184861",
     "status": "completed"
    },
    "tags": []
   },
   "outputs": [],
   "source": [
    "df_test = df_hate[df_hate['label'] == 1]"
   ]
  },
  {
   "cell_type": "code",
   "execution_count": 11,
   "id": "90fffda7",
   "metadata": {
    "execution": {
     "iopub.execute_input": "2022-08-30T02:29:24.233256Z",
     "iopub.status.busy": "2022-08-30T02:29:24.232992Z",
     "iopub.status.idle": "2022-08-30T02:29:41.564345Z",
     "shell.execute_reply": "2022-08-30T02:29:41.563386Z"
    },
    "papermill": {
     "duration": 17.346866,
     "end_time": "2022-08-30T02:29:41.566916",
     "exception": false,
     "start_time": "2022-08-30T02:29:24.220050",
     "status": "completed"
    },
    "tags": []
   },
   "outputs": [
    {
     "data": {
      "application/vnd.jupyter.widget-view+json": {
       "model_id": "a718a4808eaa4fac9c44de4135eca614",
       "version_major": 2,
       "version_minor": 0
      },
      "text/plain": [
       "Downloading:   0%|          | 0.00/779k [00:00<?, ?B/s]"
      ]
     },
     "metadata": {},
     "output_type": "display_data"
    },
    {
     "data": {
      "application/vnd.jupyter.widget-view+json": {
       "model_id": "737f884e15084f99ab9ab5ecc7894fb0",
       "version_major": 2,
       "version_minor": 0
      },
      "text/plain": [
       "Downloading:   0%|          | 0.00/760 [00:00<?, ?B/s]"
      ]
     },
     "metadata": {},
     "output_type": "display_data"
    },
    {
     "name": "stderr",
     "output_type": "stream",
     "text": [
      "Truncation was not explicitly activated but `max_length` is provided a specific value, please use `truncation=True` to explicitly truncate examples to max length. Defaulting to 'longest_first' truncation strategy. If you encode pairs of sequences (GLUE-style) with the tokenizer you can select this strategy more precisely by providing a specific strategy to `truncation`.\n"
     ]
    }
   ],
   "source": [
    "# plot length of each tweet in order to determine max_length (must be done before sampling data)\n",
    "# define tokenizer:\n",
    "tokenizer = XLNetTokenizer.from_pretrained('xlnet-base-cased')\n",
    "\n",
    "\n",
    "# count tokens per sentence\n",
    "token_lens = []\n",
    "\n",
    "for txt in df_hate['text']:\n",
    "    tokens = tokenizer.encode(txt, max_length=512)\n",
    "    token_lens.append(len(tokens))"
   ]
  },
  {
   "cell_type": "code",
   "execution_count": 12,
   "id": "ec1b2d63",
   "metadata": {
    "execution": {
     "iopub.execute_input": "2022-08-30T02:29:41.592486Z",
     "iopub.status.busy": "2022-08-30T02:29:41.592144Z",
     "iopub.status.idle": "2022-08-30T02:29:42.327247Z",
     "shell.execute_reply": "2022-08-30T02:29:42.326304Z"
    },
    "papermill": {
     "duration": 0.750214,
     "end_time": "2022-08-30T02:29:42.329589",
     "exception": false,
     "start_time": "2022-08-30T02:29:41.579375",
     "status": "completed"
    },
    "tags": []
   },
   "outputs": [
    {
     "name": "stderr",
     "output_type": "stream",
     "text": [
      "/opt/conda/lib/python3.7/site-packages/seaborn/distributions.py:2619: FutureWarning: `distplot` is a deprecated function and will be removed in a future version. Please adapt your code to use either `displot` (a figure-level function with similar flexibility) or `histplot` (an axes-level function for histograms).\n",
      "  warnings.warn(msg, FutureWarning)\n"
     ]
    },
    {
     "data": {
      "image/png": "[encoded data removed]",
      "text/plain": [
       "<Figure size 432x288 with 1 Axes>"
      ]
     },
     "metadata": {
      "needs_background": "light"
     },
     "output_type": "display_data"
    }
   ],
   "source": [
    "# plot\n",
    "sns_plot = sns.distplot(token_lens)\n",
    "plt.xlim([0, 800]);\n",
    "plt.xlabel('Token count')\n",
    "\n",
    "fig = sns_plot.get_figure()\n",
    "fig.savefig('token_length_hate.png');"
   ]
  },
  {
   "cell_type": "code",
   "execution_count": 13,
   "id": "092271ad",
   "metadata": {
    "execution": {
     "iopub.execute_input": "2022-08-30T02:29:42.355451Z",
     "iopub.status.busy": "2022-08-30T02:29:42.355131Z",
     "iopub.status.idle": "2022-08-30T02:29:42.367554Z",
     "shell.execute_reply": "2022-08-30T02:29:42.366648Z"
    },
    "papermill": {
     "duration": 0.027593,
     "end_time": "2022-08-30T02:29:42.369680",
     "exception": false,
     "start_time": "2022-08-30T02:29:42.342087",
     "status": "completed"
    },
    "tags": []
   },
   "outputs": [],
   "source": [
    "df_hate = shuffle(df_hate)\n",
    "df_hate = df_hate[:24000]"
   ]
  },
  {
   "cell_type": "code",
   "execution_count": 14,
   "id": "77ca676f",
   "metadata": {
    "execution": {
     "iopub.execute_input": "2022-08-30T02:29:42.394983Z",
     "iopub.status.busy": "2022-08-30T02:29:42.394157Z",
     "iopub.status.idle": "2022-08-30T02:29:42.763626Z",
     "shell.execute_reply": "2022-08-30T02:29:42.762456Z"
    },
    "executionInfo": {
     "elapsed": 219,
     "status": "ok",
     "timestamp": 1639927307466,
     "user": {
      "displayName": "lisa richter",
      "photoUrl": "https://lh3.googleusercontent.com/a/default-user=s64",
      "userId": "08999729000846221512"
     },
     "user_tz": -60
    },
    "id": "MG3KEwTJJBtP",
    "outputId": "2f1ec0df-4797-4c60-9089-e1e43db95d94",
    "papermill": {
     "duration": 0.384876,
     "end_time": "2022-08-30T02:29:42.766364",
     "exception": false,
     "start_time": "2022-08-30T02:29:42.381488",
     "status": "completed"
    },
    "tags": []
   },
   "outputs": [
    {
     "data": {
      "text/html": [
       "<div>\n",
       "<style scoped>\n",
       "    .dataframe tbody tr th:only-of-type {\n",
       "        vertical-align: middle;\n",
       "    }\n",
       "\n",
       "    .dataframe tbody tr th {\n",
       "        vertical-align: top;\n",
       "    }\n",
       "\n",
       "    .dataframe thead th {\n",
       "        text-align: right;\n",
       "    }\n",
       "</style>\n",
       "<table border=\"1\" class=\"dataframe\">\n",
       "  <thead>\n",
       "    <tr style=\"text-align: right;\">\n",
       "      <th></th>\n",
       "      <th>text</th>\n",
       "      <th>label</th>\n",
       "    </tr>\n",
       "  </thead>\n",
       "  <tbody>\n",
       "    <tr>\n",
       "      <th>7138</th>\n",
       "      <td>So six martinis before passing out on the cou...</td>\n",
       "      <td>1</td>\n",
       "    </tr>\n",
       "    <tr>\n",
       "      <th>11251</th>\n",
       "      <td>social media can be used to uplift but it see...</td>\n",
       "      <td>0</td>\n",
       "    </tr>\n",
       "    <tr>\n",
       "      <th>18482</th>\n",
       "      <td>RT 1 A real nigga would NEVER be hurt and cryi...</td>\n",
       "      <td>1</td>\n",
       "    </tr>\n",
       "    <tr>\n",
       "      <th>29402</th>\n",
       "      <td>gentleman hqswag .. superstarking .. or ent.....</td>\n",
       "      <td>0</td>\n",
       "    </tr>\n",
       "    <tr>\n",
       "      <th>4869</th>\n",
       "      <td>the mayor is nothing like can't one defend ag...</td>\n",
       "      <td>0</td>\n",
       "    </tr>\n",
       "    <tr>\n",
       "      <th>...</th>\n",
       "      <td>...</td>\n",
       "      <td>...</td>\n",
       "    </tr>\n",
       "    <tr>\n",
       "      <th>18436</th>\n",
       "      <td>RT Bad bitch give me head like lice .</td>\n",
       "      <td>1</td>\n",
       "    </tr>\n",
       "    <tr>\n",
       "      <th>20129</th>\n",
       "      <td>RT My pussy popz Severely</td>\n",
       "      <td>1</td>\n",
       "    </tr>\n",
       "    <tr>\n",
       "      <th>14890</th>\n",
       "      <td>don't you want to come see this? it is amazing...</td>\n",
       "      <td>0</td>\n",
       "    </tr>\n",
       "    <tr>\n",
       "      <th>22691</th>\n",
       "      <td>watch elizabeth warren endorses hillary clinto...</td>\n",
       "      <td>0</td>\n",
       "    </tr>\n",
       "    <tr>\n",
       "      <th>4793</th>\n",
       "      <td>Eat my pussy!</td>\n",
       "      <td>1</td>\n",
       "    </tr>\n",
       "  </tbody>\n",
       "</table>\n",
       "<p>24000 rows × 2 columns</p>\n",
       "</div>"
      ],
      "text/plain": [
       "                                                    text  label\n",
       "7138    So six martinis before passing out on the cou...      1\n",
       "11251   social media can be used to uplift but it see...      0\n",
       "18482  RT 1 A real nigga would NEVER be hurt and cryi...      1\n",
       "29402   gentleman hqswag .. superstarking .. or ent.....      0\n",
       "4869    the mayor is nothing like can't one defend ag...      0\n",
       "...                                                  ...    ...\n",
       "18436              RT Bad bitch give me head like lice .      1\n",
       "20129                         RT My pussy popz Severely       1\n",
       "14890  don't you want to come see this? it is amazing...      0\n",
       "22691  watch elizabeth warren endorses hillary clinto...      0\n",
       "4793                                       Eat my pussy!      1\n",
       "\n",
       "[24000 rows x 2 columns]"
      ]
     },
     "execution_count": 14,
     "metadata": {},
     "output_type": "execute_result"
    }
   ],
   "source": [
    "df_hate['text'] = df_hate['text'].apply(prepare_text)\n",
    "df_hate"
   ]
  },
  {
   "cell_type": "code",
   "execution_count": 15,
   "id": "5cb3b50b",
   "metadata": {
    "execution": {
     "iopub.execute_input": "2022-08-30T02:29:42.792104Z",
     "iopub.status.busy": "2022-08-30T02:29:42.791795Z",
     "iopub.status.idle": "2022-08-30T02:29:42.989051Z",
     "shell.execute_reply": "2022-08-30T02:29:42.987426Z"
    },
    "executionInfo": {
     "elapsed": 235,
     "status": "ok",
     "timestamp": 1639927319588,
     "user": {
      "displayName": "lisa richter",
      "photoUrl": "https://lh3.googleusercontent.com/a/default-user=s64",
      "userId": "08999729000846221512"
     },
     "user_tz": -60
    },
    "id": "XccmW29VLKWj",
    "outputId": "7230c0cb-86b2-435a-943e-a677ab6f9681",
    "papermill": {
     "duration": 0.212847,
     "end_time": "2022-08-30T02:29:42.991646",
     "exception": false,
     "start_time": "2022-08-30T02:29:42.778799",
     "status": "completed"
    },
    "tags": []
   },
   "outputs": [
    {
     "name": "stdout",
     "output_type": "stream",
     "text": [
      "non-hate tweets: 14225\n",
      "hate tweets: 9775\n"
     ]
    },
    {
     "data": {
      "image/png": "[encoded data removed]",
      "text/plain": [
       "<Figure size 432x288 with 1 Axes>"
      ]
     },
     "metadata": {
      "needs_background": "light"
     },
     "output_type": "display_data"
    }
   ],
   "source": [
    "sns_plot = sns.countplot(x=df_hate.label) # to see class distribution\n",
    "print(f'non-hate tweets: {len(df_hate[df_hate[\"label\"] == 0])}')\n",
    "print(f'hate tweets: {len(df_hate[df_hate[\"label\"] == 1])}')\n",
    "\n",
    "fig = sns_plot.get_figure()\n",
    "fig.savefig('class_dist_hate.png');"
   ]
  },
  {
   "cell_type": "code",
   "execution_count": 16,
   "id": "75f9fb62",
   "metadata": {
    "execution": {
     "iopub.execute_input": "2022-08-30T02:29:43.017910Z",
     "iopub.status.busy": "2022-08-30T02:29:43.017614Z",
     "iopub.status.idle": "2022-08-30T02:29:43.022081Z",
     "shell.execute_reply": "2022-08-30T02:29:43.021108Z"
    },
    "executionInfo": {
     "elapsed": 215,
     "status": "ok",
     "timestamp": 1639927372233,
     "user": {
      "displayName": "lisa richter",
      "photoUrl": "https://lh3.googleusercontent.com/a/default-user=s64",
      "userId": "08999729000846221512"
     },
     "user_tz": -60
    },
    "id": "3yMFevgUNCJ2",
    "papermill": {
     "duration": 0.019828,
     "end_time": "2022-08-30T02:29:43.024193",
     "exception": false,
     "start_time": "2022-08-30T02:29:43.004365",
     "status": "completed"
    },
    "tags": []
   },
   "outputs": [],
   "source": [
    "class_names = ['no hate', 'hate']"
   ]
  },
  {
   "cell_type": "code",
   "execution_count": 17,
   "id": "cb6fd4f1",
   "metadata": {
    "execution": {
     "iopub.execute_input": "2022-08-30T02:29:43.050385Z",
     "iopub.status.busy": "2022-08-30T02:29:43.049836Z",
     "iopub.status.idle": "2022-08-30T02:29:43.112257Z",
     "shell.execute_reply": "2022-08-30T02:29:43.111337Z"
    },
    "papermill": {
     "duration": 0.07829,
     "end_time": "2022-08-30T02:29:43.114670",
     "exception": false,
     "start_time": "2022-08-30T02:29:43.036380",
     "status": "completed"
    },
    "tags": []
   },
   "outputs": [],
   "source": [
    "df_hate.to_csv('test.csv')"
   ]
  },
  {
   "cell_type": "code",
   "execution_count": null,
   "id": "17dc7502",
   "metadata": {
    "papermill": {
     "duration": 0.0121,
     "end_time": "2022-08-30T02:29:43.139386",
     "exception": false,
     "start_time": "2022-08-30T02:29:43.127286",
     "status": "completed"
    },
    "tags": []
   },
   "outputs": [],
   "source": []
  },
  {
   "cell_type": "markdown",
   "id": "9171da8a",
   "metadata": {
    "id": "2ZpeyyofRkJp",
    "papermill": {
     "duration": 0.012133,
     "end_time": "2022-08-30T02:29:43.163851",
     "exception": false,
     "start_time": "2022-08-30T02:29:43.151718",
     "status": "completed"
    },
    "tags": []
   },
   "source": [
    "# 2. Load XLNet, Prepare Inputs and Define Hyperparameter"
   ]
  },
  {
   "cell_type": "code",
   "execution_count": 18,
   "id": "05576c00",
   "metadata": {
    "execution": {
     "iopub.execute_input": "2022-08-30T02:29:43.190988Z",
     "iopub.status.busy": "2022-08-30T02:29:43.190304Z",
     "iopub.status.idle": "2022-08-30T02:29:43.194639Z",
     "shell.execute_reply": "2022-08-30T02:29:43.193686Z"
    },
    "executionInfo": {
     "elapsed": 2,
     "status": "ok",
     "timestamp": 1639927384641,
     "user": {
      "displayName": "lisa richter",
      "photoUrl": "https://lh3.googleusercontent.com/a/default-user=s64",
      "userId": "08999729000846221512"
     },
     "user_tz": -60
    },
    "id": "nKjgK24wT8eR",
    "papermill": {
     "duration": 0.01989,
     "end_time": "2022-08-30T02:29:43.196659",
     "exception": false,
     "start_time": "2022-08-30T02:29:43.176769",
     "status": "completed"
    },
    "tags": []
   },
   "outputs": [],
   "source": [
    "# define max length: \n",
    "MAX_LEN = 512"
   ]
  },
  {
   "cell_type": "code",
   "execution_count": 19,
   "id": "83bea213",
   "metadata": {
    "execution": {
     "iopub.execute_input": "2022-08-30T02:29:43.224292Z",
     "iopub.status.busy": "2022-08-30T02:29:43.223565Z",
     "iopub.status.idle": "2022-08-30T02:29:43.233345Z",
     "shell.execute_reply": "2022-08-30T02:29:43.232442Z"
    },
    "executionInfo": {
     "elapsed": 4,
     "status": "ok",
     "timestamp": 1639927385578,
     "user": {
      "displayName": "lisa richter",
      "photoUrl": "https://lh3.googleusercontent.com/a/default-user=s64",
      "userId": "08999729000846221512"
     },
     "user_tz": -60
    },
    "id": "yCtFjHiWT_XX",
    "papermill": {
     "duration": 0.025986,
     "end_time": "2022-08-30T02:29:43.235364",
     "exception": false,
     "start_time": "2022-08-30T02:29:43.209378",
     "status": "completed"
    },
    "tags": []
   },
   "outputs": [],
   "source": [
    "# custom dataset class\n",
    "class HateDataset(Dataset):\n",
    "    def __init__(self, reviews, targets, tokenizer, max_len):\n",
    "        self.reviews = reviews\n",
    "        self.targets = targets\n",
    "        self.tokenizer = tokenizer\n",
    "        self.max_len = max_len\n",
    "\n",
    "    def __len__(self):\n",
    "        return len(self.reviews)\n",
    "    \n",
    "    def __getitem__(self, item):\n",
    "        review = str(self.reviews[item])\n",
    "        target = self.targets[item]\n",
    "        \n",
    "        encoding = self.tokenizer.encode_plus(review,\n",
    "                                              add_special_tokens=True,\n",
    "                                              max_length=self.max_len,\n",
    "                                              truncation=True,\n",
    "                                              return_token_type_ids=False,\n",
    "                                              pad_to_max_length=False,\n",
    "                                              return_attention_mask=True,\n",
    "                                              return_tensors='pt',)\n",
    "        \n",
    "        input_ids = pad_sequences(encoding['input_ids'], \n",
    "                                  maxlen=MAX_LEN, \n",
    "                                  dtype=torch.Tensor ,\n",
    "                                  truncating=\"post\",\n",
    "                                  padding=\"post\")\n",
    "        input_ids = input_ids.astype(dtype = 'int64')\n",
    "        input_ids = torch.tensor(input_ids) \n",
    "        \n",
    "        attention_mask = pad_sequences(encoding['attention_mask'], \n",
    "                                       maxlen=MAX_LEN, \n",
    "                                       dtype=torch.Tensor ,\n",
    "                                       truncating=\"post\",\n",
    "                                       padding=\"post\")\n",
    "        attention_mask = attention_mask.astype(dtype = 'int64')\n",
    "        attention_mask = torch.tensor(attention_mask)       \n",
    "        \n",
    "        return {'review_text': review,\n",
    "                'input_ids': input_ids,\n",
    "                'attention_mask': attention_mask.flatten(),\n",
    "                'targets': torch.tensor(target, dtype=torch.long)}"
   ]
  },
  {
   "cell_type": "code",
   "execution_count": 20,
   "id": "3d86b180",
   "metadata": {
    "execution": {
     "iopub.execute_input": "2022-08-30T02:29:43.261868Z",
     "iopub.status.busy": "2022-08-30T02:29:43.261609Z",
     "iopub.status.idle": "2022-08-30T02:29:43.272016Z",
     "shell.execute_reply": "2022-08-30T02:29:43.271204Z"
    },
    "executionInfo": {
     "elapsed": 205,
     "status": "ok",
     "timestamp": 1639927386941,
     "user": {
      "displayName": "lisa richter",
      "photoUrl": "https://lh3.googleusercontent.com/a/default-user=s64",
      "userId": "08999729000846221512"
     },
     "user_tz": -60
    },
    "id": "Bqem0CtzUwJe",
    "papermill": {
     "duration": 0.025974,
     "end_time": "2022-08-30T02:29:43.273977",
     "exception": false,
     "start_time": "2022-08-30T02:29:43.248003",
     "status": "completed"
    },
    "tags": []
   },
   "outputs": [],
   "source": [
    "# create training, validation and test set: \n",
    "df_train, df_test = train_test_split(df_hate, test_size=0.5, random_state=101)\n",
    "df_val, df_test = train_test_split(df_test, test_size=0.5, random_state=101)"
   ]
  },
  {
   "cell_type": "code",
   "execution_count": 21,
   "id": "de2c2026",
   "metadata": {
    "execution": {
     "iopub.execute_input": "2022-08-30T02:29:43.300664Z",
     "iopub.status.busy": "2022-08-30T02:29:43.299670Z",
     "iopub.status.idle": "2022-08-30T02:29:43.306370Z",
     "shell.execute_reply": "2022-08-30T02:29:43.305453Z"
    },
    "executionInfo": {
     "elapsed": 7,
     "status": "ok",
     "timestamp": 1639927387939,
     "user": {
      "displayName": "lisa richter",
      "photoUrl": "https://lh3.googleusercontent.com/a/default-user=s64",
      "userId": "08999729000846221512"
     },
     "user_tz": -60
    },
    "id": "ucEI27LmU0Pf",
    "outputId": "f5cf2837-f0a4-4b4a-ce47-1363b08702b3",
    "papermill": {
     "duration": 0.022076,
     "end_time": "2022-08-30T02:29:43.308302",
     "exception": false,
     "start_time": "2022-08-30T02:29:43.286226",
     "status": "completed"
    },
    "tags": []
   },
   "outputs": [
    {
     "data": {
      "text/plain": [
       "((12000, 2), (6000, 2), (6000, 2))"
      ]
     },
     "execution_count": 21,
     "metadata": {},
     "output_type": "execute_result"
    }
   ],
   "source": [
    "# check shape\n",
    "df_train.shape, df_val.shape, df_test.shape"
   ]
  },
  {
   "cell_type": "code",
   "execution_count": 22,
   "id": "50777e3f",
   "metadata": {
    "execution": {
     "iopub.execute_input": "2022-08-30T02:29:43.334014Z",
     "iopub.status.busy": "2022-08-30T02:29:43.333738Z",
     "iopub.status.idle": "2022-08-30T02:29:43.338698Z",
     "shell.execute_reply": "2022-08-30T02:29:43.337734Z"
    },
    "executionInfo": {
     "elapsed": 215,
     "status": "ok",
     "timestamp": 1639927394727,
     "user": {
      "displayName": "lisa richter",
      "photoUrl": "https://lh3.googleusercontent.com/a/default-user=s64",
      "userId": "08999729000846221512"
     },
     "user_tz": -60
    },
    "id": "hc7pFLihU3O7",
    "papermill": {
     "duration": 0.020058,
     "end_time": "2022-08-30T02:29:43.340646",
     "exception": false,
     "start_time": "2022-08-30T02:29:43.320588",
     "status": "completed"
    },
    "tags": []
   },
   "outputs": [],
   "source": [
    "# define custom dataloader:\n",
    "def create_data_loader(df, tokenizer, max_len, batch_size):\n",
    "    ds = HateDataset(reviews=df.text.to_numpy(),\n",
    "                     targets=df.label.to_numpy(),\n",
    "                     tokenizer=tokenizer,\n",
    "                     max_len=max_len)\n",
    "    \n",
    "    return DataLoader(ds,\n",
    "                    batch_size=batch_size,\n",
    "                    num_workers=2)                    "
   ]
  },
  {
   "cell_type": "code",
   "execution_count": 23,
   "id": "4505787b",
   "metadata": {
    "execution": {
     "iopub.execute_input": "2022-08-30T02:29:43.366722Z",
     "iopub.status.busy": "2022-08-30T02:29:43.366451Z",
     "iopub.status.idle": "2022-08-30T02:29:43.373797Z",
     "shell.execute_reply": "2022-08-30T02:29:43.372968Z"
    },
    "executionInfo": {
     "elapsed": 4,
     "status": "ok",
     "timestamp": 1639927395885,
     "user": {
      "displayName": "lisa richter",
      "photoUrl": "https://lh3.googleusercontent.com/a/default-user=s64",
      "userId": "08999729000846221512"
     },
     "user_tz": -60
    },
    "id": "9wRWtekiVFe1",
    "papermill": {
     "duration": 0.023072,
     "end_time": "2022-08-30T02:29:43.375995",
     "exception": false,
     "start_time": "2022-08-30T02:29:43.352923",
     "status": "completed"
    },
    "tags": []
   },
   "outputs": [],
   "source": [
    "# define batch size: \n",
    "BATCH_SIZE = 8\n",
    "\n",
    "\n",
    "# create data loader for training, validation and test set: \n",
    "train_data_loader = create_data_loader(df_train, tokenizer, MAX_LEN, BATCH_SIZE)\n",
    "val_data_loader = create_data_loader(df_val, tokenizer, MAX_LEN, BATCH_SIZE)\n",
    "test_data_loader = create_data_loader(df_test, tokenizer, MAX_LEN, BATCH_SIZE)"
   ]
  },
  {
   "cell_type": "code",
   "execution_count": 24,
   "id": "abd0a6e7",
   "metadata": {
    "execution": {
     "iopub.execute_input": "2022-08-30T02:29:43.401762Z",
     "iopub.status.busy": "2022-08-30T02:29:43.401480Z",
     "iopub.status.idle": "2022-08-30T02:30:10.322215Z",
     "shell.execute_reply": "2022-08-30T02:30:10.321213Z"
    },
    "executionInfo": {
     "elapsed": 29079,
     "status": "ok",
     "timestamp": 1639927425975,
     "user": {
      "displayName": "lisa richter",
      "photoUrl": "https://lh3.googleusercontent.com/a/default-user=s64",
      "userId": "08999729000846221512"
     },
     "user_tz": -60
    },
    "id": "0BW8j8d-VMEf",
    "outputId": "ae25fde7-2831-463e-9f9c-94cffece4399",
    "papermill": {
     "duration": 26.936407,
     "end_time": "2022-08-30T02:30:10.324783",
     "exception": false,
     "start_time": "2022-08-30T02:29:43.388376",
     "status": "completed"
    },
    "tags": []
   },
   "outputs": [
    {
     "data": {
      "application/vnd.jupyter.widget-view+json": {
       "model_id": "abb0323bbbb94f66afa072517a5cfdfd",
       "version_major": 2,
       "version_minor": 0
      },
      "text/plain": [
       "Downloading:   0%|          | 0.00/445M [00:00<?, ?B/s]"
      ]
     },
     "metadata": {},
     "output_type": "display_data"
    },
    {
     "name": "stderr",
     "output_type": "stream",
     "text": [
      "Some weights of the model checkpoint at xlnet-base-cased were not used when initializing XLNetForSequenceClassification: ['lm_loss.weight', 'lm_loss.bias']\n",
      "- This IS expected if you are initializing XLNetForSequenceClassification from the checkpoint of a model trained on another task or with another architecture (e.g. initializing a BertForSequenceClassification model from a BertForPreTraining model).\n",
      "- This IS NOT expected if you are initializing XLNetForSequenceClassification from the checkpoint of a model that you expect to be exactly identical (initializing a BertForSequenceClassification model from a BertForSequenceClassification model).\n",
      "Some weights of XLNetForSequenceClassification were not initialized from the model checkpoint at xlnet-base-cased and are newly initialized: ['sequence_summary.summary.bias', 'sequence_summary.summary.weight', 'logits_proj.weight', 'logits_proj.bias']\n",
      "You should probably TRAIN this model on a down-stream task to be able to use it for predictions and inference.\n"
     ]
    }
   ],
   "source": [
    "# load pre-trained XLNet model\n",
    "from transformers import XLNetForSequenceClassification\n",
    "\n",
    "model = XLNetForSequenceClassification.from_pretrained('xlnet-base-cased', num_labels = 2)\n",
    "model = model.to(device)"
   ]
  },
  {
   "cell_type": "code",
   "execution_count": 25,
   "id": "7220626a",
   "metadata": {
    "execution": {
     "iopub.execute_input": "2022-08-30T02:30:10.352716Z",
     "iopub.status.busy": "2022-08-30T02:30:10.351967Z",
     "iopub.status.idle": "2022-08-30T02:30:10.396287Z",
     "shell.execute_reply": "2022-08-30T02:30:10.395145Z"
    },
    "executionInfo": {
     "elapsed": 209,
     "status": "ok",
     "timestamp": 1639927428967,
     "user": {
      "displayName": "lisa richter",
      "photoUrl": "https://lh3.googleusercontent.com/a/default-user=s64",
      "userId": "08999729000846221512"
     },
     "user_tz": -60
    },
    "id": "NJ30PhWNVPPi",
    "papermill": {
     "duration": 0.060628,
     "end_time": "2022-08-30T02:30:10.398666",
     "exception": false,
     "start_time": "2022-08-30T02:30:10.338038",
     "status": "completed"
    },
    "tags": []
   },
   "outputs": [
    {
     "name": "stderr",
     "output_type": "stream",
     "text": [
      "/opt/conda/lib/python3.7/site-packages/transformers/optimization.py:310: FutureWarning: This implementation of AdamW is deprecated and will be removed in a future version. Use the PyTorch implementation torch.optim.AdamW instead, or set `no_deprecation_warning=True` to disable this warning\n",
      "  FutureWarning,\n"
     ]
    }
   ],
   "source": [
    "# defining hyperparameters:\n",
    "EPOCHS = 2\n",
    "\n",
    "param_optimizer = list(model.named_parameters())\n",
    "no_decay = ['bias', 'LayerNorm.bias', 'LayerNorm.weight']\n",
    "optimizer_grouped_parameters = [{'params': [p for n, p in param_optimizer if not any(nd in n for nd in no_decay)], 'weight_decay': 0.01},\n",
    "                                {'params': [p for n, p in param_optimizer if any(nd in n for nd in no_decay)], 'weight_decay':0.0}]\n",
    "\n",
    "optimizer = AdamW(optimizer_grouped_parameters, lr=3e-5)\n",
    "total_steps = len(train_data_loader) * EPOCHS\n",
    "\n",
    "scheduler = get_linear_schedule_with_warmup(optimizer,\n",
    "                                            num_warmup_steps=0,\n",
    "                                            num_training_steps=total_steps)"
   ]
  },
  {
   "cell_type": "code",
   "execution_count": 26,
   "id": "136ee5a9",
   "metadata": {
    "execution": {
     "iopub.execute_input": "2022-08-30T02:30:10.426272Z",
     "iopub.status.busy": "2022-08-30T02:30:10.425967Z",
     "iopub.status.idle": "2022-08-30T02:30:10.569632Z",
     "shell.execute_reply": "2022-08-30T02:30:10.568372Z"
    },
    "executionInfo": {
     "elapsed": 518,
     "status": "ok",
     "timestamp": 1639927430687,
     "user": {
      "displayName": "lisa richter",
      "photoUrl": "https://lh3.googleusercontent.com/a/default-user=s64",
      "userId": "08999729000846221512"
     },
     "user_tz": -60
    },
    "id": "H32BljfAVzPA",
    "outputId": "2bbad477-e6f4-4376-f66e-c1162fcb66db",
    "papermill": {
     "duration": 0.160522,
     "end_time": "2022-08-30T02:30:10.572195",
     "exception": false,
     "start_time": "2022-08-30T02:30:10.411673",
     "status": "completed"
    },
    "tags": []
   },
   "outputs": [
    {
     "data": {
      "text/plain": [
       "dict_keys(['review_text', 'input_ids', 'attention_mask', 'targets'])"
      ]
     },
     "execution_count": 26,
     "metadata": {},
     "output_type": "execute_result"
    }
   ],
   "source": [
    "# sanity check: \n",
    "data = next(iter(val_data_loader))\n",
    "data.keys()"
   ]
  },
  {
   "cell_type": "code",
   "execution_count": 27,
   "id": "ffa83743",
   "metadata": {
    "execution": {
     "iopub.execute_input": "2022-08-30T02:30:10.600753Z",
     "iopub.status.busy": "2022-08-30T02:30:10.600388Z",
     "iopub.status.idle": "2022-08-30T02:30:10.609259Z",
     "shell.execute_reply": "2022-08-30T02:30:10.607780Z"
    },
    "executionInfo": {
     "elapsed": 211,
     "status": "ok",
     "timestamp": 1639927433797,
     "user": {
      "displayName": "lisa richter",
      "photoUrl": "https://lh3.googleusercontent.com/a/default-user=s64",
      "userId": "08999729000846221512"
     },
     "user_tz": -60
    },
    "id": "NGaIw8BaV2xx",
    "outputId": "55a70a1a-ffb8-412c-9914-10a4c499c3ce",
    "papermill": {
     "duration": 0.025229,
     "end_time": "2022-08-30T02:30:10.611373",
     "exception": false,
     "start_time": "2022-08-30T02:30:10.586144",
     "status": "completed"
    },
    "tags": []
   },
   "outputs": [
    {
     "name": "stdout",
     "output_type": "stream",
     "text": [
      "torch.Size([8, 512])\n",
      "torch.Size([8, 512])\n"
     ]
    }
   ],
   "source": [
    "input_ids = data['input_ids'].to(device)\n",
    "attention_mask = data['attention_mask'].to(device)\n",
    "targets = data['targets'].to(device)\n",
    "\n",
    "print(input_ids.reshape(8,512).shape) # batch size x seq length\n",
    "print(attention_mask.shape) # batch size x seq length"
   ]
  },
  {
   "cell_type": "code",
   "execution_count": 28,
   "id": "17894e49",
   "metadata": {
    "execution": {
     "iopub.execute_input": "2022-08-30T02:30:10.639194Z",
     "iopub.status.busy": "2022-08-30T02:30:10.638283Z",
     "iopub.status.idle": "2022-08-30T02:30:12.152087Z",
     "shell.execute_reply": "2022-08-30T02:30:12.151124Z"
    },
    "executionInfo": {
     "elapsed": 529,
     "status": "ok",
     "timestamp": 1639927436099,
     "user": {
      "displayName": "lisa richter",
      "photoUrl": "https://lh3.googleusercontent.com/a/default-user=s64",
      "userId": "08999729000846221512"
     },
     "user_tz": -60
    },
    "id": "i904xeuKV-mv",
    "papermill": {
     "duration": 1.530278,
     "end_time": "2022-08-30T02:30:12.154583",
     "exception": false,
     "start_time": "2022-08-30T02:30:10.624305",
     "status": "completed"
    },
    "tags": []
   },
   "outputs": [],
   "source": [
    "outputs = model(input_ids.reshape(8,512), \n",
    "                token_type_ids=None, \n",
    "                attention_mask=attention_mask, \n",
    "                labels=targets)"
   ]
  },
  {
   "cell_type": "code",
   "execution_count": 29,
   "id": "acd73c6b",
   "metadata": {
    "execution": {
     "iopub.execute_input": "2022-08-30T02:30:12.182839Z",
     "iopub.status.busy": "2022-08-30T02:30:12.182241Z",
     "iopub.status.idle": "2022-08-30T02:30:12.188819Z",
     "shell.execute_reply": "2022-08-30T02:30:12.187796Z"
    },
    "executionInfo": {
     "elapsed": 3,
     "status": "ok",
     "timestamp": 1639927437307,
     "user": {
      "displayName": "lisa richter",
      "photoUrl": "https://lh3.googleusercontent.com/a/default-user=s64",
      "userId": "08999729000846221512"
     },
     "user_tz": -60
    },
    "id": "1vaahW2hWFKk",
    "outputId": "deb3af3e-1571-4a0f-c95c-985837927c92",
    "papermill": {
     "duration": 0.022776,
     "end_time": "2022-08-30T02:30:12.190895",
     "exception": false,
     "start_time": "2022-08-30T02:30:12.168119",
     "status": "completed"
    },
    "tags": []
   },
   "outputs": [
    {
     "data": {
      "text/plain": [
       "torch.Tensor"
      ]
     },
     "execution_count": 29,
     "metadata": {},
     "output_type": "execute_result"
    }
   ],
   "source": [
    "type(outputs[0]) # should be torch.Tensor"
   ]
  },
  {
   "cell_type": "code",
   "execution_count": 30,
   "id": "fa354578",
   "metadata": {
    "execution": {
     "iopub.execute_input": "2022-08-30T02:30:12.220560Z",
     "iopub.status.busy": "2022-08-30T02:30:12.217655Z",
     "iopub.status.idle": "2022-08-30T02:30:12.233304Z",
     "shell.execute_reply": "2022-08-30T02:30:12.232175Z"
    },
    "executionInfo": {
     "elapsed": 204,
     "status": "ok",
     "timestamp": 1639927439654,
     "user": {
      "displayName": "lisa richter",
      "photoUrl": "https://lh3.googleusercontent.com/a/default-user=s64",
      "userId": "08999729000846221512"
     },
     "user_tz": -60
    },
    "id": "BTZJVJzbWH1t",
    "papermill": {
     "duration": 0.032206,
     "end_time": "2022-08-30T02:30:12.235909",
     "exception": false,
     "start_time": "2022-08-30T02:30:12.203703",
     "status": "completed"
    },
    "tags": []
   },
   "outputs": [],
   "source": [
    "# define training step function:\n",
    "from sklearn import metrics\n",
    "\n",
    "def train_epoch(model, data_loader, optimizer, device, scheduler, n_examples):\n",
    "    model = model.train()\n",
    "    losses = []\n",
    "    acc = 0\n",
    "    counter = 0\n",
    "    \n",
    "    for d in data_loader:\n",
    "        input_ids = d[\"input_ids\"].reshape(8,512).to(device)\n",
    "        attention_mask = d[\"attention_mask\"].to(device)\n",
    "        targets = d[\"targets\"].to(device)\n",
    "    \n",
    "        outputs = model(input_ids=input_ids, token_type_ids=None, attention_mask=attention_mask, labels = targets)\n",
    "        loss = outputs[0]\n",
    "        logits = outputs[1]\n",
    "    \n",
    "        _, prediction = torch.max(outputs[1], dim=1)\n",
    "        targets = targets.cpu().detach().numpy()\n",
    "        prediction = prediction.cpu().detach().numpy()\n",
    "        accuracy = metrics.accuracy_score(targets, prediction)\n",
    "\n",
    "        acc += accuracy\n",
    "        losses.append(loss.item())\n",
    "\n",
    "        loss.backward()\n",
    "\n",
    "        nn.utils.clip_grad_norm_(model.parameters(), max_norm=1.0)\n",
    "        optimizer.step()\n",
    "        scheduler.step()\n",
    "        optimizer.zero_grad()\n",
    "        counter = counter + 1\n",
    "    \n",
    "    return acc / counter, np.mean(losses)"
   ]
  },
  {
   "cell_type": "code",
   "execution_count": 31,
   "id": "b54becbd",
   "metadata": {
    "execution": {
     "iopub.execute_input": "2022-08-30T02:30:12.266481Z",
     "iopub.status.busy": "2022-08-30T02:30:12.265643Z",
     "iopub.status.idle": "2022-08-30T02:30:12.276221Z",
     "shell.execute_reply": "2022-08-30T02:30:12.275224Z"
    },
    "executionInfo": {
     "elapsed": 218,
     "status": "ok",
     "timestamp": 1639927441330,
     "user": {
      "displayName": "lisa richter",
      "photoUrl": "https://lh3.googleusercontent.com/a/default-user=s64",
      "userId": "08999729000846221512"
     },
     "user_tz": -60
    },
    "id": "uo_4GfYUWf6y",
    "papermill": {
     "duration": 0.027872,
     "end_time": "2022-08-30T02:30:12.278312",
     "exception": false,
     "start_time": "2022-08-30T02:30:12.250440",
     "status": "completed"
    },
    "tags": []
   },
   "outputs": [],
   "source": [
    "# define evaluation function:\n",
    "def eval_model(model, data_loader, device, n_examples):\n",
    "    model = model.eval()\n",
    "    losses = []\n",
    "    acc = 0\n",
    "    counter = 0\n",
    "    \n",
    "    with torch.no_grad():\n",
    "        for d in data_loader:\n",
    "            input_ids = d[\"input_ids\"].reshape(8,512).to(device)\n",
    "            attention_mask = d[\"attention_mask\"].to(device)\n",
    "            targets = d[\"targets\"].to(device)\n",
    "            \n",
    "            outputs = model(input_ids=input_ids, token_type_ids=None, attention_mask=attention_mask, labels = targets)\n",
    "            loss = outputs[0]\n",
    "            logits = outputs[1]\n",
    "            \n",
    "            # _, prediction = torch.max(outputs[1], dim=1)\n",
    "            probs = F.softmax(outputs[1], dim=1)\n",
    "            threshold = 0.99\n",
    "            pred_thresh = []\n",
    "            for i in probs:\n",
    "                hatespeech_prob = i[1]\n",
    "                if hatespeech_prob < threshold:\n",
    "                    pred_thresh.append(0)\n",
    "                elif hatespeech_prob >= threshold:\n",
    "                    pred_thresh.append(1)\n",
    "            prediction = torch.tensor(pred_thresh)\n",
    "            \n",
    "            targets = targets.cpu().detach().numpy()\n",
    "            prediction = prediction.cpu().detach().numpy()\n",
    "            accuracy = metrics.accuracy_score(targets, prediction)\n",
    "            \n",
    "            acc += accuracy\n",
    "            losses.append(loss.item())\n",
    "            counter += 1\n",
    "            \n",
    "    return acc / counter, np.mean(losses)"
   ]
  },
  {
   "cell_type": "markdown",
   "id": "4e3dc106",
   "metadata": {
    "id": "t-KmGspfW6Mz",
    "papermill": {
     "duration": 0.013426,
     "end_time": "2022-08-30T02:30:12.306365",
     "exception": false,
     "start_time": "2022-08-30T02:30:12.292939",
     "status": "completed"
    },
    "tags": []
   },
   "source": [
    "# 3. Fine-Tune the Model"
   ]
  },
  {
   "cell_type": "code",
   "execution_count": 32,
   "id": "af5f9645",
   "metadata": {
    "execution": {
     "iopub.execute_input": "2022-08-30T02:30:12.334655Z",
     "iopub.status.busy": "2022-08-30T02:30:12.333735Z",
     "iopub.status.idle": "2022-08-30T03:15:08.572814Z",
     "shell.execute_reply": "2022-08-30T03:15:08.570553Z"
    },
    "id": "VMDeps-AW0Q4",
    "outputId": "8ec3dece-bc52-41c7-8f1d-4b7f6ba78b9b",
    "papermill": {
     "duration": 2696.257473,
     "end_time": "2022-08-30T03:15:08.576783",
     "exception": false,
     "start_time": "2022-08-30T02:30:12.319310",
     "status": "completed"
    },
    "tags": []
   },
   "outputs": [
    {
     "name": "stdout",
     "output_type": "stream",
     "text": [
      "Epoch 1/2\n",
      "----------\n",
      "Train loss 0.28110919024364556 Train accuracy 0.9191666666666667\n",
      "Val loss 0.2038224480965485 Val accuracy 0.9381666666666667\n",
      "\n",
      "Epoch 2/2\n",
      "----------\n",
      "Train loss 0.15113896493803866 Train accuracy 0.9631666666666666\n",
      "Val loss 0.21974863921365856 Val accuracy 0.9481666666666667\n",
      "\n",
      "CPU times: user 44min 30s, sys: 8.06 s, total: 44min 38s\n",
      "Wall time: 44min 56s\n"
     ]
    }
   ],
   "source": [
    "%%time\n",
    "history = defaultdict(list)\n",
    "best_accuracy = 0\n",
    "\n",
    "for epoch in range(EPOCHS):\n",
    "    print(f'Epoch {epoch + 1}/{EPOCHS}')\n",
    "    print('-' * 10)\n",
    "    \n",
    "    # call train function\n",
    "    train_acc, train_loss = train_epoch(model,\n",
    "                                      train_data_loader,\n",
    "                                      optimizer,\n",
    "                                      device, \n",
    "                                      scheduler, \n",
    "                                      len(df_train))\n",
    "    \n",
    "    print(f'Train loss {train_loss} Train accuracy {train_acc}')\n",
    "    \n",
    "    # call evaluation function\n",
    "    val_acc, val_loss = eval_model(model,\n",
    "                                 val_data_loader, \n",
    "                                 device, \n",
    "                                 len(df_val))\n",
    "    \n",
    "    print(f'Val loss {val_loss} Val accuracy {val_acc}')\n",
    "    print()\n",
    "    \n",
    "    history['train_acc'].append(train_acc)\n",
    "    history['train_loss'].append(train_loss)\n",
    "    history['val_acc'].append(val_acc)\n",
    "    history['val_loss'].append(val_loss)\n",
    "    \n",
    "    if val_acc > best_accuracy:\n",
    "        torch.save(model.state_dict(), 'xlnet_model_hate.bin') # note: this scrip was implemented using Kaggle's GPU. The model was saved into the Kaggle repo and downloaded manually\n",
    "        best_accuracy = val_acc"
   ]
  },
  {
   "cell_type": "code",
   "execution_count": 33,
   "id": "033c0f46",
   "metadata": {
    "execution": {
     "iopub.execute_input": "2022-08-30T03:15:08.631390Z",
     "iopub.status.busy": "2022-08-30T03:15:08.630955Z",
     "iopub.status.idle": "2022-08-30T03:15:08.921811Z",
     "shell.execute_reply": "2022-08-30T03:15:08.920898Z"
    },
    "papermill": {
     "duration": 0.315334,
     "end_time": "2022-08-30T03:15:08.924482",
     "exception": false,
     "start_time": "2022-08-30T03:15:08.609148",
     "status": "completed"
    },
    "tags": []
   },
   "outputs": [
    {
     "data": {
      "image/png": "[encoded data removed]",
      "text/plain": [
       "<Figure size 432x288 with 1 Axes>"
      ]
     },
     "metadata": {
      "needs_background": "light"
     },
     "output_type": "display_data"
    }
   ],
   "source": [
    "fig = plt.figure()\n",
    "plt.plot(history['train_acc'], label='train accuracy')\n",
    "plt.plot(history['val_acc'], label='validation accuracy')\n",
    "plt.plot(history['train_loss'], label='train loss')\n",
    "plt.plot(history['val_loss'], label='validation loss')\n",
    "#plt.title('Training History')\n",
    "plt.ylabel('Accuracy and Loss')\n",
    "plt.xlabel('Epoch')\n",
    "plt.legend()\n",
    "plt.ylim([0, 1])\n",
    "fig.savefig('training_hate.png');"
   ]
  },
  {
   "cell_type": "markdown",
   "id": "dd7266d1",
   "metadata": {
    "id": "qkt-pTitXaxI",
    "papermill": {
     "duration": 0.020405,
     "end_time": "2022-08-30T03:15:08.966335",
     "exception": false,
     "start_time": "2022-08-30T03:15:08.945930",
     "status": "completed"
    },
    "tags": []
   },
   "source": [
    "# 4. Evaluation of Fine-Tuned Model"
   ]
  },
  {
   "cell_type": "code",
   "execution_count": 34,
   "id": "f6ce65ff",
   "metadata": {
    "execution": {
     "iopub.execute_input": "2022-08-30T03:15:09.009147Z",
     "iopub.status.busy": "2022-08-30T03:15:09.008613Z",
     "iopub.status.idle": "2022-08-30T03:15:09.372355Z",
     "shell.execute_reply": "2022-08-30T03:15:09.371318Z"
    },
    "id": "BhgjuEUpW4X0",
    "papermill": {
     "duration": 0.38787,
     "end_time": "2022-08-30T03:15:09.374604",
     "exception": false,
     "start_time": "2022-08-30T03:15:08.986734",
     "status": "completed"
    },
    "tags": []
   },
   "outputs": [
    {
     "data": {
      "text/plain": [
       "<All keys matched successfully>"
      ]
     },
     "execution_count": 34,
     "metadata": {},
     "output_type": "execute_result"
    }
   ],
   "source": [
    "# read model saved in previous step:\n",
    "# when connected to GPU:\n",
    "model.load_state_dict(torch.load('xlnet_model_hate.bin'))\n",
    "\n",
    "# when not connected to GPU (hence no cuda):\n",
    "#model.load_state_dict(torch.load('/content/drive/MyDrive/Colab Notebooks/models/xlnet_model_hate.bin', map_location=torch.device('cpu')))"
   ]
  },
  {
   "cell_type": "code",
   "execution_count": 35,
   "id": "eadc87f7",
   "metadata": {
    "execution": {
     "iopub.execute_input": "2022-08-30T03:15:09.403384Z",
     "iopub.status.busy": "2022-08-30T03:15:09.403082Z",
     "iopub.status.idle": "2022-08-30T03:15:09.411591Z",
     "shell.execute_reply": "2022-08-30T03:15:09.410758Z"
    },
    "id": "M5m549A4XkCq",
    "papermill": {
     "duration": 0.025165,
     "end_time": "2022-08-30T03:15:09.413597",
     "exception": false,
     "start_time": "2022-08-30T03:15:09.388432",
     "status": "completed"
    },
    "tags": []
   },
   "outputs": [],
   "source": [
    "model = model.to(device)"
   ]
  },
  {
   "cell_type": "code",
   "execution_count": 36,
   "id": "0fdf9248",
   "metadata": {
    "execution": {
     "iopub.execute_input": "2022-08-30T03:15:09.442070Z",
     "iopub.status.busy": "2022-08-30T03:15:09.441772Z",
     "iopub.status.idle": "2022-08-30T03:19:09.498745Z",
     "shell.execute_reply": "2022-08-30T03:19:09.497509Z"
    },
    "id": "k2LEhO6BXk9O",
    "papermill": {
     "duration": 240.142643,
     "end_time": "2022-08-30T03:19:09.569946",
     "exception": false,
     "start_time": "2022-08-30T03:15:09.427303",
     "status": "completed"
    },
    "tags": []
   },
   "outputs": [
    {
     "name": "stdout",
     "output_type": "stream",
     "text": [
      "Test Accuracy : 0.9488333333333333\n",
      "Test Loss : 0.23466799235995858\n"
     ]
    }
   ],
   "source": [
    "# call evaluation function and apply to test set\n",
    "test_acc, test_loss = eval_model(model,\n",
    "                                 test_data_loader,\n",
    "                                 device,\n",
    "                                 len(df_test))\n",
    "\n",
    "print('Test Accuracy :', test_acc)\n",
    "print('Test Loss :', test_loss)"
   ]
  },
  {
   "cell_type": "code",
   "execution_count": 37,
   "id": "3280e00d",
   "metadata": {
    "execution": {
     "iopub.execute_input": "2022-08-30T03:19:09.600285Z",
     "iopub.status.busy": "2022-08-30T03:19:09.599449Z",
     "iopub.status.idle": "2022-08-30T03:19:09.610747Z",
     "shell.execute_reply": "2022-08-30T03:19:09.609702Z"
    },
    "id": "gfagcMqXXySQ",
    "papermill": {
     "duration": 0.028997,
     "end_time": "2022-08-30T03:19:09.612843",
     "exception": false,
     "start_time": "2022-08-30T03:19:09.583846",
     "status": "completed"
    },
    "tags": []
   },
   "outputs": [],
   "source": [
    "# define function to get prediction of data\n",
    "def get_predictions(model, data_loader):\n",
    "    model = model.eval()\n",
    "    \n",
    "    review_texts = []\n",
    "    predictions = []\n",
    "    prediction_probs = []\n",
    "    real_values = []\n",
    "    \n",
    "    with torch.no_grad():\n",
    "        for d in data_loader:\n",
    "            texts = d[\"review_text\"]\n",
    "            input_ids = d[\"input_ids\"].reshape(8,512).to(device)\n",
    "            attention_mask = d[\"attention_mask\"].to(device)\n",
    "            targets = d[\"targets\"].to(device)\n",
    "            \n",
    "            outputs = model(input_ids=input_ids,\n",
    "                            token_type_ids=None,\n",
    "                            attention_mask=attention_mask,#\n",
    "                            labels=targets)\n",
    "            \n",
    "            loss = outputs[0]\n",
    "            logits = outputs[1]\n",
    "            \n",
    "            _, preds = torch.max(outputs[1], dim=1)\n",
    "            probs = F.softmax(outputs[1], dim=1)\n",
    "            threshold = 0.99\n",
    "            pred_thresh = []\n",
    "            for i in probs:\n",
    "                hatespeech_prob = i[1]\n",
    "                if hatespeech_prob < threshold:\n",
    "                    pred_thresh.append(0)\n",
    "                elif hatespeech_prob >= threshold:\n",
    "                    pred_thresh.append(1)\n",
    "            predictions.extend(torch.tensor(pred_thresh))\n",
    "            review_texts.extend(texts)\n",
    "            prediction_probs.extend(probs)\n",
    "            real_values.extend(targets)\n",
    "            \n",
    "    predictions = torch.stack(predictions).cpu()\n",
    "    prediction_probs = torch.stack(prediction_probs).cpu()\n",
    "    real_values = torch.stack(real_values).cpu()\n",
    "    \n",
    "    return review_texts, predictions, prediction_probs, real_values"
   ]
  },
  {
   "cell_type": "code",
   "execution_count": 38,
   "id": "28065a31",
   "metadata": {
    "execution": {
     "iopub.execute_input": "2022-08-30T03:19:09.642832Z",
     "iopub.status.busy": "2022-08-30T03:19:09.642551Z",
     "iopub.status.idle": "2022-08-30T03:23:09.860793Z",
     "shell.execute_reply": "2022-08-30T03:23:09.859520Z"
    },
    "id": "QF0BEx6wYd9B",
    "papermill": {
     "duration": 240.236144,
     "end_time": "2022-08-30T03:23:09.863834",
     "exception": false,
     "start_time": "2022-08-30T03:19:09.627690",
     "status": "completed"
    },
    "tags": []
   },
   "outputs": [],
   "source": [
    "# call prediction function to get actual predictions of test set \n",
    "y_review_texts, y_pred, y_pred_probs, y_test = get_predictions(model, test_data_loader)"
   ]
  },
  {
   "cell_type": "code",
   "execution_count": 39,
   "id": "fdd32adb",
   "metadata": {
    "execution": {
     "iopub.execute_input": "2022-08-30T03:23:09.894193Z",
     "iopub.status.busy": "2022-08-30T03:23:09.893858Z",
     "iopub.status.idle": "2022-08-30T03:23:09.929412Z",
     "shell.execute_reply": "2022-08-30T03:23:09.928345Z"
    },
    "id": "bvVa7l2DYm3L",
    "papermill": {
     "duration": 0.053252,
     "end_time": "2022-08-30T03:23:09.931882",
     "exception": false,
     "start_time": "2022-08-30T03:23:09.878630",
     "status": "completed"
    },
    "tags": []
   },
   "outputs": [
    {
     "name": "stdout",
     "output_type": "stream",
     "text": [
      "              precision    recall  f1-score   support\n",
      "\n",
      "     no hate       0.94      0.98      0.96      3555\n",
      "        hate       0.97      0.90      0.93      2445\n",
      "\n",
      "    accuracy                           0.95      6000\n",
      "   macro avg       0.95      0.94      0.95      6000\n",
      "weighted avg       0.95      0.95      0.95      6000\n",
      "\n"
     ]
    }
   ],
   "source": [
    "print(classification_report(y_test, y_pred, target_names=class_names))\n",
    "report = classification_report(y_test, y_pred, target_names=class_names,output_dict=True)\n",
    "report = pd.DataFrame(report).transpose()\n",
    "report.to_csv('report_hate.csv')"
   ]
  },
  {
   "cell_type": "code",
   "execution_count": 40,
   "id": "42e9c607",
   "metadata": {
    "execution": {
     "iopub.execute_input": "2022-08-30T03:23:09.961603Z",
     "iopub.status.busy": "2022-08-30T03:23:09.961084Z",
     "iopub.status.idle": "2022-08-30T03:23:10.234327Z",
     "shell.execute_reply": "2022-08-30T03:23:10.233338Z"
    },
    "papermill": {
     "duration": 0.290459,
     "end_time": "2022-08-30T03:23:10.236440",
     "exception": false,
     "start_time": "2022-08-30T03:23:09.945981",
     "status": "completed"
    },
    "tags": []
   },
   "outputs": [
    {
     "name": "stderr",
     "output_type": "stream",
     "text": [
      "/opt/conda/lib/python3.7/site-packages/ipykernel_launcher.py:2: FutureWarning: Support for multi-dimensional indexing (e.g. `obj[:, None]`) is deprecated and will be removed in a future version.  Convert to a numpy array before indexing instead.\n",
      "  \n"
     ]
    },
    {
     "data": {
      "image/png": "[encoded data removed]",
      "text/plain": [
       "<Figure size 432x288 with 2 Axes>"
      ]
     },
     "metadata": {
      "needs_background": "light"
     },
     "output_type": "display_data"
    }
   ],
   "source": [
    "def show_confusion_matrix(confusion_matrix):\n",
    "    hmap = sns.heatmap(confusion_matrix/ confusion_matrix.sum(axis=1)[:, np.newaxis], annot=True, fmt='.2%', cmap=\"Blues\")\n",
    "    hmap.yaxis.set_ticklabels(hmap.yaxis.get_ticklabels(), rotation=0, ha='right')\n",
    "    hmap.xaxis.set_ticklabels(hmap.xaxis.get_ticklabels(), rotation=30, ha='right')\n",
    "\n",
    "    plt.ylabel('True Hate')\n",
    "    plt.xlabel('Predicted Hate')\n",
    "    plt.savefig('confusion_hate');\n",
    "    \n",
    "\n",
    "cm = confusion_matrix(y_test, y_pred)\n",
    "df_cm = pd.DataFrame(cm, index=class_names, columns=class_names)\n",
    "df_cm.to_csv('cm_hate.csv')\n",
    "\n",
    "show_confusion_matrix(df_cm)"
   ]
  }
 ],
 "metadata": {
  "kernelspec": {
   "display_name": "Python 3",
   "language": "python",
   "name": "python3"
  },
  "language_info": {
   "codemirror_mode": {
    "name": "ipython",
    "version": 3
   },
   "file_extension": ".py",
   "mimetype": "text/x-python",
   "name": "python",
   "nbconvert_exporter": "python",
   "pygments_lexer": "ipython3",
   "version": "3.7.12"
  },
  "papermill": {
   "default_parameters": {},
   "duration": 3254.80167,
   "end_time": "2022-08-30T03:23:13.269297",
   "environment_variables": {},
   "exception": null,
   "input_path": "__notebook__.ipynb",
   "output_path": "__notebook__.ipynb",
   "parameters": {},
   "start_time": "2022-08-30T02:28:58.467627",
   "version": "2.3.4"
  },
  "widgets": {
   "application/vnd.jupyter.widget-state+json": {
    "state": {
     "008ab33a2e0b4a60b27e6d26ac2e93d7": {
      "model_module": "@jupyter-widgets/base",
      "model_module_version": "1.2.0",
      "model_name": "LayoutModel",
      "state": {
       "_model_module": "@jupyter-widgets/base",
       "_model_module_version": "1.2.0",
       "_model_name": "LayoutModel",
       "_view_count": null,
       "_view_module": "@jupyter-widgets/base",
       "_view_module_version": "1.2.0",
       "_view_name": "LayoutView",
       "align_content": null,
       "align_items": null,
       "align_self": null,
       "border": null,
       "bottom": null,
       "display": null,
       "flex": null,
       "flex_flow": null,
       "grid_area": null,
       "grid_auto_columns": null,
       "grid_auto_flow": null,
       "grid_auto_rows": null,
       "grid_column": null,
       "grid_gap": null,
       "grid_row": null,
       "grid_template_areas": null,
       "grid_template_columns": null,
       "grid_template_rows": null,
       "height": null,
       "justify_content": null,
       "justify_items": null,
       "left": null,
       "margin": null,
       "max_height": null,
       "max_width": null,
       "min_height": null,
       "min_width": null,
       "object_fit": null,
       "object_position": null,
       "order": null,
       "overflow": null,
       "overflow_x": null,
       "overflow_y": null,
       "padding": null,
       "right": null,
       "top": null,
       "visibility": null,
       "width": null
      }
     },
     "035497e6d25a44dfbfd2d8e2444c82fe": {
      "model_module": "@jupyter-widgets/controls",
      "model_module_version": "1.5.0",
      "model_name": "DescriptionStyleModel",
      "state": {
       "_model_module": "@jupyter-widgets/controls",
       "_model_module_version": "1.5.0",
       "_model_name": "DescriptionStyleModel",
       "_view_count": null,
       "_view_module": "@jupyter-widgets/base",
       "_view_module_version": "1.2.0",
       "_view_name": "StyleView",
       "description_width": ""
      }
     },
     "04b3ba6948514be7a7d3e5d8c71b3831": {
      "model_module": "@jupyter-widgets/controls",
      "model_module_version": "1.5.0",
      "model_name": "HTMLModel",
      "state": {
       "_dom_classes": [],
       "_model_module": "@jupyter-widgets/controls",
       "_model_module_version": "1.5.0",
       "_model_name": "HTMLModel",
       "_view_count": null,
       "_view_module": "@jupyter-widgets/controls",
       "_view_module_version": "1.5.0",
       "_view_name": "HTMLView",
       "description": "",
       "description_tooltip": null,
       "layout": "IPY_MODEL_497e9a5045f04dba8c9bb8ad6b1c73f5",
       "placeholder": "​",
       "style": "IPY_MODEL_79105930f3e7400ca05c8d9204686dce",
       "value": " 1.84k/? [00:00&lt;00:00, 69.5kB/s]"
      }
     },
     "05bea264ce684c458b03b0ad42fa46a7": {
      "model_module": "@jupyter-widgets/controls",
      "model_module_version": "1.5.0",
      "model_name": "FloatProgressModel",
      "state": {
       "_dom_classes": [],
       "_model_module": "@jupyter-widgets/controls",
       "_model_module_version": "1.5.0",
       "_model_name": "FloatProgressModel",
       "_view_count": null,
       "_view_module": "@jupyter-widgets/controls",
       "_view_module_version": "1.5.0",
       "_view_name": "ProgressView",
       "bar_style": "success",
       "description": "",
       "description_tooltip": null,
       "layout": "IPY_MODEL_243689413e2a4e7e9d3f3a4368f05eac",
       "max": 823.0,
       "min": 0.0,
       "orientation": "horizontal",
       "style": "IPY_MODEL_ec81a43bc09c412d8cc291cbf9c5dea1",
       "value": 823.0
      }
     },
     "09717395715f40cf8f0c589f57342d69": {
      "model_module": "@jupyter-widgets/controls",
      "model_module_version": "1.5.0",
      "model_name": "HTMLModel",
      "state": {
       "_dom_classes": [],
       "_model_module": "@jupyter-widgets/controls",
       "_model_module_version": "1.5.0",
       "_model_name": "HTMLModel",
       "_view_count": null,
       "_view_module": "@jupyter-widgets/controls",
       "_view_module_version": "1.5.0",
       "_view_name": "HTMLView",
       "description": "",
       "description_tooltip": null,
       "layout": "IPY_MODEL_179da23bc70445a3b144cdad3277c332",
       "placeholder": "​",
       "style": "IPY_MODEL_3f593a3e1c4f445f9b023e3f3feaa2ce",
       "value": "Downloading: 100%"
      }
     },
     "0a3ff49628e9435c99e1f1d90d87ec20": {
      "model_module": "@jupyter-widgets/base",
      "model_module_version": "1.2.0",
      "model_name": "LayoutModel",
      "state": {
       "_model_module": "@jupyter-widgets/base",
       "_model_module_version": "1.2.0",
       "_model_name": "LayoutModel",
       "_view_count": null,
       "_view_module": "@jupyter-widgets/base",
       "_view_module_version": "1.2.0",
       "_view_name": "LayoutView",
       "align_content": null,
       "align_items": null,
       "align_self": null,
       "border": null,
       "bottom": null,
       "display": null,
       "flex": null,
       "flex_flow": null,
       "grid_area": null,
       "grid_auto_columns": null,
       "grid_auto_flow": null,
       "grid_auto_rows": null,
       "grid_column": null,
       "grid_gap": null,
       "grid_row": null,
       "grid_template_areas": null,
       "grid_template_columns": null,
       "grid_template_rows": null,
       "height": null,
       "justify_content": null,
       "justify_items": null,
       "left": null,
       "margin": null,
       "max_height": null,
       "max_width": null,
       "min_height": null,
       "min_width": null,
       "object_fit": null,
       "object_position": null,
       "order": null,
       "overflow": null,
       "overflow_x": null,
       "overflow_y": null,
       "padding": null,
       "right": null,
       "top": null,
       "visibility": null,
       "width": null
      }
     },
     "0a486974e87648199fcf26e802ac845c": {
      "model_module": "@jupyter-widgets/base",
      "model_module_version": "1.2.0",
      "model_name": "LayoutModel",
      "state": {
       "_model_module": "@jupyter-widgets/base",
       "_model_module_version": "1.2.0",
       "_model_name": "LayoutModel",
       "_view_count": null,
       "_view_module": "@jupyter-widgets/base",
       "_view_module_version": "1.2.0",
       "_view_name": "LayoutView",
       "align_content": null,
       "align_items": null,
       "align_self": null,
       "border": null,
       "bottom": null,
       "display": null,
       "flex": null,
       "flex_flow": null,
       "grid_area": null,
       "grid_auto_columns": null,
       "grid_auto_flow": null,
       "grid_auto_rows": null,
       "grid_column": null,
       "grid_gap": null,
       "grid_row": null,
       "grid_template_areas": null,
       "grid_template_columns": null,
       "grid_template_rows": null,
       "height": null,
       "justify_content": null,
       "justify_items": null,
       "left": null,
       "margin": null,
       "max_height": null,
       "max_width": null,
       "min_height": null,
       "min_width": null,
       "object_fit": null,
       "object_position": null,
       "order": null,
       "overflow": null,
       "overflow_x": null,
       "overflow_y": null,
       "padding": null,
       "right": null,
       "top": null,
       "visibility": null,
       "width": null
      }
     },
     "0ac2a778eb304656b8f39e4260998143": {
      "model_module": "@jupyter-widgets/controls",
      "model_module_version": "1.5.0",
      "model_name": "DescriptionStyleModel",
      "state": {
       "_model_module": "@jupyter-widgets/controls",
       "_model_module_version": "1.5.0",
       "_model_name": "DescriptionStyleModel",
       "_view_count": null,
       "_view_module": "@jupyter-widgets/base",
       "_view_module_version": "1.2.0",
       "_view_name": "StyleView",
       "description_width": ""
      }
     },
     "0edd1a9ef2bf45bdb27884bc459d4efc": {
      "model_module": "@jupyter-widgets/controls",
      "model_module_version": "1.5.0",
      "model_name": "DescriptionStyleModel",
      "state": {
       "_model_module": "@jupyter-widgets/controls",
       "_model_module_version": "1.5.0",
       "_model_name": "DescriptionStyleModel",
       "_view_count": null,
       "_view_module": "@jupyter-widgets/base",
       "_view_module_version": "1.2.0",
       "_view_name": "StyleView",
       "description_width": ""
      }
     },
     "0fc0d75be9f249eeb5038739dc7df764": {
      "model_module": "@jupyter-widgets/controls",
      "model_module_version": "1.5.0",
      "model_name": "HTMLModel",
      "state": {
       "_dom_classes": [],
       "_model_module": "@jupyter-widgets/controls",
       "_model_module_version": "1.5.0",
       "_model_name": "HTMLModel",
       "_view_count": null,
       "_view_module": "@jupyter-widgets/controls",
       "_view_module_version": "1.5.0",
       "_view_name": "HTMLView",
       "description": "",
       "description_tooltip": null,
       "layout": "IPY_MODEL_327dec6a2d774c8da7baab50cb685d32",
       "placeholder": "​",
       "style": "IPY_MODEL_c61fc567a9a34b97a0d2f40a592a66bd",
       "value": "Downloading data: "
      }
     },
     "130004943b8c4ddba5ffe07cd372305c": {
      "model_module": "@jupyter-widgets/controls",
      "model_module_version": "1.5.0",
      "model_name": "FloatProgressModel",
      "state": {
       "_dom_classes": [],
       "_model_module": "@jupyter-widgets/controls",
       "_model_module_version": "1.5.0",
       "_model_name": "FloatProgressModel",
       "_view_count": null,
       "_view_module": "@jupyter-widgets/controls",
       "_view_module_version": "1.5.0",
       "_view_name": "ProgressView",
       "bar_style": "",
       "description": "",
       "description_tooltip": null,
       "layout": "IPY_MODEL_787000d78a524578b9446c526763f51f",
       "max": 24783.0,
       "min": 0.0,
       "orientation": "horizontal",
       "style": "IPY_MODEL_709db5e7e567434cbe8b56dd14317adb",
       "value": 24783.0
      }
     },
     "16f821e8446149059104396d6024f6c5": {
      "model_module": "@jupyter-widgets/controls",
      "model_module_version": "1.5.0",
      "model_name": "DescriptionStyleModel",
      "state": {
       "_model_module": "@jupyter-widgets/controls",
       "_model_module_version": "1.5.0",
       "_model_name": "DescriptionStyleModel",
       "_view_count": null,
       "_view_module": "@jupyter-widgets/base",
       "_view_module_version": "1.2.0",
       "_view_name": "StyleView",
       "description_width": ""
      }
     },
     "175420c9fca44d548d060bb05c3c24fc": {
      "model_module": "@jupyter-widgets/controls",
      "model_module_version": "1.5.0",
      "model_name": "DescriptionStyleModel",
      "state": {
       "_model_module": "@jupyter-widgets/controls",
       "_model_module_version": "1.5.0",
       "_model_name": "DescriptionStyleModel",
       "_view_count": null,
       "_view_module": "@jupyter-widgets/base",
       "_view_module_version": "1.2.0",
       "_view_name": "StyleView",
       "description_width": ""
      }
     },
     "179da23bc70445a3b144cdad3277c332": {
      "model_module": "@jupyter-widgets/base",
      "model_module_version": "1.2.0",
      "model_name": "LayoutModel",
      "state": {
       "_model_module": "@jupyter-widgets/base",
       "_model_module_version": "1.2.0",
       "_model_name": "LayoutModel",
       "_view_count": null,
       "_view_module": "@jupyter-widgets/base",
       "_view_module_version": "1.2.0",
       "_view_name": "LayoutView",
       "align_content": null,
       "align_items": null,
       "align_self": null,
       "border": null,
       "bottom": null,
       "display": null,
       "flex": null,
       "flex_flow": null,
       "grid_area": null,
       "grid_auto_columns": null,
       "grid_auto_flow": null,
       "grid_auto_rows": null,
       "grid_column": null,
       "grid_gap": null,
       "grid_row": null,
       "grid_template_areas": null,
       "grid_template_columns": null,
       "grid_template_rows": null,
       "height": null,
       "justify_content": null,
       "justify_items": null,
       "left": null,
       "margin": null,
       "max_height": null,
       "max_width": null,
       "min_height": null,
       "min_width": null,
       "object_fit": null,
       "object_position": null,
       "order": null,
       "overflow": null,
       "overflow_x": null,
       "overflow_y": null,
       "padding": null,
       "right": null,
       "top": null,
       "visibility": null,
       "width": null
      }
     },
     "18545b29b8c440a9b031b41509239407": {
      "model_module": "@jupyter-widgets/controls",
      "model_module_version": "1.5.0",
      "model_name": "FloatProgressModel",
      "state": {
       "_dom_classes": [],
       "_model_module": "@jupyter-widgets/controls",
       "_model_module_version": "1.5.0",
       "_model_name": "FloatProgressModel",
       "_view_count": null,
       "_view_module": "@jupyter-widgets/controls",
       "_view_module_version": "1.5.0",
       "_view_name": "ProgressView",
       "bar_style": "success",
       "description": "",
       "description_tooltip": null,
       "layout": "IPY_MODEL_6ba97cc5e2a94c9693d98765a0fb7415",
       "max": 798011.0,
       "min": 0.0,
       "orientation": "horizontal",
       "style": "IPY_MODEL_71d08e261caa4633a5e7f4221fa97bd1",
       "value": 798011.0
      }
     },
     "1c5a44affa704481940382be210b41c8": {
      "model_module": "@jupyter-widgets/controls",
      "model_module_version": "1.5.0",
      "model_name": "HTMLModel",
      "state": {
       "_dom_classes": [],
       "_model_module": "@jupyter-widgets/controls",
       "_model_module_version": "1.5.0",
       "_model_name": "HTMLModel",
       "_view_count": null,
       "_view_module": "@jupyter-widgets/controls",
       "_view_module_version": "1.5.0",
       "_view_name": "HTMLView",
       "description": "",
       "description_tooltip": null,
       "layout": "IPY_MODEL_c2ab4b2471df42858ced736c7805ff34",
       "placeholder": "​",
       "style": "IPY_MODEL_16f821e8446149059104396d6024f6c5",
       "value": " 779k/779k [00:00&lt;00:00, 855kB/s]"
      }
     },
     "1e11023b56bf4daebc5018566b9af984": {
      "model_module": "@jupyter-widgets/base",
      "model_module_version": "1.2.0",
      "model_name": "LayoutModel",
      "state": {
       "_model_module": "@jupyter-widgets/base",
       "_model_module_version": "1.2.0",
       "_model_name": "LayoutModel",
       "_view_count": null,
       "_view_module": "@jupyter-widgets/base",
       "_view_module_version": "1.2.0",
       "_view_name": "LayoutView",
       "align_content": null,
       "align_items": null,
       "align_self": null,
       "border": null,
       "bottom": null,
       "display": null,
       "flex": null,
       "flex_flow": null,
       "grid_area": null,
       "grid_auto_columns": null,
       "grid_auto_flow": null,
       "grid_auto_rows": null,
       "grid_column": null,
       "grid_gap": null,
       "grid_row": null,
       "grid_template_areas": null,
       "grid_template_columns": null,
       "grid_template_rows": null,
       "height": null,
       "justify_content": null,
       "justify_items": null,
       "left": null,
       "margin": null,
       "max_height": null,
       "max_width": null,
       "min_height": null,
       "min_width": null,
       "object_fit": null,
       "object_position": null,
       "order": null,
       "overflow": null,
       "overflow_x": null,
       "overflow_y": null,
       "padding": null,
       "right": null,
       "top": null,
       "visibility": null,
       "width": null
      }
     },
     "23a31efb69b44c6e8e3eeb2c75f390a4": {
      "model_module": "@jupyter-widgets/base",
      "model_module_version": "1.2.0",
      "model_name": "LayoutModel",
      "state": {
       "_model_module": "@jupyter-widgets/base",
       "_model_module_version": "1.2.0",
       "_model_name": "LayoutModel",
       "_view_count": null,
       "_view_module": "@jupyter-widgets/base",
       "_view_module_version": "1.2.0",
       "_view_name": "LayoutView",
       "align_content": null,
       "align_items": null,
       "align_self": null,
       "border": null,
       "bottom": null,
       "display": null,
       "flex": null,
       "flex_flow": null,
       "grid_area": null,
       "grid_auto_columns": null,
       "grid_auto_flow": null,
       "grid_auto_rows": null,
       "grid_column": null,
       "grid_gap": null,
       "grid_row": null,
       "grid_template_areas": null,
       "grid_template_columns": null,
       "grid_template_rows": null,
       "height": null,
       "justify_content": null,
       "justify_items": null,
       "left": null,
       "margin": null,
       "max_height": null,
       "max_width": null,
       "min_height": null,
       "min_width": null,
       "object_fit": null,
       "object_position": null,
       "order": null,
       "overflow": null,
       "overflow_x": null,
       "overflow_y": null,
       "padding": null,
       "right": null,
       "top": null,
       "visibility": null,
       "width": null
      }
     },
     "243689413e2a4e7e9d3f3a4368f05eac": {
      "model_module": "@jupyter-widgets/base",
      "model_module_version": "1.2.0",
      "model_name": "LayoutModel",
      "state": {
       "_model_module": "@jupyter-widgets/base",
       "_model_module_version": "1.2.0",
       "_model_name": "LayoutModel",
       "_view_count": null,
       "_view_module": "@jupyter-widgets/base",
       "_view_module_version": "1.2.0",
       "_view_name": "LayoutView",
       "align_content": null,
       "align_items": null,
       "align_self": null,
       "border": null,
       "bottom": null,
       "display": null,
       "flex": null,
       "flex_flow": null,
       "grid_area": null,
       "grid_auto_columns": null,
       "grid_auto_flow": null,
       "grid_auto_rows": null,
       "grid_column": null,
       "grid_gap": null,
       "grid_row": null,
       "grid_template_areas": null,
       "grid_template_columns": null,
       "grid_template_rows": null,
       "height": null,
       "justify_content": null,
       "justify_items": null,
       "left": null,
       "margin": null,
       "max_height": null,
       "max_width": null,
       "min_height": null,
       "min_width": null,
       "object_fit": null,
       "object_position": null,
       "order": null,
       "overflow": null,
       "overflow_x": null,
       "overflow_y": null,
       "padding": null,
       "right": null,
       "top": null,
       "visibility": null,
       "width": null
      }
     },
     "2cb6dd64ced44e529f96668712dc9e78": {
      "model_module": "@jupyter-widgets/controls",
      "model_module_version": "1.5.0",
      "model_name": "ProgressStyleModel",
      "state": {
       "_model_module": "@jupyter-widgets/controls",
       "_model_module_version": "1.5.0",
       "_model_name": "ProgressStyleModel",
       "_view_count": null,
       "_view_module": "@jupyter-widgets/base",
       "_view_module_version": "1.2.0",
       "_view_name": "StyleView",
       "bar_color": null,
       "description_width": ""
      }
     },
     "2d4a4bfab4be462bb526bf8041a91b41": {
      "model_module": "@jupyter-widgets/controls",
      "model_module_version": "1.5.0",
      "model_name": "ProgressStyleModel",
      "state": {
       "_model_module": "@jupyter-widgets/controls",
       "_model_module_version": "1.5.0",
       "_model_name": "ProgressStyleModel",
       "_view_count": null,
       "_view_module": "@jupyter-widgets/base",
       "_view_module_version": "1.2.0",
       "_view_name": "StyleView",
       "bar_color": null,
       "description_width": ""
      }
     },
     "3037e383f5db49098ab2ac6ed5b94ff1": {
      "model_module": "@jupyter-widgets/controls",
      "model_module_version": "1.5.0",
      "model_name": "DescriptionStyleModel",
      "state": {
       "_model_module": "@jupyter-widgets/controls",
       "_model_module_version": "1.5.0",
       "_model_name": "DescriptionStyleModel",
       "_view_count": null,
       "_view_module": "@jupyter-widgets/base",
       "_view_module_version": "1.2.0",
       "_view_name": "StyleView",
       "description_width": ""
      }
     },
     "327dec6a2d774c8da7baab50cb685d32": {
      "model_module": "@jupyter-widgets/base",
      "model_module_version": "1.2.0",
      "model_name": "LayoutModel",
      "state": {
       "_model_module": "@jupyter-widgets/base",
       "_model_module_version": "1.2.0",
       "_model_name": "LayoutModel",
       "_view_count": null,
       "_view_module": "@jupyter-widgets/base",
       "_view_module_version": "1.2.0",
       "_view_name": "LayoutView",
       "align_content": null,
       "align_items": null,
       "align_self": null,
       "border": null,
       "bottom": null,
       "display": null,
       "flex": null,
       "flex_flow": null,
       "grid_area": null,
       "grid_auto_columns": null,
       "grid_auto_flow": null,
       "grid_auto_rows": null,
       "grid_column": null,
       "grid_gap": null,
       "grid_row": null,
       "grid_template_areas": null,
       "grid_template_columns": null,
       "grid_template_rows": null,
       "height": null,
       "justify_content": null,
       "justify_items": null,
       "left": null,
       "margin": null,
       "max_height": null,
       "max_width": null,
       "min_height": null,
       "min_width": null,
       "object_fit": null,
       "object_position": null,
       "order": null,
       "overflow": null,
       "overflow_x": null,
       "overflow_y": null,
       "padding": null,
       "right": null,
       "top": null,
       "visibility": null,
       "width": null
      }
     },
     "3d336000197649348dafdba72cace787": {
      "model_module": "@jupyter-widgets/base",
      "model_module_version": "1.2.0",
      "model_name": "LayoutModel",
      "state": {
       "_model_module": "@jupyter-widgets/base",
       "_model_module_version": "1.2.0",
       "_model_name": "LayoutModel",
       "_view_count": null,
       "_view_module": "@jupyter-widgets/base",
       "_view_module_version": "1.2.0",
       "_view_name": "LayoutView",
       "align_content": null,
       "align_items": null,
       "align_self": null,
       "border": null,
       "bottom": null,
       "display": null,
       "flex": null,
       "flex_flow": null,
       "grid_area": null,
       "grid_auto_columns": null,
       "grid_auto_flow": null,
       "grid_auto_rows": null,
       "grid_column": null,
       "grid_gap": null,
       "grid_row": null,
       "grid_template_areas": null,
       "grid_template_columns": null,
       "grid_template_rows": null,
       "height": null,
       "justify_content": null,
       "justify_items": null,
       "left": null,
       "margin": null,
       "max_height": null,
       "max_width": null,
       "min_height": null,
       "min_width": null,
       "object_fit": null,
       "object_position": null,
       "order": null,
       "overflow": null,
       "overflow_x": null,
       "overflow_y": null,
       "padding": null,
       "right": null,
       "top": null,
       "visibility": null,
       "width": null
      }
     },
     "3f593a3e1c4f445f9b023e3f3feaa2ce": {
      "model_module": "@jupyter-widgets/controls",
      "model_module_version": "1.5.0",
      "model_name": "DescriptionStyleModel",
      "state": {
       "_model_module": "@jupyter-widgets/controls",
       "_model_module_version": "1.5.0",
       "_model_name": "DescriptionStyleModel",
       "_view_count": null,
       "_view_module": "@jupyter-widgets/base",
       "_view_module_version": "1.2.0",
       "_view_name": "StyleView",
       "description_width": ""
      }
     },
     "3fb47c06b55048c6b8e2eb61ac77bcc6": {
      "model_module": "@jupyter-widgets/controls",
      "model_module_version": "1.5.0",
      "model_name": "DescriptionStyleModel",
      "state": {
       "_model_module": "@jupyter-widgets/controls",
       "_model_module_version": "1.5.0",
       "_model_name": "DescriptionStyleModel",
       "_view_count": null,
       "_view_module": "@jupyter-widgets/base",
       "_view_module_version": "1.2.0",
       "_view_name": "StyleView",
       "description_width": ""
      }
     },
     "41d11bac03fa4db0aea11c2fbd9e3230": {
      "model_module": "@jupyter-widgets/controls",
      "model_module_version": "1.5.0",
      "model_name": "FloatProgressModel",
      "state": {
       "_dom_classes": [],
       "_model_module": "@jupyter-widgets/controls",
       "_model_module_version": "1.5.0",
       "_model_name": "FloatProgressModel",
       "_view_count": null,
       "_view_module": "@jupyter-widgets/controls",
       "_view_module_version": "1.5.0",
       "_view_name": "ProgressView",
       "bar_style": "success",
       "description": "",
       "description_tooltip": null,
       "layout": "IPY_MODEL_cd4a0ce576d04dfe991ccb56093ff45d",
       "max": 467042463.0,
       "min": 0.0,
       "orientation": "horizontal",
       "style": "IPY_MODEL_2cb6dd64ced44e529f96668712dc9e78",
       "value": 467042463.0
      }
     },
     "425c67a5d3bb4864811f09524273e75d": {
      "model_module": "@jupyter-widgets/controls",
      "model_module_version": "1.5.0",
      "model_name": "HBoxModel",
      "state": {
       "_dom_classes": [],
       "_model_module": "@jupyter-widgets/controls",
       "_model_module_version": "1.5.0",
       "_model_name": "HBoxModel",
       "_view_count": null,
       "_view_module": "@jupyter-widgets/controls",
       "_view_module_version": "1.5.0",
       "_view_name": "HBoxView",
       "box_style": "",
       "children": [
        "IPY_MODEL_95c0afcb671e43fb81e461f620a5afb4",
        "IPY_MODEL_74ca470211ea4df0b10d59c20b114d54",
        "IPY_MODEL_04b3ba6948514be7a7d3e5d8c71b3831"
       ],
       "layout": "IPY_MODEL_63ac0371caa84c8aa20d62a5e4683ee8"
      }
     },
     "42f9ae8fa6694c2c914121dba173b654": {
      "model_module": "@jupyter-widgets/controls",
      "model_module_version": "1.5.0",
      "model_name": "HTMLModel",
      "state": {
       "_dom_classes": [],
       "_model_module": "@jupyter-widgets/controls",
       "_model_module_version": "1.5.0",
       "_model_name": "HTMLModel",
       "_view_count": null,
       "_view_module": "@jupyter-widgets/controls",
       "_view_module_version": "1.5.0",
       "_view_name": "HTMLView",
       "description": "",
       "description_tooltip": null,
       "layout": "IPY_MODEL_ef397d035e7f4984b50be520e9c4e6c5",
       "placeholder": "​",
       "style": "IPY_MODEL_0ac2a778eb304656b8f39e4260998143",
       "value": " 760/760 [00:00&lt;00:00, 28.9kB/s]"
      }
     },
     "4381fd78ca534980b9b18e0be8606829": {
      "model_module": "@jupyter-widgets/base",
      "model_module_version": "1.2.0",
      "model_name": "LayoutModel",
      "state": {
       "_model_module": "@jupyter-widgets/base",
       "_model_module_version": "1.2.0",
       "_model_name": "LayoutModel",
       "_view_count": null,
       "_view_module": "@jupyter-widgets/base",
       "_view_module_version": "1.2.0",
       "_view_name": "LayoutView",
       "align_content": null,
       "align_items": null,
       "align_self": null,
       "border": null,
       "bottom": null,
       "display": null,
       "flex": null,
       "flex_flow": null,
       "grid_area": null,
       "grid_auto_columns": null,
       "grid_auto_flow": null,
       "grid_auto_rows": null,
       "grid_column": null,
       "grid_gap": null,
       "grid_row": null,
       "grid_template_areas": null,
       "grid_template_columns": null,
       "grid_template_rows": null,
       "height": null,
       "justify_content": null,
       "justify_items": null,
       "left": null,
       "margin": null,
       "max_height": null,
       "max_width": null,
       "min_height": null,
       "min_width": null,
       "object_fit": null,
       "object_position": null,
       "order": null,
       "overflow": null,
       "overflow_x": null,
       "overflow_y": null,
       "padding": null,
       "right": null,
       "top": null,
       "visibility": null,
       "width": null
      }
     },
     "45aa2afa7436424cbc55545f9859428b": {
      "model_module": "@jupyter-widgets/base",
      "model_module_version": "1.2.0",
      "model_name": "LayoutModel",
      "state": {
       "_model_module": "@jupyter-widgets/base",
       "_model_module_version": "1.2.0",
       "_model_name": "LayoutModel",
       "_view_count": null,
       "_view_module": "@jupyter-widgets/base",
       "_view_module_version": "1.2.0",
       "_view_name": "LayoutView",
       "align_content": null,
       "align_items": null,
       "align_self": null,
       "border": null,
       "bottom": null,
       "display": null,
       "flex": null,
       "flex_flow": null,
       "grid_area": null,
       "grid_auto_columns": null,
       "grid_auto_flow": null,
       "grid_auto_rows": null,
       "grid_column": null,
       "grid_gap": null,
       "grid_row": null,
       "grid_template_areas": null,
       "grid_template_columns": null,
       "grid_template_rows": null,
       "height": null,
       "justify_content": null,
       "justify_items": null,
       "left": null,
       "margin": null,
       "max_height": null,
       "max_width": null,
       "min_height": null,
       "min_width": null,
       "object_fit": null,
       "object_position": null,
       "order": null,
       "overflow": null,
       "overflow_x": null,
       "overflow_y": null,
       "padding": null,
       "right": null,
       "top": null,
       "visibility": null,
       "width": null
      }
     },
     "497e9a5045f04dba8c9bb8ad6b1c73f5": {
      "model_module": "@jupyter-widgets/base",
      "model_module_version": "1.2.0",
      "model_name": "LayoutModel",
      "state": {
       "_model_module": "@jupyter-widgets/base",
       "_model_module_version": "1.2.0",
       "_model_name": "LayoutModel",
       "_view_count": null,
       "_view_module": "@jupyter-widgets/base",
       "_view_module_version": "1.2.0",
       "_view_name": "LayoutView",
       "align_content": null,
       "align_items": null,
       "align_self": null,
       "border": null,
       "bottom": null,
       "display": null,
       "flex": null,
       "flex_flow": null,
       "grid_area": null,
       "grid_auto_columns": null,
       "grid_auto_flow": null,
       "grid_auto_rows": null,
       "grid_column": null,
       "grid_gap": null,
       "grid_row": null,
       "grid_template_areas": null,
       "grid_template_columns": null,
       "grid_template_rows": null,
       "height": null,
       "justify_content": null,
       "justify_items": null,
       "left": null,
       "margin": null,
       "max_height": null,
       "max_width": null,
       "min_height": null,
       "min_width": null,
       "object_fit": null,
       "object_position": null,
       "order": null,
       "overflow": null,
       "overflow_x": null,
       "overflow_y": null,
       "padding": null,
       "right": null,
       "top": null,
       "visibility": null,
       "width": null
      }
     },
     "49ec14ed9fcc4331b4088837706c7989": {
      "model_module": "@jupyter-widgets/controls",
      "model_module_version": "1.5.0",
      "model_name": "HTMLModel",
      "state": {
       "_dom_classes": [],
       "_model_module": "@jupyter-widgets/controls",
       "_model_module_version": "1.5.0",
       "_model_name": "HTMLModel",
       "_view_count": null,
       "_view_module": "@jupyter-widgets/controls",
       "_view_module_version": "1.5.0",
       "_view_name": "HTMLView",
       "description": "",
       "description_tooltip": null,
       "layout": "IPY_MODEL_c9f89a7f8c1d4de6af11949906e79598",
       "placeholder": "​",
       "style": "IPY_MODEL_8abb6d6de71a4b7e9c5df60ce5705ee7",
       "value": "Downloading builder script: "
      }
     },
     "4babdb3c3f834f2da53864d798deb440": {
      "model_module": "@jupyter-widgets/base",
      "model_module_version": "1.2.0",
      "model_name": "LayoutModel",
      "state": {
       "_model_module": "@jupyter-widgets/base",
       "_model_module_version": "1.2.0",
       "_model_name": "LayoutModel",
       "_view_count": null,
       "_view_module": "@jupyter-widgets/base",
       "_view_module_version": "1.2.0",
       "_view_name": "LayoutView",
       "align_content": null,
       "align_items": null,
       "align_self": null,
       "border": null,
       "bottom": null,
       "display": null,
       "flex": null,
       "flex_flow": null,
       "grid_area": null,
       "grid_auto_columns": null,
       "grid_auto_flow": null,
       "grid_auto_rows": null,
       "grid_column": null,
       "grid_gap": null,
       "grid_row": null,
       "grid_template_areas": null,
       "grid_template_columns": null,
       "grid_template_rows": null,
       "height": null,
       "justify_content": null,
       "justify_items": null,
       "left": null,
       "margin": null,
       "max_height": null,
       "max_width": null,
       "min_height": null,
       "min_width": null,
       "object_fit": null,
       "object_position": null,
       "order": null,
       "overflow": null,
       "overflow_x": null,
       "overflow_y": null,
       "padding": null,
       "right": null,
       "top": null,
       "visibility": null,
       "width": null
      }
     },
     "4e07958ffa854fb68e600ebcb3e60d49": {
      "model_module": "@jupyter-widgets/controls",
      "model_module_version": "1.5.0",
      "model_name": "ProgressStyleModel",
      "state": {
       "_model_module": "@jupyter-widgets/controls",
       "_model_module_version": "1.5.0",
       "_model_name": "ProgressStyleModel",
       "_view_count": null,
       "_view_module": "@jupyter-widgets/base",
       "_view_module_version": "1.2.0",
       "_view_name": "StyleView",
       "bar_color": null,
       "description_width": ""
      }
     },
     "504961dc701741cab89eef5a6084174b": {
      "model_module": "@jupyter-widgets/controls",
      "model_module_version": "1.5.0",
      "model_name": "FloatProgressModel",
      "state": {
       "_dom_classes": [],
       "_model_module": "@jupyter-widgets/controls",
       "_model_module_version": "1.5.0",
       "_model_name": "FloatProgressModel",
       "_view_count": null,
       "_view_module": "@jupyter-widgets/controls",
       "_view_module_version": "1.5.0",
       "_view_name": "ProgressView",
       "bar_style": "success",
       "description": "",
       "description_tooltip": null,
       "layout": "IPY_MODEL_008ab33a2e0b4a60b27e6d26ac2e93d7",
       "max": 1276746.0,
       "min": 0.0,
       "orientation": "horizontal",
       "style": "IPY_MODEL_5154dfdbec9c46ea826819d1beddabbe",
       "value": 1276746.0
      }
     },
     "5154dfdbec9c46ea826819d1beddabbe": {
      "model_module": "@jupyter-widgets/controls",
      "model_module_version": "1.5.0",
      "model_name": "ProgressStyleModel",
      "state": {
       "_model_module": "@jupyter-widgets/controls",
       "_model_module_version": "1.5.0",
       "_model_name": "ProgressStyleModel",
       "_view_count": null,
       "_view_module": "@jupyter-widgets/base",
       "_view_module_version": "1.2.0",
       "_view_name": "StyleView",
       "bar_color": null,
       "description_width": ""
      }
     },
     "518a11d79c704a4ba77282a6b78c65ea": {
      "model_module": "@jupyter-widgets/controls",
      "model_module_version": "1.5.0",
      "model_name": "DescriptionStyleModel",
      "state": {
       "_model_module": "@jupyter-widgets/controls",
       "_model_module_version": "1.5.0",
       "_model_name": "DescriptionStyleModel",
       "_view_count": null,
       "_view_module": "@jupyter-widgets/base",
       "_view_module_version": "1.2.0",
       "_view_name": "StyleView",
       "description_width": ""
      }
     },
     "55b6ace335c84851838b33433c154643": {
      "model_module": "@jupyter-widgets/base",
      "model_module_version": "1.2.0",
      "model_name": "LayoutModel",
      "state": {
       "_model_module": "@jupyter-widgets/base",
       "_model_module_version": "1.2.0",
       "_model_name": "LayoutModel",
       "_view_count": null,
       "_view_module": "@jupyter-widgets/base",
       "_view_module_version": "1.2.0",
       "_view_name": "LayoutView",
       "align_content": null,
       "align_items": null,
       "align_self": null,
       "border": null,
       "bottom": null,
       "display": null,
       "flex": null,
       "flex_flow": null,
       "grid_area": null,
       "grid_auto_columns": null,
       "grid_auto_flow": null,
       "grid_auto_rows": null,
       "grid_column": null,
       "grid_gap": null,
       "grid_row": null,
       "grid_template_areas": null,
       "grid_template_columns": null,
       "grid_template_rows": null,
       "height": null,
       "justify_content": null,
       "justify_items": null,
       "left": null,
       "margin": null,
       "max_height": null,
       "max_width": null,
       "min_height": null,
       "min_width": null,
       "object_fit": null,
       "object_position": null,
       "order": null,
       "overflow": null,
       "overflow_x": null,
       "overflow_y": null,
       "padding": null,
       "right": null,
       "top": null,
       "visibility": null,
       "width": null
      }
     },
     "589bc4c647ae49349bb605609014a302": {
      "model_module": "@jupyter-widgets/base",
      "model_module_version": "1.2.0",
      "model_name": "LayoutModel",
      "state": {
       "_model_module": "@jupyter-widgets/base",
       "_model_module_version": "1.2.0",
       "_model_name": "LayoutModel",
       "_view_count": null,
       "_view_module": "@jupyter-widgets/base",
       "_view_module_version": "1.2.0",
       "_view_name": "LayoutView",
       "align_content": null,
       "align_items": null,
       "align_self": null,
       "border": null,
       "bottom": null,
       "display": null,
       "flex": null,
       "flex_flow": null,
       "grid_area": null,
       "grid_auto_columns": null,
       "grid_auto_flow": null,
       "grid_auto_rows": null,
       "grid_column": null,
       "grid_gap": null,
       "grid_row": null,
       "grid_template_areas": null,
       "grid_template_columns": null,
       "grid_template_rows": null,
       "height": null,
       "justify_content": null,
       "justify_items": null,
       "left": null,
       "margin": null,
       "max_height": null,
       "max_width": null,
       "min_height": null,
       "min_width": null,
       "object_fit": null,
       "object_position": null,
       "order": null,
       "overflow": null,
       "overflow_x": null,
       "overflow_y": null,
       "padding": null,
       "right": null,
       "top": null,
       "visibility": null,
       "width": null
      }
     },
     "5962e28210bb46228fecfb441051107a": {
      "model_module": "@jupyter-widgets/controls",
      "model_module_version": "1.5.0",
      "model_name": "FloatProgressModel",
      "state": {
       "_dom_classes": [],
       "_model_module": "@jupyter-widgets/controls",
       "_model_module_version": "1.5.0",
       "_model_name": "FloatProgressModel",
       "_view_count": null,
       "_view_module": "@jupyter-widgets/controls",
       "_view_module_version": "1.5.0",
       "_view_name": "ProgressView",
       "bar_style": "success",
       "description": "",
       "description_tooltip": null,
       "layout": "IPY_MODEL_7e256584cc75432aaf8da641e1f8013c",
       "max": 760.0,
       "min": 0.0,
       "orientation": "horizontal",
       "style": "IPY_MODEL_be672aa8ad704caf85a378c8b21ffd11",
       "value": 760.0
      }
     },
     "63ac0371caa84c8aa20d62a5e4683ee8": {
      "model_module": "@jupyter-widgets/base",
      "model_module_version": "1.2.0",
      "model_name": "LayoutModel",
      "state": {
       "_model_module": "@jupyter-widgets/base",
       "_model_module_version": "1.2.0",
       "_model_name": "LayoutModel",
       "_view_count": null,
       "_view_module": "@jupyter-widgets/base",
       "_view_module_version": "1.2.0",
       "_view_name": "LayoutView",
       "align_content": null,
       "align_items": null,
       "align_self": null,
       "border": null,
       "bottom": null,
       "display": null,
       "flex": null,
       "flex_flow": null,
       "grid_area": null,
       "grid_auto_columns": null,
       "grid_auto_flow": null,
       "grid_auto_rows": null,
       "grid_column": null,
       "grid_gap": null,
       "grid_row": null,
       "grid_template_areas": null,
       "grid_template_columns": null,
       "grid_template_rows": null,
       "height": null,
       "justify_content": null,
       "justify_items": null,
       "left": null,
       "margin": null,
       "max_height": null,
       "max_width": null,
       "min_height": null,
       "min_width": null,
       "object_fit": null,
       "object_position": null,
       "order": null,
       "overflow": null,
       "overflow_x": null,
       "overflow_y": null,
       "padding": null,
       "right": null,
       "top": null,
       "visibility": null,
       "width": null
      }
     },
     "6428b77f369d41339927047e67db3431": {
      "model_module": "@jupyter-widgets/controls",
      "model_module_version": "1.5.0",
      "model_name": "HBoxModel",
      "state": {
       "_dom_classes": [],
       "_model_module": "@jupyter-widgets/controls",
       "_model_module_version": "1.5.0",
       "_model_name": "HBoxModel",
       "_view_count": null,
       "_view_module": "@jupyter-widgets/controls",
       "_view_module_version": "1.5.0",
       "_view_name": "HBoxView",
       "box_style": "",
       "children": [
        "IPY_MODEL_a06779c830184d529f74ba2a2cd4c04d",
        "IPY_MODEL_fd2ea4f46a104327a4249602581c9680",
        "IPY_MODEL_d4d366aa3151499a9c16416a3c43ba98"
       ],
       "layout": "IPY_MODEL_b63bffe4702240fd802598db6bdb21c0"
      }
     },
     "68d9ea88228944f68740f0cb98721ca6": {
      "model_module": "@jupyter-widgets/base",
      "model_module_version": "1.2.0",
      "model_name": "LayoutModel",
      "state": {
       "_model_module": "@jupyter-widgets/base",
       "_model_module_version": "1.2.0",
       "_model_name": "LayoutModel",
       "_view_count": null,
       "_view_module": "@jupyter-widgets/base",
       "_view_module_version": "1.2.0",
       "_view_name": "LayoutView",
       "align_content": null,
       "align_items": null,
       "align_self": null,
       "border": null,
       "bottom": null,
       "display": null,
       "flex": null,
       "flex_flow": null,
       "grid_area": null,
       "grid_auto_columns": null,
       "grid_auto_flow": null,
       "grid_auto_rows": null,
       "grid_column": null,
       "grid_gap": null,
       "grid_row": null,
       "grid_template_areas": null,
       "grid_template_columns": null,
       "grid_template_rows": null,
       "height": null,
       "justify_content": null,
       "justify_items": null,
       "left": null,
       "margin": null,
       "max_height": null,
       "max_width": null,
       "min_height": null,
       "min_width": null,
       "object_fit": null,
       "object_position": null,
       "order": null,
       "overflow": null,
       "overflow_x": null,
       "overflow_y": null,
       "padding": null,
       "right": null,
       "top": null,
       "visibility": null,
       "width": null
      }
     },
     "6a90b50e17cf424fadbcb68b5f26b759": {
      "model_module": "@jupyter-widgets/base",
      "model_module_version": "1.2.0",
      "model_name": "LayoutModel",
      "state": {
       "_model_module": "@jupyter-widgets/base",
       "_model_module_version": "1.2.0",
       "_model_name": "LayoutModel",
       "_view_count": null,
       "_view_module": "@jupyter-widgets/base",
       "_view_module_version": "1.2.0",
       "_view_name": "LayoutView",
       "align_content": null,
       "align_items": null,
       "align_self": null,
       "border": null,
       "bottom": null,
       "display": null,
       "flex": null,
       "flex_flow": null,
       "grid_area": null,
       "grid_auto_columns": null,
       "grid_auto_flow": null,
       "grid_auto_rows": null,
       "grid_column": null,
       "grid_gap": null,
       "grid_row": null,
       "grid_template_areas": null,
       "grid_template_columns": null,
       "grid_template_rows": null,
       "height": null,
       "justify_content": null,
       "justify_items": null,
       "left": null,
       "margin": null,
       "max_height": null,
       "max_width": null,
       "min_height": null,
       "min_width": null,
       "object_fit": null,
       "object_position": null,
       "order": null,
       "overflow": null,
       "overflow_x": null,
       "overflow_y": null,
       "padding": null,
       "right": null,
       "top": null,
       "visibility": null,
       "width": null
      }
     },
     "6ba97cc5e2a94c9693d98765a0fb7415": {
      "model_module": "@jupyter-widgets/base",
      "model_module_version": "1.2.0",
      "model_name": "LayoutModel",
      "state": {
       "_model_module": "@jupyter-widgets/base",
       "_model_module_version": "1.2.0",
       "_model_name": "LayoutModel",
       "_view_count": null,
       "_view_module": "@jupyter-widgets/base",
       "_view_module_version": "1.2.0",
       "_view_name": "LayoutView",
       "align_content": null,
       "align_items": null,
       "align_self": null,
       "border": null,
       "bottom": null,
       "display": null,
       "flex": null,
       "flex_flow": null,
       "grid_area": null,
       "grid_auto_columns": null,
       "grid_auto_flow": null,
       "grid_auto_rows": null,
       "grid_column": null,
       "grid_gap": null,
       "grid_row": null,
       "grid_template_areas": null,
       "grid_template_columns": null,
       "grid_template_rows": null,
       "height": null,
       "justify_content": null,
       "justify_items": null,
       "left": null,
       "margin": null,
       "max_height": null,
       "max_width": null,
       "min_height": null,
       "min_width": null,
       "object_fit": null,
       "object_position": null,
       "order": null,
       "overflow": null,
       "overflow_x": null,
       "overflow_y": null,
       "padding": null,
       "right": null,
       "top": null,
       "visibility": null,
       "width": null
      }
     },
     "6bf5678bc8b34024b55da31dc76ae02e": {
      "model_module": "@jupyter-widgets/base",
      "model_module_version": "1.2.0",
      "model_name": "LayoutModel",
      "state": {
       "_model_module": "@jupyter-widgets/base",
       "_model_module_version": "1.2.0",
       "_model_name": "LayoutModel",
       "_view_count": null,
       "_view_module": "@jupyter-widgets/base",
       "_view_module_version": "1.2.0",
       "_view_name": "LayoutView",
       "align_content": null,
       "align_items": null,
       "align_self": null,
       "border": null,
       "bottom": null,
       "display": null,
       "flex": null,
       "flex_flow": null,
       "grid_area": null,
       "grid_auto_columns": null,
       "grid_auto_flow": null,
       "grid_auto_rows": null,
       "grid_column": null,
       "grid_gap": null,
       "grid_row": null,
       "grid_template_areas": null,
       "grid_template_columns": null,
       "grid_template_rows": null,
       "height": null,
       "justify_content": null,
       "justify_items": null,
       "left": null,
       "margin": null,
       "max_height": null,
       "max_width": null,
       "min_height": null,
       "min_width": null,
       "object_fit": null,
       "object_position": null,
       "order": null,
       "overflow": null,
       "overflow_x": null,
       "overflow_y": null,
       "padding": null,
       "right": null,
       "top": null,
       "visibility": null,
       "width": null
      }
     },
     "6c5e96ee7b0244f790a475511d14456d": {
      "model_module": "@jupyter-widgets/controls",
      "model_module_version": "1.5.0",
      "model_name": "HTMLModel",
      "state": {
       "_dom_classes": [],
       "_model_module": "@jupyter-widgets/controls",
       "_model_module_version": "1.5.0",
       "_model_name": "HTMLModel",
       "_view_count": null,
       "_view_module": "@jupyter-widgets/controls",
       "_view_module_version": "1.5.0",
       "_view_name": "HTMLView",
       "description": "",
       "description_tooltip": null,
       "layout": "IPY_MODEL_db03ab7809db44308b12cd689ee6c12e",
       "placeholder": "​",
       "style": "IPY_MODEL_3037e383f5db49098ab2ac6ed5b94ff1",
       "value": " 3.14k/? [00:00&lt;00:00, 110kB/s]"
      }
     },
     "6e2655e63f0641b9bc569617e64eef12": {
      "model_module": "@jupyter-widgets/controls",
      "model_module_version": "1.5.0",
      "model_name": "HTMLModel",
      "state": {
       "_dom_classes": [],
       "_model_module": "@jupyter-widgets/controls",
       "_model_module_version": "1.5.0",
       "_model_name": "HTMLModel",
       "_view_count": null,
       "_view_module": "@jupyter-widgets/controls",
       "_view_module_version": "1.5.0",
       "_view_name": "HTMLView",
       "description": "",
       "description_tooltip": null,
       "layout": "IPY_MODEL_a3b82fab647743a38da6a8ec8df8746f",
       "placeholder": "​",
       "style": "IPY_MODEL_a68440bd172543e184231d1b72580fa9",
       "value": " 3.10M/? [00:00&lt;00:00, 33.6MB/s]"
      }
     },
     "6f7a255001b64e67b66e130f9ce85a93": {
      "model_module": "@jupyter-widgets/base",
      "model_module_version": "1.2.0",
      "model_name": "LayoutModel",
      "state": {
       "_model_module": "@jupyter-widgets/base",
       "_model_module_version": "1.2.0",
       "_model_name": "LayoutModel",
       "_view_count": null,
       "_view_module": "@jupyter-widgets/base",
       "_view_module_version": "1.2.0",
       "_view_name": "LayoutView",
       "align_content": null,
       "align_items": null,
       "align_self": null,
       "border": null,
       "bottom": null,
       "display": null,
       "flex": null,
       "flex_flow": null,
       "grid_area": null,
       "grid_auto_columns": null,
       "grid_auto_flow": null,
       "grid_auto_rows": null,
       "grid_column": null,
       "grid_gap": null,
       "grid_row": null,
       "grid_template_areas": null,
       "grid_template_columns": null,
       "grid_template_rows": null,
       "height": null,
       "justify_content": null,
       "justify_items": null,
       "left": null,
       "margin": null,
       "max_height": null,
       "max_width": null,
       "min_height": null,
       "min_width": null,
       "object_fit": null,
       "object_position": null,
       "order": null,
       "overflow": null,
       "overflow_x": null,
       "overflow_y": null,
       "padding": null,
       "right": null,
       "top": null,
       "visibility": null,
       "width": null
      }
     },
     "709db5e7e567434cbe8b56dd14317adb": {
      "model_module": "@jupyter-widgets/controls",
      "model_module_version": "1.5.0",
      "model_name": "ProgressStyleModel",
      "state": {
       "_model_module": "@jupyter-widgets/controls",
       "_model_module_version": "1.5.0",
       "_model_name": "ProgressStyleModel",
       "_view_count": null,
       "_view_module": "@jupyter-widgets/base",
       "_view_module_version": "1.2.0",
       "_view_name": "StyleView",
       "bar_color": null,
       "description_width": ""
      }
     },
     "71d08e261caa4633a5e7f4221fa97bd1": {
      "model_module": "@jupyter-widgets/controls",
      "model_module_version": "1.5.0",
      "model_name": "ProgressStyleModel",
      "state": {
       "_model_module": "@jupyter-widgets/controls",
       "_model_module_version": "1.5.0",
       "_model_name": "ProgressStyleModel",
       "_view_count": null,
       "_view_module": "@jupyter-widgets/base",
       "_view_module_version": "1.2.0",
       "_view_name": "StyleView",
       "bar_color": null,
       "description_width": ""
      }
     },
     "737f884e15084f99ab9ab5ecc7894fb0": {
      "model_module": "@jupyter-widgets/controls",
      "model_module_version": "1.5.0",
      "model_name": "HBoxModel",
      "state": {
       "_dom_classes": [],
       "_model_module": "@jupyter-widgets/controls",
       "_model_module_version": "1.5.0",
       "_model_name": "HBoxModel",
       "_view_count": null,
       "_view_module": "@jupyter-widgets/controls",
       "_view_module_version": "1.5.0",
       "_view_name": "HBoxView",
       "box_style": "",
       "children": [
        "IPY_MODEL_09717395715f40cf8f0c589f57342d69",
        "IPY_MODEL_5962e28210bb46228fecfb441051107a",
        "IPY_MODEL_42f9ae8fa6694c2c914121dba173b654"
       ],
       "layout": "IPY_MODEL_f241b1605ed64ecba481bed14acc971b"
      }
     },
     "738cec710c754b5987ac6d886d837c52": {
      "model_module": "@jupyter-widgets/controls",
      "model_module_version": "1.5.0",
      "model_name": "FloatProgressModel",
      "state": {
       "_dom_classes": [],
       "_model_module": "@jupyter-widgets/controls",
       "_model_module_version": "1.5.0",
       "_model_name": "FloatProgressModel",
       "_view_count": null,
       "_view_module": "@jupyter-widgets/controls",
       "_view_module_version": "1.5.0",
       "_view_name": "ProgressView",
       "bar_style": "success",
       "description": "",
       "description_tooltip": null,
       "layout": "IPY_MODEL_fdfc18a2ca504bd389170bbeae40e80b",
       "max": 1396.0,
       "min": 0.0,
       "orientation": "horizontal",
       "style": "IPY_MODEL_2d4a4bfab4be462bb526bf8041a91b41",
       "value": 1396.0
      }
     },
     "74ca470211ea4df0b10d59c20b114d54": {
      "model_module": "@jupyter-widgets/controls",
      "model_module_version": "1.5.0",
      "model_name": "FloatProgressModel",
      "state": {
       "_dom_classes": [],
       "_model_module": "@jupyter-widgets/controls",
       "_model_module_version": "1.5.0",
       "_model_name": "FloatProgressModel",
       "_view_count": null,
       "_view_module": "@jupyter-widgets/controls",
       "_view_module_version": "1.5.0",
       "_view_name": "ProgressView",
       "bar_style": "success",
       "description": "",
       "description_tooltip": null,
       "layout": "IPY_MODEL_45aa2afa7436424cbc55545f9859428b",
       "max": 881.0,
       "min": 0.0,
       "orientation": "horizontal",
       "style": "IPY_MODEL_a52fe79f6fad4e9394155d1e62e91a37",
       "value": 881.0
      }
     },
     "787000d78a524578b9446c526763f51f": {
      "model_module": "@jupyter-widgets/base",
      "model_module_version": "1.2.0",
      "model_name": "LayoutModel",
      "state": {
       "_model_module": "@jupyter-widgets/base",
       "_model_module_version": "1.2.0",
       "_model_name": "LayoutModel",
       "_view_count": null,
       "_view_module": "@jupyter-widgets/base",
       "_view_module_version": "1.2.0",
       "_view_name": "LayoutView",
       "align_content": null,
       "align_items": null,
       "align_self": null,
       "border": null,
       "bottom": null,
       "display": null,
       "flex": null,
       "flex_flow": null,
       "grid_area": null,
       "grid_auto_columns": null,
       "grid_auto_flow": null,
       "grid_auto_rows": null,
       "grid_column": null,
       "grid_gap": null,
       "grid_row": null,
       "grid_template_areas": null,
       "grid_template_columns": null,
       "grid_template_rows": null,
       "height": null,
       "justify_content": null,
       "justify_items": null,
       "left": null,
       "margin": null,
       "max_height": null,
       "max_width": null,
       "min_height": null,
       "min_width": null,
       "object_fit": null,
       "object_position": null,
       "order": null,
       "overflow": null,
       "overflow_x": null,
       "overflow_y": null,
       "padding": null,
       "right": null,
       "top": null,
       "visibility": null,
       "width": null
      }
     },
     "79105930f3e7400ca05c8d9204686dce": {
      "model_module": "@jupyter-widgets/controls",
      "model_module_version": "1.5.0",
      "model_name": "DescriptionStyleModel",
      "state": {
       "_model_module": "@jupyter-widgets/controls",
       "_model_module_version": "1.5.0",
       "_model_name": "DescriptionStyleModel",
       "_view_count": null,
       "_view_module": "@jupyter-widgets/base",
       "_view_module_version": "1.2.0",
       "_view_name": "StyleView",
       "description_width": ""
      }
     },
     "79d2175a7e53420a9e8ab9523f74ef28": {
      "model_module": "@jupyter-widgets/controls",
      "model_module_version": "1.5.0",
      "model_name": "HTMLModel",
      "state": {
       "_dom_classes": [],
       "_model_module": "@jupyter-widgets/controls",
       "_model_module_version": "1.5.0",
       "_model_name": "HTMLModel",
       "_view_count": null,
       "_view_module": "@jupyter-widgets/controls",
       "_view_module_version": "1.5.0",
       "_view_name": "HTMLView",
       "description": "",
       "description_tooltip": null,
       "layout": "IPY_MODEL_55b6ace335c84851838b33433c154643",
       "placeholder": "​",
       "style": "IPY_MODEL_175420c9fca44d548d060bb05c3c24fc",
       "value": " 2.55M/? [00:00&lt;00:00, 23.1MB/s]"
      }
     },
     "7b829f9e056542d6b98bd50703f80b8f": {
      "model_module": "@jupyter-widgets/controls",
      "model_module_version": "1.5.0",
      "model_name": "DescriptionStyleModel",
      "state": {
       "_model_module": "@jupyter-widgets/controls",
       "_model_module_version": "1.5.0",
       "_model_name": "DescriptionStyleModel",
       "_view_count": null,
       "_view_module": "@jupyter-widgets/base",
       "_view_module_version": "1.2.0",
       "_view_name": "StyleView",
       "description_width": ""
      }
     },
     "7c10788396d74a158321a6f5d492cbf9": {
      "model_module": "@jupyter-widgets/controls",
      "model_module_version": "1.5.0",
      "model_name": "DescriptionStyleModel",
      "state": {
       "_model_module": "@jupyter-widgets/controls",
       "_model_module_version": "1.5.0",
       "_model_name": "DescriptionStyleModel",
       "_view_count": null,
       "_view_module": "@jupyter-widgets/base",
       "_view_module_version": "1.2.0",
       "_view_name": "StyleView",
       "description_width": ""
      }
     },
     "7e256584cc75432aaf8da641e1f8013c": {
      "model_module": "@jupyter-widgets/base",
      "model_module_version": "1.2.0",
      "model_name": "LayoutModel",
      "state": {
       "_model_module": "@jupyter-widgets/base",
       "_model_module_version": "1.2.0",
       "_model_name": "LayoutModel",
       "_view_count": null,
       "_view_module": "@jupyter-widgets/base",
       "_view_module_version": "1.2.0",
       "_view_name": "LayoutView",
       "align_content": null,
       "align_items": null,
       "align_self": null,
       "border": null,
       "bottom": null,
       "display": null,
       "flex": null,
       "flex_flow": null,
       "grid_area": null,
       "grid_auto_columns": null,
       "grid_auto_flow": null,
       "grid_auto_rows": null,
       "grid_column": null,
       "grid_gap": null,
       "grid_row": null,
       "grid_template_areas": null,
       "grid_template_columns": null,
       "grid_template_rows": null,
       "height": null,
       "justify_content": null,
       "justify_items": null,
       "left": null,
       "margin": null,
       "max_height": null,
       "max_width": null,
       "min_height": null,
       "min_width": null,
       "object_fit": null,
       "object_position": null,
       "order": null,
       "overflow": null,
       "overflow_x": null,
       "overflow_y": null,
       "padding": null,
       "right": null,
       "top": null,
       "visibility": null,
       "width": null
      }
     },
     "7fb50b455d8744b2848f254784c8cc00": {
      "model_module": "@jupyter-widgets/controls",
      "model_module_version": "1.5.0",
      "model_name": "HTMLModel",
      "state": {
       "_dom_classes": [],
       "_model_module": "@jupyter-widgets/controls",
       "_model_module_version": "1.5.0",
       "_model_name": "HTMLModel",
       "_view_count": null,
       "_view_module": "@jupyter-widgets/controls",
       "_view_module_version": "1.5.0",
       "_view_name": "HTMLView",
       "description": "",
       "description_tooltip": null,
       "layout": "IPY_MODEL_0a3ff49628e9435c99e1f1d90d87ec20",
       "placeholder": "​",
       "style": "IPY_MODEL_82ab6a37f3614e03938644620dcef2db",
       "value": " 24108/24783 [00:01&lt;00:00, 16760.35 examples/s]"
      }
     },
     "80748ef5335b4004b77a65d87b33529d": {
      "model_module": "@jupyter-widgets/controls",
      "model_module_version": "1.5.0",
      "model_name": "HBoxModel",
      "state": {
       "_dom_classes": [],
       "_model_module": "@jupyter-widgets/controls",
       "_model_module_version": "1.5.0",
       "_model_name": "HBoxModel",
       "_view_count": null,
       "_view_module": "@jupyter-widgets/controls",
       "_view_module_version": "1.5.0",
       "_view_name": "HBoxView",
       "box_style": "",
       "children": [
        "IPY_MODEL_e1e4f55765db42acb06ca60aabcbe0e2",
        "IPY_MODEL_05bea264ce684c458b03b0ad42fa46a7",
        "IPY_MODEL_fdd2e338d8f54de585e4bda0237d027d"
       ],
       "layout": "IPY_MODEL_e9c315dfcaa14ee0aaf56d6d3d265786"
      }
     },
     "81a7a8859f7c41aba0a539c7fa62d054": {
      "model_module": "@jupyter-widgets/base",
      "model_module_version": "1.2.0",
      "model_name": "LayoutModel",
      "state": {
       "_model_module": "@jupyter-widgets/base",
       "_model_module_version": "1.2.0",
       "_model_name": "LayoutModel",
       "_view_count": null,
       "_view_module": "@jupyter-widgets/base",
       "_view_module_version": "1.2.0",
       "_view_name": "LayoutView",
       "align_content": null,
       "align_items": null,
       "align_self": null,
       "border": null,
       "bottom": null,
       "display": null,
       "flex": null,
       "flex_flow": null,
       "grid_area": null,
       "grid_auto_columns": null,
       "grid_auto_flow": null,
       "grid_auto_rows": null,
       "grid_column": null,
       "grid_gap": null,
       "grid_row": null,
       "grid_template_areas": null,
       "grid_template_columns": null,
       "grid_template_rows": null,
       "height": null,
       "justify_content": null,
       "justify_items": null,
       "left": null,
       "margin": null,
       "max_height": null,
       "max_width": null,
       "min_height": null,
       "min_width": null,
       "object_fit": null,
       "object_position": null,
       "order": null,
       "overflow": null,
       "overflow_x": null,
       "overflow_y": null,
       "padding": null,
       "right": null,
       "top": null,
       "visibility": null,
       "width": null
      }
     },
     "82ab6a37f3614e03938644620dcef2db": {
      "model_module": "@jupyter-widgets/controls",
      "model_module_version": "1.5.0",
      "model_name": "DescriptionStyleModel",
      "state": {
       "_model_module": "@jupyter-widgets/controls",
       "_model_module_version": "1.5.0",
       "_model_name": "DescriptionStyleModel",
       "_view_count": null,
       "_view_module": "@jupyter-widgets/base",
       "_view_module_version": "1.2.0",
       "_view_name": "StyleView",
       "description_width": ""
      }
     },
     "8551599403fc4a61be08e3141984e5a9": {
      "model_module": "@jupyter-widgets/base",
      "model_module_version": "1.2.0",
      "model_name": "LayoutModel",
      "state": {
       "_model_module": "@jupyter-widgets/base",
       "_model_module_version": "1.2.0",
       "_model_name": "LayoutModel",
       "_view_count": null,
       "_view_module": "@jupyter-widgets/base",
       "_view_module_version": "1.2.0",
       "_view_name": "LayoutView",
       "align_content": null,
       "align_items": null,
       "align_self": null,
       "border": null,
       "bottom": null,
       "display": null,
       "flex": null,
       "flex_flow": null,
       "grid_area": null,
       "grid_auto_columns": null,
       "grid_auto_flow": null,
       "grid_auto_rows": null,
       "grid_column": null,
       "grid_gap": null,
       "grid_row": null,
       "grid_template_areas": null,
       "grid_template_columns": null,
       "grid_template_rows": null,
       "height": null,
       "justify_content": null,
       "justify_items": null,
       "left": null,
       "margin": null,
       "max_height": null,
       "max_width": null,
       "min_height": null,
       "min_width": null,
       "object_fit": null,
       "object_position": null,
       "order": null,
       "overflow": null,
       "overflow_x": null,
       "overflow_y": null,
       "padding": null,
       "right": null,
       "top": null,
       "visibility": null,
       "width": null
      }
     },
     "8abb6d6de71a4b7e9c5df60ce5705ee7": {
      "model_module": "@jupyter-widgets/controls",
      "model_module_version": "1.5.0",
      "model_name": "DescriptionStyleModel",
      "state": {
       "_model_module": "@jupyter-widgets/controls",
       "_model_module_version": "1.5.0",
       "_model_name": "DescriptionStyleModel",
       "_view_count": null,
       "_view_module": "@jupyter-widgets/base",
       "_view_module_version": "1.2.0",
       "_view_name": "StyleView",
       "description_width": ""
      }
     },
     "8b51e786d0cb43c9ab37de764c50fd83": {
      "model_module": "@jupyter-widgets/controls",
      "model_module_version": "1.5.0",
      "model_name": "HTMLModel",
      "state": {
       "_dom_classes": [],
       "_model_module": "@jupyter-widgets/controls",
       "_model_module_version": "1.5.0",
       "_model_name": "HTMLModel",
       "_view_count": null,
       "_view_module": "@jupyter-widgets/controls",
       "_view_module_version": "1.5.0",
       "_view_name": "HTMLView",
       "description": "",
       "description_tooltip": null,
       "layout": "IPY_MODEL_0a486974e87648199fcf26e802ac845c",
       "placeholder": "​",
       "style": "IPY_MODEL_c9b359add2604c94a3613316b4f54560",
       "value": "Downloading: 100%"
      }
     },
     "922d66f0b0b549359ff424c1ddb6a7e6": {
      "model_module": "@jupyter-widgets/base",
      "model_module_version": "1.2.0",
      "model_name": "LayoutModel",
      "state": {
       "_model_module": "@jupyter-widgets/base",
       "_model_module_version": "1.2.0",
       "_model_name": "LayoutModel",
       "_view_count": null,
       "_view_module": "@jupyter-widgets/base",
       "_view_module_version": "1.2.0",
       "_view_name": "LayoutView",
       "align_content": null,
       "align_items": null,
       "align_self": null,
       "border": null,
       "bottom": null,
       "display": null,
       "flex": null,
       "flex_flow": null,
       "grid_area": null,
       "grid_auto_columns": null,
       "grid_auto_flow": null,
       "grid_auto_rows": null,
       "grid_column": null,
       "grid_gap": null,
       "grid_row": null,
       "grid_template_areas": null,
       "grid_template_columns": null,
       "grid_template_rows": null,
       "height": null,
       "justify_content": null,
       "justify_items": null,
       "left": null,
       "margin": null,
       "max_height": null,
       "max_width": null,
       "min_height": null,
       "min_width": null,
       "object_fit": null,
       "object_position": null,
       "order": null,
       "overflow": null,
       "overflow_x": null,
       "overflow_y": null,
       "padding": null,
       "right": null,
       "top": null,
       "visibility": null,
       "width": null
      }
     },
     "95c0afcb671e43fb81e461f620a5afb4": {
      "model_module": "@jupyter-widgets/controls",
      "model_module_version": "1.5.0",
      "model_name": "HTMLModel",
      "state": {
       "_dom_classes": [],
       "_model_module": "@jupyter-widgets/controls",
       "_model_module_version": "1.5.0",
       "_model_name": "HTMLModel",
       "_view_count": null,
       "_view_module": "@jupyter-widgets/controls",
       "_view_module_version": "1.5.0",
       "_view_name": "HTMLView",
       "description": "",
       "description_tooltip": null,
       "layout": "IPY_MODEL_68d9ea88228944f68740f0cb98721ca6",
       "placeholder": "​",
       "style": "IPY_MODEL_fe9648626a214d079c7bf89db86f61d2",
       "value": "Downloading metadata: "
      }
     },
     "9b58b89c0377477f9f8f3e347b8e0134": {
      "model_module": "@jupyter-widgets/controls",
      "model_module_version": "1.5.0",
      "model_name": "HBoxModel",
      "state": {
       "_dom_classes": [],
       "_model_module": "@jupyter-widgets/controls",
       "_model_module_version": "1.5.0",
       "_model_name": "HBoxModel",
       "_view_count": null,
       "_view_module": "@jupyter-widgets/controls",
       "_view_module_version": "1.5.0",
       "_view_name": "HBoxView",
       "box_style": "",
       "children": [
        "IPY_MODEL_c1fbd1c13eca438b92fe81fa616f0184",
        "IPY_MODEL_130004943b8c4ddba5ffe07cd372305c",
        "IPY_MODEL_7fb50b455d8744b2848f254784c8cc00"
       ],
       "layout": "IPY_MODEL_baf2072f0704423da9a36fd4a38e2ebe"
      }
     },
     "9cb5a37aa9c84a89ba24820aaf026f46": {
      "model_module": "@jupyter-widgets/base",
      "model_module_version": "1.2.0",
      "model_name": "LayoutModel",
      "state": {
       "_model_module": "@jupyter-widgets/base",
       "_model_module_version": "1.2.0",
       "_model_name": "LayoutModel",
       "_view_count": null,
       "_view_module": "@jupyter-widgets/base",
       "_view_module_version": "1.2.0",
       "_view_name": "LayoutView",
       "align_content": null,
       "align_items": null,
       "align_self": null,
       "border": null,
       "bottom": null,
       "display": null,
       "flex": null,
       "flex_flow": null,
       "grid_area": null,
       "grid_auto_columns": null,
       "grid_auto_flow": null,
       "grid_auto_rows": null,
       "grid_column": null,
       "grid_gap": null,
       "grid_row": null,
       "grid_template_areas": null,
       "grid_template_columns": null,
       "grid_template_rows": null,
       "height": null,
       "justify_content": null,
       "justify_items": null,
       "left": null,
       "margin": null,
       "max_height": null,
       "max_width": null,
       "min_height": null,
       "min_width": null,
       "object_fit": null,
       "object_position": null,
       "order": null,
       "overflow": null,
       "overflow_x": null,
       "overflow_y": null,
       "padding": null,
       "right": null,
       "top": null,
       "visibility": null,
       "width": null
      }
     },
     "a06779c830184d529f74ba2a2cd4c04d": {
      "model_module": "@jupyter-widgets/controls",
      "model_module_version": "1.5.0",
      "model_name": "HTMLModel",
      "state": {
       "_dom_classes": [],
       "_model_module": "@jupyter-widgets/controls",
       "_model_module_version": "1.5.0",
       "_model_name": "HTMLModel",
       "_view_count": null,
       "_view_module": "@jupyter-widgets/controls",
       "_view_module_version": "1.5.0",
       "_view_name": "HTMLView",
       "description": "",
       "description_tooltip": null,
       "layout": "IPY_MODEL_da5fa122586f4c1f8986b38b3cbf7d5d",
       "placeholder": "​",
       "style": "IPY_MODEL_7c10788396d74a158321a6f5d492cbf9",
       "value": "Generating train split:  98%"
      }
     },
     "a3b82fab647743a38da6a8ec8df8746f": {
      "model_module": "@jupyter-widgets/base",
      "model_module_version": "1.2.0",
      "model_name": "LayoutModel",
      "state": {
       "_model_module": "@jupyter-widgets/base",
       "_model_module_version": "1.2.0",
       "_model_name": "LayoutModel",
       "_view_count": null,
       "_view_module": "@jupyter-widgets/base",
       "_view_module_version": "1.2.0",
       "_view_name": "LayoutView",
       "align_content": null,
       "align_items": null,
       "align_self": null,
       "border": null,
       "bottom": null,
       "display": null,
       "flex": null,
       "flex_flow": null,
       "grid_area": null,
       "grid_auto_columns": null,
       "grid_auto_flow": null,
       "grid_auto_rows": null,
       "grid_column": null,
       "grid_gap": null,
       "grid_row": null,
       "grid_template_areas": null,
       "grid_template_columns": null,
       "grid_template_rows": null,
       "height": null,
       "justify_content": null,
       "justify_items": null,
       "left": null,
       "margin": null,
       "max_height": null,
       "max_width": null,
       "min_height": null,
       "min_width": null,
       "object_fit": null,
       "object_position": null,
       "order": null,
       "overflow": null,
       "overflow_x": null,
       "overflow_y": null,
       "padding": null,
       "right": null,
       "top": null,
       "visibility": null,
       "width": null
      }
     },
     "a52fe79f6fad4e9394155d1e62e91a37": {
      "model_module": "@jupyter-widgets/controls",
      "model_module_version": "1.5.0",
      "model_name": "ProgressStyleModel",
      "state": {
       "_model_module": "@jupyter-widgets/controls",
       "_model_module_version": "1.5.0",
       "_model_name": "ProgressStyleModel",
       "_view_count": null,
       "_view_module": "@jupyter-widgets/base",
       "_view_module_version": "1.2.0",
       "_view_name": "StyleView",
       "bar_color": null,
       "description_width": ""
      }
     },
     "a564d0af6b414817a621dd34bfb7297c": {
      "model_module": "@jupyter-widgets/controls",
      "model_module_version": "1.5.0",
      "model_name": "ProgressStyleModel",
      "state": {
       "_model_module": "@jupyter-widgets/controls",
       "_model_module_version": "1.5.0",
       "_model_name": "ProgressStyleModel",
       "_view_count": null,
       "_view_module": "@jupyter-widgets/base",
       "_view_module_version": "1.2.0",
       "_view_name": "StyleView",
       "bar_color": null,
       "description_width": ""
      }
     },
     "a63e787b72944208a84745d7f525ca7e": {
      "model_module": "@jupyter-widgets/controls",
      "model_module_version": "1.5.0",
      "model_name": "HTMLModel",
      "state": {
       "_dom_classes": [],
       "_model_module": "@jupyter-widgets/controls",
       "_model_module_version": "1.5.0",
       "_model_name": "HTMLModel",
       "_view_count": null,
       "_view_module": "@jupyter-widgets/controls",
       "_view_module_version": "1.5.0",
       "_view_name": "HTMLView",
       "description": "",
       "description_tooltip": null,
       "layout": "IPY_MODEL_cc83bf970ad14383904e818bd3c9bd25",
       "placeholder": "​",
       "style": "IPY_MODEL_c3c3da7ea6c846c096c0461611f90514",
       "value": " 3.48k/? [00:00&lt;00:00, 123kB/s]"
      }
     },
     "a68440bd172543e184231d1b72580fa9": {
      "model_module": "@jupyter-widgets/controls",
      "model_module_version": "1.5.0",
      "model_name": "DescriptionStyleModel",
      "state": {
       "_model_module": "@jupyter-widgets/controls",
       "_model_module_version": "1.5.0",
       "_model_name": "DescriptionStyleModel",
       "_view_count": null,
       "_view_module": "@jupyter-widgets/base",
       "_view_module_version": "1.2.0",
       "_view_name": "StyleView",
       "description_width": ""
      }
     },
     "a718a4808eaa4fac9c44de4135eca614": {
      "model_module": "@jupyter-widgets/controls",
      "model_module_version": "1.5.0",
      "model_name": "HBoxModel",
      "state": {
       "_dom_classes": [],
       "_model_module": "@jupyter-widgets/controls",
       "_model_module_version": "1.5.0",
       "_model_name": "HBoxModel",
       "_view_count": null,
       "_view_module": "@jupyter-widgets/controls",
       "_view_module_version": "1.5.0",
       "_view_name": "HBoxView",
       "box_style": "",
       "children": [
        "IPY_MODEL_d6fbff8583ae4b9592c02b5a1efa9a83",
        "IPY_MODEL_18545b29b8c440a9b031b41509239407",
        "IPY_MODEL_1c5a44affa704481940382be210b41c8"
       ],
       "layout": "IPY_MODEL_3d336000197649348dafdba72cace787"
      }
     },
     "abb0323bbbb94f66afa072517a5cfdfd": {
      "model_module": "@jupyter-widgets/controls",
      "model_module_version": "1.5.0",
      "model_name": "HBoxModel",
      "state": {
       "_dom_classes": [],
       "_model_module": "@jupyter-widgets/controls",
       "_model_module_version": "1.5.0",
       "_model_name": "HBoxModel",
       "_view_count": null,
       "_view_module": "@jupyter-widgets/controls",
       "_view_module_version": "1.5.0",
       "_view_name": "HBoxView",
       "box_style": "",
       "children": [
        "IPY_MODEL_8b51e786d0cb43c9ab37de764c50fd83",
        "IPY_MODEL_41d11bac03fa4db0aea11c2fbd9e3230",
        "IPY_MODEL_ac942c73d8b94b87af619f55d56a1209"
       ],
       "layout": "IPY_MODEL_bd4d1d3e8bc8411f9e2468005745a5f6"
      }
     },
     "ac942c73d8b94b87af619f55d56a1209": {
      "model_module": "@jupyter-widgets/controls",
      "model_module_version": "1.5.0",
      "model_name": "HTMLModel",
      "state": {
       "_dom_classes": [],
       "_model_module": "@jupyter-widgets/controls",
       "_model_module_version": "1.5.0",
       "_model_name": "HTMLModel",
       "_view_count": null,
       "_view_module": "@jupyter-widgets/controls",
       "_view_module_version": "1.5.0",
       "_view_name": "HTMLView",
       "description": "",
       "description_tooltip": null,
       "layout": "IPY_MODEL_6f7a255001b64e67b66e130f9ce85a93",
       "placeholder": "​",
       "style": "IPY_MODEL_7b829f9e056542d6b98bd50703f80b8f",
       "value": " 445M/445M [00:19&lt;00:00, 25.8MB/s]"
      }
     },
     "ae7cf726447b485db6ef4658eeb8547b": {
      "model_module": "@jupyter-widgets/controls",
      "model_module_version": "1.5.0",
      "model_name": "DescriptionStyleModel",
      "state": {
       "_model_module": "@jupyter-widgets/controls",
       "_model_module_version": "1.5.0",
       "_model_name": "DescriptionStyleModel",
       "_view_count": null,
       "_view_module": "@jupyter-widgets/base",
       "_view_module_version": "1.2.0",
       "_view_name": "StyleView",
       "description_width": ""
      }
     },
     "afccd1d75f734396a851a174f0b76b9c": {
      "model_module": "@jupyter-widgets/controls",
      "model_module_version": "1.5.0",
      "model_name": "DescriptionStyleModel",
      "state": {
       "_model_module": "@jupyter-widgets/controls",
       "_model_module_version": "1.5.0",
       "_model_name": "DescriptionStyleModel",
       "_view_count": null,
       "_view_module": "@jupyter-widgets/base",
       "_view_module_version": "1.2.0",
       "_view_name": "StyleView",
       "description_width": ""
      }
     },
     "b3d15fa2d8354bd495ecb746031e292e": {
      "model_module": "@jupyter-widgets/base",
      "model_module_version": "1.2.0",
      "model_name": "LayoutModel",
      "state": {
       "_model_module": "@jupyter-widgets/base",
       "_model_module_version": "1.2.0",
       "_model_name": "LayoutModel",
       "_view_count": null,
       "_view_module": "@jupyter-widgets/base",
       "_view_module_version": "1.2.0",
       "_view_name": "LayoutView",
       "align_content": null,
       "align_items": null,
       "align_self": null,
       "border": null,
       "bottom": null,
       "display": null,
       "flex": null,
       "flex_flow": null,
       "grid_area": null,
       "grid_auto_columns": null,
       "grid_auto_flow": null,
       "grid_auto_rows": null,
       "grid_column": null,
       "grid_gap": null,
       "grid_row": null,
       "grid_template_areas": null,
       "grid_template_columns": null,
       "grid_template_rows": null,
       "height": null,
       "justify_content": null,
       "justify_items": null,
       "left": null,
       "margin": null,
       "max_height": null,
       "max_width": null,
       "min_height": null,
       "min_width": null,
       "object_fit": null,
       "object_position": null,
       "order": null,
       "overflow": null,
       "overflow_x": null,
       "overflow_y": null,
       "padding": null,
       "right": null,
       "top": null,
       "visibility": null,
       "width": null
      }
     },
     "b48270dba4a949a0b43c153ff6ccf2dd": {
      "model_module": "@jupyter-widgets/base",
      "model_module_version": "1.2.0",
      "model_name": "LayoutModel",
      "state": {
       "_model_module": "@jupyter-widgets/base",
       "_model_module_version": "1.2.0",
       "_model_name": "LayoutModel",
       "_view_count": null,
       "_view_module": "@jupyter-widgets/base",
       "_view_module_version": "1.2.0",
       "_view_name": "LayoutView",
       "align_content": null,
       "align_items": null,
       "align_self": null,
       "border": null,
       "bottom": null,
       "display": null,
       "flex": null,
       "flex_flow": null,
       "grid_area": null,
       "grid_auto_columns": null,
       "grid_auto_flow": null,
       "grid_auto_rows": null,
       "grid_column": null,
       "grid_gap": null,
       "grid_row": null,
       "grid_template_areas": null,
       "grid_template_columns": null,
       "grid_template_rows": null,
       "height": null,
       "justify_content": null,
       "justify_items": null,
       "left": null,
       "margin": null,
       "max_height": null,
       "max_width": null,
       "min_height": null,
       "min_width": null,
       "object_fit": null,
       "object_position": null,
       "order": null,
       "overflow": null,
       "overflow_x": null,
       "overflow_y": null,
       "padding": null,
       "right": null,
       "top": null,
       "visibility": null,
       "width": null
      }
     },
     "b63bffe4702240fd802598db6bdb21c0": {
      "model_module": "@jupyter-widgets/base",
      "model_module_version": "1.2.0",
      "model_name": "LayoutModel",
      "state": {
       "_model_module": "@jupyter-widgets/base",
       "_model_module_version": "1.2.0",
       "_model_name": "LayoutModel",
       "_view_count": null,
       "_view_module": "@jupyter-widgets/base",
       "_view_module_version": "1.2.0",
       "_view_name": "LayoutView",
       "align_content": null,
       "align_items": null,
       "align_self": null,
       "border": null,
       "bottom": null,
       "display": null,
       "flex": null,
       "flex_flow": null,
       "grid_area": null,
       "grid_auto_columns": null,
       "grid_auto_flow": null,
       "grid_auto_rows": null,
       "grid_column": null,
       "grid_gap": null,
       "grid_row": null,
       "grid_template_areas": null,
       "grid_template_columns": null,
       "grid_template_rows": null,
       "height": null,
       "justify_content": null,
       "justify_items": null,
       "left": null,
       "margin": null,
       "max_height": null,
       "max_width": null,
       "min_height": null,
       "min_width": null,
       "object_fit": null,
       "object_position": null,
       "order": null,
       "overflow": null,
       "overflow_x": null,
       "overflow_y": null,
       "padding": null,
       "right": null,
       "top": null,
       "visibility": null,
       "width": null
      }
     },
     "b66eeb1a72be47088f8701c2a3509295": {
      "model_module": "@jupyter-widgets/controls",
      "model_module_version": "1.5.0",
      "model_name": "FloatProgressModel",
      "state": {
       "_dom_classes": [],
       "_model_module": "@jupyter-widgets/controls",
       "_model_module_version": "1.5.0",
       "_model_name": "FloatProgressModel",
       "_view_count": null,
       "_view_module": "@jupyter-widgets/controls",
       "_view_module_version": "1.5.0",
       "_view_name": "ProgressView",
       "bar_style": "success",
       "description": "",
       "description_tooltip": null,
       "layout": "IPY_MODEL_23a31efb69b44c6e8e3eeb2c75f390a4",
       "max": 1046387.0,
       "min": 0.0,
       "orientation": "horizontal",
       "style": "IPY_MODEL_a564d0af6b414817a621dd34bfb7297c",
       "value": 1046387.0
      }
     },
     "baa3259ffe3b4075b36648d2a5fc2b63": {
      "model_module": "@jupyter-widgets/base",
      "model_module_version": "1.2.0",
      "model_name": "LayoutModel",
      "state": {
       "_model_module": "@jupyter-widgets/base",
       "_model_module_version": "1.2.0",
       "_model_name": "LayoutModel",
       "_view_count": null,
       "_view_module": "@jupyter-widgets/base",
       "_view_module_version": "1.2.0",
       "_view_name": "LayoutView",
       "align_content": null,
       "align_items": null,
       "align_self": null,
       "border": null,
       "bottom": null,
       "display": null,
       "flex": null,
       "flex_flow": null,
       "grid_area": null,
       "grid_auto_columns": null,
       "grid_auto_flow": null,
       "grid_auto_rows": null,
       "grid_column": null,
       "grid_gap": null,
       "grid_row": null,
       "grid_template_areas": null,
       "grid_template_columns": null,
       "grid_template_rows": null,
       "height": null,
       "justify_content": null,
       "justify_items": null,
       "left": null,
       "margin": null,
       "max_height": null,
       "max_width": null,
       "min_height": null,
       "min_width": null,
       "object_fit": null,
       "object_position": null,
       "order": null,
       "overflow": null,
       "overflow_x": null,
       "overflow_y": null,
       "padding": null,
       "right": null,
       "top": null,
       "visibility": null,
       "width": null
      }
     },
     "baf2072f0704423da9a36fd4a38e2ebe": {
      "model_module": "@jupyter-widgets/base",
      "model_module_version": "1.2.0",
      "model_name": "LayoutModel",
      "state": {
       "_model_module": "@jupyter-widgets/base",
       "_model_module_version": "1.2.0",
       "_model_name": "LayoutModel",
       "_view_count": null,
       "_view_module": "@jupyter-widgets/base",
       "_view_module_version": "1.2.0",
       "_view_name": "LayoutView",
       "align_content": null,
       "align_items": null,
       "align_self": null,
       "border": null,
       "bottom": null,
       "display": null,
       "flex": null,
       "flex_flow": null,
       "grid_area": null,
       "grid_auto_columns": null,
       "grid_auto_flow": null,
       "grid_auto_rows": null,
       "grid_column": null,
       "grid_gap": null,
       "grid_row": null,
       "grid_template_areas": null,
       "grid_template_columns": null,
       "grid_template_rows": null,
       "height": null,
       "justify_content": null,
       "justify_items": null,
       "left": null,
       "margin": null,
       "max_height": null,
       "max_width": null,
       "min_height": null,
       "min_width": null,
       "object_fit": null,
       "object_position": null,
       "order": null,
       "overflow": null,
       "overflow_x": null,
       "overflow_y": null,
       "padding": null,
       "right": null,
       "top": null,
       "visibility": null,
       "width": null
      }
     },
     "bd4d1d3e8bc8411f9e2468005745a5f6": {
      "model_module": "@jupyter-widgets/base",
      "model_module_version": "1.2.0",
      "model_name": "LayoutModel",
      "state": {
       "_model_module": "@jupyter-widgets/base",
       "_model_module_version": "1.2.0",
       "_model_name": "LayoutModel",
       "_view_count": null,
       "_view_module": "@jupyter-widgets/base",
       "_view_module_version": "1.2.0",
       "_view_name": "LayoutView",
       "align_content": null,
       "align_items": null,
       "align_self": null,
       "border": null,
       "bottom": null,
       "display": null,
       "flex": null,
       "flex_flow": null,
       "grid_area": null,
       "grid_auto_columns": null,
       "grid_auto_flow": null,
       "grid_auto_rows": null,
       "grid_column": null,
       "grid_gap": null,
       "grid_row": null,
       "grid_template_areas": null,
       "grid_template_columns": null,
       "grid_template_rows": null,
       "height": null,
       "justify_content": null,
       "justify_items": null,
       "left": null,
       "margin": null,
       "max_height": null,
       "max_width": null,
       "min_height": null,
       "min_width": null,
       "object_fit": null,
       "object_position": null,
       "order": null,
       "overflow": null,
       "overflow_x": null,
       "overflow_y": null,
       "padding": null,
       "right": null,
       "top": null,
       "visibility": null,
       "width": null
      }
     },
     "be672aa8ad704caf85a378c8b21ffd11": {
      "model_module": "@jupyter-widgets/controls",
      "model_module_version": "1.5.0",
      "model_name": "ProgressStyleModel",
      "state": {
       "_model_module": "@jupyter-widgets/controls",
       "_model_module_version": "1.5.0",
       "_model_name": "ProgressStyleModel",
       "_view_count": null,
       "_view_module": "@jupyter-widgets/base",
       "_view_module_version": "1.2.0",
       "_view_name": "StyleView",
       "bar_color": null,
       "description_width": ""
      }
     },
     "c1fbd1c13eca438b92fe81fa616f0184": {
      "model_module": "@jupyter-widgets/controls",
      "model_module_version": "1.5.0",
      "model_name": "HTMLModel",
      "state": {
       "_dom_classes": [],
       "_model_module": "@jupyter-widgets/controls",
       "_model_module_version": "1.5.0",
       "_model_name": "HTMLModel",
       "_view_count": null,
       "_view_module": "@jupyter-widgets/controls",
       "_view_module_version": "1.5.0",
       "_view_name": "HTMLView",
       "description": "",
       "description_tooltip": null,
       "layout": "IPY_MODEL_81a7a8859f7c41aba0a539c7fa62d054",
       "placeholder": "​",
       "style": "IPY_MODEL_035497e6d25a44dfbfd2d8e2444c82fe",
       "value": "Generating train split:  97%"
      }
     },
     "c24b7430ede143198d7ec0b99ed1831a": {
      "model_module": "@jupyter-widgets/controls",
      "model_module_version": "1.5.0",
      "model_name": "HBoxModel",
      "state": {
       "_dom_classes": [],
       "_model_module": "@jupyter-widgets/controls",
       "_model_module_version": "1.5.0",
       "_model_name": "HBoxModel",
       "_view_count": null,
       "_view_module": "@jupyter-widgets/controls",
       "_view_module_version": "1.5.0",
       "_view_name": "HBoxView",
       "box_style": "",
       "children": [
        "IPY_MODEL_d630c6cf0382445c8db39515cb551888",
        "IPY_MODEL_504961dc701741cab89eef5a6084174b",
        "IPY_MODEL_6e2655e63f0641b9bc569617e64eef12"
       ],
       "layout": "IPY_MODEL_1e11023b56bf4daebc5018566b9af984"
      }
     },
     "c2ab4b2471df42858ced736c7805ff34": {
      "model_module": "@jupyter-widgets/base",
      "model_module_version": "1.2.0",
      "model_name": "LayoutModel",
      "state": {
       "_model_module": "@jupyter-widgets/base",
       "_model_module_version": "1.2.0",
       "_model_name": "LayoutModel",
       "_view_count": null,
       "_view_module": "@jupyter-widgets/base",
       "_view_module_version": "1.2.0",
       "_view_name": "LayoutView",
       "align_content": null,
       "align_items": null,
       "align_self": null,
       "border": null,
       "bottom": null,
       "display": null,
       "flex": null,
       "flex_flow": null,
       "grid_area": null,
       "grid_auto_columns": null,
       "grid_auto_flow": null,
       "grid_auto_rows": null,
       "grid_column": null,
       "grid_gap": null,
       "grid_row": null,
       "grid_template_areas": null,
       "grid_template_columns": null,
       "grid_template_rows": null,
       "height": null,
       "justify_content": null,
       "justify_items": null,
       "left": null,
       "margin": null,
       "max_height": null,
       "max_width": null,
       "min_height": null,
       "min_width": null,
       "object_fit": null,
       "object_position": null,
       "order": null,
       "overflow": null,
       "overflow_x": null,
       "overflow_y": null,
       "padding": null,
       "right": null,
       "top": null,
       "visibility": null,
       "width": null
      }
     },
     "c3c3da7ea6c846c096c0461611f90514": {
      "model_module": "@jupyter-widgets/controls",
      "model_module_version": "1.5.0",
      "model_name": "DescriptionStyleModel",
      "state": {
       "_model_module": "@jupyter-widgets/controls",
       "_model_module_version": "1.5.0",
       "_model_name": "DescriptionStyleModel",
       "_view_count": null,
       "_view_module": "@jupyter-widgets/base",
       "_view_module_version": "1.2.0",
       "_view_name": "StyleView",
       "description_width": ""
      }
     },
     "c61fc567a9a34b97a0d2f40a592a66bd": {
      "model_module": "@jupyter-widgets/controls",
      "model_module_version": "1.5.0",
      "model_name": "DescriptionStyleModel",
      "state": {
       "_model_module": "@jupyter-widgets/controls",
       "_model_module_version": "1.5.0",
       "_model_name": "DescriptionStyleModel",
       "_view_count": null,
       "_view_module": "@jupyter-widgets/base",
       "_view_module_version": "1.2.0",
       "_view_name": "StyleView",
       "description_width": ""
      }
     },
     "c9b359add2604c94a3613316b4f54560": {
      "model_module": "@jupyter-widgets/controls",
      "model_module_version": "1.5.0",
      "model_name": "DescriptionStyleModel",
      "state": {
       "_model_module": "@jupyter-widgets/controls",
       "_model_module_version": "1.5.0",
       "_model_name": "DescriptionStyleModel",
       "_view_count": null,
       "_view_module": "@jupyter-widgets/base",
       "_view_module_version": "1.2.0",
       "_view_name": "StyleView",
       "description_width": ""
      }
     },
     "c9f89a7f8c1d4de6af11949906e79598": {
      "model_module": "@jupyter-widgets/base",
      "model_module_version": "1.2.0",
      "model_name": "LayoutModel",
      "state": {
       "_model_module": "@jupyter-widgets/base",
       "_model_module_version": "1.2.0",
       "_model_name": "LayoutModel",
       "_view_count": null,
       "_view_module": "@jupyter-widgets/base",
       "_view_module_version": "1.2.0",
       "_view_name": "LayoutView",
       "align_content": null,
       "align_items": null,
       "align_self": null,
       "border": null,
       "bottom": null,
       "display": null,
       "flex": null,
       "flex_flow": null,
       "grid_area": null,
       "grid_auto_columns": null,
       "grid_auto_flow": null,
       "grid_auto_rows": null,
       "grid_column": null,
       "grid_gap": null,
       "grid_row": null,
       "grid_template_areas": null,
       "grid_template_columns": null,
       "grid_template_rows": null,
       "height": null,
       "justify_content": null,
       "justify_items": null,
       "left": null,
       "margin": null,
       "max_height": null,
       "max_width": null,
       "min_height": null,
       "min_width": null,
       "object_fit": null,
       "object_position": null,
       "order": null,
       "overflow": null,
       "overflow_x": null,
       "overflow_y": null,
       "padding": null,
       "right": null,
       "top": null,
       "visibility": null,
       "width": null
      }
     },
     "cc83bf970ad14383904e818bd3c9bd25": {
      "model_module": "@jupyter-widgets/base",
      "model_module_version": "1.2.0",
      "model_name": "LayoutModel",
      "state": {
       "_model_module": "@jupyter-widgets/base",
       "_model_module_version": "1.2.0",
       "_model_name": "LayoutModel",
       "_view_count": null,
       "_view_module": "@jupyter-widgets/base",
       "_view_module_version": "1.2.0",
       "_view_name": "LayoutView",
       "align_content": null,
       "align_items": null,
       "align_self": null,
       "border": null,
       "bottom": null,
       "display": null,
       "flex": null,
       "flex_flow": null,
       "grid_area": null,
       "grid_auto_columns": null,
       "grid_auto_flow": null,
       "grid_auto_rows": null,
       "grid_column": null,
       "grid_gap": null,
       "grid_row": null,
       "grid_template_areas": null,
       "grid_template_columns": null,
       "grid_template_rows": null,
       "height": null,
       "justify_content": null,
       "justify_items": null,
       "left": null,
       "margin": null,
       "max_height": null,
       "max_width": null,
       "min_height": null,
       "min_width": null,
       "object_fit": null,
       "object_position": null,
       "order": null,
       "overflow": null,
       "overflow_x": null,
       "overflow_y": null,
       "padding": null,
       "right": null,
       "top": null,
       "visibility": null,
       "width": null
      }
     },
     "cd4a0ce576d04dfe991ccb56093ff45d": {
      "model_module": "@jupyter-widgets/base",
      "model_module_version": "1.2.0",
      "model_name": "LayoutModel",
      "state": {
       "_model_module": "@jupyter-widgets/base",
       "_model_module_version": "1.2.0",
       "_model_name": "LayoutModel",
       "_view_count": null,
       "_view_module": "@jupyter-widgets/base",
       "_view_module_version": "1.2.0",
       "_view_name": "LayoutView",
       "align_content": null,
       "align_items": null,
       "align_self": null,
       "border": null,
       "bottom": null,
       "display": null,
       "flex": null,
       "flex_flow": null,
       "grid_area": null,
       "grid_auto_columns": null,
       "grid_auto_flow": null,
       "grid_auto_rows": null,
       "grid_column": null,
       "grid_gap": null,
       "grid_row": null,
       "grid_template_areas": null,
       "grid_template_columns": null,
       "grid_template_rows": null,
       "height": null,
       "justify_content": null,
       "justify_items": null,
       "left": null,
       "margin": null,
       "max_height": null,
       "max_width": null,
       "min_height": null,
       "min_width": null,
       "object_fit": null,
       "object_position": null,
       "order": null,
       "overflow": null,
       "overflow_x": null,
       "overflow_y": null,
       "padding": null,
       "right": null,
       "top": null,
       "visibility": null,
       "width": null
      }
     },
     "d49bb7e4ae79486dbe568c7860f0dbda": {
      "model_module": "@jupyter-widgets/controls",
      "model_module_version": "1.5.0",
      "model_name": "DescriptionStyleModel",
      "state": {
       "_model_module": "@jupyter-widgets/controls",
       "_model_module_version": "1.5.0",
       "_model_name": "DescriptionStyleModel",
       "_view_count": null,
       "_view_module": "@jupyter-widgets/base",
       "_view_module_version": "1.2.0",
       "_view_name": "StyleView",
       "description_width": ""
      }
     },
     "d4d366aa3151499a9c16416a3c43ba98": {
      "model_module": "@jupyter-widgets/controls",
      "model_module_version": "1.5.0",
      "model_name": "HTMLModel",
      "state": {
       "_dom_classes": [],
       "_model_module": "@jupyter-widgets/controls",
       "_model_module_version": "1.5.0",
       "_model_name": "HTMLModel",
       "_view_count": null,
       "_view_module": "@jupyter-widgets/controls",
       "_view_module_version": "1.5.0",
       "_view_name": "HTMLView",
       "description": "",
       "description_tooltip": null,
       "layout": "IPY_MODEL_4babdb3c3f834f2da53864d798deb440",
       "placeholder": "​",
       "style": "IPY_MODEL_3fb47c06b55048c6b8e2eb61ac77bcc6",
       "value": " 31372/31962 [00:01&lt;00:00, 33754.63 examples/s]"
      }
     },
     "d630c6cf0382445c8db39515cb551888": {
      "model_module": "@jupyter-widgets/controls",
      "model_module_version": "1.5.0",
      "model_name": "HTMLModel",
      "state": {
       "_dom_classes": [],
       "_model_module": "@jupyter-widgets/controls",
       "_model_module_version": "1.5.0",
       "_model_name": "HTMLModel",
       "_view_count": null,
       "_view_module": "@jupyter-widgets/controls",
       "_view_module_version": "1.5.0",
       "_view_name": "HTMLView",
       "description": "",
       "description_tooltip": null,
       "layout": "IPY_MODEL_9cb5a37aa9c84a89ba24820aaf026f46",
       "placeholder": "​",
       "style": "IPY_MODEL_518a11d79c704a4ba77282a6b78c65ea",
       "value": "Downloading data: "
      }
     },
     "d6fbff8583ae4b9592c02b5a1efa9a83": {
      "model_module": "@jupyter-widgets/controls",
      "model_module_version": "1.5.0",
      "model_name": "HTMLModel",
      "state": {
       "_dom_classes": [],
       "_model_module": "@jupyter-widgets/controls",
       "_model_module_version": "1.5.0",
       "_model_name": "HTMLModel",
       "_view_count": null,
       "_view_module": "@jupyter-widgets/controls",
       "_view_module_version": "1.5.0",
       "_view_name": "HTMLView",
       "description": "",
       "description_tooltip": null,
       "layout": "IPY_MODEL_589bc4c647ae49349bb605609014a302",
       "placeholder": "​",
       "style": "IPY_MODEL_d49bb7e4ae79486dbe568c7860f0dbda",
       "value": "Downloading: 100%"
      }
     },
     "da55875e513e4474aa7ccfb3c9439a6f": {
      "model_module": "@jupyter-widgets/controls",
      "model_module_version": "1.5.0",
      "model_name": "HBoxModel",
      "state": {
       "_dom_classes": [],
       "_model_module": "@jupyter-widgets/controls",
       "_model_module_version": "1.5.0",
       "_model_name": "HBoxModel",
       "_view_count": null,
       "_view_module": "@jupyter-widgets/controls",
       "_view_module_version": "1.5.0",
       "_view_name": "HBoxView",
       "box_style": "",
       "children": [
        "IPY_MODEL_e2dff1ad7ab3426caac1f016787f25ce",
        "IPY_MODEL_e4f4fa38720b40fdaf920e0ba5a57e38",
        "IPY_MODEL_6c5e96ee7b0244f790a475511d14456d"
       ],
       "layout": "IPY_MODEL_922d66f0b0b549359ff424c1ddb6a7e6"
      }
     },
     "da5fa122586f4c1f8986b38b3cbf7d5d": {
      "model_module": "@jupyter-widgets/base",
      "model_module_version": "1.2.0",
      "model_name": "LayoutModel",
      "state": {
       "_model_module": "@jupyter-widgets/base",
       "_model_module_version": "1.2.0",
       "_model_name": "LayoutModel",
       "_view_count": null,
       "_view_module": "@jupyter-widgets/base",
       "_view_module_version": "1.2.0",
       "_view_name": "LayoutView",
       "align_content": null,
       "align_items": null,
       "align_self": null,
       "border": null,
       "bottom": null,
       "display": null,
       "flex": null,
       "flex_flow": null,
       "grid_area": null,
       "grid_auto_columns": null,
       "grid_auto_flow": null,
       "grid_auto_rows": null,
       "grid_column": null,
       "grid_gap": null,
       "grid_row": null,
       "grid_template_areas": null,
       "grid_template_columns": null,
       "grid_template_rows": null,
       "height": null,
       "justify_content": null,
       "justify_items": null,
       "left": null,
       "margin": null,
       "max_height": null,
       "max_width": null,
       "min_height": null,
       "min_width": null,
       "object_fit": null,
       "object_position": null,
       "order": null,
       "overflow": null,
       "overflow_x": null,
       "overflow_y": null,
       "padding": null,
       "right": null,
       "top": null,
       "visibility": null,
       "width": null
      }
     },
     "db03ab7809db44308b12cd689ee6c12e": {
      "model_module": "@jupyter-widgets/base",
      "model_module_version": "1.2.0",
      "model_name": "LayoutModel",
      "state": {
       "_model_module": "@jupyter-widgets/base",
       "_model_module_version": "1.2.0",
       "_model_name": "LayoutModel",
       "_view_count": null,
       "_view_module": "@jupyter-widgets/base",
       "_view_module_version": "1.2.0",
       "_view_name": "LayoutView",
       "align_content": null,
       "align_items": null,
       "align_self": null,
       "border": null,
       "bottom": null,
       "display": null,
       "flex": null,
       "flex_flow": null,
       "grid_area": null,
       "grid_auto_columns": null,
       "grid_auto_flow": null,
       "grid_auto_rows": null,
       "grid_column": null,
       "grid_gap": null,
       "grid_row": null,
       "grid_template_areas": null,
       "grid_template_columns": null,
       "grid_template_rows": null,
       "height": null,
       "justify_content": null,
       "justify_items": null,
       "left": null,
       "margin": null,
       "max_height": null,
       "max_width": null,
       "min_height": null,
       "min_width": null,
       "object_fit": null,
       "object_position": null,
       "order": null,
       "overflow": null,
       "overflow_x": null,
       "overflow_y": null,
       "padding": null,
       "right": null,
       "top": null,
       "visibility": null,
       "width": null
      }
     },
     "e1e4f55765db42acb06ca60aabcbe0e2": {
      "model_module": "@jupyter-widgets/controls",
      "model_module_version": "1.5.0",
      "model_name": "HTMLModel",
      "state": {
       "_dom_classes": [],
       "_model_module": "@jupyter-widgets/controls",
       "_model_module_version": "1.5.0",
       "_model_name": "HTMLModel",
       "_view_count": null,
       "_view_module": "@jupyter-widgets/controls",
       "_view_module_version": "1.5.0",
       "_view_name": "HTMLView",
       "description": "",
       "description_tooltip": null,
       "layout": "IPY_MODEL_baa3259ffe3b4075b36648d2a5fc2b63",
       "placeholder": "​",
       "style": "IPY_MODEL_0edd1a9ef2bf45bdb27884bc459d4efc",
       "value": "Downloading metadata: "
      }
     },
     "e2dff1ad7ab3426caac1f016787f25ce": {
      "model_module": "@jupyter-widgets/controls",
      "model_module_version": "1.5.0",
      "model_name": "HTMLModel",
      "state": {
       "_dom_classes": [],
       "_model_module": "@jupyter-widgets/controls",
       "_model_module_version": "1.5.0",
       "_model_name": "HTMLModel",
       "_view_count": null,
       "_view_module": "@jupyter-widgets/controls",
       "_view_module_version": "1.5.0",
       "_view_name": "HTMLView",
       "description": "",
       "description_tooltip": null,
       "layout": "IPY_MODEL_b3d15fa2d8354bd495ecb746031e292e",
       "placeholder": "​",
       "style": "IPY_MODEL_ae7cf726447b485db6ef4658eeb8547b",
       "value": "Downloading builder script: "
      }
     },
     "e4f4fa38720b40fdaf920e0ba5a57e38": {
      "model_module": "@jupyter-widgets/controls",
      "model_module_version": "1.5.0",
      "model_name": "FloatProgressModel",
      "state": {
       "_dom_classes": [],
       "_model_module": "@jupyter-widgets/controls",
       "_model_module_version": "1.5.0",
       "_model_name": "FloatProgressModel",
       "_view_count": null,
       "_view_module": "@jupyter-widgets/controls",
       "_view_module_version": "1.5.0",
       "_view_name": "ProgressView",
       "bar_style": "success",
       "description": "",
       "description_tooltip": null,
       "layout": "IPY_MODEL_4381fd78ca534980b9b18e0be8606829",
       "max": 1448.0,
       "min": 0.0,
       "orientation": "horizontal",
       "style": "IPY_MODEL_f117d7b007ee47e7a8afd67d5a0daa20",
       "value": 1448.0
      }
     },
     "e5f56bd9e3b6459cbb0bc2d37711e828": {
      "model_module": "@jupyter-widgets/controls",
      "model_module_version": "1.5.0",
      "model_name": "HBoxModel",
      "state": {
       "_dom_classes": [],
       "_model_module": "@jupyter-widgets/controls",
       "_model_module_version": "1.5.0",
       "_model_name": "HBoxModel",
       "_view_count": null,
       "_view_module": "@jupyter-widgets/controls",
       "_view_module_version": "1.5.0",
       "_view_name": "HBoxView",
       "box_style": "",
       "children": [
        "IPY_MODEL_49ec14ed9fcc4331b4088837706c7989",
        "IPY_MODEL_738cec710c754b5987ac6d886d837c52",
        "IPY_MODEL_a63e787b72944208a84745d7f525ca7e"
       ],
       "layout": "IPY_MODEL_6a90b50e17cf424fadbcb68b5f26b759"
      }
     },
     "e9c315dfcaa14ee0aaf56d6d3d265786": {
      "model_module": "@jupyter-widgets/base",
      "model_module_version": "1.2.0",
      "model_name": "LayoutModel",
      "state": {
       "_model_module": "@jupyter-widgets/base",
       "_model_module_version": "1.2.0",
       "_model_name": "LayoutModel",
       "_view_count": null,
       "_view_module": "@jupyter-widgets/base",
       "_view_module_version": "1.2.0",
       "_view_name": "LayoutView",
       "align_content": null,
       "align_items": null,
       "align_self": null,
       "border": null,
       "bottom": null,
       "display": null,
       "flex": null,
       "flex_flow": null,
       "grid_area": null,
       "grid_auto_columns": null,
       "grid_auto_flow": null,
       "grid_auto_rows": null,
       "grid_column": null,
       "grid_gap": null,
       "grid_row": null,
       "grid_template_areas": null,
       "grid_template_columns": null,
       "grid_template_rows": null,
       "height": null,
       "justify_content": null,
       "justify_items": null,
       "left": null,
       "margin": null,
       "max_height": null,
       "max_width": null,
       "min_height": null,
       "min_width": null,
       "object_fit": null,
       "object_position": null,
       "order": null,
       "overflow": null,
       "overflow_x": null,
       "overflow_y": null,
       "padding": null,
       "right": null,
       "top": null,
       "visibility": null,
       "width": null
      }
     },
     "ec81a43bc09c412d8cc291cbf9c5dea1": {
      "model_module": "@jupyter-widgets/controls",
      "model_module_version": "1.5.0",
      "model_name": "ProgressStyleModel",
      "state": {
       "_model_module": "@jupyter-widgets/controls",
       "_model_module_version": "1.5.0",
       "_model_name": "ProgressStyleModel",
       "_view_count": null,
       "_view_module": "@jupyter-widgets/base",
       "_view_module_version": "1.2.0",
       "_view_name": "StyleView",
       "bar_color": null,
       "description_width": ""
      }
     },
     "ef397d035e7f4984b50be520e9c4e6c5": {
      "model_module": "@jupyter-widgets/base",
      "model_module_version": "1.2.0",
      "model_name": "LayoutModel",
      "state": {
       "_model_module": "@jupyter-widgets/base",
       "_model_module_version": "1.2.0",
       "_model_name": "LayoutModel",
       "_view_count": null,
       "_view_module": "@jupyter-widgets/base",
       "_view_module_version": "1.2.0",
       "_view_name": "LayoutView",
       "align_content": null,
       "align_items": null,
       "align_self": null,
       "border": null,
       "bottom": null,
       "display": null,
       "flex": null,
       "flex_flow": null,
       "grid_area": null,
       "grid_auto_columns": null,
       "grid_auto_flow": null,
       "grid_auto_rows": null,
       "grid_column": null,
       "grid_gap": null,
       "grid_row": null,
       "grid_template_areas": null,
       "grid_template_columns": null,
       "grid_template_rows": null,
       "height": null,
       "justify_content": null,
       "justify_items": null,
       "left": null,
       "margin": null,
       "max_height": null,
       "max_width": null,
       "min_height": null,
       "min_width": null,
       "object_fit": null,
       "object_position": null,
       "order": null,
       "overflow": null,
       "overflow_x": null,
       "overflow_y": null,
       "padding": null,
       "right": null,
       "top": null,
       "visibility": null,
       "width": null
      }
     },
     "f117d7b007ee47e7a8afd67d5a0daa20": {
      "model_module": "@jupyter-widgets/controls",
      "model_module_version": "1.5.0",
      "model_name": "ProgressStyleModel",
      "state": {
       "_model_module": "@jupyter-widgets/controls",
       "_model_module_version": "1.5.0",
       "_model_name": "ProgressStyleModel",
       "_view_count": null,
       "_view_module": "@jupyter-widgets/base",
       "_view_module_version": "1.2.0",
       "_view_name": "StyleView",
       "bar_color": null,
       "description_width": ""
      }
     },
     "f241b1605ed64ecba481bed14acc971b": {
      "model_module": "@jupyter-widgets/base",
      "model_module_version": "1.2.0",
      "model_name": "LayoutModel",
      "state": {
       "_model_module": "@jupyter-widgets/base",
       "_model_module_version": "1.2.0",
       "_model_name": "LayoutModel",
       "_view_count": null,
       "_view_module": "@jupyter-widgets/base",
       "_view_module_version": "1.2.0",
       "_view_name": "LayoutView",
       "align_content": null,
       "align_items": null,
       "align_self": null,
       "border": null,
       "bottom": null,
       "display": null,
       "flex": null,
       "flex_flow": null,
       "grid_area": null,
       "grid_auto_columns": null,
       "grid_auto_flow": null,
       "grid_auto_rows": null,
       "grid_column": null,
       "grid_gap": null,
       "grid_row": null,
       "grid_template_areas": null,
       "grid_template_columns": null,
       "grid_template_rows": null,
       "height": null,
       "justify_content": null,
       "justify_items": null,
       "left": null,
       "margin": null,
       "max_height": null,
       "max_width": null,
       "min_height": null,
       "min_width": null,
       "object_fit": null,
       "object_position": null,
       "order": null,
       "overflow": null,
       "overflow_x": null,
       "overflow_y": null,
       "padding": null,
       "right": null,
       "top": null,
       "visibility": null,
       "width": null
      }
     },
     "f480159eb70149bb961e42f027ba8a9d": {
      "model_module": "@jupyter-widgets/controls",
      "model_module_version": "1.5.0",
      "model_name": "HBoxModel",
      "state": {
       "_dom_classes": [],
       "_model_module": "@jupyter-widgets/controls",
       "_model_module_version": "1.5.0",
       "_model_name": "HBoxModel",
       "_view_count": null,
       "_view_module": "@jupyter-widgets/controls",
       "_view_module_version": "1.5.0",
       "_view_name": "HBoxView",
       "box_style": "",
       "children": [
        "IPY_MODEL_0fc0d75be9f249eeb5038739dc7df764",
        "IPY_MODEL_b66eeb1a72be47088f8701c2a3509295",
        "IPY_MODEL_79d2175a7e53420a9e8ab9523f74ef28"
       ],
       "layout": "IPY_MODEL_b48270dba4a949a0b43c153ff6ccf2dd"
      }
     },
     "fd2ea4f46a104327a4249602581c9680": {
      "model_module": "@jupyter-widgets/controls",
      "model_module_version": "1.5.0",
      "model_name": "FloatProgressModel",
      "state": {
       "_dom_classes": [],
       "_model_module": "@jupyter-widgets/controls",
       "_model_module_version": "1.5.0",
       "_model_name": "FloatProgressModel",
       "_view_count": null,
       "_view_module": "@jupyter-widgets/controls",
       "_view_module_version": "1.5.0",
       "_view_name": "ProgressView",
       "bar_style": "",
       "description": "",
       "description_tooltip": null,
       "layout": "IPY_MODEL_6bf5678bc8b34024b55da31dc76ae02e",
       "max": 31962.0,
       "min": 0.0,
       "orientation": "horizontal",
       "style": "IPY_MODEL_4e07958ffa854fb68e600ebcb3e60d49",
       "value": 31962.0
      }
     },
     "fdd2e338d8f54de585e4bda0237d027d": {
      "model_module": "@jupyter-widgets/controls",
      "model_module_version": "1.5.0",
      "model_name": "HTMLModel",
      "state": {
       "_dom_classes": [],
       "_model_module": "@jupyter-widgets/controls",
       "_model_module_version": "1.5.0",
       "_model_name": "HTMLModel",
       "_view_count": null,
       "_view_module": "@jupyter-widgets/controls",
       "_view_module_version": "1.5.0",
       "_view_name": "HTMLView",
       "description": "",
       "description_tooltip": null,
       "layout": "IPY_MODEL_8551599403fc4a61be08e3141984e5a9",
       "placeholder": "​",
       "style": "IPY_MODEL_afccd1d75f734396a851a174f0b76b9c",
       "value": " 1.82k/? [00:00&lt;00:00, 67.6kB/s]"
      }
     },
     "fdfc18a2ca504bd389170bbeae40e80b": {
      "model_module": "@jupyter-widgets/base",
      "model_module_version": "1.2.0",
      "model_name": "LayoutModel",
      "state": {
       "_model_module": "@jupyter-widgets/base",
       "_model_module_version": "1.2.0",
       "_model_name": "LayoutModel",
       "_view_count": null,
       "_view_module": "@jupyter-widgets/base",
       "_view_module_version": "1.2.0",
       "_view_name": "LayoutView",
       "align_content": null,
       "align_items": null,
       "align_self": null,
       "border": null,
       "bottom": null,
       "display": null,
       "flex": null,
       "flex_flow": null,
       "grid_area": null,
       "grid_auto_columns": null,
       "grid_auto_flow": null,
       "grid_auto_rows": null,
       "grid_column": null,
       "grid_gap": null,
       "grid_row": null,
       "grid_template_areas": null,
       "grid_template_columns": null,
       "grid_template_rows": null,
       "height": null,
       "justify_content": null,
       "justify_items": null,
       "left": null,
       "margin": null,
       "max_height": null,
       "max_width": null,
       "min_height": null,
       "min_width": null,
       "object_fit": null,
       "object_position": null,
       "order": null,
       "overflow": null,
       "overflow_x": null,
       "overflow_y": null,
       "padding": null,
       "right": null,
       "top": null,
       "visibility": null,
       "width": null
      }
     },
     "fe9648626a214d079c7bf89db86f61d2": {
      "model_module": "@jupyter-widgets/controls",
      "model_module_version": "1.5.0",
      "model_name": "DescriptionStyleModel",
      "state": {
       "_model_module": "@jupyter-widgets/controls",
       "_model_module_version": "1.5.0",
       "_model_name": "DescriptionStyleModel",
       "_view_count": null,
       "_view_module": "@jupyter-widgets/base",
       "_view_module_version": "1.2.0",
       "_view_name": "StyleView",
       "description_width": ""
      }
     }
    },
    "version_major": 2,
    "version_minor": 0
   }
  }
 },
 "nbformat": 4,
 "nbformat_minor": 5
}
