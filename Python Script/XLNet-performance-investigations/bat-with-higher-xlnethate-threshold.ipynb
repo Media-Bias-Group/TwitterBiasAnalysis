{
 "cells": [
  {
   "cell_type": "markdown",
   "id": "d16a20f4",
   "metadata": {
    "papermill": {
     "duration": 0.005858,
     "end_time": "2022-08-30T03:59:45.286669",
     "exception": false,
     "start_time": "2022-08-30T03:59:45.280811",
     "status": "completed"
    },
    "tags": []
   },
   "source": [
    "### Note:\n",
    "This code for the fine-tuning process of XLNet for hate speech detection is based on the following example, published on Medium: <br>\n",
    "\n",
    "link to article: https://medium.com/swlh/using-xlnet-for-sentiment-classification-cfa948e65e85 <br>\n",
    "author: Shanay Ghag <br>\n",
    "published at: Jun 16, 2020 <br>\n",
    "link to GitHub: https://github.com/shanayghag/Sentiment-classification-using-XLNet <br>"
   ]
  },
  {
   "cell_type": "code",
   "execution_count": 1,
   "id": "64991aa7",
   "metadata": {
    "execution": {
     "iopub.execute_input": "2022-08-30T03:59:45.298078Z",
     "iopub.status.busy": "2022-08-30T03:59:45.297532Z",
     "iopub.status.idle": "2022-08-30T03:59:53.352411Z",
     "shell.execute_reply": "2022-08-30T03:59:53.351415Z"
    },
    "papermill": {
     "duration": 8.063602,
     "end_time": "2022-08-30T03:59:53.354882",
     "exception": false,
     "start_time": "2022-08-30T03:59:45.291280",
     "status": "completed"
    },
    "tags": []
   },
   "outputs": [],
   "source": [
    "import pandas as pd\n",
    "import re\n",
    "import torch\n",
    "import sentencepiece\n",
    "from transformers import XLNetForSequenceClassification\n",
    "from transformers import XLNetTokenizer\n",
    "from keras.preprocessing.sequence import pad_sequences\n",
    "import torch.nn.functional as F"
   ]
  },
  {
   "cell_type": "markdown",
   "id": "b3014d7c",
   "metadata": {
    "papermill": {
     "duration": 0.004258,
     "end_time": "2022-08-30T03:59:53.364521",
     "exception": false,
     "start_time": "2022-08-30T03:59:53.360263",
     "status": "completed"
    },
    "tags": []
   },
   "source": [
    "# Define Functions"
   ]
  },
  {
   "cell_type": "code",
   "execution_count": 2,
   "id": "5bf3b084",
   "metadata": {
    "execution": {
     "iopub.execute_input": "2022-08-30T03:59:53.376601Z",
     "iopub.status.busy": "2022-08-30T03:59:53.374819Z",
     "iopub.status.idle": "2022-08-30T03:59:53.382257Z",
     "shell.execute_reply": "2022-08-30T03:59:53.381406Z"
    },
    "papermill": {
     "duration": 0.015135,
     "end_time": "2022-08-30T03:59:53.384276",
     "exception": false,
     "start_time": "2022-08-30T03:59:53.369141",
     "status": "completed"
    },
    "tags": []
   },
   "outputs": [],
   "source": [
    "# define function for text preprocessing \n",
    "def prepare_text(text):\n",
    "    text = re.sub(r\"@[A-Za-z0-9_]+\", ' ', text) # remove @user \n",
    "    text = re.sub(r\"https?://[A-Za-z0-9./]+\", ' ', text) # remove links\n",
    "    text = re.sub(r\"[^a-zA-z.!?'0-9]\", ' ', text) # remove smileys\n",
    "    text = re.sub('[^A-Za-z0-9]+', ' ', text) # remove any other special characters\n",
    "    text = re.sub('#', '', text) # remove hash sign\n",
    "    text = re.sub('\\t', ' ',  text) # remove tab\n",
    "    text = re.sub(r\" +\", ' ', text) # remove multiple whitespaces\n",
    "    return text"
   ]
  },
  {
   "cell_type": "code",
   "execution_count": 3,
   "id": "2045f83b",
   "metadata": {
    "execution": {
     "iopub.execute_input": "2022-08-30T03:59:53.395208Z",
     "iopub.status.busy": "2022-08-30T03:59:53.394943Z",
     "iopub.status.idle": "2022-08-30T03:59:53.404977Z",
     "shell.execute_reply": "2022-08-30T03:59:53.403950Z"
    },
    "papermill": {
     "duration": 0.018565,
     "end_time": "2022-08-30T03:59:53.407500",
     "exception": false,
     "start_time": "2022-08-30T03:59:53.388935",
     "status": "completed"
    },
    "tags": []
   },
   "outputs": [],
   "source": [
    "# define function for sentiment prediction\n",
    "def predict_hate(text):\n",
    "    review_text = text\n",
    "    \n",
    "    df = pd.DataFrame(columns=['positive_score', 'negative_score', 'text', 'hate_value'])\n",
    "\n",
    "    encoded_review = tokenizer.encode_plus(review_text,\n",
    "                                           max_length=MAX_LEN,\n",
    "                                           truncation=True,\n",
    "                                           add_special_tokens=True,\n",
    "                                           return_token_type_ids=False,\n",
    "                                           pad_to_max_length=False,\n",
    "                                           return_attention_mask=True,\n",
    "                                           return_tensors='pt',)\n",
    "\n",
    "    input_ids = pad_sequences(encoded_review['input_ids'],\n",
    "                              maxlen=MAX_LEN, \n",
    "                              dtype=torch.Tensor ,\n",
    "                              truncating=\"post\",\n",
    "                              padding=\"post\")\n",
    "    input_ids = input_ids.astype(dtype = 'int64')\n",
    "    input_ids = torch.tensor(input_ids) \n",
    "\n",
    "    attention_mask = pad_sequences(encoded_review['attention_mask'], \n",
    "                                   maxlen=MAX_LEN, dtype=torch.Tensor ,\n",
    "                                   truncating=\"post\",\n",
    "                                   padding=\"post\")\n",
    "    attention_mask = attention_mask.astype(dtype = 'int64')\n",
    "    attention_mask = torch.tensor(attention_mask) \n",
    "\n",
    "    input_ids = input_ids.reshape(1,512).to(device)\n",
    "    attention_mask = attention_mask.to(device)\n",
    "\n",
    "    outputs = model(input_ids=input_ids, attention_mask=attention_mask)\n",
    "\n",
    "    outputs = outputs[0][0].cpu().detach()\n",
    "\n",
    "    probs = F.softmax(outputs, dim=-1).cpu().detach().numpy().tolist()\n",
    "    _, prediction = torch.max(outputs, dim =-1)\n",
    "    threshold = 0.99\n",
    "    hatespeech_prob = probs[1]\n",
    "    if hatespeech_prob < threshold:\n",
    "        pred_thresh = 0\n",
    "    elif hatespeech_prob >= threshold:\n",
    "        pred_thresh = 1\n",
    "    \n",
    "\n",
    "    result = {'positive_score': probs[1], 'negative_score': probs[0], 'text': review_text, 'hate_value': class_names[pred_thresh]}\n",
    "    df = df.append(result, ignore_index=True)\n",
    "    return df"
   ]
  },
  {
   "cell_type": "code",
   "execution_count": null,
   "id": "ab0812c3",
   "metadata": {
    "papermill": {
     "duration": 0.00416,
     "end_time": "2022-08-30T03:59:53.416050",
     "exception": false,
     "start_time": "2022-08-30T03:59:53.411890",
     "status": "completed"
    },
    "tags": []
   },
   "outputs": [],
   "source": []
  },
  {
   "cell_type": "markdown",
   "id": "23b71e68",
   "metadata": {
    "papermill": {
     "duration": 0.004486,
     "end_time": "2022-08-30T03:59:53.425087",
     "exception": false,
     "start_time": "2022-08-30T03:59:53.420601",
     "status": "completed"
    },
    "tags": []
   },
   "source": [
    "# Prepare Data"
   ]
  },
  {
   "cell_type": "code",
   "execution_count": 4,
   "id": "788c9e51",
   "metadata": {
    "execution": {
     "iopub.execute_input": "2022-08-30T03:59:53.435158Z",
     "iopub.status.busy": "2022-08-30T03:59:53.434883Z",
     "iopub.status.idle": "2022-08-30T03:59:55.083626Z",
     "shell.execute_reply": "2022-08-30T03:59:55.082637Z"
    },
    "papermill": {
     "duration": 1.656601,
     "end_time": "2022-08-30T03:59:55.086277",
     "exception": false,
     "start_time": "2022-08-30T03:59:53.429676",
     "status": "completed"
    },
    "tags": []
   },
   "outputs": [],
   "source": [
    "# read dataset with all tweets:\n",
    "dtype={'text': str, 'id': str, 'tweet_id': str, 'title': str, 'outlet': str, 'twitter_handle': str, 'article_url': str, 'adfontes_url': str, 'bias_score': float, 'reliability_score': float}\n",
    "\n",
    "# note: this scrip was implemented using Kaggle's GPU. The dataset 'all_tweets_final' was loaded into the Kaggle repo and accessed from there\n",
    "all_tweets = pd.read_csv('../input/all-tweets/all_tweets_final.csv', dtype=dtype)"
   ]
  },
  {
   "cell_type": "code",
   "execution_count": 5,
   "id": "88670949",
   "metadata": {
    "execution": {
     "iopub.execute_input": "2022-08-30T03:59:55.098732Z",
     "iopub.status.busy": "2022-08-30T03:59:55.097160Z",
     "iopub.status.idle": "2022-08-30T03:59:59.025403Z",
     "shell.execute_reply": "2022-08-30T03:59:59.024418Z"
    },
    "papermill": {
     "duration": 3.936713,
     "end_time": "2022-08-30T03:59:59.027971",
     "exception": false,
     "start_time": "2022-08-30T03:59:55.091258",
     "status": "completed"
    },
    "tags": []
   },
   "outputs": [],
   "source": [
    "# apply text preprocessing to tweets:\n",
    "all_tweets['text_prepared'] = all_tweets['text'].apply(prepare_text)"
   ]
  },
  {
   "cell_type": "code",
   "execution_count": 6,
   "id": "b271cae9",
   "metadata": {
    "execution": {
     "iopub.execute_input": "2022-08-30T03:59:59.039255Z",
     "iopub.status.busy": "2022-08-30T03:59:59.038944Z",
     "iopub.status.idle": "2022-08-30T03:59:59.064778Z",
     "shell.execute_reply": "2022-08-30T03:59:59.063655Z"
    },
    "papermill": {
     "duration": 0.035769,
     "end_time": "2022-08-30T03:59:59.068457",
     "exception": false,
     "start_time": "2022-08-30T03:59:59.032688",
     "status": "completed"
    },
    "tags": []
   },
   "outputs": [
    {
     "data": {
      "text/html": [
       "<div>\n",
       "<style scoped>\n",
       "    .dataframe tbody tr th:only-of-type {\n",
       "        vertical-align: middle;\n",
       "    }\n",
       "\n",
       "    .dataframe tbody tr th {\n",
       "        vertical-align: top;\n",
       "    }\n",
       "\n",
       "    .dataframe thead th {\n",
       "        text-align: right;\n",
       "    }\n",
       "</style>\n",
       "<table border=\"1\" class=\"dataframe\">\n",
       "  <thead>\n",
       "    <tr style=\"text-align: right;\">\n",
       "      <th></th>\n",
       "      <th>id</th>\n",
       "      <th>text</th>\n",
       "      <th>tweet_id</th>\n",
       "      <th>title</th>\n",
       "      <th>outlet</th>\n",
       "      <th>twitter_handle</th>\n",
       "      <th>article_url</th>\n",
       "      <th>adfontes_url</th>\n",
       "      <th>bias_score</th>\n",
       "      <th>reliability_score</th>\n",
       "      <th>text_prepared</th>\n",
       "    </tr>\n",
       "  </thead>\n",
       "  <tbody>\n",
       "    <tr>\n",
       "      <th>0</th>\n",
       "      <td>1411899288750223368</td>\n",
       "      <td>@19thnews Cool. Never going back to work.\\n\\n#...</td>\n",
       "      <td>1411877241647206401</td>\n",
       "      <td>COVID Delta variant puts men, people of color ...</td>\n",
       "      <td>19th News</td>\n",
       "      <td>19thnews</td>\n",
       "      <td>https://19thnews.org/2021/07/the-covid-delta-v...</td>\n",
       "      <td>https://adfontesmedia.com/19th-news-bias-and-r...</td>\n",
       "      <td>-1.00</td>\n",
       "      <td>48.00</td>\n",
       "      <td>Cool Never going back to work maskedforever</td>\n",
       "    </tr>\n",
       "    <tr>\n",
       "      <th>1</th>\n",
       "      <td>1327396633118695425</td>\n",
       "      <td>Bass: \"In 30 minutes, we have a phone call wit...</td>\n",
       "      <td>1327395318825181189</td>\n",
       "      <td>Karen Bass addresses the question of filling K...</td>\n",
       "      <td>19th News</td>\n",
       "      <td>19thnews</td>\n",
       "      <td>https://19thnews.org/2020/11/karen-bass-addres...</td>\n",
       "      <td>https://adfontesmedia.com/19th-news-bias-and-r...</td>\n",
       "      <td>-6.00</td>\n",
       "      <td>44.83</td>\n",
       "      <td>Bass In 30 minutes we have a phone call with t...</td>\n",
       "    </tr>\n",
       "    <tr>\n",
       "      <th>2</th>\n",
       "      <td>1327447530100191233</td>\n",
       "      <td>Q: “Do you think that [Harris’s] vacancy shoul...</td>\n",
       "      <td>1327395318825181189</td>\n",
       "      <td>Karen Bass addresses the question of filling K...</td>\n",
       "      <td>19th News</td>\n",
       "      <td>19thnews</td>\n",
       "      <td>https://19thnews.org/2020/11/karen-bass-addres...</td>\n",
       "      <td>https://adfontesmedia.com/19th-news-bias-and-r...</td>\n",
       "      <td>-6.00</td>\n",
       "      <td>44.83</td>\n",
       "      <td>Q Do you think that Harris s vacancy should be...</td>\n",
       "    </tr>\n",
       "    <tr>\n",
       "      <th>3</th>\n",
       "      <td>1328117283357552640</td>\n",
       "      <td>Excellent choice as is @BLeeForCongress. I fee...</td>\n",
       "      <td>1328091662468460551</td>\n",
       "      <td>Karen Bass addresses the question of filling K...</td>\n",
       "      <td>19th News</td>\n",
       "      <td>19thnews</td>\n",
       "      <td>https://19thnews.org/2020/11/karen-bass-addres...</td>\n",
       "      <td>https://adfontesmedia.com/19th-news-bias-and-r...</td>\n",
       "      <td>-6.00</td>\n",
       "      <td>44.83</td>\n",
       "      <td>Excellent choice as is I feel so lucky as a Ca...</td>\n",
       "    </tr>\n",
       "    <tr>\n",
       "      <th>4</th>\n",
       "      <td>1331090575613861889</td>\n",
       "      <td>She’d be great, @GavinNewsom. https://t.co/TKr...</td>\n",
       "      <td>1331090228489162752</td>\n",
       "      <td>Karen Bass addresses the question of filling K...</td>\n",
       "      <td>19th News</td>\n",
       "      <td>19thnews</td>\n",
       "      <td>https://19thnews.org/2020/11/karen-bass-addres...</td>\n",
       "      <td>https://adfontesmedia.com/19th-news-bias-and-r...</td>\n",
       "      <td>-6.00</td>\n",
       "      <td>44.83</td>\n",
       "      <td>She d be great</td>\n",
       "    </tr>\n",
       "    <tr>\n",
       "      <th>...</th>\n",
       "      <td>...</td>\n",
       "      <td>...</td>\n",
       "      <td>...</td>\n",
       "      <td>...</td>\n",
       "      <td>...</td>\n",
       "      <td>...</td>\n",
       "      <td>...</td>\n",
       "      <td>...</td>\n",
       "      <td>...</td>\n",
       "      <td>...</td>\n",
       "      <td>...</td>\n",
       "    </tr>\n",
       "    <tr>\n",
       "      <th>175802</th>\n",
       "      <td>1278768989968236545</td>\n",
       "      <td>@zerohedge She doesn't know it yet, but she is...</td>\n",
       "      <td>1278765704028868609</td>\n",
       "      <td>Ghislaine Maxwell Arrested, May Be Sent To Sam...</td>\n",
       "      <td>ZeroHedge</td>\n",
       "      <td>zerohedge</td>\n",
       "      <td>https://www.zerohedge.com/political/ghislane-m...</td>\n",
       "      <td>https://adfontesmedia.com/zerohedge-bias-and-r...</td>\n",
       "      <td>5.33</td>\n",
       "      <td>33.33</td>\n",
       "      <td>She doesn t know it yet but she is going to h...</td>\n",
       "    </tr>\n",
       "    <tr>\n",
       "      <th>175803</th>\n",
       "      <td>1278769750395543552</td>\n",
       "      <td>@zerohedge https://t.co/UGA3XMx9fD</td>\n",
       "      <td>1278765704028868609</td>\n",
       "      <td>Ghislaine Maxwell Arrested, May Be Sent To Sam...</td>\n",
       "      <td>ZeroHedge</td>\n",
       "      <td>zerohedge</td>\n",
       "      <td>https://www.zerohedge.com/political/ghislane-m...</td>\n",
       "      <td>https://adfontesmedia.com/zerohedge-bias-and-r...</td>\n",
       "      <td>5.33</td>\n",
       "      <td>33.33</td>\n",
       "      <td></td>\n",
       "    </tr>\n",
       "    <tr>\n",
       "      <th>175804</th>\n",
       "      <td>1278771968024760324</td>\n",
       "      <td>@zerohedge its all because of $NFLX</td>\n",
       "      <td>1278765704028868609</td>\n",
       "      <td>Ghislaine Maxwell Arrested, May Be Sent To Sam...</td>\n",
       "      <td>ZeroHedge</td>\n",
       "      <td>zerohedge</td>\n",
       "      <td>https://www.zerohedge.com/political/ghislane-m...</td>\n",
       "      <td>https://adfontesmedia.com/zerohedge-bias-and-r...</td>\n",
       "      <td>5.33</td>\n",
       "      <td>33.33</td>\n",
       "      <td>its all because of NFLX</td>\n",
       "    </tr>\n",
       "    <tr>\n",
       "      <th>175805</th>\n",
       "      <td>1278767022873198593</td>\n",
       "      <td>@zerohedge Hope we get ALL the names...</td>\n",
       "      <td>1278765704028868609</td>\n",
       "      <td>Ghislaine Maxwell Arrested, May Be Sent To Sam...</td>\n",
       "      <td>ZeroHedge</td>\n",
       "      <td>zerohedge</td>\n",
       "      <td>https://www.zerohedge.com/political/ghislane-m...</td>\n",
       "      <td>https://adfontesmedia.com/zerohedge-bias-and-r...</td>\n",
       "      <td>5.33</td>\n",
       "      <td>33.33</td>\n",
       "      <td>Hope we get ALL the names</td>\n",
       "    </tr>\n",
       "    <tr>\n",
       "      <th>175806</th>\n",
       "      <td>1272599523228082176</td>\n",
       "      <td>\"Indeed, they print money both digitally and p...</td>\n",
       "      <td>1272598504523755521</td>\n",
       "      <td>The Pandemic Moonshot: Printing Money Until Th...</td>\n",
       "      <td>ZeroHedge</td>\n",
       "      <td>zerohedge</td>\n",
       "      <td>https://www.zerohedge.com/markets/pandemic-moo...</td>\n",
       "      <td>https://adfontesmedia.com/zerohedge-bias-and-r...</td>\n",
       "      <td>12.50</td>\n",
       "      <td>36.00</td>\n",
       "      <td>Indeed they print money both digitally and ph...</td>\n",
       "    </tr>\n",
       "  </tbody>\n",
       "</table>\n",
       "<p>175807 rows × 11 columns</p>\n",
       "</div>"
      ],
      "text/plain": [
       "                         id  \\\n",
       "0       1411899288750223368   \n",
       "1       1327396633118695425   \n",
       "2       1327447530100191233   \n",
       "3       1328117283357552640   \n",
       "4       1331090575613861889   \n",
       "...                     ...   \n",
       "175802  1278768989968236545   \n",
       "175803  1278769750395543552   \n",
       "175804  1278771968024760324   \n",
       "175805  1278767022873198593   \n",
       "175806  1272599523228082176   \n",
       "\n",
       "                                                     text  \\\n",
       "0       @19thnews Cool. Never going back to work.\\n\\n#...   \n",
       "1       Bass: \"In 30 minutes, we have a phone call wit...   \n",
       "2       Q: “Do you think that [Harris’s] vacancy shoul...   \n",
       "3       Excellent choice as is @BLeeForCongress. I fee...   \n",
       "4       She’d be great, @GavinNewsom. https://t.co/TKr...   \n",
       "...                                                   ...   \n",
       "175802  @zerohedge She doesn't know it yet, but she is...   \n",
       "175803                 @zerohedge https://t.co/UGA3XMx9fD   \n",
       "175804                @zerohedge its all because of $NFLX   \n",
       "175805            @zerohedge Hope we get ALL the names...   \n",
       "175806  \"Indeed, they print money both digitally and p...   \n",
       "\n",
       "                   tweet_id  \\\n",
       "0       1411877241647206401   \n",
       "1       1327395318825181189   \n",
       "2       1327395318825181189   \n",
       "3       1328091662468460551   \n",
       "4       1331090228489162752   \n",
       "...                     ...   \n",
       "175802  1278765704028868609   \n",
       "175803  1278765704028868609   \n",
       "175804  1278765704028868609   \n",
       "175805  1278765704028868609   \n",
       "175806  1272598504523755521   \n",
       "\n",
       "                                                    title     outlet  \\\n",
       "0       COVID Delta variant puts men, people of color ...  19th News   \n",
       "1       Karen Bass addresses the question of filling K...  19th News   \n",
       "2       Karen Bass addresses the question of filling K...  19th News   \n",
       "3       Karen Bass addresses the question of filling K...  19th News   \n",
       "4       Karen Bass addresses the question of filling K...  19th News   \n",
       "...                                                   ...        ...   \n",
       "175802  Ghislaine Maxwell Arrested, May Be Sent To Sam...  ZeroHedge   \n",
       "175803  Ghislaine Maxwell Arrested, May Be Sent To Sam...  ZeroHedge   \n",
       "175804  Ghislaine Maxwell Arrested, May Be Sent To Sam...  ZeroHedge   \n",
       "175805  Ghislaine Maxwell Arrested, May Be Sent To Sam...  ZeroHedge   \n",
       "175806  The Pandemic Moonshot: Printing Money Until Th...  ZeroHedge   \n",
       "\n",
       "       twitter_handle                                        article_url  \\\n",
       "0            19thnews  https://19thnews.org/2021/07/the-covid-delta-v...   \n",
       "1            19thnews  https://19thnews.org/2020/11/karen-bass-addres...   \n",
       "2            19thnews  https://19thnews.org/2020/11/karen-bass-addres...   \n",
       "3            19thnews  https://19thnews.org/2020/11/karen-bass-addres...   \n",
       "4            19thnews  https://19thnews.org/2020/11/karen-bass-addres...   \n",
       "...               ...                                                ...   \n",
       "175802      zerohedge  https://www.zerohedge.com/political/ghislane-m...   \n",
       "175803      zerohedge  https://www.zerohedge.com/political/ghislane-m...   \n",
       "175804      zerohedge  https://www.zerohedge.com/political/ghislane-m...   \n",
       "175805      zerohedge  https://www.zerohedge.com/political/ghislane-m...   \n",
       "175806      zerohedge  https://www.zerohedge.com/markets/pandemic-moo...   \n",
       "\n",
       "                                             adfontes_url  bias_score  \\\n",
       "0       https://adfontesmedia.com/19th-news-bias-and-r...       -1.00   \n",
       "1       https://adfontesmedia.com/19th-news-bias-and-r...       -6.00   \n",
       "2       https://adfontesmedia.com/19th-news-bias-and-r...       -6.00   \n",
       "3       https://adfontesmedia.com/19th-news-bias-and-r...       -6.00   \n",
       "4       https://adfontesmedia.com/19th-news-bias-and-r...       -6.00   \n",
       "...                                                   ...         ...   \n",
       "175802  https://adfontesmedia.com/zerohedge-bias-and-r...        5.33   \n",
       "175803  https://adfontesmedia.com/zerohedge-bias-and-r...        5.33   \n",
       "175804  https://adfontesmedia.com/zerohedge-bias-and-r...        5.33   \n",
       "175805  https://adfontesmedia.com/zerohedge-bias-and-r...        5.33   \n",
       "175806  https://adfontesmedia.com/zerohedge-bias-and-r...       12.50   \n",
       "\n",
       "        reliability_score                                      text_prepared  \n",
       "0                   48.00        Cool Never going back to work maskedforever  \n",
       "1                   44.83  Bass In 30 minutes we have a phone call with t...  \n",
       "2                   44.83  Q Do you think that Harris s vacancy should be...  \n",
       "3                   44.83  Excellent choice as is I feel so lucky as a Ca...  \n",
       "4                   44.83                                    She d be great   \n",
       "...                   ...                                                ...  \n",
       "175802              33.33   She doesn t know it yet but she is going to h...  \n",
       "175803              33.33                                                     \n",
       "175804              33.33                            its all because of NFLX  \n",
       "175805              33.33                         Hope we get ALL the names   \n",
       "175806              36.00   Indeed they print money both digitally and ph...  \n",
       "\n",
       "[175807 rows x 11 columns]"
      ]
     },
     "execution_count": 6,
     "metadata": {},
     "output_type": "execute_result"
    }
   ],
   "source": [
    "all_tweets"
   ]
  },
  {
   "cell_type": "code",
   "execution_count": null,
   "id": "2fc4c895",
   "metadata": {
    "papermill": {
     "duration": 0.004894,
     "end_time": "2022-08-30T03:59:59.078750",
     "exception": false,
     "start_time": "2022-08-30T03:59:59.073856",
     "status": "completed"
    },
    "tags": []
   },
   "outputs": [],
   "source": []
  },
  {
   "cell_type": "markdown",
   "id": "c8b7b55d",
   "metadata": {
    "papermill": {
     "duration": 0.005061,
     "end_time": "2022-08-30T03:59:59.089530",
     "exception": false,
     "start_time": "2022-08-30T03:59:59.084469",
     "status": "completed"
    },
    "tags": []
   },
   "source": [
    "# Load XLNet & Define Parameters"
   ]
  },
  {
   "cell_type": "code",
   "execution_count": 7,
   "id": "c8f5e3f9",
   "metadata": {
    "execution": {
     "iopub.execute_input": "2022-08-30T03:59:59.110457Z",
     "iopub.status.busy": "2022-08-30T03:59:59.109319Z",
     "iopub.status.idle": "2022-08-30T03:59:59.200165Z",
     "shell.execute_reply": "2022-08-30T03:59:59.196647Z"
    },
    "papermill": {
     "duration": 0.106896,
     "end_time": "2022-08-30T03:59:59.204582",
     "exception": false,
     "start_time": "2022-08-30T03:59:59.097686",
     "status": "completed"
    },
    "tags": []
   },
   "outputs": [
    {
     "data": {
      "text/plain": [
       "device(type='cuda', index=0)"
      ]
     },
     "execution_count": 7,
     "metadata": {},
     "output_type": "execute_result"
    }
   ],
   "source": [
    "# read classifier:\n",
    "device = torch.device(\"cuda:0\" if torch.cuda.is_available() else \"cpu\")\n",
    "device"
   ]
  },
  {
   "cell_type": "code",
   "execution_count": 8,
   "id": "8c297da2",
   "metadata": {
    "execution": {
     "iopub.execute_input": "2022-08-30T03:59:59.233900Z",
     "iopub.status.busy": "2022-08-30T03:59:59.232625Z",
     "iopub.status.idle": "2022-08-30T04:00:48.600972Z",
     "shell.execute_reply": "2022-08-30T04:00:48.599905Z"
    },
    "papermill": {
     "duration": 49.386791,
     "end_time": "2022-08-30T04:00:48.603767",
     "exception": false,
     "start_time": "2022-08-30T03:59:59.216976",
     "status": "completed"
    },
    "tags": []
   },
   "outputs": [
    {
     "data": {
      "application/vnd.jupyter.widget-view+json": {
       "model_id": "074a36d7404445bbadbc4bbbe2d35bec",
       "version_major": 2,
       "version_minor": 0
      },
      "text/plain": [
       "Downloading:   0%|          | 0.00/760 [00:00<?, ?B/s]"
      ]
     },
     "metadata": {},
     "output_type": "display_data"
    },
    {
     "data": {
      "application/vnd.jupyter.widget-view+json": {
       "model_id": "f813f35f5af44c49a011cd3444d34fc9",
       "version_major": 2,
       "version_minor": 0
      },
      "text/plain": [
       "Downloading:   0%|          | 0.00/445M [00:00<?, ?B/s]"
      ]
     },
     "metadata": {},
     "output_type": "display_data"
    },
    {
     "name": "stderr",
     "output_type": "stream",
     "text": [
      "Some weights of the model checkpoint at xlnet-base-cased were not used when initializing XLNetForSequenceClassification: ['lm_loss.bias', 'lm_loss.weight']\n",
      "- This IS expected if you are initializing XLNetForSequenceClassification from the checkpoint of a model trained on another task or with another architecture (e.g. initializing a BertForSequenceClassification model from a BertForPreTraining model).\n",
      "- This IS NOT expected if you are initializing XLNetForSequenceClassification from the checkpoint of a model that you expect to be exactly identical (initializing a BertForSequenceClassification model from a BertForSequenceClassification model).\n",
      "Some weights of XLNetForSequenceClassification were not initialized from the model checkpoint at xlnet-base-cased and are newly initialized: ['sequence_summary.summary.weight', 'sequence_summary.summary.bias', 'logits_proj.weight', 'logits_proj.bias']\n",
      "You should probably TRAIN this model on a down-stream task to be able to use it for predictions and inference.\n"
     ]
    }
   ],
   "source": [
    "model = XLNetForSequenceClassification.from_pretrained('xlnet-base-cased', num_labels = 2)\n",
    "model = model.to(device)"
   ]
  },
  {
   "cell_type": "code",
   "execution_count": 9,
   "id": "7343a04d",
   "metadata": {
    "execution": {
     "iopub.execute_input": "2022-08-30T04:00:48.617764Z",
     "iopub.status.busy": "2022-08-30T04:00:48.616088Z",
     "iopub.status.idle": "2022-08-30T04:00:53.082766Z",
     "shell.execute_reply": "2022-08-30T04:00:53.081629Z"
    },
    "papermill": {
     "duration": 4.475708,
     "end_time": "2022-08-30T04:00:53.085203",
     "exception": false,
     "start_time": "2022-08-30T04:00:48.609495",
     "status": "completed"
    },
    "tags": []
   },
   "outputs": [
    {
     "data": {
      "text/plain": [
       "<All keys matched successfully>"
      ]
     },
     "execution_count": 9,
     "metadata": {},
     "output_type": "execute_result"
    }
   ],
   "source": [
    "model.load_state_dict(torch.load('../input/xlnet-hate-model/xlnet_model_hate.bin'))\n",
    "#model.load_state_dict(torch.load('../input/new-hate-model/xlnet_model_hate.bin', map_location=torch.device('cpu')))"
   ]
  },
  {
   "cell_type": "code",
   "execution_count": 10,
   "id": "5a1d29c0",
   "metadata": {
    "execution": {
     "iopub.execute_input": "2022-08-30T04:00:53.101467Z",
     "iopub.status.busy": "2022-08-30T04:00:53.101115Z",
     "iopub.status.idle": "2022-08-30T04:00:56.461344Z",
     "shell.execute_reply": "2022-08-30T04:00:56.460392Z"
    },
    "papermill": {
     "duration": 3.369511,
     "end_time": "2022-08-30T04:00:56.463916",
     "exception": false,
     "start_time": "2022-08-30T04:00:53.094405",
     "status": "completed"
    },
    "tags": []
   },
   "outputs": [
    {
     "data": {
      "application/vnd.jupyter.widget-view+json": {
       "model_id": "164fb0912bb046d394fdecea3b0b07b8",
       "version_major": 2,
       "version_minor": 0
      },
      "text/plain": [
       "Downloading:   0%|          | 0.00/779k [00:00<?, ?B/s]"
      ]
     },
     "metadata": {},
     "output_type": "display_data"
    }
   ],
   "source": [
    "tokenizer = XLNetTokenizer.from_pretrained('xlnet-base-cased')"
   ]
  },
  {
   "cell_type": "code",
   "execution_count": 11,
   "id": "2b34ffdc",
   "metadata": {
    "execution": {
     "iopub.execute_input": "2022-08-30T04:00:56.477243Z",
     "iopub.status.busy": "2022-08-30T04:00:56.476952Z",
     "iopub.status.idle": "2022-08-30T04:00:56.481567Z",
     "shell.execute_reply": "2022-08-30T04:00:56.480648Z"
    },
    "papermill": {
     "duration": 0.013692,
     "end_time": "2022-08-30T04:00:56.483857",
     "exception": false,
     "start_time": "2022-08-30T04:00:56.470165",
     "status": "completed"
    },
    "tags": []
   },
   "outputs": [],
   "source": [
    "# define variables\n",
    "MAX_LEN = 512\n",
    "class_names = ['non-hate', 'hate'] # 0=non-hate; 1=hate"
   ]
  },
  {
   "cell_type": "markdown",
   "id": "07cc4938",
   "metadata": {
    "papermill": {
     "duration": 0.005589,
     "end_time": "2022-08-30T04:00:56.495338",
     "exception": false,
     "start_time": "2022-08-30T04:00:56.489749",
     "status": "completed"
    },
    "tags": []
   },
   "source": [
    "# Run for all Comments"
   ]
  },
  {
   "cell_type": "code",
   "execution_count": 12,
   "id": "020f68b7",
   "metadata": {
    "execution": {
     "iopub.execute_input": "2022-08-30T04:00:56.507692Z",
     "iopub.status.busy": "2022-08-30T04:00:56.507397Z",
     "iopub.status.idle": "2022-08-30T06:01:00.474491Z",
     "shell.execute_reply": "2022-08-30T06:01:00.473439Z"
    },
    "papermill": {
     "duration": 7203.976241,
     "end_time": "2022-08-30T06:01:00.477130",
     "exception": false,
     "start_time": "2022-08-30T04:00:56.500889",
     "status": "completed"
    },
    "tags": []
   },
   "outputs": [],
   "source": [
    "tweets = all_tweets['text_prepared'].tolist() # 175807 comments\n",
    "results = pd.DataFrame()\n",
    "\n",
    "for tweet in tweets:\n",
    "    results = results.append(predict_hate(tweet))"
   ]
  },
  {
   "cell_type": "code",
   "execution_count": 13,
   "id": "61d48f42",
   "metadata": {
    "execution": {
     "iopub.execute_input": "2022-08-30T06:01:00.492063Z",
     "iopub.status.busy": "2022-08-30T06:01:00.490265Z",
     "iopub.status.idle": "2022-08-30T06:01:00.506970Z",
     "shell.execute_reply": "2022-08-30T06:01:00.506092Z"
    },
    "papermill": {
     "duration": 0.025632,
     "end_time": "2022-08-30T06:01:00.509141",
     "exception": false,
     "start_time": "2022-08-30T06:01:00.483509",
     "status": "completed"
    },
    "tags": []
   },
   "outputs": [],
   "source": [
    "# add tweet id\n",
    "results.insert(loc=0, column=\"id\", value=all_tweets['id'].tolist())"
   ]
  },
  {
   "cell_type": "code",
   "execution_count": 14,
   "id": "6acca4ad",
   "metadata": {
    "execution": {
     "iopub.execute_input": "2022-08-30T06:01:00.522203Z",
     "iopub.status.busy": "2022-08-30T06:01:00.521807Z",
     "iopub.status.idle": "2022-08-30T06:01:00.557061Z",
     "shell.execute_reply": "2022-08-30T06:01:00.556027Z"
    },
    "papermill": {
     "duration": 0.044036,
     "end_time": "2022-08-30T06:01:00.559194",
     "exception": false,
     "start_time": "2022-08-30T06:01:00.515158",
     "status": "completed"
    },
    "tags": []
   },
   "outputs": [
    {
     "data": {
      "text/html": [
       "<div>\n",
       "<style scoped>\n",
       "    .dataframe tbody tr th:only-of-type {\n",
       "        vertical-align: middle;\n",
       "    }\n",
       "\n",
       "    .dataframe tbody tr th {\n",
       "        vertical-align: top;\n",
       "    }\n",
       "\n",
       "    .dataframe thead th {\n",
       "        text-align: right;\n",
       "    }\n",
       "</style>\n",
       "<table border=\"1\" class=\"dataframe\">\n",
       "  <thead>\n",
       "    <tr style=\"text-align: right;\">\n",
       "      <th></th>\n",
       "      <th>id</th>\n",
       "      <th>positive_score</th>\n",
       "      <th>negative_score</th>\n",
       "      <th>text</th>\n",
       "      <th>hate_value</th>\n",
       "    </tr>\n",
       "  </thead>\n",
       "  <tbody>\n",
       "    <tr>\n",
       "      <th>0</th>\n",
       "      <td>1411899288750223368</td>\n",
       "      <td>0.000774</td>\n",
       "      <td>0.999226</td>\n",
       "      <td>Cool Never going back to work maskedforever</td>\n",
       "      <td>non-hate</td>\n",
       "    </tr>\n",
       "    <tr>\n",
       "      <th>1</th>\n",
       "      <td>1327396633118695425</td>\n",
       "      <td>0.944241</td>\n",
       "      <td>0.055759</td>\n",
       "      <td>Bass In 30 minutes we have a phone call with t...</td>\n",
       "      <td>non-hate</td>\n",
       "    </tr>\n",
       "    <tr>\n",
       "      <th>2</th>\n",
       "      <td>1327447530100191233</td>\n",
       "      <td>0.983609</td>\n",
       "      <td>0.016391</td>\n",
       "      <td>Q Do you think that Harris s vacancy should be...</td>\n",
       "      <td>non-hate</td>\n",
       "    </tr>\n",
       "    <tr>\n",
       "      <th>3</th>\n",
       "      <td>1328117283357552640</td>\n",
       "      <td>0.001051</td>\n",
       "      <td>0.998949</td>\n",
       "      <td>Excellent choice as is I feel so lucky as a Ca...</td>\n",
       "      <td>non-hate</td>\n",
       "    </tr>\n",
       "    <tr>\n",
       "      <th>4</th>\n",
       "      <td>1331090575613861889</td>\n",
       "      <td>0.002564</td>\n",
       "      <td>0.997436</td>\n",
       "      <td>She d be great</td>\n",
       "      <td>non-hate</td>\n",
       "    </tr>\n",
       "    <tr>\n",
       "      <th>...</th>\n",
       "      <td>...</td>\n",
       "      <td>...</td>\n",
       "      <td>...</td>\n",
       "      <td>...</td>\n",
       "      <td>...</td>\n",
       "    </tr>\n",
       "    <tr>\n",
       "      <th>175802</th>\n",
       "      <td>1278768989968236545</td>\n",
       "      <td>0.009136</td>\n",
       "      <td>0.990864</td>\n",
       "      <td>She doesn t know it yet but she is going to h...</td>\n",
       "      <td>non-hate</td>\n",
       "    </tr>\n",
       "    <tr>\n",
       "      <th>175803</th>\n",
       "      <td>1278769750395543552</td>\n",
       "      <td>0.000960</td>\n",
       "      <td>0.999040</td>\n",
       "      <td></td>\n",
       "      <td>non-hate</td>\n",
       "    </tr>\n",
       "    <tr>\n",
       "      <th>175804</th>\n",
       "      <td>1278771968024760324</td>\n",
       "      <td>0.001706</td>\n",
       "      <td>0.998294</td>\n",
       "      <td>its all because of NFLX</td>\n",
       "      <td>non-hate</td>\n",
       "    </tr>\n",
       "    <tr>\n",
       "      <th>175805</th>\n",
       "      <td>1278767022873198593</td>\n",
       "      <td>0.001921</td>\n",
       "      <td>0.998079</td>\n",
       "      <td>Hope we get ALL the names</td>\n",
       "      <td>non-hate</td>\n",
       "    </tr>\n",
       "    <tr>\n",
       "      <th>175806</th>\n",
       "      <td>1272599523228082176</td>\n",
       "      <td>0.011971</td>\n",
       "      <td>0.988029</td>\n",
       "      <td>Indeed they print money both digitally and ph...</td>\n",
       "      <td>non-hate</td>\n",
       "    </tr>\n",
       "  </tbody>\n",
       "</table>\n",
       "<p>175807 rows × 5 columns</p>\n",
       "</div>"
      ],
      "text/plain": [
       "                         id  positive_score  negative_score  \\\n",
       "0       1411899288750223368        0.000774        0.999226   \n",
       "1       1327396633118695425        0.944241        0.055759   \n",
       "2       1327447530100191233        0.983609        0.016391   \n",
       "3       1328117283357552640        0.001051        0.998949   \n",
       "4       1331090575613861889        0.002564        0.997436   \n",
       "...                     ...             ...             ...   \n",
       "175802  1278768989968236545        0.009136        0.990864   \n",
       "175803  1278769750395543552        0.000960        0.999040   \n",
       "175804  1278771968024760324        0.001706        0.998294   \n",
       "175805  1278767022873198593        0.001921        0.998079   \n",
       "175806  1272599523228082176        0.011971        0.988029   \n",
       "\n",
       "                                                     text hate_value  \n",
       "0             Cool Never going back to work maskedforever   non-hate  \n",
       "1       Bass In 30 minutes we have a phone call with t...   non-hate  \n",
       "2       Q Do you think that Harris s vacancy should be...   non-hate  \n",
       "3       Excellent choice as is I feel so lucky as a Ca...   non-hate  \n",
       "4                                         She d be great    non-hate  \n",
       "...                                                   ...        ...  \n",
       "175802   She doesn t know it yet but she is going to h...   non-hate  \n",
       "175803                                                      non-hate  \n",
       "175804                            its all because of NFLX   non-hate  \n",
       "175805                         Hope we get ALL the names    non-hate  \n",
       "175806   Indeed they print money both digitally and ph...   non-hate  \n",
       "\n",
       "[175807 rows x 5 columns]"
      ]
     },
     "execution_count": 14,
     "metadata": {},
     "output_type": "execute_result"
    }
   ],
   "source": [
    "results.reset_index(drop=True)"
   ]
  },
  {
   "cell_type": "code",
   "execution_count": 15,
   "id": "93af7e15",
   "metadata": {
    "execution": {
     "iopub.execute_input": "2022-08-30T06:01:00.575038Z",
     "iopub.status.busy": "2022-08-30T06:01:00.574347Z",
     "iopub.status.idle": "2022-08-30T06:01:01.548265Z",
     "shell.execute_reply": "2022-08-30T06:01:01.547227Z"
    },
    "papermill": {
     "duration": 0.984464,
     "end_time": "2022-08-30T06:01:01.550674",
     "exception": false,
     "start_time": "2022-08-30T06:01:00.566210",
     "status": "completed"
    },
    "tags": []
   },
   "outputs": [],
   "source": [
    "# note: this scrip was implemented using Kaggle's GPU. The classified hate dataset was saved into the Kaggle repo and downloaded manually\n",
    "results.to_csv('all_tweets_hate.csv', header=True, index=None)"
   ]
  },
  {
   "cell_type": "code",
   "execution_count": 16,
   "id": "c389964a",
   "metadata": {
    "execution": {
     "iopub.execute_input": "2022-08-30T06:01:01.565662Z",
     "iopub.status.busy": "2022-08-30T06:01:01.564801Z",
     "iopub.status.idle": "2022-08-30T06:01:01.600491Z",
     "shell.execute_reply": "2022-08-30T06:01:01.598768Z"
    },
    "papermill": {
     "duration": 0.046053,
     "end_time": "2022-08-30T06:01:01.603628",
     "exception": false,
     "start_time": "2022-08-30T06:01:01.557575",
     "status": "completed"
    },
    "tags": []
   },
   "outputs": [
    {
     "name": "stdout",
     "output_type": "stream",
     "text": [
      "10475 0.05958238295403482\n"
     ]
    }
   ],
   "source": [
    "hate_values = len(results[results['hate_value'] == \"hate\"])\n",
    "hate_share = hate_values / len(results)\n",
    "print(hate_values, hate_share)"
   ]
  }
 ],
 "metadata": {
  "kernelspec": {
   "display_name": "Python 3",
   "language": "python",
   "name": "python3"
  },
  "language_info": {
   "codemirror_mode": {
    "name": "ipython",
    "version": 3
   },
   "file_extension": ".py",
   "mimetype": "text/x-python",
   "name": "python",
   "nbconvert_exporter": "python",
   "pygments_lexer": "ipython3",
   "version": "3.7.12"
  },
  "papermill": {
   "default_parameters": {},
   "duration": 7287.816563,
   "end_time": "2022-08-30T06:01:05.178899",
   "environment_variables": {},
   "exception": null,
   "input_path": "__notebook__.ipynb",
   "output_path": "__notebook__.ipynb",
   "parameters": {},
   "start_time": "2022-08-30T03:59:37.362336",
   "version": "2.3.4"
  },
  "widgets": {
   "application/vnd.jupyter.widget-state+json": {
    "state": {
     "074a36d7404445bbadbc4bbbe2d35bec": {
      "model_module": "@jupyter-widgets/controls",
      "model_module_version": "1.5.0",
      "model_name": "HBoxModel",
      "state": {
       "_dom_classes": [],
       "_model_module": "@jupyter-widgets/controls",
       "_model_module_version": "1.5.0",
       "_model_name": "HBoxModel",
       "_view_count": null,
       "_view_module": "@jupyter-widgets/controls",
       "_view_module_version": "1.5.0",
       "_view_name": "HBoxView",
       "box_style": "",
       "children": [
        "IPY_MODEL_59291a8fc70b49a9861ed8c28640bff0",
        "IPY_MODEL_c899ab4ca21c47d0915520ee9e0a36f3",
        "IPY_MODEL_96bfd1a306774c809afc80564fa14c41"
       ],
       "layout": "IPY_MODEL_22f3402b0edf428a9d48f65a72677844"
      }
     },
     "087ab0e696424813a4add704ac49e3b0": {
      "model_module": "@jupyter-widgets/base",
      "model_module_version": "1.2.0",
      "model_name": "LayoutModel",
      "state": {
       "_model_module": "@jupyter-widgets/base",
       "_model_module_version": "1.2.0",
       "_model_name": "LayoutModel",
       "_view_count": null,
       "_view_module": "@jupyter-widgets/base",
       "_view_module_version": "1.2.0",
       "_view_name": "LayoutView",
       "align_content": null,
       "align_items": null,
       "align_self": null,
       "border": null,
       "bottom": null,
       "display": null,
       "flex": null,
       "flex_flow": null,
       "grid_area": null,
       "grid_auto_columns": null,
       "grid_auto_flow": null,
       "grid_auto_rows": null,
       "grid_column": null,
       "grid_gap": null,
       "grid_row": null,
       "grid_template_areas": null,
       "grid_template_columns": null,
       "grid_template_rows": null,
       "height": null,
       "justify_content": null,
       "justify_items": null,
       "left": null,
       "margin": null,
       "max_height": null,
       "max_width": null,
       "min_height": null,
       "min_width": null,
       "object_fit": null,
       "object_position": null,
       "order": null,
       "overflow": null,
       "overflow_x": null,
       "overflow_y": null,
       "padding": null,
       "right": null,
       "top": null,
       "visibility": null,
       "width": null
      }
     },
     "12c633990c09431ba9c062717df2e520": {
      "model_module": "@jupyter-widgets/controls",
      "model_module_version": "1.5.0",
      "model_name": "DescriptionStyleModel",
      "state": {
       "_model_module": "@jupyter-widgets/controls",
       "_model_module_version": "1.5.0",
       "_model_name": "DescriptionStyleModel",
       "_view_count": null,
       "_view_module": "@jupyter-widgets/base",
       "_view_module_version": "1.2.0",
       "_view_name": "StyleView",
       "description_width": ""
      }
     },
     "164fb0912bb046d394fdecea3b0b07b8": {
      "model_module": "@jupyter-widgets/controls",
      "model_module_version": "1.5.0",
      "model_name": "HBoxModel",
      "state": {
       "_dom_classes": [],
       "_model_module": "@jupyter-widgets/controls",
       "_model_module_version": "1.5.0",
       "_model_name": "HBoxModel",
       "_view_count": null,
       "_view_module": "@jupyter-widgets/controls",
       "_view_module_version": "1.5.0",
       "_view_name": "HBoxView",
       "box_style": "",
       "children": [
        "IPY_MODEL_d01012d5f124458fae08c8cb4c5ce855",
        "IPY_MODEL_add360f3617c47479fe9280547dfdfce",
        "IPY_MODEL_d2ae2f7b08fe47e9a0a102ca0623163f"
       ],
       "layout": "IPY_MODEL_ead28c0ffe6b4bb28284f109761088a6"
      }
     },
     "1a5881901be54ecda0ce22321b3e3c76": {
      "model_module": "@jupyter-widgets/controls",
      "model_module_version": "1.5.0",
      "model_name": "DescriptionStyleModel",
      "state": {
       "_model_module": "@jupyter-widgets/controls",
       "_model_module_version": "1.5.0",
       "_model_name": "DescriptionStyleModel",
       "_view_count": null,
       "_view_module": "@jupyter-widgets/base",
       "_view_module_version": "1.2.0",
       "_view_name": "StyleView",
       "description_width": ""
      }
     },
     "20c70d2ee5164f449c7765e1320f174a": {
      "model_module": "@jupyter-widgets/base",
      "model_module_version": "1.2.0",
      "model_name": "LayoutModel",
      "state": {
       "_model_module": "@jupyter-widgets/base",
       "_model_module_version": "1.2.0",
       "_model_name": "LayoutModel",
       "_view_count": null,
       "_view_module": "@jupyter-widgets/base",
       "_view_module_version": "1.2.0",
       "_view_name": "LayoutView",
       "align_content": null,
       "align_items": null,
       "align_self": null,
       "border": null,
       "bottom": null,
       "display": null,
       "flex": null,
       "flex_flow": null,
       "grid_area": null,
       "grid_auto_columns": null,
       "grid_auto_flow": null,
       "grid_auto_rows": null,
       "grid_column": null,
       "grid_gap": null,
       "grid_row": null,
       "grid_template_areas": null,
       "grid_template_columns": null,
       "grid_template_rows": null,
       "height": null,
       "justify_content": null,
       "justify_items": null,
       "left": null,
       "margin": null,
       "max_height": null,
       "max_width": null,
       "min_height": null,
       "min_width": null,
       "object_fit": null,
       "object_position": null,
       "order": null,
       "overflow": null,
       "overflow_x": null,
       "overflow_y": null,
       "padding": null,
       "right": null,
       "top": null,
       "visibility": null,
       "width": null
      }
     },
     "22f3402b0edf428a9d48f65a72677844": {
      "model_module": "@jupyter-widgets/base",
      "model_module_version": "1.2.0",
      "model_name": "LayoutModel",
      "state": {
       "_model_module": "@jupyter-widgets/base",
       "_model_module_version": "1.2.0",
       "_model_name": "LayoutModel",
       "_view_count": null,
       "_view_module": "@jupyter-widgets/base",
       "_view_module_version": "1.2.0",
       "_view_name": "LayoutView",
       "align_content": null,
       "align_items": null,
       "align_self": null,
       "border": null,
       "bottom": null,
       "display": null,
       "flex": null,
       "flex_flow": null,
       "grid_area": null,
       "grid_auto_columns": null,
       "grid_auto_flow": null,
       "grid_auto_rows": null,
       "grid_column": null,
       "grid_gap": null,
       "grid_row": null,
       "grid_template_areas": null,
       "grid_template_columns": null,
       "grid_template_rows": null,
       "height": null,
       "justify_content": null,
       "justify_items": null,
       "left": null,
       "margin": null,
       "max_height": null,
       "max_width": null,
       "min_height": null,
       "min_width": null,
       "object_fit": null,
       "object_position": null,
       "order": null,
       "overflow": null,
       "overflow_x": null,
       "overflow_y": null,
       "padding": null,
       "right": null,
       "top": null,
       "visibility": null,
       "width": null
      }
     },
     "25b581f69c394745aeb42295e1963e94": {
      "model_module": "@jupyter-widgets/base",
      "model_module_version": "1.2.0",
      "model_name": "LayoutModel",
      "state": {
       "_model_module": "@jupyter-widgets/base",
       "_model_module_version": "1.2.0",
       "_model_name": "LayoutModel",
       "_view_count": null,
       "_view_module": "@jupyter-widgets/base",
       "_view_module_version": "1.2.0",
       "_view_name": "LayoutView",
       "align_content": null,
       "align_items": null,
       "align_self": null,
       "border": null,
       "bottom": null,
       "display": null,
       "flex": null,
       "flex_flow": null,
       "grid_area": null,
       "grid_auto_columns": null,
       "grid_auto_flow": null,
       "grid_auto_rows": null,
       "grid_column": null,
       "grid_gap": null,
       "grid_row": null,
       "grid_template_areas": null,
       "grid_template_columns": null,
       "grid_template_rows": null,
       "height": null,
       "justify_content": null,
       "justify_items": null,
       "left": null,
       "margin": null,
       "max_height": null,
       "max_width": null,
       "min_height": null,
       "min_width": null,
       "object_fit": null,
       "object_position": null,
       "order": null,
       "overflow": null,
       "overflow_x": null,
       "overflow_y": null,
       "padding": null,
       "right": null,
       "top": null,
       "visibility": null,
       "width": null
      }
     },
     "2739613c280240cfb77dd7d5f0c00784": {
      "model_module": "@jupyter-widgets/controls",
      "model_module_version": "1.5.0",
      "model_name": "ProgressStyleModel",
      "state": {
       "_model_module": "@jupyter-widgets/controls",
       "_model_module_version": "1.5.0",
       "_model_name": "ProgressStyleModel",
       "_view_count": null,
       "_view_module": "@jupyter-widgets/base",
       "_view_module_version": "1.2.0",
       "_view_name": "StyleView",
       "bar_color": null,
       "description_width": ""
      }
     },
     "59291a8fc70b49a9861ed8c28640bff0": {
      "model_module": "@jupyter-widgets/controls",
      "model_module_version": "1.5.0",
      "model_name": "HTMLModel",
      "state": {
       "_dom_classes": [],
       "_model_module": "@jupyter-widgets/controls",
       "_model_module_version": "1.5.0",
       "_model_name": "HTMLModel",
       "_view_count": null,
       "_view_module": "@jupyter-widgets/controls",
       "_view_module_version": "1.5.0",
       "_view_name": "HTMLView",
       "description": "",
       "description_tooltip": null,
       "layout": "IPY_MODEL_d2068c6d4cfe46fe9e4533df460bc8e8",
       "placeholder": "​",
       "style": "IPY_MODEL_f49e335187784e119e94db12a9c7ace9",
       "value": "Downloading: 100%"
      }
     },
     "59edbb62b5a644c29f632489800b9fde": {
      "model_module": "@jupyter-widgets/controls",
      "model_module_version": "1.5.0",
      "model_name": "HTMLModel",
      "state": {
       "_dom_classes": [],
       "_model_module": "@jupyter-widgets/controls",
       "_model_module_version": "1.5.0",
       "_model_name": "HTMLModel",
       "_view_count": null,
       "_view_module": "@jupyter-widgets/controls",
       "_view_module_version": "1.5.0",
       "_view_name": "HTMLView",
       "description": "",
       "description_tooltip": null,
       "layout": "IPY_MODEL_a23edd8f970c46b6a4e1a53be7ffc28e",
       "placeholder": "​",
       "style": "IPY_MODEL_12c633990c09431ba9c062717df2e520",
       "value": " 445M/445M [00:40&lt;00:00, 12.2MB/s]"
      }
     },
     "6fe0db525f004f17a87f615b943c620d": {
      "model_module": "@jupyter-widgets/base",
      "model_module_version": "1.2.0",
      "model_name": "LayoutModel",
      "state": {
       "_model_module": "@jupyter-widgets/base",
       "_model_module_version": "1.2.0",
       "_model_name": "LayoutModel",
       "_view_count": null,
       "_view_module": "@jupyter-widgets/base",
       "_view_module_version": "1.2.0",
       "_view_name": "LayoutView",
       "align_content": null,
       "align_items": null,
       "align_self": null,
       "border": null,
       "bottom": null,
       "display": null,
       "flex": null,
       "flex_flow": null,
       "grid_area": null,
       "grid_auto_columns": null,
       "grid_auto_flow": null,
       "grid_auto_rows": null,
       "grid_column": null,
       "grid_gap": null,
       "grid_row": null,
       "grid_template_areas": null,
       "grid_template_columns": null,
       "grid_template_rows": null,
       "height": null,
       "justify_content": null,
       "justify_items": null,
       "left": null,
       "margin": null,
       "max_height": null,
       "max_width": null,
       "min_height": null,
       "min_width": null,
       "object_fit": null,
       "object_position": null,
       "order": null,
       "overflow": null,
       "overflow_x": null,
       "overflow_y": null,
       "padding": null,
       "right": null,
       "top": null,
       "visibility": null,
       "width": null
      }
     },
     "749265b62acd4e3d8d6eebf8c4a8a191": {
      "model_module": "@jupyter-widgets/controls",
      "model_module_version": "1.5.0",
      "model_name": "ProgressStyleModel",
      "state": {
       "_model_module": "@jupyter-widgets/controls",
       "_model_module_version": "1.5.0",
       "_model_name": "ProgressStyleModel",
       "_view_count": null,
       "_view_module": "@jupyter-widgets/base",
       "_view_module_version": "1.2.0",
       "_view_name": "StyleView",
       "bar_color": null,
       "description_width": ""
      }
     },
     "91239823f1e84023a609152fe9bd54c8": {
      "model_module": "@jupyter-widgets/controls",
      "model_module_version": "1.5.0",
      "model_name": "ProgressStyleModel",
      "state": {
       "_model_module": "@jupyter-widgets/controls",
       "_model_module_version": "1.5.0",
       "_model_name": "ProgressStyleModel",
       "_view_count": null,
       "_view_module": "@jupyter-widgets/base",
       "_view_module_version": "1.2.0",
       "_view_name": "StyleView",
       "bar_color": null,
       "description_width": ""
      }
     },
     "96bfd1a306774c809afc80564fa14c41": {
      "model_module": "@jupyter-widgets/controls",
      "model_module_version": "1.5.0",
      "model_name": "HTMLModel",
      "state": {
       "_dom_classes": [],
       "_model_module": "@jupyter-widgets/controls",
       "_model_module_version": "1.5.0",
       "_model_name": "HTMLModel",
       "_view_count": null,
       "_view_module": "@jupyter-widgets/controls",
       "_view_module_version": "1.5.0",
       "_view_name": "HTMLView",
       "description": "",
       "description_tooltip": null,
       "layout": "IPY_MODEL_087ab0e696424813a4add704ac49e3b0",
       "placeholder": "​",
       "style": "IPY_MODEL_dad47103a24243078c7bf69dcc30ae58",
       "value": " 760/760 [00:00&lt;00:00, 26.3kB/s]"
      }
     },
     "9800d07c7669443384fedce3a44e8a4b": {
      "model_module": "@jupyter-widgets/base",
      "model_module_version": "1.2.0",
      "model_name": "LayoutModel",
      "state": {
       "_model_module": "@jupyter-widgets/base",
       "_model_module_version": "1.2.0",
       "_model_name": "LayoutModel",
       "_view_count": null,
       "_view_module": "@jupyter-widgets/base",
       "_view_module_version": "1.2.0",
       "_view_name": "LayoutView",
       "align_content": null,
       "align_items": null,
       "align_self": null,
       "border": null,
       "bottom": null,
       "display": null,
       "flex": null,
       "flex_flow": null,
       "grid_area": null,
       "grid_auto_columns": null,
       "grid_auto_flow": null,
       "grid_auto_rows": null,
       "grid_column": null,
       "grid_gap": null,
       "grid_row": null,
       "grid_template_areas": null,
       "grid_template_columns": null,
       "grid_template_rows": null,
       "height": null,
       "justify_content": null,
       "justify_items": null,
       "left": null,
       "margin": null,
       "max_height": null,
       "max_width": null,
       "min_height": null,
       "min_width": null,
       "object_fit": null,
       "object_position": null,
       "order": null,
       "overflow": null,
       "overflow_x": null,
       "overflow_y": null,
       "padding": null,
       "right": null,
       "top": null,
       "visibility": null,
       "width": null
      }
     },
     "a07edc3eb3914865a6c4483012ad9f02": {
      "model_module": "@jupyter-widgets/controls",
      "model_module_version": "1.5.0",
      "model_name": "HTMLModel",
      "state": {
       "_dom_classes": [],
       "_model_module": "@jupyter-widgets/controls",
       "_model_module_version": "1.5.0",
       "_model_name": "HTMLModel",
       "_view_count": null,
       "_view_module": "@jupyter-widgets/controls",
       "_view_module_version": "1.5.0",
       "_view_name": "HTMLView",
       "description": "",
       "description_tooltip": null,
       "layout": "IPY_MODEL_6fe0db525f004f17a87f615b943c620d",
       "placeholder": "​",
       "style": "IPY_MODEL_c227e06d2496462a8e18a4d181f0b63c",
       "value": "Downloading: 100%"
      }
     },
     "a23edd8f970c46b6a4e1a53be7ffc28e": {
      "model_module": "@jupyter-widgets/base",
      "model_module_version": "1.2.0",
      "model_name": "LayoutModel",
      "state": {
       "_model_module": "@jupyter-widgets/base",
       "_model_module_version": "1.2.0",
       "_model_name": "LayoutModel",
       "_view_count": null,
       "_view_module": "@jupyter-widgets/base",
       "_view_module_version": "1.2.0",
       "_view_name": "LayoutView",
       "align_content": null,
       "align_items": null,
       "align_self": null,
       "border": null,
       "bottom": null,
       "display": null,
       "flex": null,
       "flex_flow": null,
       "grid_area": null,
       "grid_auto_columns": null,
       "grid_auto_flow": null,
       "grid_auto_rows": null,
       "grid_column": null,
       "grid_gap": null,
       "grid_row": null,
       "grid_template_areas": null,
       "grid_template_columns": null,
       "grid_template_rows": null,
       "height": null,
       "justify_content": null,
       "justify_items": null,
       "left": null,
       "margin": null,
       "max_height": null,
       "max_width": null,
       "min_height": null,
       "min_width": null,
       "object_fit": null,
       "object_position": null,
       "order": null,
       "overflow": null,
       "overflow_x": null,
       "overflow_y": null,
       "padding": null,
       "right": null,
       "top": null,
       "visibility": null,
       "width": null
      }
     },
     "abd078ff5ebc490d82cd02d344820efc": {
      "model_module": "@jupyter-widgets/controls",
      "model_module_version": "1.5.0",
      "model_name": "FloatProgressModel",
      "state": {
       "_dom_classes": [],
       "_model_module": "@jupyter-widgets/controls",
       "_model_module_version": "1.5.0",
       "_model_name": "FloatProgressModel",
       "_view_count": null,
       "_view_module": "@jupyter-widgets/controls",
       "_view_module_version": "1.5.0",
       "_view_name": "ProgressView",
       "bar_style": "success",
       "description": "",
       "description_tooltip": null,
       "layout": "IPY_MODEL_20c70d2ee5164f449c7765e1320f174a",
       "max": 467042463.0,
       "min": 0.0,
       "orientation": "horizontal",
       "style": "IPY_MODEL_91239823f1e84023a609152fe9bd54c8",
       "value": 467042463.0
      }
     },
     "add360f3617c47479fe9280547dfdfce": {
      "model_module": "@jupyter-widgets/controls",
      "model_module_version": "1.5.0",
      "model_name": "FloatProgressModel",
      "state": {
       "_dom_classes": [],
       "_model_module": "@jupyter-widgets/controls",
       "_model_module_version": "1.5.0",
       "_model_name": "FloatProgressModel",
       "_view_count": null,
       "_view_module": "@jupyter-widgets/controls",
       "_view_module_version": "1.5.0",
       "_view_name": "ProgressView",
       "bar_style": "success",
       "description": "",
       "description_tooltip": null,
       "layout": "IPY_MODEL_f1dfd3c1edc1447697e783c6175e5929",
       "max": 798011.0,
       "min": 0.0,
       "orientation": "horizontal",
       "style": "IPY_MODEL_749265b62acd4e3d8d6eebf8c4a8a191",
       "value": 798011.0
      }
     },
     "c227e06d2496462a8e18a4d181f0b63c": {
      "model_module": "@jupyter-widgets/controls",
      "model_module_version": "1.5.0",
      "model_name": "DescriptionStyleModel",
      "state": {
       "_model_module": "@jupyter-widgets/controls",
       "_model_module_version": "1.5.0",
       "_model_name": "DescriptionStyleModel",
       "_view_count": null,
       "_view_module": "@jupyter-widgets/base",
       "_view_module_version": "1.2.0",
       "_view_name": "StyleView",
       "description_width": ""
      }
     },
     "c899ab4ca21c47d0915520ee9e0a36f3": {
      "model_module": "@jupyter-widgets/controls",
      "model_module_version": "1.5.0",
      "model_name": "FloatProgressModel",
      "state": {
       "_dom_classes": [],
       "_model_module": "@jupyter-widgets/controls",
       "_model_module_version": "1.5.0",
       "_model_name": "FloatProgressModel",
       "_view_count": null,
       "_view_module": "@jupyter-widgets/controls",
       "_view_module_version": "1.5.0",
       "_view_name": "ProgressView",
       "bar_style": "success",
       "description": "",
       "description_tooltip": null,
       "layout": "IPY_MODEL_9800d07c7669443384fedce3a44e8a4b",
       "max": 760.0,
       "min": 0.0,
       "orientation": "horizontal",
       "style": "IPY_MODEL_2739613c280240cfb77dd7d5f0c00784",
       "value": 760.0
      }
     },
     "d01012d5f124458fae08c8cb4c5ce855": {
      "model_module": "@jupyter-widgets/controls",
      "model_module_version": "1.5.0",
      "model_name": "HTMLModel",
      "state": {
       "_dom_classes": [],
       "_model_module": "@jupyter-widgets/controls",
       "_model_module_version": "1.5.0",
       "_model_name": "HTMLModel",
       "_view_count": null,
       "_view_module": "@jupyter-widgets/controls",
       "_view_module_version": "1.5.0",
       "_view_name": "HTMLView",
       "description": "",
       "description_tooltip": null,
       "layout": "IPY_MODEL_e32adab8ec354475b106ba8a950a20b3",
       "placeholder": "​",
       "style": "IPY_MODEL_fac8ffa6bed4492394594de825effce3",
       "value": "Downloading: 100%"
      }
     },
     "d2068c6d4cfe46fe9e4533df460bc8e8": {
      "model_module": "@jupyter-widgets/base",
      "model_module_version": "1.2.0",
      "model_name": "LayoutModel",
      "state": {
       "_model_module": "@jupyter-widgets/base",
       "_model_module_version": "1.2.0",
       "_model_name": "LayoutModel",
       "_view_count": null,
       "_view_module": "@jupyter-widgets/base",
       "_view_module_version": "1.2.0",
       "_view_name": "LayoutView",
       "align_content": null,
       "align_items": null,
       "align_self": null,
       "border": null,
       "bottom": null,
       "display": null,
       "flex": null,
       "flex_flow": null,
       "grid_area": null,
       "grid_auto_columns": null,
       "grid_auto_flow": null,
       "grid_auto_rows": null,
       "grid_column": null,
       "grid_gap": null,
       "grid_row": null,
       "grid_template_areas": null,
       "grid_template_columns": null,
       "grid_template_rows": null,
       "height": null,
       "justify_content": null,
       "justify_items": null,
       "left": null,
       "margin": null,
       "max_height": null,
       "max_width": null,
       "min_height": null,
       "min_width": null,
       "object_fit": null,
       "object_position": null,
       "order": null,
       "overflow": null,
       "overflow_x": null,
       "overflow_y": null,
       "padding": null,
       "right": null,
       "top": null,
       "visibility": null,
       "width": null
      }
     },
     "d2ae2f7b08fe47e9a0a102ca0623163f": {
      "model_module": "@jupyter-widgets/controls",
      "model_module_version": "1.5.0",
      "model_name": "HTMLModel",
      "state": {
       "_dom_classes": [],
       "_model_module": "@jupyter-widgets/controls",
       "_model_module_version": "1.5.0",
       "_model_name": "HTMLModel",
       "_view_count": null,
       "_view_module": "@jupyter-widgets/controls",
       "_view_module_version": "1.5.0",
       "_view_name": "HTMLView",
       "description": "",
       "description_tooltip": null,
       "layout": "IPY_MODEL_25b581f69c394745aeb42295e1963e94",
       "placeholder": "​",
       "style": "IPY_MODEL_1a5881901be54ecda0ce22321b3e3c76",
       "value": " 779k/779k [00:00&lt;00:00, 1.99MB/s]"
      }
     },
     "dad47103a24243078c7bf69dcc30ae58": {
      "model_module": "@jupyter-widgets/controls",
      "model_module_version": "1.5.0",
      "model_name": "DescriptionStyleModel",
      "state": {
       "_model_module": "@jupyter-widgets/controls",
       "_model_module_version": "1.5.0",
       "_model_name": "DescriptionStyleModel",
       "_view_count": null,
       "_view_module": "@jupyter-widgets/base",
       "_view_module_version": "1.2.0",
       "_view_name": "StyleView",
       "description_width": ""
      }
     },
     "e32adab8ec354475b106ba8a950a20b3": {
      "model_module": "@jupyter-widgets/base",
      "model_module_version": "1.2.0",
      "model_name": "LayoutModel",
      "state": {
       "_model_module": "@jupyter-widgets/base",
       "_model_module_version": "1.2.0",
       "_model_name": "LayoutModel",
       "_view_count": null,
       "_view_module": "@jupyter-widgets/base",
       "_view_module_version": "1.2.0",
       "_view_name": "LayoutView",
       "align_content": null,
       "align_items": null,
       "align_self": null,
       "border": null,
       "bottom": null,
       "display": null,
       "flex": null,
       "flex_flow": null,
       "grid_area": null,
       "grid_auto_columns": null,
       "grid_auto_flow": null,
       "grid_auto_rows": null,
       "grid_column": null,
       "grid_gap": null,
       "grid_row": null,
       "grid_template_areas": null,
       "grid_template_columns": null,
       "grid_template_rows": null,
       "height": null,
       "justify_content": null,
       "justify_items": null,
       "left": null,
       "margin": null,
       "max_height": null,
       "max_width": null,
       "min_height": null,
       "min_width": null,
       "object_fit": null,
       "object_position": null,
       "order": null,
       "overflow": null,
       "overflow_x": null,
       "overflow_y": null,
       "padding": null,
       "right": null,
       "top": null,
       "visibility": null,
       "width": null
      }
     },
     "ead28c0ffe6b4bb28284f109761088a6": {
      "model_module": "@jupyter-widgets/base",
      "model_module_version": "1.2.0",
      "model_name": "LayoutModel",
      "state": {
       "_model_module": "@jupyter-widgets/base",
       "_model_module_version": "1.2.0",
       "_model_name": "LayoutModel",
       "_view_count": null,
       "_view_module": "@jupyter-widgets/base",
       "_view_module_version": "1.2.0",
       "_view_name": "LayoutView",
       "align_content": null,
       "align_items": null,
       "align_self": null,
       "border": null,
       "bottom": null,
       "display": null,
       "flex": null,
       "flex_flow": null,
       "grid_area": null,
       "grid_auto_columns": null,
       "grid_auto_flow": null,
       "grid_auto_rows": null,
       "grid_column": null,
       "grid_gap": null,
       "grid_row": null,
       "grid_template_areas": null,
       "grid_template_columns": null,
       "grid_template_rows": null,
       "height": null,
       "justify_content": null,
       "justify_items": null,
       "left": null,
       "margin": null,
       "max_height": null,
       "max_width": null,
       "min_height": null,
       "min_width": null,
       "object_fit": null,
       "object_position": null,
       "order": null,
       "overflow": null,
       "overflow_x": null,
       "overflow_y": null,
       "padding": null,
       "right": null,
       "top": null,
       "visibility": null,
       "width": null
      }
     },
     "f1dfd3c1edc1447697e783c6175e5929": {
      "model_module": "@jupyter-widgets/base",
      "model_module_version": "1.2.0",
      "model_name": "LayoutModel",
      "state": {
       "_model_module": "@jupyter-widgets/base",
       "_model_module_version": "1.2.0",
       "_model_name": "LayoutModel",
       "_view_count": null,
       "_view_module": "@jupyter-widgets/base",
       "_view_module_version": "1.2.0",
       "_view_name": "LayoutView",
       "align_content": null,
       "align_items": null,
       "align_self": null,
       "border": null,
       "bottom": null,
       "display": null,
       "flex": null,
       "flex_flow": null,
       "grid_area": null,
       "grid_auto_columns": null,
       "grid_auto_flow": null,
       "grid_auto_rows": null,
       "grid_column": null,
       "grid_gap": null,
       "grid_row": null,
       "grid_template_areas": null,
       "grid_template_columns": null,
       "grid_template_rows": null,
       "height": null,
       "justify_content": null,
       "justify_items": null,
       "left": null,
       "margin": null,
       "max_height": null,
       "max_width": null,
       "min_height": null,
       "min_width": null,
       "object_fit": null,
       "object_position": null,
       "order": null,
       "overflow": null,
       "overflow_x": null,
       "overflow_y": null,
       "padding": null,
       "right": null,
       "top": null,
       "visibility": null,
       "width": null
      }
     },
     "f49e335187784e119e94db12a9c7ace9": {
      "model_module": "@jupyter-widgets/controls",
      "model_module_version": "1.5.0",
      "model_name": "DescriptionStyleModel",
      "state": {
       "_model_module": "@jupyter-widgets/controls",
       "_model_module_version": "1.5.0",
       "_model_name": "DescriptionStyleModel",
       "_view_count": null,
       "_view_module": "@jupyter-widgets/base",
       "_view_module_version": "1.2.0",
       "_view_name": "StyleView",
       "description_width": ""
      }
     },
     "f5c78b68fc624dba974e268486aa6285": {
      "model_module": "@jupyter-widgets/base",
      "model_module_version": "1.2.0",
      "model_name": "LayoutModel",
      "state": {
       "_model_module": "@jupyter-widgets/base",
       "_model_module_version": "1.2.0",
       "_model_name": "LayoutModel",
       "_view_count": null,
       "_view_module": "@jupyter-widgets/base",
       "_view_module_version": "1.2.0",
       "_view_name": "LayoutView",
       "align_content": null,
       "align_items": null,
       "align_self": null,
       "border": null,
       "bottom": null,
       "display": null,
       "flex": null,
       "flex_flow": null,
       "grid_area": null,
       "grid_auto_columns": null,
       "grid_auto_flow": null,
       "grid_auto_rows": null,
       "grid_column": null,
       "grid_gap": null,
       "grid_row": null,
       "grid_template_areas": null,
       "grid_template_columns": null,
       "grid_template_rows": null,
       "height": null,
       "justify_content": null,
       "justify_items": null,
       "left": null,
       "margin": null,
       "max_height": null,
       "max_width": null,
       "min_height": null,
       "min_width": null,
       "object_fit": null,
       "object_position": null,
       "order": null,
       "overflow": null,
       "overflow_x": null,
       "overflow_y": null,
       "padding": null,
       "right": null,
       "top": null,
       "visibility": null,
       "width": null
      }
     },
     "f813f35f5af44c49a011cd3444d34fc9": {
      "model_module": "@jupyter-widgets/controls",
      "model_module_version": "1.5.0",
      "model_name": "HBoxModel",
      "state": {
       "_dom_classes": [],
       "_model_module": "@jupyter-widgets/controls",
       "_model_module_version": "1.5.0",
       "_model_name": "HBoxModel",
       "_view_count": null,
       "_view_module": "@jupyter-widgets/controls",
       "_view_module_version": "1.5.0",
       "_view_name": "HBoxView",
       "box_style": "",
       "children": [
        "IPY_MODEL_a07edc3eb3914865a6c4483012ad9f02",
        "IPY_MODEL_abd078ff5ebc490d82cd02d344820efc",
        "IPY_MODEL_59edbb62b5a644c29f632489800b9fde"
       ],
       "layout": "IPY_MODEL_f5c78b68fc624dba974e268486aa6285"
      }
     },
     "fac8ffa6bed4492394594de825effce3": {
      "model_module": "@jupyter-widgets/controls",
      "model_module_version": "1.5.0",
      "model_name": "DescriptionStyleModel",
      "state": {
       "_model_module": "@jupyter-widgets/controls",
       "_model_module_version": "1.5.0",
       "_model_name": "DescriptionStyleModel",
       "_view_count": null,
       "_view_module": "@jupyter-widgets/base",
       "_view_module_version": "1.2.0",
       "_view_name": "StyleView",
       "description_width": ""
      }
     }
    },
    "version_major": 2,
    "version_minor": 0
   }
  }
 },
 "nbformat": 4,
 "nbformat_minor": 5
}
